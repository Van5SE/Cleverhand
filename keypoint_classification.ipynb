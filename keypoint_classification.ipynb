{
 "cells": [
  {
   "cell_type": "code",
   "execution_count": 134,
   "metadata": {},
   "outputs": [],
   "source": [
    "import csv\n",
    "\n",
    "import numpy as np\n",
    "import tensorflow as tf\n",
    "from sklearn.model_selection import train_test_split\n",
    "\n",
    "RANDOM_SEED = 42"
   ]
  },
  {
   "cell_type": "markdown",
   "metadata": {},
   "source": [
    "# 路径声明"
   ]
  },
  {
   "cell_type": "code",
   "execution_count": 135,
   "metadata": {},
   "outputs": [],
   "source": [
    "dataset = 'model/keypoint_classifier/keypoint.csv'\n",
    "model_save_path = 'model/keypoint_classifier/keypoint_classifier.hdf5'"
   ]
  },
  {
   "cell_type": "markdown",
   "metadata": {},
   "source": [
    "# 设定分类数"
   ]
  },
  {
   "cell_type": "code",
   "execution_count": 136,
   "metadata": {},
   "outputs": [],
   "source": [
    "NUM_CLASSES = 8"
   ]
  },
  {
   "cell_type": "markdown",
   "metadata": {},
   "source": [
    "# 读取学习数据"
   ]
  },
  {
   "cell_type": "code",
   "execution_count": 137,
   "metadata": {},
   "outputs": [],
   "source": [
    "X_dataset = np.loadtxt(dataset, delimiter=',', dtype='float32', usecols=list(range(1, (21 * 2) + 1)))"
   ]
  },
  {
   "cell_type": "code",
   "execution_count": 138,
   "metadata": {},
   "outputs": [],
   "source": [
    "# 读入从1到21*2的数据（表的每行共有21个数据（对应21个特征点） 每个数据有两个值（xy坐标轴值））作为x"
   ]
  },
  {
   "cell_type": "code",
   "execution_count": 139,
   "metadata": {},
   "outputs": [],
   "source": [
    "y_dataset = np.loadtxt(dataset, delimiter=',', dtype='int32', usecols=(0))"
   ]
  },
  {
   "cell_type": "code",
   "execution_count": 140,
   "metadata": {},
   "outputs": [],
   "source": [
    "# 第0列的值代表属于哪种手势"
   ]
  },
  {
   "cell_type": "code",
   "execution_count": 141,
   "metadata": {},
   "outputs": [],
   "source": [
    "X_train, X_test, y_train, y_test = train_test_split(X_dataset, y_dataset, train_size=0.75, random_state=RANDOM_SEED)"
   ]
  },
  {
   "cell_type": "markdown",
   "metadata": {},
   "source": [
    "# 模型构建"
   ]
  },
  {
   "cell_type": "code",
   "execution_count": 142,
   "metadata": {},
   "outputs": [],
   "source": [
    "model = tf.keras.models.Sequential([\n",
    "    tf.keras.layers.Input((21 * 2, )),\n",
    "    tf.keras.layers.Dropout(0.2),\n",
    "    tf.keras.layers.Dense(20, activation='relu'),\n",
    "    tf.keras.layers.Dropout(0.4),\n",
    "    tf.keras.layers.Dense(10, activation='relu'),\n",
    "    tf.keras.layers.Dense(NUM_CLASSES, activation='softmax')\n",
    "])"
   ]
  },
  {
   "cell_type": "code",
   "execution_count": 143,
   "metadata": {},
   "outputs": [
    {
     "output_type": "stream",
     "name": "stdout",
     "text": [
      "Model: \"sequential_6\"\n_________________________________________________________________\nLayer (type)                 Output Shape              Param #   \n=================================================================\ndropout_12 (Dropout)         (None, 42)                0         \n_________________________________________________________________\ndense_18 (Dense)             (None, 20)                860       \n_________________________________________________________________\ndropout_13 (Dropout)         (None, 20)                0         \n_________________________________________________________________\ndense_19 (Dense)             (None, 10)                210       \n_________________________________________________________________\ndense_20 (Dense)             (None, 8)                 88        \n=================================================================\nTotal params: 1,158\nTrainable params: 1,158\nNon-trainable params: 0\n_________________________________________________________________\n"
     ]
    }
   ],
   "source": [
    "model.summary()  # tf.keras.utils.plot_model(model, show_shapes=True)"
   ]
  },
  {
   "cell_type": "code",
   "execution_count": 144,
   "metadata": {},
   "outputs": [],
   "source": [
    "# 模型检查点回调\n",
    "cp_callback = tf.keras.callbacks.ModelCheckpoint(\n",
    "    model_save_path, verbose=1, save_weights_only=False)\n",
    "# 用于提前结束的回调\n",
    "es_callback = tf.keras.callbacks.EarlyStopping(patience=20, verbose=1)"
   ]
  },
  {
   "cell_type": "code",
   "execution_count": 145,
   "metadata": {},
   "outputs": [],
   "source": [
    "# 模型编译\n",
    "model.compile(\n",
    "    optimizer='adam',\n",
    "    loss='sparse_categorical_crossentropy',\n",
    "    metrics=['accuracy']\n",
    ")"
   ]
  },
  {
   "cell_type": "markdown",
   "metadata": {},
   "source": [
    "# 模型训练"
   ]
  },
  {
   "cell_type": "code",
   "execution_count": 146,
   "metadata": {
    "scrolled": true,
    "tags": [
     "outputPrepend"
    ]
   },
   "outputs": [
    {
     "output_type": "stream",
     "name": "stdout",
     "text": [
      "fier.hdf5\n",
      "Epoch 37/1000\n",
      "51/51 [==============================] - 0s 5ms/step - loss: 1.1196 - accuracy: 0.5627 - val_loss: 0.8093 - val_accuracy: 0.8033\n",
      "\n",
      "Epoch 00037: saving model to model/keypoint_classifier\\keypoint_classifier.hdf5\n",
      "Epoch 38/1000\n",
      "51/51 [==============================] - 0s 6ms/step - loss: 1.1208 - accuracy: 0.5574 - val_loss: 0.7953 - val_accuracy: 0.7863\n",
      "\n",
      "Epoch 00038: saving model to model/keypoint_classifier\\keypoint_classifier.hdf5\n",
      "Epoch 39/1000\n",
      "51/51 [==============================] - 0s 5ms/step - loss: 1.1034 - accuracy: 0.5722 - val_loss: 0.8044 - val_accuracy: 0.7877\n",
      "\n",
      "Epoch 00039: saving model to model/keypoint_classifier\\keypoint_classifier.hdf5\n",
      "Epoch 40/1000\n",
      "51/51 [==============================] - 0s 5ms/step - loss: 1.1011 - accuracy: 0.5728 - val_loss: 0.8010 - val_accuracy: 0.7560\n",
      "\n",
      "Epoch 00040: saving model to model/keypoint_classifier\\keypoint_classifier.hdf5\n",
      "Epoch 41/1000\n",
      "51/51 [==============================] - 0s 5ms/step - loss: 1.0797 - accuracy: 0.5724 - val_loss: 0.7837 - val_accuracy: 0.8097\n",
      "\n",
      "Epoch 00041: saving model to model/keypoint_classifier\\keypoint_classifier.hdf5\n",
      "Epoch 42/1000\n",
      "51/51 [==============================] - 0s 7ms/step - loss: 1.0867 - accuracy: 0.5743 - val_loss: 0.7937 - val_accuracy: 0.7987\n",
      "\n",
      "Epoch 00042: saving model to model/keypoint_classifier\\keypoint_classifier.hdf5\n",
      "Epoch 43/1000\n",
      "51/51 [==============================] - 0s 5ms/step - loss: 1.0909 - accuracy: 0.5696 - val_loss: 0.7809 - val_accuracy: 0.7937\n",
      "\n",
      "Epoch 00043: saving model to model/keypoint_classifier\\keypoint_classifier.hdf5\n",
      "Epoch 44/1000\n",
      "51/51 [==============================] - 0s 7ms/step - loss: 1.0683 - accuracy: 0.5840 - val_loss: 0.7926 - val_accuracy: 0.7983\n",
      "\n",
      "Epoch 00044: saving model to model/keypoint_classifier\\keypoint_classifier.hdf5\n",
      "Epoch 45/1000\n",
      "51/51 [==============================] - 0s 6ms/step - loss: 1.0773 - accuracy: 0.5873 - val_loss: 0.7869 - val_accuracy: 0.7927\n",
      "\n",
      "Epoch 00045: saving model to model/keypoint_classifier\\keypoint_classifier.hdf5\n",
      "Epoch 46/1000\n",
      "51/51 [==============================] - 0s 5ms/step - loss: 1.0648 - accuracy: 0.5803 - val_loss: 0.7794 - val_accuracy: 0.7881\n",
      "\n",
      "Epoch 00046: saving model to model/keypoint_classifier\\keypoint_classifier.hdf5\n",
      "Epoch 47/1000\n",
      "51/51 [==============================] - 0s 6ms/step - loss: 1.0805 - accuracy: 0.5780 - val_loss: 0.7851 - val_accuracy: 0.7941\n",
      "\n",
      "Epoch 00047: saving model to model/keypoint_classifier\\keypoint_classifier.hdf5\n",
      "Epoch 48/1000\n",
      "51/51 [==============================] - 0s 6ms/step - loss: 1.0750 - accuracy: 0.5798 - val_loss: 0.7580 - val_accuracy: 0.8061\n",
      "\n",
      "Epoch 00048: saving model to model/keypoint_classifier\\keypoint_classifier.hdf5\n",
      "Epoch 49/1000\n",
      "51/51 [==============================] - 0s 6ms/step - loss: 1.0444 - accuracy: 0.5928 - val_loss: 0.7714 - val_accuracy: 0.8134\n",
      "\n",
      "Epoch 00049: saving model to model/keypoint_classifier\\keypoint_classifier.hdf5\n",
      "Epoch 50/1000\n",
      "51/51 [==============================] - 0s 7ms/step - loss: 1.0368 - accuracy: 0.5876 - val_loss: 0.7693 - val_accuracy: 0.7960\n",
      "\n",
      "Epoch 00050: saving model to model/keypoint_classifier\\keypoint_classifier.hdf5\n",
      "Epoch 51/1000\n",
      "51/51 [==============================] - 0s 6ms/step - loss: 1.0384 - accuracy: 0.5934 - val_loss: 0.7672 - val_accuracy: 0.8111\n",
      "\n",
      "Epoch 00051: saving model to model/keypoint_classifier\\keypoint_classifier.hdf5\n",
      "Epoch 52/1000\n",
      "51/51 [==============================] - 0s 6ms/step - loss: 1.0467 - accuracy: 0.5922 - val_loss: 0.7700 - val_accuracy: 0.8157\n",
      "\n",
      "Epoch 00052: saving model to model/keypoint_classifier\\keypoint_classifier.hdf5\n",
      "Epoch 53/1000\n",
      "51/51 [==============================] - 0s 6ms/step - loss: 1.0155 - accuracy: 0.6008 - val_loss: 0.7603 - val_accuracy: 0.8120\n",
      "\n",
      "Epoch 00053: saving model to model/keypoint_classifier\\keypoint_classifier.hdf5\n",
      "Epoch 54/1000\n",
      "51/51 [==============================] - 0s 6ms/step - loss: 1.0214 - accuracy: 0.5890 - val_loss: 0.7937 - val_accuracy: 0.7863\n",
      "\n",
      "Epoch 00054: saving model to model/keypoint_classifier\\keypoint_classifier.hdf5\n",
      "Epoch 55/1000\n",
      "51/51 [==============================] - 0s 6ms/step - loss: 1.0235 - accuracy: 0.6036 - val_loss: 0.7511 - val_accuracy: 0.8166\n",
      "\n",
      "Epoch 00055: saving model to model/keypoint_classifier\\keypoint_classifier.hdf5\n",
      "Epoch 56/1000\n",
      "51/51 [==============================] - 0s 6ms/step - loss: 1.0376 - accuracy: 0.5936 - val_loss: 0.7482 - val_accuracy: 0.8051\n",
      "\n",
      "Epoch 00056: saving model to model/keypoint_classifier\\keypoint_classifier.hdf5\n",
      "Epoch 57/1000\n",
      "51/51 [==============================] - 0s 6ms/step - loss: 1.0098 - accuracy: 0.5990 - val_loss: 0.7251 - val_accuracy: 0.8272\n",
      "\n",
      "Epoch 00057: saving model to model/keypoint_classifier\\keypoint_classifier.hdf5\n",
      "Epoch 58/1000\n",
      "51/51 [==============================] - 0s 6ms/step - loss: 1.0324 - accuracy: 0.5938 - val_loss: 0.7490 - val_accuracy: 0.7835\n",
      "\n",
      "Epoch 00058: saving model to model/keypoint_classifier\\keypoint_classifier.hdf5\n",
      "Epoch 59/1000\n",
      "51/51 [==============================] - 0s 6ms/step - loss: 1.0333 - accuracy: 0.5843 - val_loss: 0.7390 - val_accuracy: 0.8001\n",
      "\n",
      "Epoch 00059: saving model to model/keypoint_classifier\\keypoint_classifier.hdf5\n",
      "Epoch 60/1000\n",
      "51/51 [==============================] - 0s 5ms/step - loss: 1.0543 - accuracy: 0.5886 - val_loss: 0.7561 - val_accuracy: 0.8015\n",
      "\n",
      "Epoch 00060: saving model to model/keypoint_classifier\\keypoint_classifier.hdf5\n",
      "Epoch 61/1000\n",
      "51/51 [==============================] - 0s 6ms/step - loss: 1.0143 - accuracy: 0.6089 - val_loss: 0.7505 - val_accuracy: 0.7937\n",
      "\n",
      "Epoch 00061: saving model to model/keypoint_classifier\\keypoint_classifier.hdf5\n",
      "Epoch 62/1000\n",
      "51/51 [==============================] - 0s 6ms/step - loss: 1.0284 - accuracy: 0.5917 - val_loss: 0.7424 - val_accuracy: 0.7969\n",
      "\n",
      "Epoch 00062: saving model to model/keypoint_classifier\\keypoint_classifier.hdf5\n",
      "Epoch 63/1000\n",
      "51/51 [==============================] - 0s 6ms/step - loss: 1.0243 - accuracy: 0.5994 - val_loss: 0.7414 - val_accuracy: 0.8176\n",
      "\n",
      "Epoch 00063: saving model to model/keypoint_classifier\\keypoint_classifier.hdf5\n",
      "Epoch 64/1000\n",
      "51/51 [==============================] - 0s 6ms/step - loss: 0.9926 - accuracy: 0.6095 - val_loss: 0.7485 - val_accuracy: 0.8006\n",
      "\n",
      "Epoch 00064: saving model to model/keypoint_classifier\\keypoint_classifier.hdf5\n",
      "Epoch 65/1000\n",
      "51/51 [==============================] - 0s 6ms/step - loss: 1.0048 - accuracy: 0.6077 - val_loss: 0.7688 - val_accuracy: 0.7891\n",
      "\n",
      "Epoch 00065: saving model to model/keypoint_classifier\\keypoint_classifier.hdf5\n",
      "Epoch 66/1000\n",
      "51/51 [==============================] - 0s 6ms/step - loss: 1.0112 - accuracy: 0.5961 - val_loss: 0.7411 - val_accuracy: 0.8088\n",
      "\n",
      "Epoch 00066: saving model to model/keypoint_classifier\\keypoint_classifier.hdf5\n",
      "Epoch 67/1000\n",
      "51/51 [==============================] - 0s 6ms/step - loss: 0.9958 - accuracy: 0.6092 - val_loss: 0.7324 - val_accuracy: 0.8120\n",
      "\n",
      "Epoch 00067: saving model to model/keypoint_classifier\\keypoint_classifier.hdf5\n",
      "Epoch 68/1000\n",
      "51/51 [==============================] - 0s 6ms/step - loss: 0.9969 - accuracy: 0.6100 - val_loss: 0.7649 - val_accuracy: 0.7831\n",
      "\n",
      "Epoch 00068: saving model to model/keypoint_classifier\\keypoint_classifier.hdf5\n",
      "Epoch 69/1000\n",
      "51/51 [==============================] - 0s 6ms/step - loss: 1.0121 - accuracy: 0.6052 - val_loss: 0.7300 - val_accuracy: 0.8244\n",
      "\n",
      "Epoch 00069: saving model to model/keypoint_classifier\\keypoint_classifier.hdf5\n",
      "Epoch 70/1000\n",
      "51/51 [==============================] - 0s 6ms/step - loss: 1.0024 - accuracy: 0.6120 - val_loss: 0.7361 - val_accuracy: 0.8056\n",
      "\n",
      "Epoch 00070: saving model to model/keypoint_classifier\\keypoint_classifier.hdf5\n",
      "Epoch 71/1000\n",
      "51/51 [==============================] - 0s 6ms/step - loss: 0.9948 - accuracy: 0.6137 - val_loss: 0.7444 - val_accuracy: 0.8189\n",
      "\n",
      "Epoch 00071: saving model to model/keypoint_classifier\\keypoint_classifier.hdf5\n",
      "Epoch 72/1000\n",
      "51/51 [==============================] - 0s 6ms/step - loss: 0.9981 - accuracy: 0.6179 - val_loss: 0.7462 - val_accuracy: 0.8176\n",
      "\n",
      "Epoch 00072: saving model to model/keypoint_classifier\\keypoint_classifier.hdf5\n",
      "Epoch 73/1000\n",
      "51/51 [==============================] - 0s 6ms/step - loss: 1.0006 - accuracy: 0.6049 - val_loss: 0.7527 - val_accuracy: 0.7780\n",
      "\n",
      "Epoch 00073: saving model to model/keypoint_classifier\\keypoint_classifier.hdf5\n",
      "Epoch 74/1000\n",
      "51/51 [==============================] - 0s 6ms/step - loss: 1.0038 - accuracy: 0.6060 - val_loss: 0.7242 - val_accuracy: 0.8295\n",
      "\n",
      "Epoch 00074: saving model to model/keypoint_classifier\\keypoint_classifier.hdf5\n",
      "Epoch 75/1000\n",
      "51/51 [==============================] - 0s 6ms/step - loss: 0.9781 - accuracy: 0.6216 - val_loss: 0.7426 - val_accuracy: 0.8359\n",
      "\n",
      "Epoch 00075: saving model to model/keypoint_classifier\\keypoint_classifier.hdf5\n",
      "Epoch 76/1000\n",
      "51/51 [==============================] - 0s 6ms/step - loss: 0.9837 - accuracy: 0.6210 - val_loss: 0.7185 - val_accuracy: 0.8231\n",
      "\n",
      "Epoch 00076: saving model to model/keypoint_classifier\\keypoint_classifier.hdf5\n",
      "Epoch 77/1000\n",
      "51/51 [==============================] - 0s 6ms/step - loss: 0.9944 - accuracy: 0.6140 - val_loss: 0.7445 - val_accuracy: 0.8281\n",
      "\n",
      "Epoch 00077: saving model to model/keypoint_classifier\\keypoint_classifier.hdf5\n",
      "Epoch 78/1000\n",
      "51/51 [==============================] - 0s 7ms/step - loss: 0.9893 - accuracy: 0.6172 - val_loss: 0.7359 - val_accuracy: 0.7868\n",
      "\n",
      "Epoch 00078: saving model to model/keypoint_classifier\\keypoint_classifier.hdf5\n",
      "Epoch 79/1000\n",
      "51/51 [==============================] - 0s 5ms/step - loss: 0.9766 - accuracy: 0.6252 - val_loss: 0.7206 - val_accuracy: 0.8304\n",
      "\n",
      "Epoch 00079: saving model to model/keypoint_classifier\\keypoint_classifier.hdf5\n",
      "Epoch 80/1000\n",
      "51/51 [==============================] - 0s 6ms/step - loss: 0.9896 - accuracy: 0.6107 - val_loss: 0.7173 - val_accuracy: 0.8424\n",
      "\n",
      "Epoch 00080: saving model to model/keypoint_classifier\\keypoint_classifier.hdf5\n",
      "Epoch 81/1000\n",
      "51/51 [==============================] - 0s 6ms/step - loss: 0.9882 - accuracy: 0.6203 - val_loss: 0.7124 - val_accuracy: 0.8359\n",
      "\n",
      "Epoch 00081: saving model to model/keypoint_classifier\\keypoint_classifier.hdf5\n",
      "Epoch 82/1000\n",
      "51/51 [==============================] - 0s 7ms/step - loss: 0.9702 - accuracy: 0.6271 - val_loss: 0.7291 - val_accuracy: 0.8304\n",
      "\n",
      "Epoch 00082: saving model to model/keypoint_classifier\\keypoint_classifier.hdf5\n",
      "Epoch 83/1000\n",
      "51/51 [==============================] - 0s 6ms/step - loss: 0.9925 - accuracy: 0.6165 - val_loss: 0.7210 - val_accuracy: 0.8410\n",
      "\n",
      "Epoch 00083: saving model to model/keypoint_classifier\\keypoint_classifier.hdf5\n",
      "Epoch 84/1000\n",
      "51/51 [==============================] - 0s 6ms/step - loss: 0.9639 - accuracy: 0.6310 - val_loss: 0.7397 - val_accuracy: 0.8231\n",
      "\n",
      "Epoch 00084: saving model to model/keypoint_classifier\\keypoint_classifier.hdf5\n",
      "Epoch 85/1000\n",
      "51/51 [==============================] - 0s 6ms/step - loss: 0.9509 - accuracy: 0.6302 - val_loss: 0.7241 - val_accuracy: 0.8346\n",
      "\n",
      "Epoch 00085: saving model to model/keypoint_classifier\\keypoint_classifier.hdf5\n",
      "Epoch 86/1000\n",
      "51/51 [==============================] - 0s 6ms/step - loss: 0.9501 - accuracy: 0.6248 - val_loss: 0.7154 - val_accuracy: 0.8483\n",
      "\n",
      "Epoch 00086: saving model to model/keypoint_classifier\\keypoint_classifier.hdf5\n",
      "Epoch 87/1000\n",
      "51/51 [==============================] - 0s 6ms/step - loss: 0.9512 - accuracy: 0.6364 - val_loss: 0.7402 - val_accuracy: 0.8364\n",
      "\n",
      "Epoch 00087: saving model to model/keypoint_classifier\\keypoint_classifier.hdf5\n",
      "Epoch 88/1000\n",
      "51/51 [==============================] - 0s 6ms/step - loss: 0.9481 - accuracy: 0.6304 - val_loss: 0.7323 - val_accuracy: 0.8254\n",
      "\n",
      "Epoch 00088: saving model to model/keypoint_classifier\\keypoint_classifier.hdf5\n",
      "Epoch 89/1000\n",
      "51/51 [==============================] - 0s 6ms/step - loss: 0.9730 - accuracy: 0.6244 - val_loss: 0.7095 - val_accuracy: 0.8470\n",
      "\n",
      "Epoch 00089: saving model to model/keypoint_classifier\\keypoint_classifier.hdf5\n",
      "Epoch 90/1000\n",
      "51/51 [==============================] - 0s 6ms/step - loss: 0.9405 - accuracy: 0.6357 - val_loss: 0.7335 - val_accuracy: 0.8231\n",
      "\n",
      "Epoch 00090: saving model to model/keypoint_classifier\\keypoint_classifier.hdf5\n",
      "Epoch 91/1000\n",
      "51/51 [==============================] - 0s 6ms/step - loss: 0.9550 - accuracy: 0.6274 - val_loss: 0.7122 - val_accuracy: 0.8410\n",
      "\n",
      "Epoch 00091: saving model to model/keypoint_classifier\\keypoint_classifier.hdf5\n",
      "Epoch 92/1000\n",
      "51/51 [==============================] - 0s 6ms/step - loss: 0.9378 - accuracy: 0.6270 - val_loss: 0.7261 - val_accuracy: 0.8240\n",
      "\n",
      "Epoch 00092: saving model to model/keypoint_classifier\\keypoint_classifier.hdf5\n",
      "Epoch 93/1000\n",
      "51/51 [==============================] - 0s 6ms/step - loss: 0.9549 - accuracy: 0.6312 - val_loss: 0.7133 - val_accuracy: 0.8249\n",
      "\n",
      "Epoch 00093: saving model to model/keypoint_classifier\\keypoint_classifier.hdf5\n",
      "Epoch 94/1000\n",
      "51/51 [==============================] - 0s 6ms/step - loss: 0.9586 - accuracy: 0.6248 - val_loss: 0.7269 - val_accuracy: 0.8387\n",
      "\n",
      "Epoch 00094: saving model to model/keypoint_classifier\\keypoint_classifier.hdf5\n",
      "Epoch 95/1000\n",
      "51/51 [==============================] - 0s 7ms/step - loss: 0.9312 - accuracy: 0.6312 - val_loss: 0.7428 - val_accuracy: 0.8355\n",
      "\n",
      "Epoch 00095: saving model to model/keypoint_classifier\\keypoint_classifier.hdf5\n",
      "Epoch 96/1000\n",
      "51/51 [==============================] - 0s 6ms/step - loss: 0.9638 - accuracy: 0.6305 - val_loss: 0.7183 - val_accuracy: 0.8401\n",
      "\n",
      "Epoch 00096: saving model to model/keypoint_classifier\\keypoint_classifier.hdf5\n",
      "Epoch 97/1000\n",
      "51/51 [==============================] - 0s 6ms/step - loss: 0.9828 - accuracy: 0.6183 - val_loss: 0.7273 - val_accuracy: 0.8355\n",
      "\n",
      "Epoch 00097: saving model to model/keypoint_classifier\\keypoint_classifier.hdf5\n",
      "Epoch 98/1000\n",
      "51/51 [==============================] - 0s 6ms/step - loss: 0.9423 - accuracy: 0.6321 - val_loss: 0.7555 - val_accuracy: 0.8203\n",
      "\n",
      "Epoch 00098: saving model to model/keypoint_classifier\\keypoint_classifier.hdf5\n",
      "Epoch 99/1000\n",
      "51/51 [==============================] - 0s 6ms/step - loss: 0.9450 - accuracy: 0.6251 - val_loss: 0.7244 - val_accuracy: 0.8350\n",
      "\n",
      "Epoch 00099: saving model to model/keypoint_classifier\\keypoint_classifier.hdf5\n",
      "Epoch 100/1000\n",
      "51/51 [==============================] - 0s 6ms/step - loss: 0.9286 - accuracy: 0.6411 - val_loss: 0.7368 - val_accuracy: 0.8286\n",
      "\n",
      "Epoch 00100: saving model to model/keypoint_classifier\\keypoint_classifier.hdf5\n",
      "Epoch 101/1000\n",
      "51/51 [==============================] - 0s 6ms/step - loss: 0.9502 - accuracy: 0.6276 - val_loss: 0.7519 - val_accuracy: 0.8258\n",
      "\n",
      "Epoch 00101: saving model to model/keypoint_classifier\\keypoint_classifier.hdf5\n",
      "Epoch 102/1000\n",
      "51/51 [==============================] - 0s 8ms/step - loss: 0.9423 - accuracy: 0.6282 - val_loss: 0.7463 - val_accuracy: 0.8290\n",
      "\n",
      "Epoch 00102: saving model to model/keypoint_classifier\\keypoint_classifier.hdf5\n",
      "Epoch 103/1000\n",
      "51/51 [==============================] - 0s 7ms/step - loss: 0.9143 - accuracy: 0.6443 - val_loss: 0.7376 - val_accuracy: 0.8346\n",
      "\n",
      "Epoch 00103: saving model to model/keypoint_classifier\\keypoint_classifier.hdf5\n",
      "Epoch 104/1000\n",
      "51/51 [==============================] - 0s 6ms/step - loss: 0.9200 - accuracy: 0.6458 - val_loss: 0.7181 - val_accuracy: 0.8396\n",
      "\n",
      "Epoch 00104: saving model to model/keypoint_classifier\\keypoint_classifier.hdf5\n",
      "Epoch 105/1000\n",
      "51/51 [==============================] - 0s 6ms/step - loss: 0.9617 - accuracy: 0.6305 - val_loss: 0.6912 - val_accuracy: 0.8415\n",
      "\n",
      "Epoch 00105: saving model to model/keypoint_classifier\\keypoint_classifier.hdf5\n",
      "Epoch 106/1000\n",
      "51/51 [==============================] - 0s 5ms/step - loss: 0.9689 - accuracy: 0.6266 - val_loss: 0.7456 - val_accuracy: 0.8263\n",
      "\n",
      "Epoch 00106: saving model to model/keypoint_classifier\\keypoint_classifier.hdf5\n",
      "Epoch 107/1000\n",
      "51/51 [==============================] - 0s 6ms/step - loss: 0.9421 - accuracy: 0.6340 - val_loss: 0.7308 - val_accuracy: 0.8107\n",
      "\n",
      "Epoch 00107: saving model to model/keypoint_classifier\\keypoint_classifier.hdf5\n",
      "Epoch 108/1000\n",
      "51/51 [==============================] - 0s 6ms/step - loss: 0.9505 - accuracy: 0.6240 - val_loss: 0.7134 - val_accuracy: 0.8415\n",
      "\n",
      "Epoch 00108: saving model to model/keypoint_classifier\\keypoint_classifier.hdf5\n",
      "Epoch 109/1000\n",
      "51/51 [==============================] - 0s 7ms/step - loss: 0.9422 - accuracy: 0.6380 - val_loss: 0.7075 - val_accuracy: 0.8350\n",
      "\n",
      "Epoch 00109: saving model to model/keypoint_classifier\\keypoint_classifier.hdf5\n",
      "Epoch 110/1000\n",
      "51/51 [==============================] - 0s 7ms/step - loss: 0.8974 - accuracy: 0.6492 - val_loss: 0.6996 - val_accuracy: 0.8415\n",
      "\n",
      "Epoch 00110: saving model to model/keypoint_classifier\\keypoint_classifier.hdf5\n",
      "Epoch 111/1000\n",
      "51/51 [==============================] - 0s 8ms/step - loss: 0.9710 - accuracy: 0.6325 - val_loss: 0.7344 - val_accuracy: 0.8212\n",
      "\n",
      "Epoch 00111: saving model to model/keypoint_classifier\\keypoint_classifier.hdf5\n",
      "Epoch 112/1000\n",
      "51/51 [==============================] - 0s 7ms/step - loss: 0.9406 - accuracy: 0.6324 - val_loss: 0.7255 - val_accuracy: 0.8300\n",
      "\n",
      "Epoch 00112: saving model to model/keypoint_classifier\\keypoint_classifier.hdf5\n",
      "Epoch 113/1000\n",
      "51/51 [==============================] - 0s 7ms/step - loss: 0.9310 - accuracy: 0.6343 - val_loss: 0.7338 - val_accuracy: 0.8304\n",
      "\n",
      "Epoch 00113: saving model to model/keypoint_classifier\\keypoint_classifier.hdf5\n",
      "Epoch 114/1000\n",
      "51/51 [==============================] - 0s 7ms/step - loss: 0.9240 - accuracy: 0.6511 - val_loss: 0.7377 - val_accuracy: 0.8300\n",
      "\n",
      "Epoch 00114: saving model to model/keypoint_classifier\\keypoint_classifier.hdf5\n",
      "Epoch 115/1000\n",
      "51/51 [==============================] - 0s 7ms/step - loss: 0.9354 - accuracy: 0.6352 - val_loss: 0.7519 - val_accuracy: 0.8024\n",
      "\n",
      "Epoch 00115: saving model to model/keypoint_classifier\\keypoint_classifier.hdf5\n",
      "Epoch 116/1000\n",
      "51/51 [==============================] - 0s 7ms/step - loss: 0.9198 - accuracy: 0.6500 - val_loss: 0.7308 - val_accuracy: 0.8346\n",
      "\n",
      "Epoch 00116: saving model to model/keypoint_classifier\\keypoint_classifier.hdf5\n",
      "Epoch 117/1000\n",
      "51/51 [==============================] - 0s 6ms/step - loss: 0.9328 - accuracy: 0.6397 - val_loss: 0.7277 - val_accuracy: 0.8424\n",
      "\n",
      "Epoch 00117: saving model to model/keypoint_classifier\\keypoint_classifier.hdf5\n",
      "Epoch 118/1000\n",
      "51/51 [==============================] - 0s 7ms/step - loss: 0.9376 - accuracy: 0.6418 - val_loss: 0.7351 - val_accuracy: 0.8199\n",
      "\n",
      "Epoch 00118: saving model to model/keypoint_classifier\\keypoint_classifier.hdf5\n",
      "Epoch 119/1000\n",
      "51/51 [==============================] - 0s 6ms/step - loss: 0.9364 - accuracy: 0.6303 - val_loss: 0.7470 - val_accuracy: 0.8295\n",
      "\n",
      "Epoch 00119: saving model to model/keypoint_classifier\\keypoint_classifier.hdf5\n",
      "Epoch 120/1000\n",
      "51/51 [==============================] - 0s 7ms/step - loss: 0.9222 - accuracy: 0.6390 - val_loss: 0.7486 - val_accuracy: 0.8061\n",
      "\n",
      "Epoch 00120: saving model to model/keypoint_classifier\\keypoint_classifier.hdf5\n",
      "Epoch 121/1000\n",
      "51/51 [==============================] - 0s 6ms/step - loss: 0.9107 - accuracy: 0.6442 - val_loss: 0.7478 - val_accuracy: 0.8217\n",
      "\n",
      "Epoch 00121: saving model to model/keypoint_classifier\\keypoint_classifier.hdf5\n",
      "Epoch 122/1000\n",
      "51/51 [==============================] - 0s 6ms/step - loss: 0.9222 - accuracy: 0.6425 - val_loss: 0.7234 - val_accuracy: 0.8401\n",
      "\n",
      "Epoch 00122: saving model to model/keypoint_classifier\\keypoint_classifier.hdf5\n",
      "Epoch 123/1000\n",
      "51/51 [==============================] - 0s 7ms/step - loss: 0.9081 - accuracy: 0.6389 - val_loss: 0.7326 - val_accuracy: 0.8277\n",
      "\n",
      "Epoch 00123: saving model to model/keypoint_classifier\\keypoint_classifier.hdf5\n",
      "Epoch 124/1000\n",
      "51/51 [==============================] - 0s 7ms/step - loss: 0.8975 - accuracy: 0.6546 - val_loss: 0.7159 - val_accuracy: 0.8336\n",
      "\n",
      "Epoch 00124: saving model to model/keypoint_classifier\\keypoint_classifier.hdf5\n",
      "Epoch 125/1000\n",
      "51/51 [==============================] - 0s 7ms/step - loss: 0.9127 - accuracy: 0.6474 - val_loss: 0.7099 - val_accuracy: 0.8300\n",
      "\n",
      "Epoch 00125: saving model to model/keypoint_classifier\\keypoint_classifier.hdf5\n",
      "Epoch 00125: early stopping\n"
     ]
    },
    {
     "output_type": "execute_result",
     "data": {
      "text/plain": [
       "<tensorflow.python.keras.callbacks.History at 0x19771396c40>"
      ]
     },
     "metadata": {},
     "execution_count": 146
    }
   ],
   "source": [
    "model.fit(\n",
    "    X_train,\n",
    "    y_train,\n",
    "    epochs=1000,\n",
    "    batch_size=128,\n",
    "    validation_data=(X_test, y_test),\n",
    "    callbacks=[cp_callback, es_callback]\n",
    ")"
   ]
  },
  {
   "cell_type": "code",
   "execution_count": 147,
   "metadata": {},
   "outputs": [
    {
     "output_type": "stream",
     "name": "stdout",
     "text": [
      "17/17 [==============================] - 0s 2ms/step - loss: 0.7099 - accuracy: 0.8300\n"
     ]
    }
   ],
   "source": [
    "# 模型评估\n",
    "val_loss, val_acc = model.evaluate(X_test, y_test, batch_size=128)"
   ]
  },
  {
   "cell_type": "code",
   "execution_count": 148,
   "metadata": {},
   "outputs": [],
   "source": [
    "# 加载保存的模型\n",
    "model = tf.keras.models.load_model(model_save_path)"
   ]
  },
  {
   "cell_type": "code",
   "execution_count": 149,
   "metadata": {},
   "outputs": [
    {
     "output_type": "stream",
     "name": "stdout",
     "text": [
      "[4.4066653e-01 1.4638079e-03 2.0099564e-01 2.9034895e-01 2.5418992e-04\n 1.1503961e-03 3.0634562e-02 3.4485985e-02]\n0\n"
     ]
    }
   ],
   "source": [
    "# 推理测试\n",
    "predict_result = model.predict(np.array([X_test[0]]))\n",
    "print(np.squeeze(predict_result))\n",
    "print(np.argmax(np.squeeze(predict_result)))"
   ]
  },
  {
   "cell_type": "markdown",
   "metadata": {},
   "source": [
    "# 混淆矩阵"
   ]
  },
  {
   "cell_type": "code",
   "execution_count": 150,
   "metadata": {},
   "outputs": [
    {
     "output_type": "display_data",
     "data": {
      "text/plain": "<Figure size 504x432 with 2 Axes>",
      "image/svg+xml": "<?xml version=\"1.0\" encoding=\"utf-8\" standalone=\"no\"?>\r\n<!DOCTYPE svg PUBLIC \"-//W3C//DTD SVG 1.1//EN\"\r\n  \"http://www.w3.org/Graphics/SVG/1.1/DTD/svg11.dtd\">\r\n<!-- Created with matplotlib (https://matplotlib.org/) -->\r\n<svg height=\"361.037344pt\" version=\"1.1\" viewBox=\"0 0 405.483625 361.037344\" width=\"405.483625pt\" xmlns=\"http://www.w3.org/2000/svg\" xmlns:xlink=\"http://www.w3.org/1999/xlink\">\r\n <metadata>\r\n  <rdf:RDF xmlns:cc=\"http://creativecommons.org/ns#\" xmlns:dc=\"http://purl.org/dc/elements/1.1/\" xmlns:rdf=\"http://www.w3.org/1999/02/22-rdf-syntax-ns#\">\r\n   <cc:Work>\r\n    <dc:type rdf:resource=\"http://purl.org/dc/dcmitype/StillImage\"/>\r\n    <dc:date>2021-03-29T00:31:44.687704</dc:date>\r\n    <dc:format>image/svg+xml</dc:format>\r\n    <dc:creator>\r\n     <cc:Agent>\r\n      <dc:title>Matplotlib v3.3.4, https://matplotlib.org/</dc:title>\r\n     </cc:Agent>\r\n    </dc:creator>\r\n   </cc:Work>\r\n  </rdf:RDF>\r\n </metadata>\r\n <defs>\r\n  <style type=\"text/css\">*{stroke-linecap:butt;stroke-linejoin:round;}</style>\r\n </defs>\r\n <g id=\"figure_1\">\r\n  <g id=\"patch_1\">\r\n   <path d=\"M 0 361.037344 \r\nL 405.483625 361.037344 \r\nL 405.483625 0 \r\nL 0 0 \r\nz\r\n\" style=\"fill:none;\"/>\r\n  </g>\r\n  <g id=\"axes_1\">\r\n   <g id=\"patch_2\">\r\n    <path d=\"M 23.878125 337.159219 \r\nL 336.358125 337.159219 \r\nL 336.358125 10.999219 \r\nL 23.878125 10.999219 \r\nz\r\n\" style=\"fill:#ffffff;\"/>\r\n   </g>\r\n   <g id=\"QuadMesh_1\">\r\n    <path clip-path=\"url(#p7b95c6f9e9)\" d=\"M 23.878125 10.999219 \r\nL 62.938125 10.999219 \r\nL 62.938125 51.769219 \r\nL 23.878125 51.769219 \r\nL 23.878125 10.999219 \r\n\" style=\"fill:#cb1b4f;\"/>\r\n    <path clip-path=\"url(#p7b95c6f9e9)\" d=\"M 62.938125 10.999219 \r\nL 101.998125 10.999219 \r\nL 101.998125 51.769219 \r\nL 62.938125 51.769219 \r\nL 62.938125 10.999219 \r\n\" style=\"fill:#03051a;\"/>\r\n    <path clip-path=\"url(#p7b95c6f9e9)\" d=\"M 101.998125 10.999219 \r\nL 141.058125 10.999219 \r\nL 141.058125 51.769219 \r\nL 101.998125 51.769219 \r\nL 101.998125 10.999219 \r\n\" style=\"fill:#1e122d;\"/>\r\n    <path clip-path=\"url(#p7b95c6f9e9)\" d=\"M 141.058125 10.999219 \r\nL 180.118125 10.999219 \r\nL 180.118125 51.769219 \r\nL 141.058125 51.769219 \r\nL 141.058125 10.999219 \r\n\" style=\"fill:#461c48;\"/>\r\n    <path clip-path=\"url(#p7b95c6f9e9)\" d=\"M 180.118125 10.999219 \r\nL 219.178125 10.999219 \r\nL 219.178125 51.769219 \r\nL 180.118125 51.769219 \r\nL 180.118125 10.999219 \r\n\" style=\"fill:#03051a;\"/>\r\n    <path clip-path=\"url(#p7b95c6f9e9)\" d=\"M 219.178125 10.999219 \r\nL 258.238125 10.999219 \r\nL 258.238125 51.769219 \r\nL 219.178125 51.769219 \r\nL 219.178125 10.999219 \r\n\" style=\"fill:#04051a;\"/>\r\n    <path clip-path=\"url(#p7b95c6f9e9)\" d=\"M 258.238125 10.999219 \r\nL 297.298125 10.999219 \r\nL 297.298125 51.769219 \r\nL 258.238125 51.769219 \r\nL 258.238125 10.999219 \r\n\" style=\"fill:#03051a;\"/>\r\n    <path clip-path=\"url(#p7b95c6f9e9)\" d=\"M 297.298125 10.999219 \r\nL 336.358125 10.999219 \r\nL 336.358125 51.769219 \r\nL 297.298125 51.769219 \r\nL 297.298125 10.999219 \r\n\" style=\"fill:#03051a;\"/>\r\n    <path clip-path=\"url(#p7b95c6f9e9)\" d=\"M 23.878125 51.769219 \r\nL 62.938125 51.769219 \r\nL 62.938125 92.539219 \r\nL 23.878125 92.539219 \r\nL 23.878125 51.769219 \r\n\" style=\"fill:#03051a;\"/>\r\n    <path clip-path=\"url(#p7b95c6f9e9)\" d=\"M 62.938125 51.769219 \r\nL 101.998125 51.769219 \r\nL 101.998125 92.539219 \r\nL 62.938125 92.539219 \r\nL 62.938125 51.769219 \r\n\" style=\"fill:#ba1656;\"/>\r\n    <path clip-path=\"url(#p7b95c6f9e9)\" d=\"M 101.998125 51.769219 \r\nL 141.058125 51.769219 \r\nL 141.058125 92.539219 \r\nL 101.998125 92.539219 \r\nL 101.998125 51.769219 \r\n\" style=\"fill:#03051a;\"/>\r\n    <path clip-path=\"url(#p7b95c6f9e9)\" d=\"M 141.058125 51.769219 \r\nL 180.118125 51.769219 \r\nL 180.118125 92.539219 \r\nL 141.058125 92.539219 \r\nL 141.058125 51.769219 \r\n\" style=\"fill:#03051a;\"/>\r\n    <path clip-path=\"url(#p7b95c6f9e9)\" d=\"M 180.118125 51.769219 \r\nL 219.178125 51.769219 \r\nL 219.178125 92.539219 \r\nL 180.118125 92.539219 \r\nL 180.118125 51.769219 \r\n\" style=\"fill:#221331;\"/>\r\n    <path clip-path=\"url(#p7b95c6f9e9)\" d=\"M 219.178125 51.769219 \r\nL 258.238125 51.769219 \r\nL 258.238125 92.539219 \r\nL 219.178125 92.539219 \r\nL 219.178125 51.769219 \r\n\" style=\"fill:#03051a;\"/>\r\n    <path clip-path=\"url(#p7b95c6f9e9)\" d=\"M 258.238125 51.769219 \r\nL 297.298125 51.769219 \r\nL 297.298125 92.539219 \r\nL 258.238125 92.539219 \r\nL 258.238125 51.769219 \r\n\" style=\"fill:#03051a;\"/>\r\n    <path clip-path=\"url(#p7b95c6f9e9)\" d=\"M 297.298125 51.769219 \r\nL 336.358125 51.769219 \r\nL 336.358125 92.539219 \r\nL 297.298125 92.539219 \r\nL 297.298125 51.769219 \r\n\" style=\"fill:#100b23;\"/>\r\n    <path clip-path=\"url(#p7b95c6f9e9)\" d=\"M 23.878125 92.539219 \r\nL 62.938125 92.539219 \r\nL 62.938125 133.309219 \r\nL 23.878125 133.309219 \r\nL 23.878125 92.539219 \r\n\" style=\"fill:#04051a;\"/>\r\n    <path clip-path=\"url(#p7b95c6f9e9)\" d=\"M 62.938125 92.539219 \r\nL 101.998125 92.539219 \r\nL 101.998125 133.309219 \r\nL 62.938125 133.309219 \r\nL 62.938125 92.539219 \r\n\" style=\"fill:#03051a;\"/>\r\n    <path clip-path=\"url(#p7b95c6f9e9)\" d=\"M 101.998125 92.539219 \r\nL 141.058125 92.539219 \r\nL 141.058125 133.309219 \r\nL 101.998125 133.309219 \r\nL 101.998125 92.539219 \r\n\" style=\"fill:#e9423e;\"/>\r\n    <path clip-path=\"url(#p7b95c6f9e9)\" d=\"M 141.058125 92.539219 \r\nL 180.118125 92.539219 \r\nL 180.118125 133.309219 \r\nL 141.058125 133.309219 \r\nL 141.058125 92.539219 \r\n\" style=\"fill:#04051a;\"/>\r\n    <path clip-path=\"url(#p7b95c6f9e9)\" d=\"M 180.118125 92.539219 \r\nL 219.178125 92.539219 \r\nL 219.178125 133.309219 \r\nL 180.118125 133.309219 \r\nL 180.118125 92.539219 \r\n\" style=\"fill:#03051a;\"/>\r\n    <path clip-path=\"url(#p7b95c6f9e9)\" d=\"M 219.178125 92.539219 \r\nL 258.238125 92.539219 \r\nL 258.238125 133.309219 \r\nL 219.178125 133.309219 \r\nL 219.178125 92.539219 \r\n\" style=\"fill:#03051a;\"/>\r\n    <path clip-path=\"url(#p7b95c6f9e9)\" d=\"M 258.238125 92.539219 \r\nL 297.298125 92.539219 \r\nL 297.298125 133.309219 \r\nL 258.238125 133.309219 \r\nL 258.238125 92.539219 \r\n\" style=\"fill:#03051a;\"/>\r\n    <path clip-path=\"url(#p7b95c6f9e9)\" d=\"M 297.298125 92.539219 \r\nL 336.358125 92.539219 \r\nL 336.358125 133.309219 \r\nL 297.298125 133.309219 \r\nL 297.298125 92.539219 \r\n\" style=\"fill:#110c24;\"/>\r\n    <path clip-path=\"url(#p7b95c6f9e9)\" d=\"M 23.878125 133.309219 \r\nL 62.938125 133.309219 \r\nL 62.938125 174.079219 \r\nL 23.878125 174.079219 \r\nL 23.878125 133.309219 \r\n\" style=\"fill:#110c24;\"/>\r\n    <path clip-path=\"url(#p7b95c6f9e9)\" d=\"M 62.938125 133.309219 \r\nL 101.998125 133.309219 \r\nL 101.998125 174.079219 \r\nL 62.938125 174.079219 \r\nL 62.938125 133.309219 \r\n\" style=\"fill:#03051a;\"/>\r\n    <path clip-path=\"url(#p7b95c6f9e9)\" d=\"M 101.998125 133.309219 \r\nL 141.058125 133.309219 \r\nL 141.058125 174.079219 \r\nL 101.998125 174.079219 \r\nL 101.998125 133.309219 \r\n\" style=\"fill:#0a091f;\"/>\r\n    <path clip-path=\"url(#p7b95c6f9e9)\" d=\"M 141.058125 133.309219 \r\nL 180.118125 133.309219 \r\nL 180.118125 174.079219 \r\nL 141.058125 174.079219 \r\nL 141.058125 133.309219 \r\n\" style=\"fill:#f06043;\"/>\r\n    <path clip-path=\"url(#p7b95c6f9e9)\" d=\"M 180.118125 133.309219 \r\nL 219.178125 133.309219 \r\nL 219.178125 174.079219 \r\nL 180.118125 174.079219 \r\nL 180.118125 133.309219 \r\n\" style=\"fill:#03051a;\"/>\r\n    <path clip-path=\"url(#p7b95c6f9e9)\" d=\"M 219.178125 133.309219 \r\nL 258.238125 133.309219 \r\nL 258.238125 174.079219 \r\nL 219.178125 174.079219 \r\nL 219.178125 133.309219 \r\n\" style=\"fill:#03051a;\"/>\r\n    <path clip-path=\"url(#p7b95c6f9e9)\" d=\"M 258.238125 133.309219 \r\nL 297.298125 133.309219 \r\nL 297.298125 174.079219 \r\nL 258.238125 174.079219 \r\nL 258.238125 133.309219 \r\n\" style=\"fill:#03051a;\"/>\r\n    <path clip-path=\"url(#p7b95c6f9e9)\" d=\"M 297.298125 133.309219 \r\nL 336.358125 133.309219 \r\nL 336.358125 174.079219 \r\nL 297.298125 174.079219 \r\nL 297.298125 133.309219 \r\n\" style=\"fill:#03051a;\"/>\r\n    <path clip-path=\"url(#p7b95c6f9e9)\" d=\"M 23.878125 174.079219 \r\nL 62.938125 174.079219 \r\nL 62.938125 214.849219 \r\nL 23.878125 214.849219 \r\nL 23.878125 174.079219 \r\n\" style=\"fill:#03051a;\"/>\r\n    <path clip-path=\"url(#p7b95c6f9e9)\" d=\"M 62.938125 174.079219 \r\nL 101.998125 174.079219 \r\nL 101.998125 214.849219 \r\nL 62.938125 214.849219 \r\nL 62.938125 174.079219 \r\n\" style=\"fill:#03051a;\"/>\r\n    <path clip-path=\"url(#p7b95c6f9e9)\" d=\"M 101.998125 174.079219 \r\nL 141.058125 174.079219 \r\nL 141.058125 214.849219 \r\nL 101.998125 214.849219 \r\nL 101.998125 174.079219 \r\n\" style=\"fill:#03051a;\"/>\r\n    <path clip-path=\"url(#p7b95c6f9e9)\" d=\"M 141.058125 174.079219 \r\nL 180.118125 174.079219 \r\nL 180.118125 214.849219 \r\nL 141.058125 214.849219 \r\nL 141.058125 174.079219 \r\n\" style=\"fill:#03051a;\"/>\r\n    <path clip-path=\"url(#p7b95c6f9e9)\" d=\"M 180.118125 174.079219 \r\nL 219.178125 174.079219 \r\nL 219.178125 214.849219 \r\nL 180.118125 214.849219 \r\nL 180.118125 174.079219 \r\n\" style=\"fill:#faebdd;\"/>\r\n    <path clip-path=\"url(#p7b95c6f9e9)\" d=\"M 219.178125 174.079219 \r\nL 258.238125 174.079219 \r\nL 258.238125 214.849219 \r\nL 219.178125 214.849219 \r\nL 219.178125 174.079219 \r\n\" style=\"fill:#04051a;\"/>\r\n    <path clip-path=\"url(#p7b95c6f9e9)\" d=\"M 258.238125 174.079219 \r\nL 297.298125 174.079219 \r\nL 297.298125 214.849219 \r\nL 258.238125 214.849219 \r\nL 258.238125 174.079219 \r\n\" style=\"fill:#03051a;\"/>\r\n    <path clip-path=\"url(#p7b95c6f9e9)\" d=\"M 297.298125 174.079219 \r\nL 336.358125 174.079219 \r\nL 336.358125 214.849219 \r\nL 297.298125 214.849219 \r\nL 297.298125 174.079219 \r\n\" style=\"fill:#06071c;\"/>\r\n    <path clip-path=\"url(#p7b95c6f9e9)\" d=\"M 23.878125 214.849219 \r\nL 62.938125 214.849219 \r\nL 62.938125 255.619219 \r\nL 23.878125 255.619219 \r\nL 23.878125 214.849219 \r\n\" style=\"fill:#03051a;\"/>\r\n    <path clip-path=\"url(#p7b95c6f9e9)\" d=\"M 62.938125 214.849219 \r\nL 101.998125 214.849219 \r\nL 101.998125 255.619219 \r\nL 62.938125 255.619219 \r\nL 62.938125 214.849219 \r\n\" style=\"fill:#03051a;\"/>\r\n    <path clip-path=\"url(#p7b95c6f9e9)\" d=\"M 101.998125 214.849219 \r\nL 141.058125 214.849219 \r\nL 141.058125 255.619219 \r\nL 101.998125 255.619219 \r\nL 101.998125 214.849219 \r\n\" style=\"fill:#03051a;\"/>\r\n    <path clip-path=\"url(#p7b95c6f9e9)\" d=\"M 141.058125 214.849219 \r\nL 180.118125 214.849219 \r\nL 180.118125 255.619219 \r\nL 141.058125 255.619219 \r\nL 141.058125 214.849219 \r\n\" style=\"fill:#04051a;\"/>\r\n    <path clip-path=\"url(#p7b95c6f9e9)\" d=\"M 180.118125 214.849219 \r\nL 219.178125 214.849219 \r\nL 219.178125 255.619219 \r\nL 180.118125 255.619219 \r\nL 180.118125 214.849219 \r\n\" style=\"fill:#05061b;\"/>\r\n    <path clip-path=\"url(#p7b95c6f9e9)\" d=\"M 219.178125 214.849219 \r\nL 258.238125 214.849219 \r\nL 258.238125 255.619219 \r\nL 219.178125 255.619219 \r\nL 219.178125 214.849219 \r\n\" style=\"fill:#ce1d4e;\"/>\r\n    <path clip-path=\"url(#p7b95c6f9e9)\" d=\"M 258.238125 214.849219 \r\nL 297.298125 214.849219 \r\nL 297.298125 255.619219 \r\nL 258.238125 255.619219 \r\nL 258.238125 214.849219 \r\n\" style=\"fill:#03051a;\"/>\r\n    <path clip-path=\"url(#p7b95c6f9e9)\" d=\"M 297.298125 214.849219 \r\nL 336.358125 214.849219 \r\nL 336.358125 255.619219 \r\nL 297.298125 255.619219 \r\nL 297.298125 214.849219 \r\n\" style=\"fill:#03051a;\"/>\r\n    <path clip-path=\"url(#p7b95c6f9e9)\" d=\"M 23.878125 255.619219 \r\nL 62.938125 255.619219 \r\nL 62.938125 296.389219 \r\nL 23.878125 296.389219 \r\nL 23.878125 255.619219 \r\n\" style=\"fill:#03051a;\"/>\r\n    <path clip-path=\"url(#p7b95c6f9e9)\" d=\"M 62.938125 255.619219 \r\nL 101.998125 255.619219 \r\nL 101.998125 296.389219 \r\nL 62.938125 296.389219 \r\nL 62.938125 255.619219 \r\n\" style=\"fill:#03051a;\"/>\r\n    <path clip-path=\"url(#p7b95c6f9e9)\" d=\"M 101.998125 255.619219 \r\nL 141.058125 255.619219 \r\nL 141.058125 296.389219 \r\nL 101.998125 296.389219 \r\nL 101.998125 255.619219 \r\n\" style=\"fill:#03051a;\"/>\r\n    <path clip-path=\"url(#p7b95c6f9e9)\" d=\"M 141.058125 255.619219 \r\nL 180.118125 255.619219 \r\nL 180.118125 296.389219 \r\nL 141.058125 296.389219 \r\nL 141.058125 255.619219 \r\n\" style=\"fill:#04051a;\"/>\r\n    <path clip-path=\"url(#p7b95c6f9e9)\" d=\"M 180.118125 255.619219 \r\nL 219.178125 255.619219 \r\nL 219.178125 296.389219 \r\nL 180.118125 296.389219 \r\nL 180.118125 255.619219 \r\n\" style=\"fill:#03051a;\"/>\r\n    <path clip-path=\"url(#p7b95c6f9e9)\" d=\"M 219.178125 255.619219 \r\nL 258.238125 255.619219 \r\nL 258.238125 296.389219 \r\nL 219.178125 296.389219 \r\nL 219.178125 255.619219 \r\n\" style=\"fill:#180f29;\"/>\r\n    <path clip-path=\"url(#p7b95c6f9e9)\" d=\"M 258.238125 255.619219 \r\nL 297.298125 255.619219 \r\nL 297.298125 296.389219 \r\nL 258.238125 296.389219 \r\nL 258.238125 255.619219 \r\n\" style=\"fill:#691f55;\"/>\r\n    <path clip-path=\"url(#p7b95c6f9e9)\" d=\"M 297.298125 255.619219 \r\nL 336.358125 255.619219 \r\nL 336.358125 296.389219 \r\nL 297.298125 296.389219 \r\nL 297.298125 255.619219 \r\n\" style=\"fill:#03051a;\"/>\r\n    <path clip-path=\"url(#p7b95c6f9e9)\" d=\"M 23.878125 296.389219 \r\nL 62.938125 296.389219 \r\nL 62.938125 337.159219 \r\nL 23.878125 337.159219 \r\nL 23.878125 296.389219 \r\n\" style=\"fill:#03051a;\"/>\r\n    <path clip-path=\"url(#p7b95c6f9e9)\" d=\"M 62.938125 296.389219 \r\nL 101.998125 296.389219 \r\nL 101.998125 337.159219 \r\nL 62.938125 337.159219 \r\nL 62.938125 296.389219 \r\n\" style=\"fill:#241432;\"/>\r\n    <path clip-path=\"url(#p7b95c6f9e9)\" d=\"M 101.998125 296.389219 \r\nL 141.058125 296.389219 \r\nL 141.058125 337.159219 \r\nL 101.998125 337.159219 \r\nL 101.998125 296.389219 \r\n\" style=\"fill:#271534;\"/>\r\n    <path clip-path=\"url(#p7b95c6f9e9)\" d=\"M 141.058125 296.389219 \r\nL 180.118125 296.389219 \r\nL 180.118125 337.159219 \r\nL 141.058125 337.159219 \r\nL 141.058125 296.389219 \r\n\" style=\"fill:#03051a;\"/>\r\n    <path clip-path=\"url(#p7b95c6f9e9)\" d=\"M 180.118125 296.389219 \r\nL 219.178125 296.389219 \r\nL 219.178125 337.159219 \r\nL 180.118125 337.159219 \r\nL 180.118125 296.389219 \r\n\" style=\"fill:#1a102a;\"/>\r\n    <path clip-path=\"url(#p7b95c6f9e9)\" d=\"M 219.178125 296.389219 \r\nL 258.238125 296.389219 \r\nL 258.238125 337.159219 \r\nL 219.178125 337.159219 \r\nL 219.178125 296.389219 \r\n\" style=\"fill:#04051a;\"/>\r\n    <path clip-path=\"url(#p7b95c6f9e9)\" d=\"M 258.238125 296.389219 \r\nL 297.298125 296.389219 \r\nL 297.298125 337.159219 \r\nL 258.238125 337.159219 \r\nL 258.238125 296.389219 \r\n\" style=\"fill:#03051a;\"/>\r\n    <path clip-path=\"url(#p7b95c6f9e9)\" d=\"M 297.298125 296.389219 \r\nL 336.358125 296.389219 \r\nL 336.358125 337.159219 \r\nL 297.298125 337.159219 \r\nL 297.298125 296.389219 \r\n\" style=\"fill:#ca1a50;\"/>\r\n   </g>\r\n   <g id=\"matplotlib.axis_1\">\r\n    <g id=\"xtick_1\">\r\n     <g id=\"line2d_1\">\r\n      <defs>\r\n       <path d=\"M 0 0 \r\nL 0 3.5 \r\n\" id=\"mf28e7b3b00\" style=\"stroke:#000000;stroke-width:0.8;\"/>\r\n      </defs>\r\n      <g>\r\n       <use style=\"stroke:#000000;stroke-width:0.8;\" x=\"43.408125\" xlink:href=\"#mf28e7b3b00\" y=\"337.159219\"/>\r\n      </g>\r\n     </g>\r\n     <g id=\"text_1\">\r\n      <!-- 0 -->\r\n      <g transform=\"translate(40.226875 351.757656)scale(0.1 -0.1)\">\r\n       <defs>\r\n        <path d=\"M 31.78125 66.40625 \r\nQ 24.171875 66.40625 20.328125 58.90625 \r\nQ 16.5 51.421875 16.5 36.375 \r\nQ 16.5 21.390625 20.328125 13.890625 \r\nQ 24.171875 6.390625 31.78125 6.390625 \r\nQ 39.453125 6.390625 43.28125 13.890625 \r\nQ 47.125 21.390625 47.125 36.375 \r\nQ 47.125 51.421875 43.28125 58.90625 \r\nQ 39.453125 66.40625 31.78125 66.40625 \r\nz\r\nM 31.78125 74.21875 \r\nQ 44.046875 74.21875 50.515625 64.515625 \r\nQ 56.984375 54.828125 56.984375 36.375 \r\nQ 56.984375 17.96875 50.515625 8.265625 \r\nQ 44.046875 -1.421875 31.78125 -1.421875 \r\nQ 19.53125 -1.421875 13.0625 8.265625 \r\nQ 6.59375 17.96875 6.59375 36.375 \r\nQ 6.59375 54.828125 13.0625 64.515625 \r\nQ 19.53125 74.21875 31.78125 74.21875 \r\nz\r\n\" id=\"DejaVuSans-48\"/>\r\n       </defs>\r\n       <use xlink:href=\"#DejaVuSans-48\"/>\r\n      </g>\r\n     </g>\r\n    </g>\r\n    <g id=\"xtick_2\">\r\n     <g id=\"line2d_2\">\r\n      <g>\r\n       <use style=\"stroke:#000000;stroke-width:0.8;\" x=\"82.468125\" xlink:href=\"#mf28e7b3b00\" y=\"337.159219\"/>\r\n      </g>\r\n     </g>\r\n     <g id=\"text_2\">\r\n      <!-- 1 -->\r\n      <g transform=\"translate(79.286875 351.757656)scale(0.1 -0.1)\">\r\n       <defs>\r\n        <path d=\"M 12.40625 8.296875 \r\nL 28.515625 8.296875 \r\nL 28.515625 63.921875 \r\nL 10.984375 60.40625 \r\nL 10.984375 69.390625 \r\nL 28.421875 72.90625 \r\nL 38.28125 72.90625 \r\nL 38.28125 8.296875 \r\nL 54.390625 8.296875 \r\nL 54.390625 0 \r\nL 12.40625 0 \r\nz\r\n\" id=\"DejaVuSans-49\"/>\r\n       </defs>\r\n       <use xlink:href=\"#DejaVuSans-49\"/>\r\n      </g>\r\n     </g>\r\n    </g>\r\n    <g id=\"xtick_3\">\r\n     <g id=\"line2d_3\">\r\n      <g>\r\n       <use style=\"stroke:#000000;stroke-width:0.8;\" x=\"121.528125\" xlink:href=\"#mf28e7b3b00\" y=\"337.159219\"/>\r\n      </g>\r\n     </g>\r\n     <g id=\"text_3\">\r\n      <!-- 2 -->\r\n      <g transform=\"translate(118.346875 351.757656)scale(0.1 -0.1)\">\r\n       <defs>\r\n        <path d=\"M 19.1875 8.296875 \r\nL 53.609375 8.296875 \r\nL 53.609375 0 \r\nL 7.328125 0 \r\nL 7.328125 8.296875 \r\nQ 12.9375 14.109375 22.625 23.890625 \r\nQ 32.328125 33.6875 34.8125 36.53125 \r\nQ 39.546875 41.84375 41.421875 45.53125 \r\nQ 43.3125 49.21875 43.3125 52.78125 \r\nQ 43.3125 58.59375 39.234375 62.25 \r\nQ 35.15625 65.921875 28.609375 65.921875 \r\nQ 23.96875 65.921875 18.8125 64.3125 \r\nQ 13.671875 62.703125 7.8125 59.421875 \r\nL 7.8125 69.390625 \r\nQ 13.765625 71.78125 18.9375 73 \r\nQ 24.125 74.21875 28.421875 74.21875 \r\nQ 39.75 74.21875 46.484375 68.546875 \r\nQ 53.21875 62.890625 53.21875 53.421875 \r\nQ 53.21875 48.921875 51.53125 44.890625 \r\nQ 49.859375 40.875 45.40625 35.40625 \r\nQ 44.1875 33.984375 37.640625 27.21875 \r\nQ 31.109375 20.453125 19.1875 8.296875 \r\nz\r\n\" id=\"DejaVuSans-50\"/>\r\n       </defs>\r\n       <use xlink:href=\"#DejaVuSans-50\"/>\r\n      </g>\r\n     </g>\r\n    </g>\r\n    <g id=\"xtick_4\">\r\n     <g id=\"line2d_4\">\r\n      <g>\r\n       <use style=\"stroke:#000000;stroke-width:0.8;\" x=\"160.588125\" xlink:href=\"#mf28e7b3b00\" y=\"337.159219\"/>\r\n      </g>\r\n     </g>\r\n     <g id=\"text_4\">\r\n      <!-- 3 -->\r\n      <g transform=\"translate(157.406875 351.757656)scale(0.1 -0.1)\">\r\n       <defs>\r\n        <path d=\"M 40.578125 39.3125 \r\nQ 47.65625 37.796875 51.625 33 \r\nQ 55.609375 28.21875 55.609375 21.1875 \r\nQ 55.609375 10.40625 48.1875 4.484375 \r\nQ 40.765625 -1.421875 27.09375 -1.421875 \r\nQ 22.515625 -1.421875 17.65625 -0.515625 \r\nQ 12.796875 0.390625 7.625 2.203125 \r\nL 7.625 11.71875 \r\nQ 11.71875 9.328125 16.59375 8.109375 \r\nQ 21.484375 6.890625 26.8125 6.890625 \r\nQ 36.078125 6.890625 40.9375 10.546875 \r\nQ 45.796875 14.203125 45.796875 21.1875 \r\nQ 45.796875 27.640625 41.28125 31.265625 \r\nQ 36.765625 34.90625 28.71875 34.90625 \r\nL 20.21875 34.90625 \r\nL 20.21875 43.015625 \r\nL 29.109375 43.015625 \r\nQ 36.375 43.015625 40.234375 45.921875 \r\nQ 44.09375 48.828125 44.09375 54.296875 \r\nQ 44.09375 59.90625 40.109375 62.90625 \r\nQ 36.140625 65.921875 28.71875 65.921875 \r\nQ 24.65625 65.921875 20.015625 65.03125 \r\nQ 15.375 64.15625 9.8125 62.3125 \r\nL 9.8125 71.09375 \r\nQ 15.4375 72.65625 20.34375 73.4375 \r\nQ 25.25 74.21875 29.59375 74.21875 \r\nQ 40.828125 74.21875 47.359375 69.109375 \r\nQ 53.90625 64.015625 53.90625 55.328125 \r\nQ 53.90625 49.265625 50.4375 45.09375 \r\nQ 46.96875 40.921875 40.578125 39.3125 \r\nz\r\n\" id=\"DejaVuSans-51\"/>\r\n       </defs>\r\n       <use xlink:href=\"#DejaVuSans-51\"/>\r\n      </g>\r\n     </g>\r\n    </g>\r\n    <g id=\"xtick_5\">\r\n     <g id=\"line2d_5\">\r\n      <g>\r\n       <use style=\"stroke:#000000;stroke-width:0.8;\" x=\"199.648125\" xlink:href=\"#mf28e7b3b00\" y=\"337.159219\"/>\r\n      </g>\r\n     </g>\r\n     <g id=\"text_5\">\r\n      <!-- 4 -->\r\n      <g transform=\"translate(196.466875 351.757656)scale(0.1 -0.1)\">\r\n       <defs>\r\n        <path d=\"M 37.796875 64.3125 \r\nL 12.890625 25.390625 \r\nL 37.796875 25.390625 \r\nz\r\nM 35.203125 72.90625 \r\nL 47.609375 72.90625 \r\nL 47.609375 25.390625 \r\nL 58.015625 25.390625 \r\nL 58.015625 17.1875 \r\nL 47.609375 17.1875 \r\nL 47.609375 0 \r\nL 37.796875 0 \r\nL 37.796875 17.1875 \r\nL 4.890625 17.1875 \r\nL 4.890625 26.703125 \r\nz\r\n\" id=\"DejaVuSans-52\"/>\r\n       </defs>\r\n       <use xlink:href=\"#DejaVuSans-52\"/>\r\n      </g>\r\n     </g>\r\n    </g>\r\n    <g id=\"xtick_6\">\r\n     <g id=\"line2d_6\">\r\n      <g>\r\n       <use style=\"stroke:#000000;stroke-width:0.8;\" x=\"238.708125\" xlink:href=\"#mf28e7b3b00\" y=\"337.159219\"/>\r\n      </g>\r\n     </g>\r\n     <g id=\"text_6\">\r\n      <!-- 5 -->\r\n      <g transform=\"translate(235.526875 351.757656)scale(0.1 -0.1)\">\r\n       <defs>\r\n        <path d=\"M 10.796875 72.90625 \r\nL 49.515625 72.90625 \r\nL 49.515625 64.59375 \r\nL 19.828125 64.59375 \r\nL 19.828125 46.734375 \r\nQ 21.96875 47.46875 24.109375 47.828125 \r\nQ 26.265625 48.1875 28.421875 48.1875 \r\nQ 40.625 48.1875 47.75 41.5 \r\nQ 54.890625 34.8125 54.890625 23.390625 \r\nQ 54.890625 11.625 47.5625 5.09375 \r\nQ 40.234375 -1.421875 26.90625 -1.421875 \r\nQ 22.3125 -1.421875 17.546875 -0.640625 \r\nQ 12.796875 0.140625 7.71875 1.703125 \r\nL 7.71875 11.625 \r\nQ 12.109375 9.234375 16.796875 8.0625 \r\nQ 21.484375 6.890625 26.703125 6.890625 \r\nQ 35.15625 6.890625 40.078125 11.328125 \r\nQ 45.015625 15.765625 45.015625 23.390625 \r\nQ 45.015625 31 40.078125 35.4375 \r\nQ 35.15625 39.890625 26.703125 39.890625 \r\nQ 22.75 39.890625 18.8125 39.015625 \r\nQ 14.890625 38.140625 10.796875 36.28125 \r\nz\r\n\" id=\"DejaVuSans-53\"/>\r\n       </defs>\r\n       <use xlink:href=\"#DejaVuSans-53\"/>\r\n      </g>\r\n     </g>\r\n    </g>\r\n    <g id=\"xtick_7\">\r\n     <g id=\"line2d_7\">\r\n      <g>\r\n       <use style=\"stroke:#000000;stroke-width:0.8;\" x=\"277.768125\" xlink:href=\"#mf28e7b3b00\" y=\"337.159219\"/>\r\n      </g>\r\n     </g>\r\n     <g id=\"text_7\">\r\n      <!-- 6 -->\r\n      <g transform=\"translate(274.586875 351.757656)scale(0.1 -0.1)\">\r\n       <defs>\r\n        <path d=\"M 33.015625 40.375 \r\nQ 26.375 40.375 22.484375 35.828125 \r\nQ 18.609375 31.296875 18.609375 23.390625 \r\nQ 18.609375 15.53125 22.484375 10.953125 \r\nQ 26.375 6.390625 33.015625 6.390625 \r\nQ 39.65625 6.390625 43.53125 10.953125 \r\nQ 47.40625 15.53125 47.40625 23.390625 \r\nQ 47.40625 31.296875 43.53125 35.828125 \r\nQ 39.65625 40.375 33.015625 40.375 \r\nz\r\nM 52.59375 71.296875 \r\nL 52.59375 62.3125 \r\nQ 48.875 64.0625 45.09375 64.984375 \r\nQ 41.3125 65.921875 37.59375 65.921875 \r\nQ 27.828125 65.921875 22.671875 59.328125 \r\nQ 17.53125 52.734375 16.796875 39.40625 \r\nQ 19.671875 43.65625 24.015625 45.921875 \r\nQ 28.375 48.1875 33.59375 48.1875 \r\nQ 44.578125 48.1875 50.953125 41.515625 \r\nQ 57.328125 34.859375 57.328125 23.390625 \r\nQ 57.328125 12.15625 50.6875 5.359375 \r\nQ 44.046875 -1.421875 33.015625 -1.421875 \r\nQ 20.359375 -1.421875 13.671875 8.265625 \r\nQ 6.984375 17.96875 6.984375 36.375 \r\nQ 6.984375 53.65625 15.1875 63.9375 \r\nQ 23.390625 74.21875 37.203125 74.21875 \r\nQ 40.921875 74.21875 44.703125 73.484375 \r\nQ 48.484375 72.75 52.59375 71.296875 \r\nz\r\n\" id=\"DejaVuSans-54\"/>\r\n       </defs>\r\n       <use xlink:href=\"#DejaVuSans-54\"/>\r\n      </g>\r\n     </g>\r\n    </g>\r\n    <g id=\"xtick_8\">\r\n     <g id=\"line2d_8\">\r\n      <g>\r\n       <use style=\"stroke:#000000;stroke-width:0.8;\" x=\"316.828125\" xlink:href=\"#mf28e7b3b00\" y=\"337.159219\"/>\r\n      </g>\r\n     </g>\r\n     <g id=\"text_8\">\r\n      <!-- 7 -->\r\n      <g transform=\"translate(313.646875 351.757656)scale(0.1 -0.1)\">\r\n       <defs>\r\n        <path d=\"M 8.203125 72.90625 \r\nL 55.078125 72.90625 \r\nL 55.078125 68.703125 \r\nL 28.609375 0 \r\nL 18.3125 0 \r\nL 43.21875 64.59375 \r\nL 8.203125 64.59375 \r\nz\r\n\" id=\"DejaVuSans-55\"/>\r\n       </defs>\r\n       <use xlink:href=\"#DejaVuSans-55\"/>\r\n      </g>\r\n     </g>\r\n    </g>\r\n   </g>\r\n   <g id=\"matplotlib.axis_2\">\r\n    <g id=\"ytick_1\">\r\n     <g id=\"line2d_9\">\r\n      <defs>\r\n       <path d=\"M 0 0 \r\nL -3.5 0 \r\n\" id=\"me15bb27b4d\" style=\"stroke:#000000;stroke-width:0.8;\"/>\r\n      </defs>\r\n      <g>\r\n       <use style=\"stroke:#000000;stroke-width:0.8;\" x=\"23.878125\" xlink:href=\"#me15bb27b4d\" y=\"31.384219\"/>\r\n      </g>\r\n     </g>\r\n     <g id=\"text_9\">\r\n      <!-- 0 -->\r\n      <g transform=\"translate(14.798438 33.9475)rotate(-90)scale(0.1 -0.1)\">\r\n       <use xlink:href=\"#DejaVuSans-48\"/>\r\n      </g>\r\n     </g>\r\n    </g>\r\n    <g id=\"ytick_2\">\r\n     <g id=\"line2d_10\">\r\n      <g>\r\n       <use style=\"stroke:#000000;stroke-width:0.8;\" x=\"23.878125\" xlink:href=\"#me15bb27b4d\" y=\"72.154219\"/>\r\n      </g>\r\n     </g>\r\n     <g id=\"text_10\">\r\n      <!-- 1 -->\r\n      <g transform=\"translate(14.798438 74.7175)rotate(-90)scale(0.1 -0.1)\">\r\n       <use xlink:href=\"#DejaVuSans-49\"/>\r\n      </g>\r\n     </g>\r\n    </g>\r\n    <g id=\"ytick_3\">\r\n     <g id=\"line2d_11\">\r\n      <g>\r\n       <use style=\"stroke:#000000;stroke-width:0.8;\" x=\"23.878125\" xlink:href=\"#me15bb27b4d\" y=\"112.924219\"/>\r\n      </g>\r\n     </g>\r\n     <g id=\"text_11\">\r\n      <!-- 2 -->\r\n      <g transform=\"translate(14.798438 115.4875)rotate(-90)scale(0.1 -0.1)\">\r\n       <use xlink:href=\"#DejaVuSans-50\"/>\r\n      </g>\r\n     </g>\r\n    </g>\r\n    <g id=\"ytick_4\">\r\n     <g id=\"line2d_12\">\r\n      <g>\r\n       <use style=\"stroke:#000000;stroke-width:0.8;\" x=\"23.878125\" xlink:href=\"#me15bb27b4d\" y=\"153.694219\"/>\r\n      </g>\r\n     </g>\r\n     <g id=\"text_12\">\r\n      <!-- 3 -->\r\n      <g transform=\"translate(14.798438 156.2575)rotate(-90)scale(0.1 -0.1)\">\r\n       <use xlink:href=\"#DejaVuSans-51\"/>\r\n      </g>\r\n     </g>\r\n    </g>\r\n    <g id=\"ytick_5\">\r\n     <g id=\"line2d_13\">\r\n      <g>\r\n       <use style=\"stroke:#000000;stroke-width:0.8;\" x=\"23.878125\" xlink:href=\"#me15bb27b4d\" y=\"194.464219\"/>\r\n      </g>\r\n     </g>\r\n     <g id=\"text_13\">\r\n      <!-- 4 -->\r\n      <g transform=\"translate(14.798438 197.0275)rotate(-90)scale(0.1 -0.1)\">\r\n       <use xlink:href=\"#DejaVuSans-52\"/>\r\n      </g>\r\n     </g>\r\n    </g>\r\n    <g id=\"ytick_6\">\r\n     <g id=\"line2d_14\">\r\n      <g>\r\n       <use style=\"stroke:#000000;stroke-width:0.8;\" x=\"23.878125\" xlink:href=\"#me15bb27b4d\" y=\"235.234219\"/>\r\n      </g>\r\n     </g>\r\n     <g id=\"text_14\">\r\n      <!-- 5 -->\r\n      <g transform=\"translate(14.798438 237.7975)rotate(-90)scale(0.1 -0.1)\">\r\n       <use xlink:href=\"#DejaVuSans-53\"/>\r\n      </g>\r\n     </g>\r\n    </g>\r\n    <g id=\"ytick_7\">\r\n     <g id=\"line2d_15\">\r\n      <g>\r\n       <use style=\"stroke:#000000;stroke-width:0.8;\" x=\"23.878125\" xlink:href=\"#me15bb27b4d\" y=\"276.004219\"/>\r\n      </g>\r\n     </g>\r\n     <g id=\"text_15\">\r\n      <!-- 6 -->\r\n      <g transform=\"translate(14.798438 278.5675)rotate(-90)scale(0.1 -0.1)\">\r\n       <use xlink:href=\"#DejaVuSans-54\"/>\r\n      </g>\r\n     </g>\r\n    </g>\r\n    <g id=\"ytick_8\">\r\n     <g id=\"line2d_16\">\r\n      <g>\r\n       <use style=\"stroke:#000000;stroke-width:0.8;\" x=\"23.878125\" xlink:href=\"#me15bb27b4d\" y=\"316.774219\"/>\r\n      </g>\r\n     </g>\r\n     <g id=\"text_16\">\r\n      <!-- 7 -->\r\n      <g transform=\"translate(14.798438 319.3375)rotate(-90)scale(0.1 -0.1)\">\r\n       <use xlink:href=\"#DejaVuSans-55\"/>\r\n      </g>\r\n     </g>\r\n    </g>\r\n   </g>\r\n   <g id=\"text_17\">\r\n    <!-- 201 -->\r\n    <g style=\"fill:#ffffff;\" transform=\"translate(33.864375 34.143594)scale(0.1 -0.1)\">\r\n     <use xlink:href=\"#DejaVuSans-50\"/>\r\n     <use x=\"63.623047\" xlink:href=\"#DejaVuSans-48\"/>\r\n     <use x=\"127.246094\" xlink:href=\"#DejaVuSans-49\"/>\r\n    </g>\r\n   </g>\r\n   <g id=\"text_18\">\r\n    <!-- 0 -->\r\n    <g style=\"fill:#ffffff;\" transform=\"translate(79.286875 34.143594)scale(0.1 -0.1)\">\r\n     <use xlink:href=\"#DejaVuSans-48\"/>\r\n    </g>\r\n   </g>\r\n   <g id=\"text_19\">\r\n    <!-- 32 -->\r\n    <g style=\"fill:#ffffff;\" transform=\"translate(115.165625 34.143594)scale(0.1 -0.1)\">\r\n     <use xlink:href=\"#DejaVuSans-51\"/>\r\n     <use x=\"63.623047\" xlink:href=\"#DejaVuSans-50\"/>\r\n    </g>\r\n   </g>\r\n   <g id=\"text_20\">\r\n    <!-- 74 -->\r\n    <g style=\"fill:#ffffff;\" transform=\"translate(154.225625 34.143594)scale(0.1 -0.1)\">\r\n     <use xlink:href=\"#DejaVuSans-55\"/>\r\n     <use x=\"63.623047\" xlink:href=\"#DejaVuSans-52\"/>\r\n    </g>\r\n   </g>\r\n   <g id=\"text_21\">\r\n    <!-- 0 -->\r\n    <g style=\"fill:#ffffff;\" transform=\"translate(196.466875 34.143594)scale(0.1 -0.1)\">\r\n     <use xlink:href=\"#DejaVuSans-48\"/>\r\n    </g>\r\n   </g>\r\n   <g id=\"text_22\">\r\n    <!-- 3 -->\r\n    <g style=\"fill:#ffffff;\" transform=\"translate(235.526875 34.143594)scale(0.1 -0.1)\">\r\n     <use xlink:href=\"#DejaVuSans-51\"/>\r\n    </g>\r\n   </g>\r\n   <g id=\"text_23\">\r\n    <!-- 0 -->\r\n    <g style=\"fill:#ffffff;\" transform=\"translate(274.586875 34.143594)scale(0.1 -0.1)\">\r\n     <use xlink:href=\"#DejaVuSans-48\"/>\r\n    </g>\r\n   </g>\r\n   <g id=\"text_24\">\r\n    <!-- 0 -->\r\n    <g style=\"fill:#ffffff;\" transform=\"translate(313.646875 34.143594)scale(0.1 -0.1)\">\r\n     <use xlink:href=\"#DejaVuSans-48\"/>\r\n    </g>\r\n   </g>\r\n   <g id=\"text_25\">\r\n    <!-- 0 -->\r\n    <g style=\"fill:#ffffff;\" transform=\"translate(40.226875 74.913594)scale(0.1 -0.1)\">\r\n     <use xlink:href=\"#DejaVuSans-48\"/>\r\n    </g>\r\n   </g>\r\n   <g id=\"text_26\">\r\n    <!-- 184 -->\r\n    <g style=\"fill:#ffffff;\" transform=\"translate(72.924375 74.913594)scale(0.1 -0.1)\">\r\n     <defs>\r\n      <path d=\"M 31.78125 34.625 \r\nQ 24.75 34.625 20.71875 30.859375 \r\nQ 16.703125 27.09375 16.703125 20.515625 \r\nQ 16.703125 13.921875 20.71875 10.15625 \r\nQ 24.75 6.390625 31.78125 6.390625 \r\nQ 38.8125 6.390625 42.859375 10.171875 \r\nQ 46.921875 13.96875 46.921875 20.515625 \r\nQ 46.921875 27.09375 42.890625 30.859375 \r\nQ 38.875 34.625 31.78125 34.625 \r\nz\r\nM 21.921875 38.8125 \r\nQ 15.578125 40.375 12.03125 44.71875 \r\nQ 8.5 49.078125 8.5 55.328125 \r\nQ 8.5 64.0625 14.71875 69.140625 \r\nQ 20.953125 74.21875 31.78125 74.21875 \r\nQ 42.671875 74.21875 48.875 69.140625 \r\nQ 55.078125 64.0625 55.078125 55.328125 \r\nQ 55.078125 49.078125 51.53125 44.71875 \r\nQ 48 40.375 41.703125 38.8125 \r\nQ 48.828125 37.15625 52.796875 32.3125 \r\nQ 56.78125 27.484375 56.78125 20.515625 \r\nQ 56.78125 9.90625 50.3125 4.234375 \r\nQ 43.84375 -1.421875 31.78125 -1.421875 \r\nQ 19.734375 -1.421875 13.25 4.234375 \r\nQ 6.78125 9.90625 6.78125 20.515625 \r\nQ 6.78125 27.484375 10.78125 32.3125 \r\nQ 14.796875 37.15625 21.921875 38.8125 \r\nz\r\nM 18.3125 54.390625 \r\nQ 18.3125 48.734375 21.84375 45.5625 \r\nQ 25.390625 42.390625 31.78125 42.390625 \r\nQ 38.140625 42.390625 41.71875 45.5625 \r\nQ 45.3125 48.734375 45.3125 54.390625 \r\nQ 45.3125 60.0625 41.71875 63.234375 \r\nQ 38.140625 66.40625 31.78125 66.40625 \r\nQ 25.390625 66.40625 21.84375 63.234375 \r\nQ 18.3125 60.0625 18.3125 54.390625 \r\nz\r\n\" id=\"DejaVuSans-56\"/>\r\n     </defs>\r\n     <use xlink:href=\"#DejaVuSans-49\"/>\r\n     <use x=\"63.623047\" xlink:href=\"#DejaVuSans-56\"/>\r\n     <use x=\"127.246094\" xlink:href=\"#DejaVuSans-52\"/>\r\n    </g>\r\n   </g>\r\n   <g id=\"text_27\">\r\n    <!-- 1 -->\r\n    <g style=\"fill:#ffffff;\" transform=\"translate(118.346875 74.913594)scale(0.1 -0.1)\">\r\n     <use xlink:href=\"#DejaVuSans-49\"/>\r\n    </g>\r\n   </g>\r\n   <g id=\"text_28\">\r\n    <!-- 0 -->\r\n    <g style=\"fill:#ffffff;\" transform=\"translate(157.406875 74.913594)scale(0.1 -0.1)\">\r\n     <use xlink:href=\"#DejaVuSans-48\"/>\r\n    </g>\r\n   </g>\r\n   <g id=\"text_29\">\r\n    <!-- 36 -->\r\n    <g style=\"fill:#ffffff;\" transform=\"translate(193.285625 74.913594)scale(0.1 -0.1)\">\r\n     <use xlink:href=\"#DejaVuSans-51\"/>\r\n     <use x=\"63.623047\" xlink:href=\"#DejaVuSans-54\"/>\r\n    </g>\r\n   </g>\r\n   <g id=\"text_30\">\r\n    <!-- 0 -->\r\n    <g style=\"fill:#ffffff;\" transform=\"translate(235.526875 74.913594)scale(0.1 -0.1)\">\r\n     <use xlink:href=\"#DejaVuSans-48\"/>\r\n    </g>\r\n   </g>\r\n   <g id=\"text_31\">\r\n    <!-- 0 -->\r\n    <g style=\"fill:#ffffff;\" transform=\"translate(274.586875 74.913594)scale(0.1 -0.1)\">\r\n     <use xlink:href=\"#DejaVuSans-48\"/>\r\n    </g>\r\n   </g>\r\n   <g id=\"text_32\">\r\n    <!-- 17 -->\r\n    <g style=\"fill:#ffffff;\" transform=\"translate(310.465625 74.913594)scale(0.1 -0.1)\">\r\n     <use xlink:href=\"#DejaVuSans-49\"/>\r\n     <use x=\"63.623047\" xlink:href=\"#DejaVuSans-55\"/>\r\n    </g>\r\n   </g>\r\n   <g id=\"text_33\">\r\n    <!-- 3 -->\r\n    <g style=\"fill:#ffffff;\" transform=\"translate(40.226875 115.683594)scale(0.1 -0.1)\">\r\n     <use xlink:href=\"#DejaVuSans-51\"/>\r\n    </g>\r\n   </g>\r\n   <g id=\"text_34\">\r\n    <!-- 1 -->\r\n    <g style=\"fill:#ffffff;\" transform=\"translate(79.286875 115.683594)scale(0.1 -0.1)\">\r\n     <use xlink:href=\"#DejaVuSans-49\"/>\r\n    </g>\r\n   </g>\r\n   <g id=\"text_35\">\r\n    <!-- 243 -->\r\n    <g style=\"fill:#ffffff;\" transform=\"translate(111.984375 115.683594)scale(0.1 -0.1)\">\r\n     <use xlink:href=\"#DejaVuSans-50\"/>\r\n     <use x=\"63.623047\" xlink:href=\"#DejaVuSans-52\"/>\r\n     <use x=\"127.246094\" xlink:href=\"#DejaVuSans-51\"/>\r\n    </g>\r\n   </g>\r\n   <g id=\"text_36\">\r\n    <!-- 2 -->\r\n    <g style=\"fill:#ffffff;\" transform=\"translate(157.406875 115.683594)scale(0.1 -0.1)\">\r\n     <use xlink:href=\"#DejaVuSans-50\"/>\r\n    </g>\r\n   </g>\r\n   <g id=\"text_37\">\r\n    <!-- 1 -->\r\n    <g style=\"fill:#ffffff;\" transform=\"translate(196.466875 115.683594)scale(0.1 -0.1)\">\r\n     <use xlink:href=\"#DejaVuSans-49\"/>\r\n    </g>\r\n   </g>\r\n   <g id=\"text_38\">\r\n    <!-- 0 -->\r\n    <g style=\"fill:#ffffff;\" transform=\"translate(235.526875 115.683594)scale(0.1 -0.1)\">\r\n     <use xlink:href=\"#DejaVuSans-48\"/>\r\n    </g>\r\n   </g>\r\n   <g id=\"text_39\">\r\n    <!-- 0 -->\r\n    <g style=\"fill:#ffffff;\" transform=\"translate(274.586875 115.683594)scale(0.1 -0.1)\">\r\n     <use xlink:href=\"#DejaVuSans-48\"/>\r\n    </g>\r\n   </g>\r\n   <g id=\"text_40\">\r\n    <!-- 18 -->\r\n    <g style=\"fill:#ffffff;\" transform=\"translate(310.465625 115.683594)scale(0.1 -0.1)\">\r\n     <use xlink:href=\"#DejaVuSans-49\"/>\r\n     <use x=\"63.623047\" xlink:href=\"#DejaVuSans-56\"/>\r\n    </g>\r\n   </g>\r\n   <g id=\"text_41\">\r\n    <!-- 18 -->\r\n    <g style=\"fill:#ffffff;\" transform=\"translate(37.045625 156.453594)scale(0.1 -0.1)\">\r\n     <use xlink:href=\"#DejaVuSans-49\"/>\r\n     <use x=\"63.623047\" xlink:href=\"#DejaVuSans-56\"/>\r\n    </g>\r\n   </g>\r\n   <g id=\"text_42\">\r\n    <!-- 0 -->\r\n    <g style=\"fill:#ffffff;\" transform=\"translate(79.286875 156.453594)scale(0.1 -0.1)\">\r\n     <use xlink:href=\"#DejaVuSans-48\"/>\r\n    </g>\r\n   </g>\r\n   <g id=\"text_43\">\r\n    <!-- 10 -->\r\n    <g style=\"fill:#ffffff;\" transform=\"translate(115.165625 156.453594)scale(0.1 -0.1)\">\r\n     <use xlink:href=\"#DejaVuSans-49\"/>\r\n     <use x=\"63.623047\" xlink:href=\"#DejaVuSans-48\"/>\r\n    </g>\r\n   </g>\r\n   <g id=\"text_44\">\r\n    <!-- 267 -->\r\n    <g style=\"fill:#ffffff;\" transform=\"translate(151.044375 156.453594)scale(0.1 -0.1)\">\r\n     <use xlink:href=\"#DejaVuSans-50\"/>\r\n     <use x=\"63.623047\" xlink:href=\"#DejaVuSans-54\"/>\r\n     <use x=\"127.246094\" xlink:href=\"#DejaVuSans-55\"/>\r\n    </g>\r\n   </g>\r\n   <g id=\"text_45\">\r\n    <!-- 0 -->\r\n    <g style=\"fill:#ffffff;\" transform=\"translate(196.466875 156.453594)scale(0.1 -0.1)\">\r\n     <use xlink:href=\"#DejaVuSans-48\"/>\r\n    </g>\r\n   </g>\r\n   <g id=\"text_46\">\r\n    <!-- 0 -->\r\n    <g style=\"fill:#ffffff;\" transform=\"translate(235.526875 156.453594)scale(0.1 -0.1)\">\r\n     <use xlink:href=\"#DejaVuSans-48\"/>\r\n    </g>\r\n   </g>\r\n   <g id=\"text_47\">\r\n    <!-- 0 -->\r\n    <g style=\"fill:#ffffff;\" transform=\"translate(274.586875 156.453594)scale(0.1 -0.1)\">\r\n     <use xlink:href=\"#DejaVuSans-48\"/>\r\n    </g>\r\n   </g>\r\n   <g id=\"text_48\">\r\n    <!-- 0 -->\r\n    <g style=\"fill:#ffffff;\" transform=\"translate(313.646875 156.453594)scale(0.1 -0.1)\">\r\n     <use xlink:href=\"#DejaVuSans-48\"/>\r\n    </g>\r\n   </g>\r\n   <g id=\"text_49\">\r\n    <!-- 0 -->\r\n    <g style=\"fill:#ffffff;\" transform=\"translate(40.226875 197.223594)scale(0.1 -0.1)\">\r\n     <use xlink:href=\"#DejaVuSans-48\"/>\r\n    </g>\r\n   </g>\r\n   <g id=\"text_50\">\r\n    <!-- 1 -->\r\n    <g style=\"fill:#ffffff;\" transform=\"translate(79.286875 197.223594)scale(0.1 -0.1)\">\r\n     <use xlink:href=\"#DejaVuSans-49\"/>\r\n    </g>\r\n   </g>\r\n   <g id=\"text_51\">\r\n    <!-- 0 -->\r\n    <g style=\"fill:#ffffff;\" transform=\"translate(118.346875 197.223594)scale(0.1 -0.1)\">\r\n     <use xlink:href=\"#DejaVuSans-48\"/>\r\n    </g>\r\n   </g>\r\n   <g id=\"text_52\">\r\n    <!-- 1 -->\r\n    <g style=\"fill:#ffffff;\" transform=\"translate(157.406875 197.223594)scale(0.1 -0.1)\">\r\n     <use xlink:href=\"#DejaVuSans-49\"/>\r\n    </g>\r\n   </g>\r\n   <g id=\"text_53\">\r\n    <!-- 400 -->\r\n    <g style=\"fill:#262626;\" transform=\"translate(190.104375 197.223594)scale(0.1 -0.1)\">\r\n     <use xlink:href=\"#DejaVuSans-52\"/>\r\n     <use x=\"63.623047\" xlink:href=\"#DejaVuSans-48\"/>\r\n     <use x=\"127.246094\" xlink:href=\"#DejaVuSans-48\"/>\r\n    </g>\r\n   </g>\r\n   <g id=\"text_54\">\r\n    <!-- 2 -->\r\n    <g style=\"fill:#ffffff;\" transform=\"translate(235.526875 197.223594)scale(0.1 -0.1)\">\r\n     <use xlink:href=\"#DejaVuSans-50\"/>\r\n    </g>\r\n   </g>\r\n   <g id=\"text_55\">\r\n    <!-- 1 -->\r\n    <g style=\"fill:#ffffff;\" transform=\"translate(274.586875 197.223594)scale(0.1 -0.1)\">\r\n     <use xlink:href=\"#DejaVuSans-49\"/>\r\n    </g>\r\n   </g>\r\n   <g id=\"text_56\">\r\n    <!-- 6 -->\r\n    <g style=\"fill:#ffffff;\" transform=\"translate(313.646875 197.223594)scale(0.1 -0.1)\">\r\n     <use xlink:href=\"#DejaVuSans-54\"/>\r\n    </g>\r\n   </g>\r\n   <g id=\"text_57\">\r\n    <!-- 0 -->\r\n    <g style=\"fill:#ffffff;\" transform=\"translate(40.226875 237.993594)scale(0.1 -0.1)\">\r\n     <use xlink:href=\"#DejaVuSans-48\"/>\r\n    </g>\r\n   </g>\r\n   <g id=\"text_58\">\r\n    <!-- 0 -->\r\n    <g style=\"fill:#ffffff;\" transform=\"translate(79.286875 237.993594)scale(0.1 -0.1)\">\r\n     <use xlink:href=\"#DejaVuSans-48\"/>\r\n    </g>\r\n   </g>\r\n   <g id=\"text_59\">\r\n    <!-- 0 -->\r\n    <g style=\"fill:#ffffff;\" transform=\"translate(118.346875 237.993594)scale(0.1 -0.1)\">\r\n     <use xlink:href=\"#DejaVuSans-48\"/>\r\n    </g>\r\n   </g>\r\n   <g id=\"text_60\">\r\n    <!-- 2 -->\r\n    <g style=\"fill:#ffffff;\" transform=\"translate(157.406875 237.993594)scale(0.1 -0.1)\">\r\n     <use xlink:href=\"#DejaVuSans-50\"/>\r\n    </g>\r\n   </g>\r\n   <g id=\"text_61\">\r\n    <!-- 4 -->\r\n    <g style=\"fill:#ffffff;\" transform=\"translate(196.466875 237.993594)scale(0.1 -0.1)\">\r\n     <use xlink:href=\"#DejaVuSans-52\"/>\r\n    </g>\r\n   </g>\r\n   <g id=\"text_62\">\r\n    <!-- 204 -->\r\n    <g style=\"fill:#ffffff;\" transform=\"translate(229.164375 237.993594)scale(0.1 -0.1)\">\r\n     <use xlink:href=\"#DejaVuSans-50\"/>\r\n     <use x=\"63.623047\" xlink:href=\"#DejaVuSans-48\"/>\r\n     <use x=\"127.246094\" xlink:href=\"#DejaVuSans-52\"/>\r\n    </g>\r\n   </g>\r\n   <g id=\"text_63\">\r\n    <!-- 0 -->\r\n    <g style=\"fill:#ffffff;\" transform=\"translate(274.586875 237.993594)scale(0.1 -0.1)\">\r\n     <use xlink:href=\"#DejaVuSans-48\"/>\r\n    </g>\r\n   </g>\r\n   <g id=\"text_64\">\r\n    <!-- 0 -->\r\n    <g style=\"fill:#ffffff;\" transform=\"translate(313.646875 237.993594)scale(0.1 -0.1)\">\r\n     <use xlink:href=\"#DejaVuSans-48\"/>\r\n    </g>\r\n   </g>\r\n   <g id=\"text_65\">\r\n    <!-- 1 -->\r\n    <g style=\"fill:#ffffff;\" transform=\"translate(40.226875 278.763594)scale(0.1 -0.1)\">\r\n     <use xlink:href=\"#DejaVuSans-49\"/>\r\n    </g>\r\n   </g>\r\n   <g id=\"text_66\">\r\n    <!-- 0 -->\r\n    <g style=\"fill:#ffffff;\" transform=\"translate(79.286875 278.763594)scale(0.1 -0.1)\">\r\n     <use xlink:href=\"#DejaVuSans-48\"/>\r\n    </g>\r\n   </g>\r\n   <g id=\"text_67\">\r\n    <!-- 0 -->\r\n    <g style=\"fill:#ffffff;\" transform=\"translate(118.346875 278.763594)scale(0.1 -0.1)\">\r\n     <use xlink:href=\"#DejaVuSans-48\"/>\r\n    </g>\r\n   </g>\r\n   <g id=\"text_68\">\r\n    <!-- 2 -->\r\n    <g style=\"fill:#ffffff;\" transform=\"translate(157.406875 278.763594)scale(0.1 -0.1)\">\r\n     <use xlink:href=\"#DejaVuSans-50\"/>\r\n    </g>\r\n   </g>\r\n   <g id=\"text_69\">\r\n    <!-- 0 -->\r\n    <g style=\"fill:#ffffff;\" transform=\"translate(196.466875 278.763594)scale(0.1 -0.1)\">\r\n     <use xlink:href=\"#DejaVuSans-48\"/>\r\n    </g>\r\n   </g>\r\n   <g id=\"text_70\">\r\n    <!-- 25 -->\r\n    <g style=\"fill:#ffffff;\" transform=\"translate(232.345625 278.763594)scale(0.1 -0.1)\">\r\n     <use xlink:href=\"#DejaVuSans-50\"/>\r\n     <use x=\"63.623047\" xlink:href=\"#DejaVuSans-53\"/>\r\n    </g>\r\n   </g>\r\n   <g id=\"text_71\">\r\n    <!-- 108 -->\r\n    <g style=\"fill:#ffffff;\" transform=\"translate(268.224375 278.763594)scale(0.1 -0.1)\">\r\n     <use xlink:href=\"#DejaVuSans-49\"/>\r\n     <use x=\"63.623047\" xlink:href=\"#DejaVuSans-48\"/>\r\n     <use x=\"127.246094\" xlink:href=\"#DejaVuSans-56\"/>\r\n    </g>\r\n   </g>\r\n   <g id=\"text_72\">\r\n    <!-- 0 -->\r\n    <g style=\"fill:#ffffff;\" transform=\"translate(313.646875 278.763594)scale(0.1 -0.1)\">\r\n     <use xlink:href=\"#DejaVuSans-48\"/>\r\n    </g>\r\n   </g>\r\n   <g id=\"text_73\">\r\n    <!-- 0 -->\r\n    <g style=\"fill:#ffffff;\" transform=\"translate(40.226875 319.533594)scale(0.1 -0.1)\">\r\n     <use xlink:href=\"#DejaVuSans-48\"/>\r\n    </g>\r\n   </g>\r\n   <g id=\"text_74\">\r\n    <!-- 38 -->\r\n    <g style=\"fill:#ffffff;\" transform=\"translate(76.105625 319.533594)scale(0.1 -0.1)\">\r\n     <use xlink:href=\"#DejaVuSans-51\"/>\r\n     <use x=\"63.623047\" xlink:href=\"#DejaVuSans-56\"/>\r\n    </g>\r\n   </g>\r\n   <g id=\"text_75\">\r\n    <!-- 42 -->\r\n    <g style=\"fill:#ffffff;\" transform=\"translate(115.165625 319.533594)scale(0.1 -0.1)\">\r\n     <use xlink:href=\"#DejaVuSans-52\"/>\r\n     <use x=\"63.623047\" xlink:href=\"#DejaVuSans-50\"/>\r\n    </g>\r\n   </g>\r\n   <g id=\"text_76\">\r\n    <!-- 0 -->\r\n    <g style=\"fill:#ffffff;\" transform=\"translate(157.406875 319.533594)scale(0.1 -0.1)\">\r\n     <use xlink:href=\"#DejaVuSans-48\"/>\r\n    </g>\r\n   </g>\r\n   <g id=\"text_77\">\r\n    <!-- 27 -->\r\n    <g style=\"fill:#ffffff;\" transform=\"translate(193.285625 319.533594)scale(0.1 -0.1)\">\r\n     <use xlink:href=\"#DejaVuSans-50\"/>\r\n     <use x=\"63.623047\" xlink:href=\"#DejaVuSans-55\"/>\r\n    </g>\r\n   </g>\r\n   <g id=\"text_78\">\r\n    <!-- 2 -->\r\n    <g style=\"fill:#ffffff;\" transform=\"translate(235.526875 319.533594)scale(0.1 -0.1)\">\r\n     <use xlink:href=\"#DejaVuSans-50\"/>\r\n    </g>\r\n   </g>\r\n   <g id=\"text_79\">\r\n    <!-- 0 -->\r\n    <g style=\"fill:#ffffff;\" transform=\"translate(274.586875 319.533594)scale(0.1 -0.1)\">\r\n     <use xlink:href=\"#DejaVuSans-48\"/>\r\n    </g>\r\n   </g>\r\n   <g id=\"text_80\">\r\n    <!-- 199 -->\r\n    <g style=\"fill:#ffffff;\" transform=\"translate(307.284375 319.533594)scale(0.1 -0.1)\">\r\n     <defs>\r\n      <path d=\"M 10.984375 1.515625 \r\nL 10.984375 10.5 \r\nQ 14.703125 8.734375 18.5 7.8125 \r\nQ 22.3125 6.890625 25.984375 6.890625 \r\nQ 35.75 6.890625 40.890625 13.453125 \r\nQ 46.046875 20.015625 46.78125 33.40625 \r\nQ 43.953125 29.203125 39.59375 26.953125 \r\nQ 35.25 24.703125 29.984375 24.703125 \r\nQ 19.046875 24.703125 12.671875 31.3125 \r\nQ 6.296875 37.9375 6.296875 49.421875 \r\nQ 6.296875 60.640625 12.9375 67.421875 \r\nQ 19.578125 74.21875 30.609375 74.21875 \r\nQ 43.265625 74.21875 49.921875 64.515625 \r\nQ 56.59375 54.828125 56.59375 36.375 \r\nQ 56.59375 19.140625 48.40625 8.859375 \r\nQ 40.234375 -1.421875 26.421875 -1.421875 \r\nQ 22.703125 -1.421875 18.890625 -0.6875 \r\nQ 15.09375 0.046875 10.984375 1.515625 \r\nz\r\nM 30.609375 32.421875 \r\nQ 37.25 32.421875 41.125 36.953125 \r\nQ 45.015625 41.5 45.015625 49.421875 \r\nQ 45.015625 57.28125 41.125 61.84375 \r\nQ 37.25 66.40625 30.609375 66.40625 \r\nQ 23.96875 66.40625 20.09375 61.84375 \r\nQ 16.21875 57.28125 16.21875 49.421875 \r\nQ 16.21875 41.5 20.09375 36.953125 \r\nQ 23.96875 32.421875 30.609375 32.421875 \r\nz\r\n\" id=\"DejaVuSans-57\"/>\r\n     </defs>\r\n     <use xlink:href=\"#DejaVuSans-49\"/>\r\n     <use x=\"63.623047\" xlink:href=\"#DejaVuSans-57\"/>\r\n     <use x=\"127.246094\" xlink:href=\"#DejaVuSans-57\"/>\r\n    </g>\r\n   </g>\r\n  </g>\r\n  <g id=\"axes_2\">\r\n   <g id=\"patch_3\">\r\n    <path clip-path=\"url(#paba745e9aa)\" d=\"M 355.888125 337.159219 \r\nL 355.888125 335.885156 \r\nL 355.888125 12.273281 \r\nL 355.888125 10.999219 \r\nL 372.196125 10.999219 \r\nL 372.196125 12.273281 \r\nL 372.196125 335.885156 \r\nL 372.196125 337.159219 \r\nz\r\n\" style=\"fill:#ffffff;stroke:#ffffff;stroke-linejoin:miter;stroke-width:0.01;\"/>\r\n   </g>\r\n   <image height=\"326\" id=\"imagea3fc16366f\" transform=\"scale(1 -1)translate(0 -326)\" width=\"16\" x=\"356\" xlink:href=\"data:image/png;base64,\r\niVBORw0KGgoAAAANSUhEUgAAABAAAAFGCAYAAABjUx8/AAABu0lEQVR4nO2a0Q3DQAhDobku0f33TId4luxD3H8s8zAkadPP9/cWOKfJ1VV1upmEQKCYwAddXYoSPvcz4CVgiJABdrAQIyDSWfB3QRAkdxsVDhiGEUEasNYXor8E/z6YsNICgmRngB1QAcVahwL3j3PCKw+Osp0BVViICogJO5GdhCdVLsDOBAb2G0vANAq6YHYQANGexIAnVXsOIlYaFEjoAjszkshOAgP0L9MUiFjA/oABBQQQaZAmMMACC1GwUNwrLYDBBimDAbOASwhIIof4MggjGNwfpMYlUAeCNg5IIu6CnQGcpoAkNnxEUUCEDAQ/iVIHAyDiKC8DzACXILg3wtuzACJ34IbIkwg9BDCYECQooPgCggpwBtRBQBKxgBkiZ1D+jeQWEEB0l4AdBAyTACL8hyMBormEU9QBLSFgGkcwwEFyf9hGHURAZCY2iVWn4J1lQpDaHiTahQCI/mkcANGeRMUrjz0HGKL9W13BMNm7EDCNkAF/X7ifgX2YsIOIlWYX2JU2Yhr9SRwA0c1gV9qMIHU/ZgcbpIwg0RwsxIRhcnchYhrNUY5Y6zuN9hz42xiQRPs4YwZ/ztQuS6ONcUwAAAAASUVORK5CYII=\" y=\"-11\"/>\r\n   <g id=\"matplotlib.axis_3\"/>\r\n   <g id=\"matplotlib.axis_4\">\r\n    <g id=\"ytick_9\">\r\n     <g id=\"line2d_17\">\r\n      <defs>\r\n       <path d=\"M 0 0 \r\nL 3.5 0 \r\n\" id=\"m6c11f877e4\" style=\"stroke:#000000;stroke-width:0.8;\"/>\r\n      </defs>\r\n      <g>\r\n       <use style=\"stroke:#000000;stroke-width:0.8;\" x=\"372.196125\" xlink:href=\"#m6c11f877e4\" y=\"337.159219\"/>\r\n      </g>\r\n     </g>\r\n     <g id=\"text_81\">\r\n      <!-- 0 -->\r\n      <g transform=\"translate(379.196125 340.958438)scale(0.1 -0.1)\">\r\n       <use xlink:href=\"#DejaVuSans-48\"/>\r\n      </g>\r\n     </g>\r\n    </g>\r\n    <g id=\"ytick_10\">\r\n     <g id=\"line2d_18\">\r\n      <g>\r\n       <use style=\"stroke:#000000;stroke-width:0.8;\" x=\"372.196125\" xlink:href=\"#m6c11f877e4\" y=\"296.389219\"/>\r\n      </g>\r\n     </g>\r\n     <g id=\"text_82\">\r\n      <!-- 50 -->\r\n      <g transform=\"translate(379.196125 300.188438)scale(0.1 -0.1)\">\r\n       <use xlink:href=\"#DejaVuSans-53\"/>\r\n       <use x=\"63.623047\" xlink:href=\"#DejaVuSans-48\"/>\r\n      </g>\r\n     </g>\r\n    </g>\r\n    <g id=\"ytick_11\">\r\n     <g id=\"line2d_19\">\r\n      <g>\r\n       <use style=\"stroke:#000000;stroke-width:0.8;\" x=\"372.196125\" xlink:href=\"#m6c11f877e4\" y=\"255.619219\"/>\r\n      </g>\r\n     </g>\r\n     <g id=\"text_83\">\r\n      <!-- 100 -->\r\n      <g transform=\"translate(379.196125 259.418437)scale(0.1 -0.1)\">\r\n       <use xlink:href=\"#DejaVuSans-49\"/>\r\n       <use x=\"63.623047\" xlink:href=\"#DejaVuSans-48\"/>\r\n       <use x=\"127.246094\" xlink:href=\"#DejaVuSans-48\"/>\r\n      </g>\r\n     </g>\r\n    </g>\r\n    <g id=\"ytick_12\">\r\n     <g id=\"line2d_20\">\r\n      <g>\r\n       <use style=\"stroke:#000000;stroke-width:0.8;\" x=\"372.196125\" xlink:href=\"#m6c11f877e4\" y=\"214.849219\"/>\r\n      </g>\r\n     </g>\r\n     <g id=\"text_84\">\r\n      <!-- 150 -->\r\n      <g transform=\"translate(379.196125 218.648438)scale(0.1 -0.1)\">\r\n       <use xlink:href=\"#DejaVuSans-49\"/>\r\n       <use x=\"63.623047\" xlink:href=\"#DejaVuSans-53\"/>\r\n       <use x=\"127.246094\" xlink:href=\"#DejaVuSans-48\"/>\r\n      </g>\r\n     </g>\r\n    </g>\r\n    <g id=\"ytick_13\">\r\n     <g id=\"line2d_21\">\r\n      <g>\r\n       <use style=\"stroke:#000000;stroke-width:0.8;\" x=\"372.196125\" xlink:href=\"#m6c11f877e4\" y=\"174.079219\"/>\r\n      </g>\r\n     </g>\r\n     <g id=\"text_85\">\r\n      <!-- 200 -->\r\n      <g transform=\"translate(379.196125 177.878438)scale(0.1 -0.1)\">\r\n       <use xlink:href=\"#DejaVuSans-50\"/>\r\n       <use x=\"63.623047\" xlink:href=\"#DejaVuSans-48\"/>\r\n       <use x=\"127.246094\" xlink:href=\"#DejaVuSans-48\"/>\r\n      </g>\r\n     </g>\r\n    </g>\r\n    <g id=\"ytick_14\">\r\n     <g id=\"line2d_22\">\r\n      <g>\r\n       <use style=\"stroke:#000000;stroke-width:0.8;\" x=\"372.196125\" xlink:href=\"#m6c11f877e4\" y=\"133.309219\"/>\r\n      </g>\r\n     </g>\r\n     <g id=\"text_86\">\r\n      <!-- 250 -->\r\n      <g transform=\"translate(379.196125 137.108438)scale(0.1 -0.1)\">\r\n       <use xlink:href=\"#DejaVuSans-50\"/>\r\n       <use x=\"63.623047\" xlink:href=\"#DejaVuSans-53\"/>\r\n       <use x=\"127.246094\" xlink:href=\"#DejaVuSans-48\"/>\r\n      </g>\r\n     </g>\r\n    </g>\r\n    <g id=\"ytick_15\">\r\n     <g id=\"line2d_23\">\r\n      <g>\r\n       <use style=\"stroke:#000000;stroke-width:0.8;\" x=\"372.196125\" xlink:href=\"#m6c11f877e4\" y=\"92.539219\"/>\r\n      </g>\r\n     </g>\r\n     <g id=\"text_87\">\r\n      <!-- 300 -->\r\n      <g transform=\"translate(379.196125 96.338438)scale(0.1 -0.1)\">\r\n       <use xlink:href=\"#DejaVuSans-51\"/>\r\n       <use x=\"63.623047\" xlink:href=\"#DejaVuSans-48\"/>\r\n       <use x=\"127.246094\" xlink:href=\"#DejaVuSans-48\"/>\r\n      </g>\r\n     </g>\r\n    </g>\r\n    <g id=\"ytick_16\">\r\n     <g id=\"line2d_24\">\r\n      <g>\r\n       <use style=\"stroke:#000000;stroke-width:0.8;\" x=\"372.196125\" xlink:href=\"#m6c11f877e4\" y=\"51.769219\"/>\r\n      </g>\r\n     </g>\r\n     <g id=\"text_88\">\r\n      <!-- 350 -->\r\n      <g transform=\"translate(379.196125 55.568438)scale(0.1 -0.1)\">\r\n       <use xlink:href=\"#DejaVuSans-51\"/>\r\n       <use x=\"63.623047\" xlink:href=\"#DejaVuSans-53\"/>\r\n       <use x=\"127.246094\" xlink:href=\"#DejaVuSans-48\"/>\r\n      </g>\r\n     </g>\r\n    </g>\r\n    <g id=\"ytick_17\">\r\n     <g id=\"line2d_25\">\r\n      <g>\r\n       <use style=\"stroke:#000000;stroke-width:0.8;\" x=\"372.196125\" xlink:href=\"#m6c11f877e4\" y=\"10.999219\"/>\r\n      </g>\r\n     </g>\r\n     <g id=\"text_89\">\r\n      <!-- 400 -->\r\n      <g transform=\"translate(379.196125 14.798438)scale(0.1 -0.1)\">\r\n       <use xlink:href=\"#DejaVuSans-52\"/>\r\n       <use x=\"63.623047\" xlink:href=\"#DejaVuSans-48\"/>\r\n       <use x=\"127.246094\" xlink:href=\"#DejaVuSans-48\"/>\r\n      </g>\r\n     </g>\r\n    </g>\r\n   </g>\r\n   <g id=\"patch_4\">\r\n    <path d=\"M 355.888125 337.159219 \r\nL 355.888125 335.885156 \r\nL 355.888125 12.273281 \r\nL 355.888125 10.999219 \r\nL 372.196125 10.999219 \r\nL 372.196125 12.273281 \r\nL 372.196125 335.885156 \r\nL 372.196125 337.159219 \r\nz\r\n\" style=\"fill:none;\"/>\r\n   </g>\r\n  </g>\r\n </g>\r\n <defs>\r\n  <clipPath id=\"p7b95c6f9e9\">\r\n   <rect height=\"326.16\" width=\"312.48\" x=\"23.878125\" y=\"10.999219\"/>\r\n  </clipPath>\r\n  <clipPath id=\"paba745e9aa\">\r\n   <rect height=\"326.16\" width=\"16.308\" x=\"355.888125\" y=\"10.999219\"/>\r\n  </clipPath>\r\n </defs>\r\n</svg>\r\n",
      "image/png": "[encoded data removed]"
     },
     "metadata": {
      "needs_background": "light"
     }
    },
    {
     "output_type": "stream",
     "name": "stdout",
     "text": [
      "Classification Report\n              precision    recall  f1-score   support\n\n           0       0.90      0.65      0.75       310\n           1       0.82      0.77      0.80       238\n           2       0.74      0.91      0.82       268\n           3       0.77      0.91      0.83       295\n           4       0.85      0.97      0.91       411\n           5       0.86      0.97      0.91       210\n           6       0.99      0.79      0.88       136\n           7       0.83      0.65      0.73       308\n\n    accuracy                           0.83      2176\n   macro avg       0.85      0.83      0.83      2176\nweighted avg       0.84      0.83      0.83      2176\n\n"
     ]
    }
   ],
   "source": [
    "import pandas as pd\n",
    "import seaborn as sns\n",
    "import matplotlib.pyplot as plt\n",
    "from sklearn.metrics import confusion_matrix, classification_report\n",
    "\n",
    "def print_confusion_matrix(y_true, y_pred, report=True):\n",
    "    labels = sorted(list(set(y_true)))\n",
    "    cmx_data = confusion_matrix(y_true, y_pred, labels=labels)\n",
    "    \n",
    "    df_cmx = pd.DataFrame(cmx_data, index=labels, columns=labels)\n",
    " \n",
    "    fig, ax = plt.subplots(figsize=(7, 6))\n",
    "    sns.heatmap(df_cmx, annot=True, fmt='g' ,square=False)\n",
    "    ax.set_ylim(len(set(y_true)), 0)\n",
    "    plt.show()\n",
    "    \n",
    "    if report:\n",
    "        print('Classification Report')\n",
    "        print(classification_report(y_test, y_pred))\n",
    "\n",
    "Y_pred = model.predict(X_test)\n",
    "y_pred = np.argmax(Y_pred, axis=1)\n",
    "\n",
    "print_confusion_matrix(y_test, y_pred)"
   ]
  },
  {
   "cell_type": "markdown",
   "metadata": {},
   "source": [
    "# 转化为Tensorflow-Lite用模型"
   ]
  },
  {
   "cell_type": "code",
   "execution_count": 151,
   "metadata": {},
   "outputs": [],
   "source": [
    "# 保存为仅供推理的模型\n",
    "model.save(model_save_path, include_optimizer=False)"
   ]
  },
  {
   "cell_type": "code",
   "execution_count": 152,
   "metadata": {},
   "outputs": [
    {
     "output_type": "stream",
     "name": "stdout",
     "text": [
      "INFO:tensorflow:Assets written to: C:\\Users\\Van5SE\\AppData\\Local\\Temp\\tmpc1b6wv8w\\assets\n",
      "INFO:tensorflow:Assets written to: C:\\Users\\Van5SE\\AppData\\Local\\Temp\\tmpc1b6wv8w\\assets\n"
     ]
    },
    {
     "output_type": "execute_result",
     "data": {
      "text/plain": [
       "6592"
      ]
     },
     "metadata": {},
     "execution_count": 152
    }
   ],
   "source": [
    "# 转换模型（量化）\n",
    "tflite_save_path = 'model/keypoint_classifier/keypoint_classifier.tflite'\n",
    "\n",
    "converter = tf.lite.TFLiteConverter.from_keras_model(model)\n",
    "converter.optimizations = [tf.lite.Optimize.DEFAULT]\n",
    "tflite_quantized_model = converter.convert()\n",
    "\n",
    "open(tflite_save_path, 'wb').write(tflite_quantized_model)"
   ]
  },
  {
   "cell_type": "markdown",
   "metadata": {},
   "source": [
    "# 推理测试"
   ]
  },
  {
   "cell_type": "code",
   "execution_count": 153,
   "metadata": {},
   "outputs": [],
   "source": [
    "interpreter = tf.lite.Interpreter(model_path=tflite_save_path)\n",
    "interpreter.allocate_tensors()"
   ]
  },
  {
   "cell_type": "code",
   "execution_count": 154,
   "metadata": {},
   "outputs": [],
   "source": [
    "# 获取 I/O 张量\n",
    "input_details = interpreter.get_input_details()\n",
    "output_details = interpreter.get_output_details()"
   ]
  },
  {
   "cell_type": "code",
   "execution_count": 155,
   "metadata": {},
   "outputs": [],
   "source": [
    "interpreter.set_tensor(input_details[0]['index'], np.array([X_test[0]]))"
   ]
  },
  {
   "cell_type": "code",
   "execution_count": 156,
   "metadata": {
    "scrolled": true
   },
   "outputs": [
    {
     "output_type": "stream",
     "name": "stdout",
     "text": [
      "Wall time: 0 ns\n"
     ]
    }
   ],
   "source": [
    "%%time\n",
    "# 推理实施\n",
    "interpreter.invoke()\n",
    "tflite_results = interpreter.get_tensor(output_details[0]['index'])"
   ]
  },
  {
   "cell_type": "code",
   "execution_count": 157,
   "metadata": {},
   "outputs": [
    {
     "output_type": "stream",
     "name": "stdout",
     "text": [
      "[4.4066653e-01 1.4638072e-03 2.0099568e-01 2.9034889e-01 2.5419015e-04\n 1.1503961e-03 3.0634575e-02 3.4485985e-02]\n0\n"
     ]
    }
   ],
   "source": [
    "print(np.squeeze(tflite_results))\n",
    "print(np.argmax(np.squeeze(tflite_results)))"
   ]
  }
 ],
 "metadata": {
  "kernelspec": {
   "name": "python3",
   "display_name": "Python 3.8.5 64-bit",
   "metadata": {
    "interpreter": {
     "hash": "273d34ad3022fe9e2b04cefe7623df58b029f1dc7d41b81f8722b7ca43d9dee2"
    }
   }
  },
  "language_info": {
   "codemirror_mode": {
    "name": "ipython",
    "version": 3
   },
   "file_extension": ".py",
   "mimetype": "text/x-python",
   "name": "python",
   "nbconvert_exporter": "python",
   "pygments_lexer": "ipython3",
   "version": "3.8.5-final"
  }
 },
 "nbformat": 4,
 "nbformat_minor": 4
}