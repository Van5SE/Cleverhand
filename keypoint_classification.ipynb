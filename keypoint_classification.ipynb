{
 "cells": [
  {
   "cell_type": "code",
   "execution_count": 1,
   "metadata": {},
   "outputs": [],
   "source": [
    "import csv\n",
    "\n",
    "import numpy as np\n",
    "import tensorflow as tf\n",
    "from sklearn.model_selection import train_test_split\n",
    "\n",
    "RANDOM_SEED = 42"
   ]
  },
  {
   "cell_type": "markdown",
   "metadata": {},
   "source": [
    "# 路径声明"
   ]
  },
  {
   "cell_type": "code",
   "execution_count": 2,
   "metadata": {},
   "outputs": [],
   "source": [
    "dataset = 'model/keypoint_classifier/keypoint.csv'\n",
    "model_save_path = 'model/keypoint_classifier/keypoint_classifier.hdf5'"
   ]
  },
  {
   "cell_type": "markdown",
   "metadata": {},
   "source": [
    "# 设定分类数"
   ]
  },
  {
   "cell_type": "code",
   "execution_count": 3,
   "metadata": {},
   "outputs": [],
   "source": [
    "NUM_CLASSES = 8"
   ]
  },
  {
   "cell_type": "markdown",
   "metadata": {},
   "source": [
    "# 读取学习数据"
   ]
  },
  {
   "cell_type": "code",
   "execution_count": 4,
   "metadata": {},
   "outputs": [],
   "source": [
    "X_dataset = np.loadtxt(dataset, delimiter=',', dtype='float32', usecols=list(range(1, (21 * 2) + 1)))"
   ]
  },
  {
   "cell_type": "code",
   "execution_count": 5,
   "metadata": {},
   "outputs": [],
   "source": [
    "# 读入从1到21*2的数据（表的每行共有21个数据（对应21个特征点） 每个数据有两个值（xy坐标轴值））作为x"
   ]
  },
  {
   "cell_type": "code",
   "execution_count": 6,
   "metadata": {},
   "outputs": [],
   "source": [
    "y_dataset = np.loadtxt(dataset, delimiter=',', dtype='int32', usecols=(0))"
   ]
  },
  {
   "cell_type": "code",
   "execution_count": 7,
   "metadata": {},
   "outputs": [],
   "source": [
    "# 第0列的值代表属于哪种手势"
   ]
  },
  {
   "cell_type": "code",
   "execution_count": 8,
   "metadata": {},
   "outputs": [],
   "source": [
    "X_train, X_test, y_train, y_test = train_test_split(X_dataset, y_dataset, train_size=0.75, random_state=RANDOM_SEED)"
   ]
  },
  {
   "cell_type": "markdown",
   "metadata": {},
   "source": [
    "# 模型构建"
   ]
  },
  {
   "cell_type": "code",
   "execution_count": 9,
   "metadata": {},
   "outputs": [],
   "source": [
    "model = tf.keras.models.Sequential([\n",
    "    tf.keras.layers.Input((21 * 2, )),\n",
    "    tf.keras.layers.Dropout(0.2),\n",
    "    tf.keras.layers.Dense(20, activation='relu'),\n",
    "    tf.keras.layers.Dropout(0.4),\n",
    "    tf.keras.layers.Dense(10, activation='relu'),\n",
    "    tf.keras.layers.Dense(NUM_CLASSES, activation='softmax')\n",
    "])"
   ]
  },
  {
   "cell_type": "code",
   "execution_count": 10,
   "metadata": {},
   "outputs": [
    {
     "output_type": "stream",
     "name": "stdout",
     "text": [
      "Model: \"sequential\"\n_________________________________________________________________\nLayer (type)                 Output Shape              Param #   \n=================================================================\ndropout (Dropout)            (None, 42)                0         \n_________________________________________________________________\ndense (Dense)                (None, 20)                860       \n_________________________________________________________________\ndropout_1 (Dropout)          (None, 20)                0         \n_________________________________________________________________\ndense_1 (Dense)              (None, 10)                210       \n_________________________________________________________________\ndense_2 (Dense)              (None, 8)                 88        \n=================================================================\nTotal params: 1,158\nTrainable params: 1,158\nNon-trainable params: 0\n_________________________________________________________________\n"
     ]
    }
   ],
   "source": [
    "model.summary()  # tf.keras.utils.plot_model(model, show_shapes=True)"
   ]
  },
  {
   "cell_type": "code",
   "execution_count": 11,
   "metadata": {},
   "outputs": [],
   "source": [
    "# 模型检查点回调\n",
    "cp_callback = tf.keras.callbacks.ModelCheckpoint(\n",
    "    model_save_path, verbose=1, save_weights_only=False)\n",
    "# 用于提前结束的回调\n",
    "es_callback = tf.keras.callbacks.EarlyStopping(patience=20, verbose=1)"
   ]
  },
  {
   "cell_type": "code",
   "execution_count": 12,
   "metadata": {},
   "outputs": [],
   "source": [
    "# 模型编译\n",
    "model.compile(\n",
    "    optimizer='adam',\n",
    "    loss='sparse_categorical_crossentropy',\n",
    "    metrics=['accuracy']\n",
    ")"
   ]
  },
  {
   "cell_type": "markdown",
   "metadata": {},
   "source": [
    "# 模型训练"
   ]
  },
  {
   "cell_type": "code",
   "execution_count": 13,
   "metadata": {
    "scrolled": true,
    "tags": [
     "outputPrepend"
    ]
   },
   "outputs": [
    {
     "output_type": "stream",
     "name": "stdout",
     "text": [
      " - accuracy: 0.5553 - val_loss: 0.7167 - val_accuracy: 0.8117\n",
      "\n",
      "Epoch 00040: saving model to model/keypoint_classifier\\keypoint_classifier.hdf5\n",
      "Epoch 41/12000\n",
      "66/66 [==============================] - 0s 3ms/step - loss: 1.1374 - accuracy: 0.5593 - val_loss: 0.7010 - val_accuracy: 0.8236\n",
      "\n",
      "Epoch 00041: saving model to model/keypoint_classifier\\keypoint_classifier.hdf5\n",
      "Epoch 42/12000\n",
      "66/66 [==============================] - 0s 3ms/step - loss: 1.1364 - accuracy: 0.5494 - val_loss: 0.7167 - val_accuracy: 0.8132\n",
      "\n",
      "Epoch 00042: saving model to model/keypoint_classifier\\keypoint_classifier.hdf5\n",
      "Epoch 43/12000\n",
      "66/66 [==============================] - 0s 3ms/step - loss: 1.1024 - accuracy: 0.5635 - val_loss: 0.7028 - val_accuracy: 0.8092\n",
      "\n",
      "Epoch 00043: saving model to model/keypoint_classifier\\keypoint_classifier.hdf5\n",
      "Epoch 44/12000\n",
      "66/66 [==============================] - 0s 3ms/step - loss: 1.1060 - accuracy: 0.5598 - val_loss: 0.6993 - val_accuracy: 0.8139\n",
      "\n",
      "Epoch 00044: saving model to model/keypoint_classifier\\keypoint_classifier.hdf5\n",
      "Epoch 45/12000\n",
      "66/66 [==============================] - 0s 3ms/step - loss: 1.1107 - accuracy: 0.5566 - val_loss: 0.6922 - val_accuracy: 0.8431\n",
      "\n",
      "Epoch 00045: saving model to model/keypoint_classifier\\keypoint_classifier.hdf5\n",
      "Epoch 46/12000\n",
      "66/66 [==============================] - 0s 2ms/step - loss: 1.1117 - accuracy: 0.5697 - val_loss: 0.6915 - val_accuracy: 0.8575\n",
      "\n",
      "Epoch 00046: saving model to model/keypoint_classifier\\keypoint_classifier.hdf5\n",
      "Epoch 47/12000\n",
      "66/66 [==============================] - 0s 2ms/step - loss: 1.1155 - accuracy: 0.5611 - val_loss: 0.6852 - val_accuracy: 0.8294\n",
      "\n",
      "Epoch 00047: saving model to model/keypoint_classifier\\keypoint_classifier.hdf5\n",
      "Epoch 48/12000\n",
      "66/66 [==============================] - 0s 2ms/step - loss: 1.1059 - accuracy: 0.5724 - val_loss: 0.6842 - val_accuracy: 0.8369\n",
      "\n",
      "Epoch 00048: saving model to model/keypoint_classifier\\keypoint_classifier.hdf5\n",
      "Epoch 49/12000\n",
      "66/66 [==============================] - 0s 3ms/step - loss: 1.1251 - accuracy: 0.5688 - val_loss: 0.6927 - val_accuracy: 0.8150\n",
      "\n",
      "Epoch 00049: saving model to model/keypoint_classifier\\keypoint_classifier.hdf5\n",
      "Epoch 50/12000\n",
      "66/66 [==============================] - 0s 2ms/step - loss: 1.1076 - accuracy: 0.5594 - val_loss: 0.6880 - val_accuracy: 0.8449\n",
      "\n",
      "Epoch 00050: saving model to model/keypoint_classifier\\keypoint_classifier.hdf5\n",
      "Epoch 51/12000\n",
      "66/66 [==============================] - 0s 3ms/step - loss: 1.0718 - accuracy: 0.5823 - val_loss: 0.6755 - val_accuracy: 0.8258\n",
      "\n",
      "Epoch 00051: saving model to model/keypoint_classifier\\keypoint_classifier.hdf5\n",
      "Epoch 52/12000\n",
      "66/66 [==============================] - 0s 3ms/step - loss: 1.0816 - accuracy: 0.5728 - val_loss: 0.6669 - val_accuracy: 0.8193\n",
      "\n",
      "Epoch 00052: saving model to model/keypoint_classifier\\keypoint_classifier.hdf5\n",
      "Epoch 53/12000\n",
      "66/66 [==============================] - 0s 3ms/step - loss: 1.0805 - accuracy: 0.5628 - val_loss: 0.6589 - val_accuracy: 0.8254\n",
      "\n",
      "Epoch 00053: saving model to model/keypoint_classifier\\keypoint_classifier.hdf5\n",
      "Epoch 54/12000\n",
      "66/66 [==============================] - 0s 2ms/step - loss: 1.0783 - accuracy: 0.5780 - val_loss: 0.6638 - val_accuracy: 0.8215\n",
      "\n",
      "Epoch 00054: saving model to model/keypoint_classifier\\keypoint_classifier.hdf5\n",
      "Epoch 55/12000\n",
      "66/66 [==============================] - 0s 2ms/step - loss: 1.0881 - accuracy: 0.5706 - val_loss: 0.6639 - val_accuracy: 0.8269\n",
      "\n",
      "Epoch 00055: saving model to model/keypoint_classifier\\keypoint_classifier.hdf5\n",
      "Epoch 56/12000\n",
      "66/66 [==============================] - 0s 2ms/step - loss: 1.0792 - accuracy: 0.5755 - val_loss: 0.6635 - val_accuracy: 0.8650\n",
      "\n",
      "Epoch 00056: saving model to model/keypoint_classifier\\keypoint_classifier.hdf5\n",
      "Epoch 57/12000\n",
      "66/66 [==============================] - 0s 2ms/step - loss: 1.0542 - accuracy: 0.5862 - val_loss: 0.6509 - val_accuracy: 0.8625\n",
      "\n",
      "Epoch 00057: saving model to model/keypoint_classifier\\keypoint_classifier.hdf5\n",
      "Epoch 58/12000\n",
      "66/66 [==============================] - 0s 3ms/step - loss: 1.0738 - accuracy: 0.5794 - val_loss: 0.6485 - val_accuracy: 0.8391\n",
      "\n",
      "Epoch 00058: saving model to model/keypoint_classifier\\keypoint_classifier.hdf5\n",
      "Epoch 59/12000\n",
      "66/66 [==============================] - 0s 2ms/step - loss: 1.0690 - accuracy: 0.5835 - val_loss: 0.6406 - val_accuracy: 0.8308\n",
      "\n",
      "Epoch 00059: saving model to model/keypoint_classifier\\keypoint_classifier.hdf5\n",
      "Epoch 60/12000\n",
      "66/66 [==============================] - 0s 3ms/step - loss: 1.0719 - accuracy: 0.5767 - val_loss: 0.6421 - val_accuracy: 0.8557\n",
      "\n",
      "Epoch 00060: saving model to model/keypoint_classifier\\keypoint_classifier.hdf5\n",
      "Epoch 61/12000\n",
      "66/66 [==============================] - 0s 3ms/step - loss: 1.0497 - accuracy: 0.5993 - val_loss: 0.6363 - val_accuracy: 0.8431\n",
      "\n",
      "Epoch 00061: saving model to model/keypoint_classifier\\keypoint_classifier.hdf5\n",
      "Epoch 62/12000\n",
      "66/66 [==============================] - 0s 2ms/step - loss: 1.0457 - accuracy: 0.5851 - val_loss: 0.6389 - val_accuracy: 0.8560\n",
      "\n",
      "Epoch 00062: saving model to model/keypoint_classifier\\keypoint_classifier.hdf5\n",
      "Epoch 63/12000\n",
      "66/66 [==============================] - 0s 3ms/step - loss: 1.0793 - accuracy: 0.5813 - val_loss: 0.6446 - val_accuracy: 0.8632\n",
      "\n",
      "Epoch 00063: saving model to model/keypoint_classifier\\keypoint_classifier.hdf5\n",
      "Epoch 64/12000\n",
      "66/66 [==============================] - 0s 3ms/step - loss: 1.0434 - accuracy: 0.5947 - val_loss: 0.6433 - val_accuracy: 0.8344\n",
      "\n",
      "Epoch 00064: saving model to model/keypoint_classifier\\keypoint_classifier.hdf5\n",
      "Epoch 65/12000\n",
      "66/66 [==============================] - 0s 2ms/step - loss: 1.0698 - accuracy: 0.5893 - val_loss: 0.6502 - val_accuracy: 0.8481\n",
      "\n",
      "Epoch 00065: saving model to model/keypoint_classifier\\keypoint_classifier.hdf5\n",
      "Epoch 66/12000\n",
      "66/66 [==============================] - 0s 3ms/step - loss: 1.0501 - accuracy: 0.5872 - val_loss: 0.6211 - val_accuracy: 0.8665\n",
      "\n",
      "Epoch 00066: saving model to model/keypoint_classifier\\keypoint_classifier.hdf5\n",
      "Epoch 67/12000\n",
      "66/66 [==============================] - 0s 3ms/step - loss: 1.0337 - accuracy: 0.5965 - val_loss: 0.6224 - val_accuracy: 0.8848\n",
      "\n",
      "Epoch 00067: saving model to model/keypoint_classifier\\keypoint_classifier.hdf5\n",
      "Epoch 68/12000\n",
      "66/66 [==============================] - 0s 2ms/step - loss: 1.0439 - accuracy: 0.5936 - val_loss: 0.6482 - val_accuracy: 0.8189\n",
      "\n",
      "Epoch 00068: saving model to model/keypoint_classifier\\keypoint_classifier.hdf5\n",
      "Epoch 69/12000\n",
      "66/66 [==============================] - 0s 3ms/step - loss: 1.0474 - accuracy: 0.5845 - val_loss: 0.6230 - val_accuracy: 0.8816\n",
      "\n",
      "Epoch 00069: saving model to model/keypoint_classifier\\keypoint_classifier.hdf5\n",
      "Epoch 70/12000\n",
      "66/66 [==============================] - 0s 2ms/step - loss: 1.0401 - accuracy: 0.5907 - val_loss: 0.6134 - val_accuracy: 0.8841\n",
      "\n",
      "Epoch 00070: saving model to model/keypoint_classifier\\keypoint_classifier.hdf5\n",
      "Epoch 71/12000\n",
      "66/66 [==============================] - 0s 3ms/step - loss: 1.0265 - accuracy: 0.5929 - val_loss: 0.6236 - val_accuracy: 0.8855\n",
      "\n",
      "Epoch 00071: saving model to model/keypoint_classifier\\keypoint_classifier.hdf5\n",
      "Epoch 72/12000\n",
      "66/66 [==============================] - 0s 3ms/step - loss: 1.0194 - accuracy: 0.6008 - val_loss: 0.6162 - val_accuracy: 0.8999\n",
      "\n",
      "Epoch 00072: saving model to model/keypoint_classifier\\keypoint_classifier.hdf5\n",
      "Epoch 73/12000\n",
      "66/66 [==============================] - 0s 2ms/step - loss: 1.0467 - accuracy: 0.5950 - val_loss: 0.6161 - val_accuracy: 0.8780\n",
      "\n",
      "Epoch 00073: saving model to model/keypoint_classifier\\keypoint_classifier.hdf5\n",
      "Epoch 74/12000\n",
      "66/66 [==============================] - 0s 2ms/step - loss: 1.0162 - accuracy: 0.6085 - val_loss: 0.6076 - val_accuracy: 0.8801\n",
      "\n",
      "Epoch 00074: saving model to model/keypoint_classifier\\keypoint_classifier.hdf5\n",
      "Epoch 75/12000\n",
      "66/66 [==============================] - 0s 3ms/step - loss: 1.0157 - accuracy: 0.5998 - val_loss: 0.6004 - val_accuracy: 0.8902\n",
      "\n",
      "Epoch 00075: saving model to model/keypoint_classifier\\keypoint_classifier.hdf5\n",
      "Epoch 76/12000\n",
      "66/66 [==============================] - 0s 2ms/step - loss: 1.0075 - accuracy: 0.6070 - val_loss: 0.6158 - val_accuracy: 0.8812\n",
      "\n",
      "Epoch 00076: saving model to model/keypoint_classifier\\keypoint_classifier.hdf5\n",
      "Epoch 77/12000\n",
      "66/66 [==============================] - 0s 2ms/step - loss: 1.0056 - accuracy: 0.6064 - val_loss: 0.6087 - val_accuracy: 0.8877\n",
      "\n",
      "Epoch 00077: saving model to model/keypoint_classifier\\keypoint_classifier.hdf5\n",
      "Epoch 78/12000\n",
      "66/66 [==============================] - 0s 3ms/step - loss: 1.0055 - accuracy: 0.6128 - val_loss: 0.6192 - val_accuracy: 0.8844\n",
      "\n",
      "Epoch 00078: saving model to model/keypoint_classifier\\keypoint_classifier.hdf5\n",
      "Epoch 79/12000\n",
      "66/66 [==============================] - 0s 2ms/step - loss: 1.0289 - accuracy: 0.5904 - val_loss: 0.6057 - val_accuracy: 0.8956\n",
      "\n",
      "Epoch 00079: saving model to model/keypoint_classifier\\keypoint_classifier.hdf5\n",
      "Epoch 80/12000\n",
      "66/66 [==============================] - 0s 3ms/step - loss: 1.0027 - accuracy: 0.6171 - val_loss: 0.6085 - val_accuracy: 0.8902\n",
      "\n",
      "Epoch 00080: saving model to model/keypoint_classifier\\keypoint_classifier.hdf5\n",
      "Epoch 81/12000\n",
      "66/66 [==============================] - 0s 2ms/step - loss: 0.9928 - accuracy: 0.6211 - val_loss: 0.5907 - val_accuracy: 0.9014\n",
      "\n",
      "Epoch 00081: saving model to model/keypoint_classifier\\keypoint_classifier.hdf5\n",
      "Epoch 82/12000\n",
      "66/66 [==============================] - 0s 3ms/step - loss: 0.9940 - accuracy: 0.6175 - val_loss: 0.5975 - val_accuracy: 0.8916\n",
      "\n",
      "Epoch 00082: saving model to model/keypoint_classifier\\keypoint_classifier.hdf5\n",
      "Epoch 83/12000\n",
      "66/66 [==============================] - 0s 3ms/step - loss: 1.0060 - accuracy: 0.6107 - val_loss: 0.6001 - val_accuracy: 0.8996\n",
      "\n",
      "Epoch 00083: saving model to model/keypoint_classifier\\keypoint_classifier.hdf5\n",
      "Epoch 84/12000\n",
      "66/66 [==============================] - 0s 3ms/step - loss: 1.0054 - accuracy: 0.6171 - val_loss: 0.5865 - val_accuracy: 0.9100\n",
      "\n",
      "Epoch 00084: saving model to model/keypoint_classifier\\keypoint_classifier.hdf5\n",
      "Epoch 85/12000\n",
      "66/66 [==============================] - 0s 2ms/step - loss: 1.0007 - accuracy: 0.6046 - val_loss: 0.5938 - val_accuracy: 0.9050\n",
      "\n",
      "Epoch 00085: saving model to model/keypoint_classifier\\keypoint_classifier.hdf5\n",
      "Epoch 86/12000\n",
      "66/66 [==============================] - 0s 2ms/step - loss: 0.9942 - accuracy: 0.6219 - val_loss: 0.6026 - val_accuracy: 0.8974\n",
      "\n",
      "Epoch 00086: saving model to model/keypoint_classifier\\keypoint_classifier.hdf5\n",
      "Epoch 87/12000\n",
      "66/66 [==============================] - 0s 2ms/step - loss: 0.9961 - accuracy: 0.6153 - val_loss: 0.6041 - val_accuracy: 0.8960\n",
      "\n",
      "Epoch 00087: saving model to model/keypoint_classifier\\keypoint_classifier.hdf5\n",
      "Epoch 88/12000\n",
      "66/66 [==============================] - 0s 2ms/step - loss: 0.9990 - accuracy: 0.6112 - val_loss: 0.5932 - val_accuracy: 0.9053\n",
      "\n",
      "Epoch 00088: saving model to model/keypoint_classifier\\keypoint_classifier.hdf5\n",
      "Epoch 89/12000\n",
      "66/66 [==============================] - 0s 3ms/step - loss: 0.9666 - accuracy: 0.6333 - val_loss: 0.5897 - val_accuracy: 0.9089\n",
      "\n",
      "Epoch 00089: saving model to model/keypoint_classifier\\keypoint_classifier.hdf5\n",
      "Epoch 90/12000\n",
      "66/66 [==============================] - 0s 3ms/step - loss: 0.9967 - accuracy: 0.6142 - val_loss: 0.5869 - val_accuracy: 0.9024\n",
      "\n",
      "Epoch 00090: saving model to model/keypoint_classifier\\keypoint_classifier.hdf5\n",
      "Epoch 91/12000\n",
      "66/66 [==============================] - 0s 2ms/step - loss: 0.9908 - accuracy: 0.6208 - val_loss: 0.5848 - val_accuracy: 0.9089\n",
      "\n",
      "Epoch 00091: saving model to model/keypoint_classifier\\keypoint_classifier.hdf5\n",
      "Epoch 92/12000\n",
      "66/66 [==============================] - 0s 2ms/step - loss: 0.9937 - accuracy: 0.6116 - val_loss: 0.5709 - val_accuracy: 0.9129\n",
      "\n",
      "Epoch 00092: saving model to model/keypoint_classifier\\keypoint_classifier.hdf5\n",
      "Epoch 93/12000\n",
      "66/66 [==============================] - 0s 3ms/step - loss: 0.9792 - accuracy: 0.6270 - val_loss: 0.5798 - val_accuracy: 0.9140\n",
      "\n",
      "Epoch 00093: saving model to model/keypoint_classifier\\keypoint_classifier.hdf5\n",
      "Epoch 94/12000\n",
      "66/66 [==============================] - 0s 2ms/step - loss: 1.0030 - accuracy: 0.6125 - val_loss: 0.5707 - val_accuracy: 0.9132\n",
      "\n",
      "Epoch 00094: saving model to model/keypoint_classifier\\keypoint_classifier.hdf5\n",
      "Epoch 95/12000\n",
      "66/66 [==============================] - 0s 3ms/step - loss: 0.9834 - accuracy: 0.6307 - val_loss: 0.5751 - val_accuracy: 0.9118\n",
      "\n",
      "Epoch 00095: saving model to model/keypoint_classifier\\keypoint_classifier.hdf5\n",
      "Epoch 96/12000\n",
      "66/66 [==============================] - 0s 3ms/step - loss: 0.9705 - accuracy: 0.6198 - val_loss: 0.5762 - val_accuracy: 0.9086\n",
      "\n",
      "Epoch 00096: saving model to model/keypoint_classifier\\keypoint_classifier.hdf5\n",
      "Epoch 97/12000\n",
      "66/66 [==============================] - 0s 3ms/step - loss: 0.9970 - accuracy: 0.6212 - val_loss: 0.5877 - val_accuracy: 0.9100\n",
      "\n",
      "Epoch 00097: saving model to model/keypoint_classifier\\keypoint_classifier.hdf5\n",
      "Epoch 98/12000\n",
      "66/66 [==============================] - 0s 3ms/step - loss: 0.9841 - accuracy: 0.6241 - val_loss: 0.5748 - val_accuracy: 0.9082\n",
      "\n",
      "Epoch 00098: saving model to model/keypoint_classifier\\keypoint_classifier.hdf5\n",
      "Epoch 99/12000\n",
      "66/66 [==============================] - 0s 2ms/step - loss: 0.9503 - accuracy: 0.6289 - val_loss: 0.5835 - val_accuracy: 0.9107\n",
      "\n",
      "Epoch 00099: saving model to model/keypoint_classifier\\keypoint_classifier.hdf5\n",
      "Epoch 100/12000\n",
      "66/66 [==============================] - 0s 2ms/step - loss: 0.9671 - accuracy: 0.6277 - val_loss: 0.5871 - val_accuracy: 0.8981\n",
      "\n",
      "Epoch 00100: saving model to model/keypoint_classifier\\keypoint_classifier.hdf5\n",
      "Epoch 101/12000\n",
      "66/66 [==============================] - 0s 2ms/step - loss: 0.9629 - accuracy: 0.6363 - val_loss: 0.5898 - val_accuracy: 0.9021\n",
      "\n",
      "Epoch 00101: saving model to model/keypoint_classifier\\keypoint_classifier.hdf5\n",
      "Epoch 102/12000\n",
      "66/66 [==============================] - 0s 3ms/step - loss: 0.9663 - accuracy: 0.6274 - val_loss: 0.5800 - val_accuracy: 0.9168\n",
      "\n",
      "Epoch 00102: saving model to model/keypoint_classifier\\keypoint_classifier.hdf5\n",
      "Epoch 103/12000\n",
      "66/66 [==============================] - 0s 3ms/step - loss: 0.9732 - accuracy: 0.6250 - val_loss: 0.5716 - val_accuracy: 0.9140\n",
      "\n",
      "Epoch 00103: saving model to model/keypoint_classifier\\keypoint_classifier.hdf5\n",
      "Epoch 104/12000\n",
      "66/66 [==============================] - 0s 2ms/step - loss: 0.9463 - accuracy: 0.6325 - val_loss: 0.5811 - val_accuracy: 0.9060\n",
      "\n",
      "Epoch 00104: saving model to model/keypoint_classifier\\keypoint_classifier.hdf5\n",
      "Epoch 105/12000\n",
      "66/66 [==============================] - 0s 3ms/step - loss: 0.9385 - accuracy: 0.6413 - val_loss: 0.5836 - val_accuracy: 0.9021\n",
      "\n",
      "Epoch 00105: saving model to model/keypoint_classifier\\keypoint_classifier.hdf5\n",
      "Epoch 106/12000\n",
      "66/66 [==============================] - 0s 3ms/step - loss: 0.9646 - accuracy: 0.6211 - val_loss: 0.5808 - val_accuracy: 0.9161\n",
      "\n",
      "Epoch 00106: saving model to model/keypoint_classifier\\keypoint_classifier.hdf5\n",
      "Epoch 107/12000\n",
      "66/66 [==============================] - 0s 2ms/step - loss: 0.9436 - accuracy: 0.6412 - val_loss: 0.5695 - val_accuracy: 0.9053\n",
      "\n",
      "Epoch 00107: saving model to model/keypoint_classifier\\keypoint_classifier.hdf5\n",
      "Epoch 108/12000\n",
      "66/66 [==============================] - 0s 3ms/step - loss: 0.9424 - accuracy: 0.6393 - val_loss: 0.5578 - val_accuracy: 0.9212\n",
      "\n",
      "Epoch 00108: saving model to model/keypoint_classifier\\keypoint_classifier.hdf5\n",
      "Epoch 109/12000\n",
      "66/66 [==============================] - 0s 2ms/step - loss: 0.9595 - accuracy: 0.6338 - val_loss: 0.5898 - val_accuracy: 0.9024\n",
      "\n",
      "Epoch 00109: saving model to model/keypoint_classifier\\keypoint_classifier.hdf5\n",
      "Epoch 110/12000\n",
      "66/66 [==============================] - 0s 3ms/step - loss: 0.9493 - accuracy: 0.6327 - val_loss: 0.5915 - val_accuracy: 0.9021\n",
      "\n",
      "Epoch 00110: saving model to model/keypoint_classifier\\keypoint_classifier.hdf5\n",
      "Epoch 111/12000\n",
      "66/66 [==============================] - 0s 3ms/step - loss: 0.9320 - accuracy: 0.6339 - val_loss: 0.5609 - val_accuracy: 0.9158\n",
      "\n",
      "Epoch 00111: saving model to model/keypoint_classifier\\keypoint_classifier.hdf5\n",
      "Epoch 112/12000\n",
      "66/66 [==============================] - 0s 3ms/step - loss: 0.9382 - accuracy: 0.6458 - val_loss: 0.5703 - val_accuracy: 0.9114\n",
      "\n",
      "Epoch 00112: saving model to model/keypoint_classifier\\keypoint_classifier.hdf5\n",
      "Epoch 113/12000\n",
      "66/66 [==============================] - 0s 2ms/step - loss: 0.9494 - accuracy: 0.6404 - val_loss: 0.5779 - val_accuracy: 0.9089\n",
      "\n",
      "Epoch 00113: saving model to model/keypoint_classifier\\keypoint_classifier.hdf5\n",
      "Epoch 114/12000\n",
      "66/66 [==============================] - 0s 2ms/step - loss: 0.9251 - accuracy: 0.6376 - val_loss: 0.5745 - val_accuracy: 0.9129\n",
      "\n",
      "Epoch 00114: saving model to model/keypoint_classifier\\keypoint_classifier.hdf5\n",
      "Epoch 115/12000\n",
      "66/66 [==============================] - 0s 3ms/step - loss: 0.9489 - accuracy: 0.6406 - val_loss: 0.5791 - val_accuracy: 0.9104\n",
      "\n",
      "Epoch 00115: saving model to model/keypoint_classifier\\keypoint_classifier.hdf5\n",
      "Epoch 116/12000\n",
      "66/66 [==============================] - 0s 3ms/step - loss: 0.9140 - accuracy: 0.6539 - val_loss: 0.5866 - val_accuracy: 0.9064\n",
      "\n",
      "Epoch 00116: saving model to model/keypoint_classifier\\keypoint_classifier.hdf5\n",
      "Epoch 117/12000\n",
      "66/66 [==============================] - 0s 3ms/step - loss: 0.9254 - accuracy: 0.6355 - val_loss: 0.5813 - val_accuracy: 0.8938\n",
      "\n",
      "Epoch 00117: saving model to model/keypoint_classifier\\keypoint_classifier.hdf5\n",
      "Epoch 118/12000\n",
      "66/66 [==============================] - 0s 2ms/step - loss: 0.9180 - accuracy: 0.6496 - val_loss: 0.6055 - val_accuracy: 0.8952\n",
      "\n",
      "Epoch 00118: saving model to model/keypoint_classifier\\keypoint_classifier.hdf5\n",
      "Epoch 119/12000\n",
      "66/66 [==============================] - 0s 3ms/step - loss: 0.9221 - accuracy: 0.6478 - val_loss: 0.5781 - val_accuracy: 0.9078\n",
      "\n",
      "Epoch 00119: saving model to model/keypoint_classifier\\keypoint_classifier.hdf5\n",
      "Epoch 120/12000\n",
      "66/66 [==============================] - 0s 3ms/step - loss: 0.9092 - accuracy: 0.6502 - val_loss: 0.5714 - val_accuracy: 0.8992\n",
      "\n",
      "Epoch 00120: saving model to model/keypoint_classifier\\keypoint_classifier.hdf5\n",
      "Epoch 121/12000\n",
      "66/66 [==============================] - 0s 2ms/step - loss: 0.9390 - accuracy: 0.6372 - val_loss: 0.5745 - val_accuracy: 0.9010\n",
      "\n",
      "Epoch 00121: saving model to model/keypoint_classifier\\keypoint_classifier.hdf5\n",
      "Epoch 122/12000\n",
      "66/66 [==============================] - 0s 2ms/step - loss: 0.8938 - accuracy: 0.6531 - val_loss: 0.5902 - val_accuracy: 0.8985\n",
      "\n",
      "Epoch 00122: saving model to model/keypoint_classifier\\keypoint_classifier.hdf5\n",
      "Epoch 123/12000\n",
      "66/66 [==============================] - 0s 2ms/step - loss: 0.9444 - accuracy: 0.6428 - val_loss: 0.5934 - val_accuracy: 0.8978\n",
      "\n",
      "Epoch 00123: saving model to model/keypoint_classifier\\keypoint_classifier.hdf5\n",
      "Epoch 124/12000\n",
      "66/66 [==============================] - 0s 2ms/step - loss: 0.9190 - accuracy: 0.6491 - val_loss: 0.5914 - val_accuracy: 0.9017\n",
      "\n",
      "Epoch 00124: saving model to model/keypoint_classifier\\keypoint_classifier.hdf5\n",
      "Epoch 125/12000\n",
      "66/66 [==============================] - 0s 2ms/step - loss: 0.9280 - accuracy: 0.6359 - val_loss: 0.5849 - val_accuracy: 0.8974\n",
      "\n",
      "Epoch 00125: saving model to model/keypoint_classifier\\keypoint_classifier.hdf5\n",
      "Epoch 126/12000\n",
      "66/66 [==============================] - 0s 3ms/step - loss: 0.9286 - accuracy: 0.6370 - val_loss: 0.6211 - val_accuracy: 0.8952\n",
      "\n",
      "Epoch 00126: saving model to model/keypoint_classifier\\keypoint_classifier.hdf5\n",
      "Epoch 127/12000\n",
      "66/66 [==============================] - 0s 2ms/step - loss: 0.9155 - accuracy: 0.6480 - val_loss: 0.6107 - val_accuracy: 0.9010\n",
      "\n",
      "Epoch 00127: saving model to model/keypoint_classifier\\keypoint_classifier.hdf5\n",
      "Epoch 128/12000\n",
      "66/66 [==============================] - 0s 3ms/step - loss: 0.9017 - accuracy: 0.6522 - val_loss: 0.5820 - val_accuracy: 0.9053\n",
      "\n",
      "Epoch 00128: saving model to model/keypoint_classifier\\keypoint_classifier.hdf5\n",
      "Epoch 00128: early stopping\n"
     ]
    },
    {
     "output_type": "execute_result",
     "data": {
      "text/plain": [
       "<tensorflow.python.keras.callbacks.History at 0x2940d685550>"
      ]
     },
     "metadata": {},
     "execution_count": 13
    }
   ],
   "source": [
    "model.fit(\n",
    "    X_train,\n",
    "    y_train,\n",
    "    epochs=12000,\n",
    "    batch_size=128,\n",
    "    validation_data=(X_test, y_test),\n",
    "    callbacks=[cp_callback, es_callback]\n",
    ")"
   ]
  },
  {
   "cell_type": "code",
   "execution_count": 14,
   "metadata": {},
   "outputs": [
    {
     "output_type": "stream",
     "name": "stdout",
     "text": [
      "22/22 [==============================] - 0s 1ms/step - loss: 0.5820 - accuracy: 0.9053\n"
     ]
    }
   ],
   "source": [
    "# 模型评估\n",
    "val_loss, val_acc = model.evaluate(X_test, y_test, batch_size=128)"
   ]
  },
  {
   "cell_type": "code",
   "execution_count": 15,
   "metadata": {},
   "outputs": [],
   "source": [
    "# 加载保存的模型\n",
    "model = tf.keras.models.load_model(model_save_path)"
   ]
  },
  {
   "cell_type": "code",
   "execution_count": 16,
   "metadata": {},
   "outputs": [
    {
     "output_type": "stream",
     "name": "stdout",
     "text": [
      "[1.4411871e-01 9.6272241e-05 2.2056948e-02 7.0651151e-02 7.4059727e-07\n 2.4476953e-04 7.6142448e-01 1.4069699e-03]\n6\n"
     ]
    }
   ],
   "source": [
    "# 推理测试\n",
    "predict_result = model.predict(np.array([X_test[0]]))\n",
    "print(np.squeeze(predict_result))\n",
    "print(np.argmax(np.squeeze(predict_result)))"
   ]
  },
  {
   "cell_type": "markdown",
   "metadata": {},
   "source": [
    "# 混淆矩阵"
   ]
  },
  {
   "cell_type": "code",
   "execution_count": 17,
   "metadata": {},
   "outputs": [
    {
     "output_type": "display_data",
     "data": {
      "text/plain": "<Figure size 504x432 with 2 Axes>",
      "image/svg+xml": "<?xml version=\"1.0\" encoding=\"utf-8\" standalone=\"no\"?>\r\n<!DOCTYPE svg PUBLIC \"-//W3C//DTD SVG 1.1//EN\"\r\n  \"http://www.w3.org/Graphics/SVG/1.1/DTD/svg11.dtd\">\r\n<!-- Created with matplotlib (https://matplotlib.org/) -->\r\n<svg height=\"357.238125pt\" version=\"1.1\" viewBox=\"0 0 405.483625 357.238125\" width=\"405.483625pt\" xmlns=\"http://www.w3.org/2000/svg\" xmlns:xlink=\"http://www.w3.org/1999/xlink\">\r\n <metadata>\r\n  <rdf:RDF xmlns:cc=\"http://creativecommons.org/ns#\" xmlns:dc=\"http://purl.org/dc/elements/1.1/\" xmlns:rdf=\"http://www.w3.org/1999/02/22-rdf-syntax-ns#\">\r\n   <cc:Work>\r\n    <dc:type rdf:resource=\"http://purl.org/dc/dcmitype/StillImage\"/>\r\n    <dc:date>2021-04-13T17:32:03.053824</dc:date>\r\n    <dc:format>image/svg+xml</dc:format>\r\n    <dc:creator>\r\n     <cc:Agent>\r\n      <dc:title>Matplotlib v3.3.4, https://matplotlib.org/</dc:title>\r\n     </cc:Agent>\r\n    </dc:creator>\r\n   </cc:Work>\r\n  </rdf:RDF>\r\n </metadata>\r\n <defs>\r\n  <style type=\"text/css\">*{stroke-linecap:butt;stroke-linejoin:round;}</style>\r\n </defs>\r\n <g id=\"figure_1\">\r\n  <g id=\"patch_1\">\r\n   <path d=\"M 0 357.238125 \r\nL 405.483625 357.238125 \r\nL 405.483625 0 \r\nL 0 0 \r\nz\r\n\" style=\"fill:none;\"/>\r\n  </g>\r\n  <g id=\"axes_1\">\r\n   <g id=\"patch_2\">\r\n    <path d=\"M 23.878125 333.36 \r\nL 336.358125 333.36 \r\nL 336.358125 7.2 \r\nL 23.878125 7.2 \r\nz\r\n\" style=\"fill:#ffffff;\"/>\r\n   </g>\r\n   <g id=\"QuadMesh_1\">\r\n    <path clip-path=\"url(#p6d0a525c2e)\" d=\"M 23.878125 7.2 \r\nL 62.938125 7.2 \r\nL 62.938125 47.97 \r\nL 23.878125 47.97 \r\nL 23.878125 7.2 \r\n\" style=\"fill:#faebdd;\"/>\r\n    <path clip-path=\"url(#p6d0a525c2e)\" d=\"M 62.938125 7.2 \r\nL 101.998125 7.2 \r\nL 101.998125 47.97 \r\nL 62.938125 47.97 \r\nL 62.938125 7.2 \r\n\" style=\"fill:#03051a;\"/>\r\n    <path clip-path=\"url(#p6d0a525c2e)\" d=\"M 101.998125 7.2 \r\nL 141.058125 7.2 \r\nL 141.058125 47.97 \r\nL 101.998125 47.97 \r\nL 101.998125 7.2 \r\n\" style=\"fill:#0b0920;\"/>\r\n    <path clip-path=\"url(#p6d0a525c2e)\" d=\"M 141.058125 7.2 \r\nL 180.118125 7.2 \r\nL 180.118125 47.97 \r\nL 141.058125 47.97 \r\nL 141.058125 7.2 \r\n\" style=\"fill:#05061b;\"/>\r\n    <path clip-path=\"url(#p6d0a525c2e)\" d=\"M 180.118125 7.2 \r\nL 219.178125 7.2 \r\nL 219.178125 47.97 \r\nL 180.118125 47.97 \r\nL 180.118125 7.2 \r\n\" style=\"fill:#03051a;\"/>\r\n    <path clip-path=\"url(#p6d0a525c2e)\" d=\"M 219.178125 7.2 \r\nL 258.238125 7.2 \r\nL 258.238125 47.97 \r\nL 219.178125 47.97 \r\nL 219.178125 7.2 \r\n\" style=\"fill:#03051a;\"/>\r\n    <path clip-path=\"url(#p6d0a525c2e)\" d=\"M 258.238125 7.2 \r\nL 297.298125 7.2 \r\nL 297.298125 47.97 \r\nL 258.238125 47.97 \r\nL 258.238125 7.2 \r\n\" style=\"fill:#03051a;\"/>\r\n    <path clip-path=\"url(#p6d0a525c2e)\" d=\"M 297.298125 7.2 \r\nL 336.358125 7.2 \r\nL 336.358125 47.97 \r\nL 297.298125 47.97 \r\nL 297.298125 7.2 \r\n\" style=\"fill:#03051a;\"/>\r\n    <path clip-path=\"url(#p6d0a525c2e)\" d=\"M 23.878125 47.97 \r\nL 62.938125 47.97 \r\nL 62.938125 88.74 \r\nL 23.878125 88.74 \r\nL 23.878125 47.97 \r\n\" style=\"fill:#08081e;\"/>\r\n    <path clip-path=\"url(#p6d0a525c2e)\" d=\"M 62.938125 47.97 \r\nL 101.998125 47.97 \r\nL 101.998125 88.74 \r\nL 62.938125 88.74 \r\nL 62.938125 47.97 \r\n\" style=\"fill:#971c5b;\"/>\r\n    <path clip-path=\"url(#p6d0a525c2e)\" d=\"M 101.998125 47.97 \r\nL 141.058125 47.97 \r\nL 141.058125 88.74 \r\nL 101.998125 88.74 \r\nL 101.998125 47.97 \r\n\" style=\"fill:#03051a;\"/>\r\n    <path clip-path=\"url(#p6d0a525c2e)\" d=\"M 141.058125 47.97 \r\nL 180.118125 47.97 \r\nL 180.118125 88.74 \r\nL 141.058125 88.74 \r\nL 141.058125 47.97 \r\n\" style=\"fill:#03051a;\"/>\r\n    <path clip-path=\"url(#p6d0a525c2e)\" d=\"M 180.118125 47.97 \r\nL 219.178125 47.97 \r\nL 219.178125 88.74 \r\nL 180.118125 88.74 \r\nL 180.118125 47.97 \r\n\" style=\"fill:#06071c;\"/>\r\n    <path clip-path=\"url(#p6d0a525c2e)\" d=\"M 219.178125 47.97 \r\nL 258.238125 47.97 \r\nL 258.238125 88.74 \r\nL 219.178125 88.74 \r\nL 219.178125 47.97 \r\n\" style=\"fill:#03051a;\"/>\r\n    <path clip-path=\"url(#p6d0a525c2e)\" d=\"M 258.238125 47.97 \r\nL 297.298125 47.97 \r\nL 297.298125 88.74 \r\nL 258.238125 88.74 \r\nL 258.238125 47.97 \r\n\" style=\"fill:#03051a;\"/>\r\n    <path clip-path=\"url(#p6d0a525c2e)\" d=\"M 297.298125 47.97 \r\nL 336.358125 47.97 \r\nL 336.358125 88.74 \r\nL 297.298125 88.74 \r\nL 297.298125 47.97 \r\n\" style=\"fill:#08081e;\"/>\r\n    <path clip-path=\"url(#p6d0a525c2e)\" d=\"M 23.878125 88.74 \r\nL 62.938125 88.74 \r\nL 62.938125 129.51 \r\nL 23.878125 129.51 \r\nL 23.878125 88.74 \r\n\" style=\"fill:#0e0b22;\"/>\r\n    <path clip-path=\"url(#p6d0a525c2e)\" d=\"M 62.938125 88.74 \r\nL 101.998125 88.74 \r\nL 101.998125 129.51 \r\nL 62.938125 129.51 \r\nL 62.938125 88.74 \r\n\" style=\"fill:#03051a;\"/>\r\n    <path clip-path=\"url(#p6d0a525c2e)\" d=\"M 101.998125 88.74 \r\nL 141.058125 88.74 \r\nL 141.058125 129.51 \r\nL 101.998125 129.51 \r\nL 101.998125 88.74 \r\n\" style=\"fill:#c81951;\"/>\r\n    <path clip-path=\"url(#p6d0a525c2e)\" d=\"M 141.058125 88.74 \r\nL 180.118125 88.74 \r\nL 180.118125 129.51 \r\nL 141.058125 129.51 \r\nL 141.058125 88.74 \r\n\" style=\"fill:#03051a;\"/>\r\n    <path clip-path=\"url(#p6d0a525c2e)\" d=\"M 180.118125 88.74 \r\nL 219.178125 88.74 \r\nL 219.178125 129.51 \r\nL 180.118125 129.51 \r\nL 180.118125 88.74 \r\n\" style=\"fill:#03051a;\"/>\r\n    <path clip-path=\"url(#p6d0a525c2e)\" d=\"M 219.178125 88.74 \r\nL 258.238125 88.74 \r\nL 258.238125 129.51 \r\nL 219.178125 129.51 \r\nL 219.178125 88.74 \r\n\" style=\"fill:#03051a;\"/>\r\n    <path clip-path=\"url(#p6d0a525c2e)\" d=\"M 258.238125 88.74 \r\nL 297.298125 88.74 \r\nL 297.298125 129.51 \r\nL 258.238125 129.51 \r\nL 258.238125 88.74 \r\n\" style=\"fill:#03051a;\"/>\r\n    <path clip-path=\"url(#p6d0a525c2e)\" d=\"M 297.298125 88.74 \r\nL 336.358125 88.74 \r\nL 336.358125 129.51 \r\nL 297.298125 129.51 \r\nL 297.298125 88.74 \r\n\" style=\"fill:#241432;\"/>\r\n    <path clip-path=\"url(#p6d0a525c2e)\" d=\"M 23.878125 129.51 \r\nL 62.938125 129.51 \r\nL 62.938125 170.28 \r\nL 23.878125 170.28 \r\nL 23.878125 129.51 \r\n\" style=\"fill:#1b112b;\"/>\r\n    <path clip-path=\"url(#p6d0a525c2e)\" d=\"M 62.938125 129.51 \r\nL 101.998125 129.51 \r\nL 101.998125 170.28 \r\nL 62.938125 170.28 \r\nL 62.938125 129.51 \r\n\" style=\"fill:#03051a;\"/>\r\n    <path clip-path=\"url(#p6d0a525c2e)\" d=\"M 101.998125 129.51 \r\nL 141.058125 129.51 \r\nL 141.058125 170.28 \r\nL 101.998125 170.28 \r\nL 101.998125 129.51 \r\n\" style=\"fill:#06071c;\"/>\r\n    <path clip-path=\"url(#p6d0a525c2e)\" d=\"M 141.058125 129.51 \r\nL 180.118125 129.51 \r\nL 180.118125 170.28 \r\nL 141.058125 170.28 \r\nL 141.058125 129.51 \r\n\" style=\"fill:#901d5b;\"/>\r\n    <path clip-path=\"url(#p6d0a525c2e)\" d=\"M 180.118125 129.51 \r\nL 219.178125 129.51 \r\nL 219.178125 170.28 \r\nL 180.118125 170.28 \r\nL 180.118125 129.51 \r\n\" style=\"fill:#03051a;\"/>\r\n    <path clip-path=\"url(#p6d0a525c2e)\" d=\"M 219.178125 129.51 \r\nL 258.238125 129.51 \r\nL 258.238125 170.28 \r\nL 219.178125 170.28 \r\nL 219.178125 129.51 \r\n\" style=\"fill:#03051a;\"/>\r\n    <path clip-path=\"url(#p6d0a525c2e)\" d=\"M 258.238125 129.51 \r\nL 297.298125 129.51 \r\nL 297.298125 170.28 \r\nL 258.238125 170.28 \r\nL 258.238125 129.51 \r\n\" style=\"fill:#03051a;\"/>\r\n    <path clip-path=\"url(#p6d0a525c2e)\" d=\"M 297.298125 129.51 \r\nL 336.358125 129.51 \r\nL 336.358125 170.28 \r\nL 297.298125 170.28 \r\nL 297.298125 129.51 \r\n\" style=\"fill:#03051a;\"/>\r\n    <path clip-path=\"url(#p6d0a525c2e)\" d=\"M 23.878125 170.28 \r\nL 62.938125 170.28 \r\nL 62.938125 211.05 \r\nL 23.878125 211.05 \r\nL 23.878125 170.28 \r\n\" style=\"fill:#03051a;\"/>\r\n    <path clip-path=\"url(#p6d0a525c2e)\" d=\"M 62.938125 170.28 \r\nL 101.998125 170.28 \r\nL 101.998125 211.05 \r\nL 62.938125 211.05 \r\nL 62.938125 170.28 \r\n\" style=\"fill:#03051a;\"/>\r\n    <path clip-path=\"url(#p6d0a525c2e)\" d=\"M 101.998125 170.28 \r\nL 141.058125 170.28 \r\nL 141.058125 211.05 \r\nL 101.998125 211.05 \r\nL 101.998125 170.28 \r\n\" style=\"fill:#03051a;\"/>\r\n    <path clip-path=\"url(#p6d0a525c2e)\" d=\"M 141.058125 170.28 \r\nL 180.118125 170.28 \r\nL 180.118125 211.05 \r\nL 141.058125 211.05 \r\nL 141.058125 170.28 \r\n\" style=\"fill:#03051a;\"/>\r\n    <path clip-path=\"url(#p6d0a525c2e)\" d=\"M 180.118125 170.28 \r\nL 219.178125 170.28 \r\nL 219.178125 211.05 \r\nL 180.118125 211.05 \r\nL 180.118125 170.28 \r\n\" style=\"fill:#c81951;\"/>\r\n    <path clip-path=\"url(#p6d0a525c2e)\" d=\"M 219.178125 170.28 \r\nL 258.238125 170.28 \r\nL 258.238125 211.05 \r\nL 219.178125 211.05 \r\nL 219.178125 170.28 \r\n\" style=\"fill:#03051a;\"/>\r\n    <path clip-path=\"url(#p6d0a525c2e)\" d=\"M 258.238125 170.28 \r\nL 297.298125 170.28 \r\nL 297.298125 211.05 \r\nL 258.238125 211.05 \r\nL 258.238125 170.28 \r\n\" style=\"fill:#03051a;\"/>\r\n    <path clip-path=\"url(#p6d0a525c2e)\" d=\"M 297.298125 170.28 \r\nL 336.358125 170.28 \r\nL 336.358125 211.05 \r\nL 297.298125 211.05 \r\nL 297.298125 170.28 \r\n\" style=\"fill:#03051a;\"/>\r\n    <path clip-path=\"url(#p6d0a525c2e)\" d=\"M 23.878125 211.05 \r\nL 62.938125 211.05 \r\nL 62.938125 251.82 \r\nL 23.878125 251.82 \r\nL 23.878125 211.05 \r\n\" style=\"fill:#03051a;\"/>\r\n    <path clip-path=\"url(#p6d0a525c2e)\" d=\"M 62.938125 211.05 \r\nL 101.998125 211.05 \r\nL 101.998125 251.82 \r\nL 62.938125 251.82 \r\nL 62.938125 211.05 \r\n\" style=\"fill:#03051a;\"/>\r\n    <path clip-path=\"url(#p6d0a525c2e)\" d=\"M 101.998125 211.05 \r\nL 141.058125 211.05 \r\nL 141.058125 251.82 \r\nL 101.998125 251.82 \r\nL 101.998125 211.05 \r\n\" style=\"fill:#03051a;\"/>\r\n    <path clip-path=\"url(#p6d0a525c2e)\" d=\"M 141.058125 211.05 \r\nL 180.118125 211.05 \r\nL 180.118125 251.82 \r\nL 141.058125 251.82 \r\nL 141.058125 211.05 \r\n\" style=\"fill:#03051a;\"/>\r\n    <path clip-path=\"url(#p6d0a525c2e)\" d=\"M 180.118125 211.05 \r\nL 219.178125 211.05 \r\nL 219.178125 251.82 \r\nL 180.118125 251.82 \r\nL 180.118125 211.05 \r\n\" style=\"fill:#06071c;\"/>\r\n    <path clip-path=\"url(#p6d0a525c2e)\" d=\"M 219.178125 211.05 \r\nL 258.238125 211.05 \r\nL 258.238125 251.82 \r\nL 219.178125 251.82 \r\nL 219.178125 211.05 \r\n\" style=\"fill:#a8185a;\"/>\r\n    <path clip-path=\"url(#p6d0a525c2e)\" d=\"M 258.238125 211.05 \r\nL 297.298125 211.05 \r\nL 297.298125 251.82 \r\nL 258.238125 251.82 \r\nL 258.238125 211.05 \r\n\" style=\"fill:#03051a;\"/>\r\n    <path clip-path=\"url(#p6d0a525c2e)\" d=\"M 297.298125 211.05 \r\nL 336.358125 211.05 \r\nL 336.358125 251.82 \r\nL 297.298125 251.82 \r\nL 297.298125 211.05 \r\n\" style=\"fill:#03051a;\"/>\r\n    <path clip-path=\"url(#p6d0a525c2e)\" d=\"M 23.878125 251.82 \r\nL 62.938125 251.82 \r\nL 62.938125 292.59 \r\nL 23.878125 292.59 \r\nL 23.878125 251.82 \r\n\" style=\"fill:#0b0920;\"/>\r\n    <path clip-path=\"url(#p6d0a525c2e)\" d=\"M 62.938125 251.82 \r\nL 101.998125 251.82 \r\nL 101.998125 292.59 \r\nL 62.938125 292.59 \r\nL 62.938125 251.82 \r\n\" style=\"fill:#03051a;\"/>\r\n    <path clip-path=\"url(#p6d0a525c2e)\" d=\"M 101.998125 251.82 \r\nL 141.058125 251.82 \r\nL 141.058125 292.59 \r\nL 101.998125 292.59 \r\nL 101.998125 251.82 \r\n\" style=\"fill:#03051a;\"/>\r\n    <path clip-path=\"url(#p6d0a525c2e)\" d=\"M 141.058125 251.82 \r\nL 180.118125 251.82 \r\nL 180.118125 292.59 \r\nL 141.058125 292.59 \r\nL 141.058125 251.82 \r\n\" style=\"fill:#03051a;\"/>\r\n    <path clip-path=\"url(#p6d0a525c2e)\" d=\"M 180.118125 251.82 \r\nL 219.178125 251.82 \r\nL 219.178125 292.59 \r\nL 180.118125 292.59 \r\nL 180.118125 251.82 \r\n\" style=\"fill:#03051a;\"/>\r\n    <path clip-path=\"url(#p6d0a525c2e)\" d=\"M 219.178125 251.82 \r\nL 258.238125 251.82 \r\nL 258.238125 292.59 \r\nL 219.178125 292.59 \r\nL 219.178125 251.82 \r\n\" style=\"fill:#08081e;\"/>\r\n    <path clip-path=\"url(#p6d0a525c2e)\" d=\"M 258.238125 251.82 \r\nL 297.298125 251.82 \r\nL 297.298125 292.59 \r\nL 258.238125 292.59 \r\nL 258.238125 251.82 \r\n\" style=\"fill:#c81951;\"/>\r\n    <path clip-path=\"url(#p6d0a525c2e)\" d=\"M 297.298125 251.82 \r\nL 336.358125 251.82 \r\nL 336.358125 292.59 \r\nL 297.298125 292.59 \r\nL 297.298125 251.82 \r\n\" style=\"fill:#03051a;\"/>\r\n    <path clip-path=\"url(#p6d0a525c2e)\" d=\"M 23.878125 292.59 \r\nL 62.938125 292.59 \r\nL 62.938125 333.36 \r\nL 23.878125 333.36 \r\nL 23.878125 292.59 \r\n\" style=\"fill:#03051a;\"/>\r\n    <path clip-path=\"url(#p6d0a525c2e)\" d=\"M 62.938125 292.59 \r\nL 101.998125 292.59 \r\nL 101.998125 333.36 \r\nL 62.938125 333.36 \r\nL 62.938125 292.59 \r\n\" style=\"fill:#100b23;\"/>\r\n    <path clip-path=\"url(#p6d0a525c2e)\" d=\"M 101.998125 292.59 \r\nL 141.058125 292.59 \r\nL 141.058125 333.36 \r\nL 101.998125 333.36 \r\nL 101.998125 292.59 \r\n\" style=\"fill:#03051a;\"/>\r\n    <path clip-path=\"url(#p6d0a525c2e)\" d=\"M 141.058125 292.59 \r\nL 180.118125 292.59 \r\nL 180.118125 333.36 \r\nL 141.058125 333.36 \r\nL 141.058125 292.59 \r\n\" style=\"fill:#03051a;\"/>\r\n    <path clip-path=\"url(#p6d0a525c2e)\" d=\"M 180.118125 292.59 \r\nL 219.178125 292.59 \r\nL 219.178125 333.36 \r\nL 180.118125 333.36 \r\nL 180.118125 292.59 \r\n\" style=\"fill:#03051a;\"/>\r\n    <path clip-path=\"url(#p6d0a525c2e)\" d=\"M 219.178125 292.59 \r\nL 258.238125 292.59 \r\nL 258.238125 333.36 \r\nL 219.178125 333.36 \r\nL 219.178125 292.59 \r\n\" style=\"fill:#03051a;\"/>\r\n    <path clip-path=\"url(#p6d0a525c2e)\" d=\"M 258.238125 292.59 \r\nL 297.298125 292.59 \r\nL 297.298125 333.36 \r\nL 258.238125 333.36 \r\nL 258.238125 292.59 \r\n\" style=\"fill:#03051a;\"/>\r\n    <path clip-path=\"url(#p6d0a525c2e)\" d=\"M 297.298125 292.59 \r\nL 336.358125 292.59 \r\nL 336.358125 333.36 \r\nL 297.298125 333.36 \r\nL 297.298125 292.59 \r\n\" style=\"fill:#bc1656;\"/>\r\n   </g>\r\n   <g id=\"matplotlib.axis_1\">\r\n    <g id=\"xtick_1\">\r\n     <g id=\"line2d_1\">\r\n      <defs>\r\n       <path d=\"M 0 0 \r\nL 0 3.5 \r\n\" id=\"m750acb2440\" style=\"stroke:#000000;stroke-width:0.8;\"/>\r\n      </defs>\r\n      <g>\r\n       <use style=\"stroke:#000000;stroke-width:0.8;\" x=\"43.408125\" xlink:href=\"#m750acb2440\" y=\"333.36\"/>\r\n      </g>\r\n     </g>\r\n     <g id=\"text_1\">\r\n      <!-- 0 -->\r\n      <g transform=\"translate(40.226875 347.958438)scale(0.1 -0.1)\">\r\n       <defs>\r\n        <path d=\"M 31.78125 66.40625 \r\nQ 24.171875 66.40625 20.328125 58.90625 \r\nQ 16.5 51.421875 16.5 36.375 \r\nQ 16.5 21.390625 20.328125 13.890625 \r\nQ 24.171875 6.390625 31.78125 6.390625 \r\nQ 39.453125 6.390625 43.28125 13.890625 \r\nQ 47.125 21.390625 47.125 36.375 \r\nQ 47.125 51.421875 43.28125 58.90625 \r\nQ 39.453125 66.40625 31.78125 66.40625 \r\nz\r\nM 31.78125 74.21875 \r\nQ 44.046875 74.21875 50.515625 64.515625 \r\nQ 56.984375 54.828125 56.984375 36.375 \r\nQ 56.984375 17.96875 50.515625 8.265625 \r\nQ 44.046875 -1.421875 31.78125 -1.421875 \r\nQ 19.53125 -1.421875 13.0625 8.265625 \r\nQ 6.59375 17.96875 6.59375 36.375 \r\nQ 6.59375 54.828125 13.0625 64.515625 \r\nQ 19.53125 74.21875 31.78125 74.21875 \r\nz\r\n\" id=\"DejaVuSans-48\"/>\r\n       </defs>\r\n       <use xlink:href=\"#DejaVuSans-48\"/>\r\n      </g>\r\n     </g>\r\n    </g>\r\n    <g id=\"xtick_2\">\r\n     <g id=\"line2d_2\">\r\n      <g>\r\n       <use style=\"stroke:#000000;stroke-width:0.8;\" x=\"82.468125\" xlink:href=\"#m750acb2440\" y=\"333.36\"/>\r\n      </g>\r\n     </g>\r\n     <g id=\"text_2\">\r\n      <!-- 1 -->\r\n      <g transform=\"translate(79.286875 347.958438)scale(0.1 -0.1)\">\r\n       <defs>\r\n        <path d=\"M 12.40625 8.296875 \r\nL 28.515625 8.296875 \r\nL 28.515625 63.921875 \r\nL 10.984375 60.40625 \r\nL 10.984375 69.390625 \r\nL 28.421875 72.90625 \r\nL 38.28125 72.90625 \r\nL 38.28125 8.296875 \r\nL 54.390625 8.296875 \r\nL 54.390625 0 \r\nL 12.40625 0 \r\nz\r\n\" id=\"DejaVuSans-49\"/>\r\n       </defs>\r\n       <use xlink:href=\"#DejaVuSans-49\"/>\r\n      </g>\r\n     </g>\r\n    </g>\r\n    <g id=\"xtick_3\">\r\n     <g id=\"line2d_3\">\r\n      <g>\r\n       <use style=\"stroke:#000000;stroke-width:0.8;\" x=\"121.528125\" xlink:href=\"#m750acb2440\" y=\"333.36\"/>\r\n      </g>\r\n     </g>\r\n     <g id=\"text_3\">\r\n      <!-- 2 -->\r\n      <g transform=\"translate(118.346875 347.958438)scale(0.1 -0.1)\">\r\n       <defs>\r\n        <path d=\"M 19.1875 8.296875 \r\nL 53.609375 8.296875 \r\nL 53.609375 0 \r\nL 7.328125 0 \r\nL 7.328125 8.296875 \r\nQ 12.9375 14.109375 22.625 23.890625 \r\nQ 32.328125 33.6875 34.8125 36.53125 \r\nQ 39.546875 41.84375 41.421875 45.53125 \r\nQ 43.3125 49.21875 43.3125 52.78125 \r\nQ 43.3125 58.59375 39.234375 62.25 \r\nQ 35.15625 65.921875 28.609375 65.921875 \r\nQ 23.96875 65.921875 18.8125 64.3125 \r\nQ 13.671875 62.703125 7.8125 59.421875 \r\nL 7.8125 69.390625 \r\nQ 13.765625 71.78125 18.9375 73 \r\nQ 24.125 74.21875 28.421875 74.21875 \r\nQ 39.75 74.21875 46.484375 68.546875 \r\nQ 53.21875 62.890625 53.21875 53.421875 \r\nQ 53.21875 48.921875 51.53125 44.890625 \r\nQ 49.859375 40.875 45.40625 35.40625 \r\nQ 44.1875 33.984375 37.640625 27.21875 \r\nQ 31.109375 20.453125 19.1875 8.296875 \r\nz\r\n\" id=\"DejaVuSans-50\"/>\r\n       </defs>\r\n       <use xlink:href=\"#DejaVuSans-50\"/>\r\n      </g>\r\n     </g>\r\n    </g>\r\n    <g id=\"xtick_4\">\r\n     <g id=\"line2d_4\">\r\n      <g>\r\n       <use style=\"stroke:#000000;stroke-width:0.8;\" x=\"160.588125\" xlink:href=\"#m750acb2440\" y=\"333.36\"/>\r\n      </g>\r\n     </g>\r\n     <g id=\"text_4\">\r\n      <!-- 3 -->\r\n      <g transform=\"translate(157.406875 347.958438)scale(0.1 -0.1)\">\r\n       <defs>\r\n        <path d=\"M 40.578125 39.3125 \r\nQ 47.65625 37.796875 51.625 33 \r\nQ 55.609375 28.21875 55.609375 21.1875 \r\nQ 55.609375 10.40625 48.1875 4.484375 \r\nQ 40.765625 -1.421875 27.09375 -1.421875 \r\nQ 22.515625 -1.421875 17.65625 -0.515625 \r\nQ 12.796875 0.390625 7.625 2.203125 \r\nL 7.625 11.71875 \r\nQ 11.71875 9.328125 16.59375 8.109375 \r\nQ 21.484375 6.890625 26.8125 6.890625 \r\nQ 36.078125 6.890625 40.9375 10.546875 \r\nQ 45.796875 14.203125 45.796875 21.1875 \r\nQ 45.796875 27.640625 41.28125 31.265625 \r\nQ 36.765625 34.90625 28.71875 34.90625 \r\nL 20.21875 34.90625 \r\nL 20.21875 43.015625 \r\nL 29.109375 43.015625 \r\nQ 36.375 43.015625 40.234375 45.921875 \r\nQ 44.09375 48.828125 44.09375 54.296875 \r\nQ 44.09375 59.90625 40.109375 62.90625 \r\nQ 36.140625 65.921875 28.71875 65.921875 \r\nQ 24.65625 65.921875 20.015625 65.03125 \r\nQ 15.375 64.15625 9.8125 62.3125 \r\nL 9.8125 71.09375 \r\nQ 15.4375 72.65625 20.34375 73.4375 \r\nQ 25.25 74.21875 29.59375 74.21875 \r\nQ 40.828125 74.21875 47.359375 69.109375 \r\nQ 53.90625 64.015625 53.90625 55.328125 \r\nQ 53.90625 49.265625 50.4375 45.09375 \r\nQ 46.96875 40.921875 40.578125 39.3125 \r\nz\r\n\" id=\"DejaVuSans-51\"/>\r\n       </defs>\r\n       <use xlink:href=\"#DejaVuSans-51\"/>\r\n      </g>\r\n     </g>\r\n    </g>\r\n    <g id=\"xtick_5\">\r\n     <g id=\"line2d_5\">\r\n      <g>\r\n       <use style=\"stroke:#000000;stroke-width:0.8;\" x=\"199.648125\" xlink:href=\"#m750acb2440\" y=\"333.36\"/>\r\n      </g>\r\n     </g>\r\n     <g id=\"text_5\">\r\n      <!-- 4 -->\r\n      <g transform=\"translate(196.466875 347.958438)scale(0.1 -0.1)\">\r\n       <defs>\r\n        <path d=\"M 37.796875 64.3125 \r\nL 12.890625 25.390625 \r\nL 37.796875 25.390625 \r\nz\r\nM 35.203125 72.90625 \r\nL 47.609375 72.90625 \r\nL 47.609375 25.390625 \r\nL 58.015625 25.390625 \r\nL 58.015625 17.1875 \r\nL 47.609375 17.1875 \r\nL 47.609375 0 \r\nL 37.796875 0 \r\nL 37.796875 17.1875 \r\nL 4.890625 17.1875 \r\nL 4.890625 26.703125 \r\nz\r\n\" id=\"DejaVuSans-52\"/>\r\n       </defs>\r\n       <use xlink:href=\"#DejaVuSans-52\"/>\r\n      </g>\r\n     </g>\r\n    </g>\r\n    <g id=\"xtick_6\">\r\n     <g id=\"line2d_6\">\r\n      <g>\r\n       <use style=\"stroke:#000000;stroke-width:0.8;\" x=\"238.708125\" xlink:href=\"#m750acb2440\" y=\"333.36\"/>\r\n      </g>\r\n     </g>\r\n     <g id=\"text_6\">\r\n      <!-- 5 -->\r\n      <g transform=\"translate(235.526875 347.958438)scale(0.1 -0.1)\">\r\n       <defs>\r\n        <path d=\"M 10.796875 72.90625 \r\nL 49.515625 72.90625 \r\nL 49.515625 64.59375 \r\nL 19.828125 64.59375 \r\nL 19.828125 46.734375 \r\nQ 21.96875 47.46875 24.109375 47.828125 \r\nQ 26.265625 48.1875 28.421875 48.1875 \r\nQ 40.625 48.1875 47.75 41.5 \r\nQ 54.890625 34.8125 54.890625 23.390625 \r\nQ 54.890625 11.625 47.5625 5.09375 \r\nQ 40.234375 -1.421875 26.90625 -1.421875 \r\nQ 22.3125 -1.421875 17.546875 -0.640625 \r\nQ 12.796875 0.140625 7.71875 1.703125 \r\nL 7.71875 11.625 \r\nQ 12.109375 9.234375 16.796875 8.0625 \r\nQ 21.484375 6.890625 26.703125 6.890625 \r\nQ 35.15625 6.890625 40.078125 11.328125 \r\nQ 45.015625 15.765625 45.015625 23.390625 \r\nQ 45.015625 31 40.078125 35.4375 \r\nQ 35.15625 39.890625 26.703125 39.890625 \r\nQ 22.75 39.890625 18.8125 39.015625 \r\nQ 14.890625 38.140625 10.796875 36.28125 \r\nz\r\n\" id=\"DejaVuSans-53\"/>\r\n       </defs>\r\n       <use xlink:href=\"#DejaVuSans-53\"/>\r\n      </g>\r\n     </g>\r\n    </g>\r\n    <g id=\"xtick_7\">\r\n     <g id=\"line2d_7\">\r\n      <g>\r\n       <use style=\"stroke:#000000;stroke-width:0.8;\" x=\"277.768125\" xlink:href=\"#m750acb2440\" y=\"333.36\"/>\r\n      </g>\r\n     </g>\r\n     <g id=\"text_7\">\r\n      <!-- 6 -->\r\n      <g transform=\"translate(274.586875 347.958438)scale(0.1 -0.1)\">\r\n       <defs>\r\n        <path d=\"M 33.015625 40.375 \r\nQ 26.375 40.375 22.484375 35.828125 \r\nQ 18.609375 31.296875 18.609375 23.390625 \r\nQ 18.609375 15.53125 22.484375 10.953125 \r\nQ 26.375 6.390625 33.015625 6.390625 \r\nQ 39.65625 6.390625 43.53125 10.953125 \r\nQ 47.40625 15.53125 47.40625 23.390625 \r\nQ 47.40625 31.296875 43.53125 35.828125 \r\nQ 39.65625 40.375 33.015625 40.375 \r\nz\r\nM 52.59375 71.296875 \r\nL 52.59375 62.3125 \r\nQ 48.875 64.0625 45.09375 64.984375 \r\nQ 41.3125 65.921875 37.59375 65.921875 \r\nQ 27.828125 65.921875 22.671875 59.328125 \r\nQ 17.53125 52.734375 16.796875 39.40625 \r\nQ 19.671875 43.65625 24.015625 45.921875 \r\nQ 28.375 48.1875 33.59375 48.1875 \r\nQ 44.578125 48.1875 50.953125 41.515625 \r\nQ 57.328125 34.859375 57.328125 23.390625 \r\nQ 57.328125 12.15625 50.6875 5.359375 \r\nQ 44.046875 -1.421875 33.015625 -1.421875 \r\nQ 20.359375 -1.421875 13.671875 8.265625 \r\nQ 6.984375 17.96875 6.984375 36.375 \r\nQ 6.984375 53.65625 15.1875 63.9375 \r\nQ 23.390625 74.21875 37.203125 74.21875 \r\nQ 40.921875 74.21875 44.703125 73.484375 \r\nQ 48.484375 72.75 52.59375 71.296875 \r\nz\r\n\" id=\"DejaVuSans-54\"/>\r\n       </defs>\r\n       <use xlink:href=\"#DejaVuSans-54\"/>\r\n      </g>\r\n     </g>\r\n    </g>\r\n    <g id=\"xtick_8\">\r\n     <g id=\"line2d_8\">\r\n      <g>\r\n       <use style=\"stroke:#000000;stroke-width:0.8;\" x=\"316.828125\" xlink:href=\"#m750acb2440\" y=\"333.36\"/>\r\n      </g>\r\n     </g>\r\n     <g id=\"text_8\">\r\n      <!-- 7 -->\r\n      <g transform=\"translate(313.646875 347.958438)scale(0.1 -0.1)\">\r\n       <defs>\r\n        <path d=\"M 8.203125 72.90625 \r\nL 55.078125 72.90625 \r\nL 55.078125 68.703125 \r\nL 28.609375 0 \r\nL 18.3125 0 \r\nL 43.21875 64.59375 \r\nL 8.203125 64.59375 \r\nz\r\n\" id=\"DejaVuSans-55\"/>\r\n       </defs>\r\n       <use xlink:href=\"#DejaVuSans-55\"/>\r\n      </g>\r\n     </g>\r\n    </g>\r\n   </g>\r\n   <g id=\"matplotlib.axis_2\">\r\n    <g id=\"ytick_1\">\r\n     <g id=\"line2d_9\">\r\n      <defs>\r\n       <path d=\"M 0 0 \r\nL -3.5 0 \r\n\" id=\"m0ec02ddb93\" style=\"stroke:#000000;stroke-width:0.8;\"/>\r\n      </defs>\r\n      <g>\r\n       <use style=\"stroke:#000000;stroke-width:0.8;\" x=\"23.878125\" xlink:href=\"#m0ec02ddb93\" y=\"27.585\"/>\r\n      </g>\r\n     </g>\r\n     <g id=\"text_9\">\r\n      <!-- 0 -->\r\n      <g transform=\"translate(14.798438 30.148281)rotate(-90)scale(0.1 -0.1)\">\r\n       <use xlink:href=\"#DejaVuSans-48\"/>\r\n      </g>\r\n     </g>\r\n    </g>\r\n    <g id=\"ytick_2\">\r\n     <g id=\"line2d_10\">\r\n      <g>\r\n       <use style=\"stroke:#000000;stroke-width:0.8;\" x=\"23.878125\" xlink:href=\"#m0ec02ddb93\" y=\"68.355\"/>\r\n      </g>\r\n     </g>\r\n     <g id=\"text_10\">\r\n      <!-- 1 -->\r\n      <g transform=\"translate(14.798438 70.918281)rotate(-90)scale(0.1 -0.1)\">\r\n       <use xlink:href=\"#DejaVuSans-49\"/>\r\n      </g>\r\n     </g>\r\n    </g>\r\n    <g id=\"ytick_3\">\r\n     <g id=\"line2d_11\">\r\n      <g>\r\n       <use style=\"stroke:#000000;stroke-width:0.8;\" x=\"23.878125\" xlink:href=\"#m0ec02ddb93\" y=\"109.125\"/>\r\n      </g>\r\n     </g>\r\n     <g id=\"text_11\">\r\n      <!-- 2 -->\r\n      <g transform=\"translate(14.798438 111.688281)rotate(-90)scale(0.1 -0.1)\">\r\n       <use xlink:href=\"#DejaVuSans-50\"/>\r\n      </g>\r\n     </g>\r\n    </g>\r\n    <g id=\"ytick_4\">\r\n     <g id=\"line2d_12\">\r\n      <g>\r\n       <use style=\"stroke:#000000;stroke-width:0.8;\" x=\"23.878125\" xlink:href=\"#m0ec02ddb93\" y=\"149.895\"/>\r\n      </g>\r\n     </g>\r\n     <g id=\"text_12\">\r\n      <!-- 3 -->\r\n      <g transform=\"translate(14.798438 152.458281)rotate(-90)scale(0.1 -0.1)\">\r\n       <use xlink:href=\"#DejaVuSans-51\"/>\r\n      </g>\r\n     </g>\r\n    </g>\r\n    <g id=\"ytick_5\">\r\n     <g id=\"line2d_13\">\r\n      <g>\r\n       <use style=\"stroke:#000000;stroke-width:0.8;\" x=\"23.878125\" xlink:href=\"#m0ec02ddb93\" y=\"190.665\"/>\r\n      </g>\r\n     </g>\r\n     <g id=\"text_13\">\r\n      <!-- 4 -->\r\n      <g transform=\"translate(14.798438 193.228281)rotate(-90)scale(0.1 -0.1)\">\r\n       <use xlink:href=\"#DejaVuSans-52\"/>\r\n      </g>\r\n     </g>\r\n    </g>\r\n    <g id=\"ytick_6\">\r\n     <g id=\"line2d_14\">\r\n      <g>\r\n       <use style=\"stroke:#000000;stroke-width:0.8;\" x=\"23.878125\" xlink:href=\"#m0ec02ddb93\" y=\"231.435\"/>\r\n      </g>\r\n     </g>\r\n     <g id=\"text_14\">\r\n      <!-- 5 -->\r\n      <g transform=\"translate(14.798438 233.998281)rotate(-90)scale(0.1 -0.1)\">\r\n       <use xlink:href=\"#DejaVuSans-53\"/>\r\n      </g>\r\n     </g>\r\n    </g>\r\n    <g id=\"ytick_7\">\r\n     <g id=\"line2d_15\">\r\n      <g>\r\n       <use style=\"stroke:#000000;stroke-width:0.8;\" x=\"23.878125\" xlink:href=\"#m0ec02ddb93\" y=\"272.205\"/>\r\n      </g>\r\n     </g>\r\n     <g id=\"text_15\">\r\n      <!-- 6 -->\r\n      <g transform=\"translate(14.798438 274.768281)rotate(-90)scale(0.1 -0.1)\">\r\n       <use xlink:href=\"#DejaVuSans-54\"/>\r\n      </g>\r\n     </g>\r\n    </g>\r\n    <g id=\"ytick_8\">\r\n     <g id=\"line2d_16\">\r\n      <g>\r\n       <use style=\"stroke:#000000;stroke-width:0.8;\" x=\"23.878125\" xlink:href=\"#m0ec02ddb93\" y=\"312.975\"/>\r\n      </g>\r\n     </g>\r\n     <g id=\"text_16\">\r\n      <!-- 7 -->\r\n      <g transform=\"translate(14.798438 315.538281)rotate(-90)scale(0.1 -0.1)\">\r\n       <use xlink:href=\"#DejaVuSans-55\"/>\r\n      </g>\r\n     </g>\r\n    </g>\r\n   </g>\r\n   <g id=\"text_17\">\r\n    <!-- 613 -->\r\n    <g style=\"fill:#262626;\" transform=\"translate(33.864375 30.344375)scale(0.1 -0.1)\">\r\n     <use xlink:href=\"#DejaVuSans-54\"/>\r\n     <use x=\"63.623047\" xlink:href=\"#DejaVuSans-49\"/>\r\n     <use x=\"127.246094\" xlink:href=\"#DejaVuSans-51\"/>\r\n    </g>\r\n   </g>\r\n   <g id=\"text_18\">\r\n    <!-- 1 -->\r\n    <g style=\"fill:#ffffff;\" transform=\"translate(79.286875 30.344375)scale(0.1 -0.1)\">\r\n     <use xlink:href=\"#DejaVuSans-49\"/>\r\n    </g>\r\n   </g>\r\n   <g id=\"text_19\">\r\n    <!-- 18 -->\r\n    <g style=\"fill:#ffffff;\" transform=\"translate(115.165625 30.344375)scale(0.1 -0.1)\">\r\n     <defs>\r\n      <path d=\"M 31.78125 34.625 \r\nQ 24.75 34.625 20.71875 30.859375 \r\nQ 16.703125 27.09375 16.703125 20.515625 \r\nQ 16.703125 13.921875 20.71875 10.15625 \r\nQ 24.75 6.390625 31.78125 6.390625 \r\nQ 38.8125 6.390625 42.859375 10.171875 \r\nQ 46.921875 13.96875 46.921875 20.515625 \r\nQ 46.921875 27.09375 42.890625 30.859375 \r\nQ 38.875 34.625 31.78125 34.625 \r\nz\r\nM 21.921875 38.8125 \r\nQ 15.578125 40.375 12.03125 44.71875 \r\nQ 8.5 49.078125 8.5 55.328125 \r\nQ 8.5 64.0625 14.71875 69.140625 \r\nQ 20.953125 74.21875 31.78125 74.21875 \r\nQ 42.671875 74.21875 48.875 69.140625 \r\nQ 55.078125 64.0625 55.078125 55.328125 \r\nQ 55.078125 49.078125 51.53125 44.71875 \r\nQ 48 40.375 41.703125 38.8125 \r\nQ 48.828125 37.15625 52.796875 32.3125 \r\nQ 56.78125 27.484375 56.78125 20.515625 \r\nQ 56.78125 9.90625 50.3125 4.234375 \r\nQ 43.84375 -1.421875 31.78125 -1.421875 \r\nQ 19.734375 -1.421875 13.25 4.234375 \r\nQ 6.78125 9.90625 6.78125 20.515625 \r\nQ 6.78125 27.484375 10.78125 32.3125 \r\nQ 14.796875 37.15625 21.921875 38.8125 \r\nz\r\nM 18.3125 54.390625 \r\nQ 18.3125 48.734375 21.84375 45.5625 \r\nQ 25.390625 42.390625 31.78125 42.390625 \r\nQ 38.140625 42.390625 41.71875 45.5625 \r\nQ 45.3125 48.734375 45.3125 54.390625 \r\nQ 45.3125 60.0625 41.71875 63.234375 \r\nQ 38.140625 66.40625 31.78125 66.40625 \r\nQ 25.390625 66.40625 21.84375 63.234375 \r\nQ 18.3125 60.0625 18.3125 54.390625 \r\nz\r\n\" id=\"DejaVuSans-56\"/>\r\n     </defs>\r\n     <use xlink:href=\"#DejaVuSans-49\"/>\r\n     <use x=\"63.623047\" xlink:href=\"#DejaVuSans-56\"/>\r\n    </g>\r\n   </g>\r\n   <g id=\"text_20\">\r\n    <!-- 6 -->\r\n    <g style=\"fill:#ffffff;\" transform=\"translate(157.406875 30.344375)scale(0.1 -0.1)\">\r\n     <use xlink:href=\"#DejaVuSans-54\"/>\r\n    </g>\r\n   </g>\r\n   <g id=\"text_21\">\r\n    <!-- 0 -->\r\n    <g style=\"fill:#ffffff;\" transform=\"translate(196.466875 30.344375)scale(0.1 -0.1)\">\r\n     <use xlink:href=\"#DejaVuSans-48\"/>\r\n    </g>\r\n   </g>\r\n   <g id=\"text_22\">\r\n    <!-- 0 -->\r\n    <g style=\"fill:#ffffff;\" transform=\"translate(235.526875 30.344375)scale(0.1 -0.1)\">\r\n     <use xlink:href=\"#DejaVuSans-48\"/>\r\n    </g>\r\n   </g>\r\n   <g id=\"text_23\">\r\n    <!-- 0 -->\r\n    <g style=\"fill:#ffffff;\" transform=\"translate(274.586875 30.344375)scale(0.1 -0.1)\">\r\n     <use xlink:href=\"#DejaVuSans-48\"/>\r\n    </g>\r\n   </g>\r\n   <g id=\"text_24\">\r\n    <!-- 2 -->\r\n    <g style=\"fill:#ffffff;\" transform=\"translate(313.646875 30.344375)scale(0.1 -0.1)\">\r\n     <use xlink:href=\"#DejaVuSans-50\"/>\r\n    </g>\r\n   </g>\r\n   <g id=\"text_25\">\r\n    <!-- 14 -->\r\n    <g style=\"fill:#ffffff;\" transform=\"translate(37.045625 71.114375)scale(0.1 -0.1)\">\r\n     <use xlink:href=\"#DejaVuSans-49\"/>\r\n     <use x=\"63.623047\" xlink:href=\"#DejaVuSans-52\"/>\r\n    </g>\r\n   </g>\r\n   <g id=\"text_26\">\r\n    <!-- 232 -->\r\n    <g style=\"fill:#ffffff;\" transform=\"translate(72.924375 71.114375)scale(0.1 -0.1)\">\r\n     <use xlink:href=\"#DejaVuSans-50\"/>\r\n     <use x=\"63.623047\" xlink:href=\"#DejaVuSans-51\"/>\r\n     <use x=\"127.246094\" xlink:href=\"#DejaVuSans-50\"/>\r\n    </g>\r\n   </g>\r\n   <g id=\"text_27\">\r\n    <!-- 0 -->\r\n    <g style=\"fill:#ffffff;\" transform=\"translate(118.346875 71.114375)scale(0.1 -0.1)\">\r\n     <use xlink:href=\"#DejaVuSans-48\"/>\r\n    </g>\r\n   </g>\r\n   <g id=\"text_28\">\r\n    <!-- 0 -->\r\n    <g style=\"fill:#ffffff;\" transform=\"translate(157.406875 71.114375)scale(0.1 -0.1)\">\r\n     <use xlink:href=\"#DejaVuSans-48\"/>\r\n    </g>\r\n   </g>\r\n   <g id=\"text_29\">\r\n    <!-- 8 -->\r\n    <g style=\"fill:#ffffff;\" transform=\"translate(196.466875 71.114375)scale(0.1 -0.1)\">\r\n     <use xlink:href=\"#DejaVuSans-56\"/>\r\n    </g>\r\n   </g>\r\n   <g id=\"text_30\">\r\n    <!-- 0 -->\r\n    <g style=\"fill:#ffffff;\" transform=\"translate(235.526875 71.114375)scale(0.1 -0.1)\">\r\n     <use xlink:href=\"#DejaVuSans-48\"/>\r\n    </g>\r\n   </g>\r\n   <g id=\"text_31\">\r\n    <!-- 0 -->\r\n    <g style=\"fill:#ffffff;\" transform=\"translate(274.586875 71.114375)scale(0.1 -0.1)\">\r\n     <use xlink:href=\"#DejaVuSans-48\"/>\r\n    </g>\r\n   </g>\r\n   <g id=\"text_32\">\r\n    <!-- 14 -->\r\n    <g style=\"fill:#ffffff;\" transform=\"translate(310.465625 71.114375)scale(0.1 -0.1)\">\r\n     <use xlink:href=\"#DejaVuSans-49\"/>\r\n     <use x=\"63.623047\" xlink:href=\"#DejaVuSans-52\"/>\r\n    </g>\r\n   </g>\r\n   <g id=\"text_33\">\r\n    <!-- 22 -->\r\n    <g style=\"fill:#ffffff;\" transform=\"translate(37.045625 111.884375)scale(0.1 -0.1)\">\r\n     <use xlink:href=\"#DejaVuSans-50\"/>\r\n     <use x=\"63.623047\" xlink:href=\"#DejaVuSans-50\"/>\r\n    </g>\r\n   </g>\r\n   <g id=\"text_34\">\r\n    <!-- 0 -->\r\n    <g style=\"fill:#ffffff;\" transform=\"translate(79.286875 111.884375)scale(0.1 -0.1)\">\r\n     <use xlink:href=\"#DejaVuSans-48\"/>\r\n    </g>\r\n   </g>\r\n   <g id=\"text_35\">\r\n    <!-- 304 -->\r\n    <g style=\"fill:#ffffff;\" transform=\"translate(111.984375 111.884375)scale(0.1 -0.1)\">\r\n     <use xlink:href=\"#DejaVuSans-51\"/>\r\n     <use x=\"63.623047\" xlink:href=\"#DejaVuSans-48\"/>\r\n     <use x=\"127.246094\" xlink:href=\"#DejaVuSans-52\"/>\r\n    </g>\r\n   </g>\r\n   <g id=\"text_36\">\r\n    <!-- 0 -->\r\n    <g style=\"fill:#ffffff;\" transform=\"translate(157.406875 111.884375)scale(0.1 -0.1)\">\r\n     <use xlink:href=\"#DejaVuSans-48\"/>\r\n    </g>\r\n   </g>\r\n   <g id=\"text_37\">\r\n    <!-- 0 -->\r\n    <g style=\"fill:#ffffff;\" transform=\"translate(196.466875 111.884375)scale(0.1 -0.1)\">\r\n     <use xlink:href=\"#DejaVuSans-48\"/>\r\n    </g>\r\n   </g>\r\n   <g id=\"text_38\">\r\n    <!-- 0 -->\r\n    <g style=\"fill:#ffffff;\" transform=\"translate(235.526875 111.884375)scale(0.1 -0.1)\">\r\n     <use xlink:href=\"#DejaVuSans-48\"/>\r\n    </g>\r\n   </g>\r\n   <g id=\"text_39\">\r\n    <!-- 0 -->\r\n    <g style=\"fill:#ffffff;\" transform=\"translate(274.586875 111.884375)scale(0.1 -0.1)\">\r\n     <use xlink:href=\"#DejaVuSans-48\"/>\r\n    </g>\r\n   </g>\r\n   <g id=\"text_40\">\r\n    <!-- 58 -->\r\n    <g style=\"fill:#ffffff;\" transform=\"translate(310.465625 111.884375)scale(0.1 -0.1)\">\r\n     <use xlink:href=\"#DejaVuSans-53\"/>\r\n     <use x=\"63.623047\" xlink:href=\"#DejaVuSans-56\"/>\r\n    </g>\r\n   </g>\r\n   <g id=\"text_41\">\r\n    <!-- 44 -->\r\n    <g style=\"fill:#ffffff;\" transform=\"translate(37.045625 152.654375)scale(0.1 -0.1)\">\r\n     <use xlink:href=\"#DejaVuSans-52\"/>\r\n     <use x=\"63.623047\" xlink:href=\"#DejaVuSans-52\"/>\r\n    </g>\r\n   </g>\r\n   <g id=\"text_42\">\r\n    <!-- 0 -->\r\n    <g style=\"fill:#ffffff;\" transform=\"translate(79.286875 152.654375)scale(0.1 -0.1)\">\r\n     <use xlink:href=\"#DejaVuSans-48\"/>\r\n    </g>\r\n   </g>\r\n   <g id=\"text_43\">\r\n    <!-- 8 -->\r\n    <g style=\"fill:#ffffff;\" transform=\"translate(118.346875 152.654375)scale(0.1 -0.1)\">\r\n     <use xlink:href=\"#DejaVuSans-56\"/>\r\n    </g>\r\n   </g>\r\n   <g id=\"text_44\">\r\n    <!-- 222 -->\r\n    <g style=\"fill:#ffffff;\" transform=\"translate(151.044375 152.654375)scale(0.1 -0.1)\">\r\n     <use xlink:href=\"#DejaVuSans-50\"/>\r\n     <use x=\"63.623047\" xlink:href=\"#DejaVuSans-50\"/>\r\n     <use x=\"127.246094\" xlink:href=\"#DejaVuSans-50\"/>\r\n    </g>\r\n   </g>\r\n   <g id=\"text_45\">\r\n    <!-- 0 -->\r\n    <g style=\"fill:#ffffff;\" transform=\"translate(196.466875 152.654375)scale(0.1 -0.1)\">\r\n     <use xlink:href=\"#DejaVuSans-48\"/>\r\n    </g>\r\n   </g>\r\n   <g id=\"text_46\">\r\n    <!-- 1 -->\r\n    <g style=\"fill:#ffffff;\" transform=\"translate(235.526875 152.654375)scale(0.1 -0.1)\">\r\n     <use xlink:href=\"#DejaVuSans-49\"/>\r\n    </g>\r\n   </g>\r\n   <g id=\"text_47\">\r\n    <!-- 1 -->\r\n    <g style=\"fill:#ffffff;\" transform=\"translate(274.586875 152.654375)scale(0.1 -0.1)\">\r\n     <use xlink:href=\"#DejaVuSans-49\"/>\r\n    </g>\r\n   </g>\r\n   <g id=\"text_48\">\r\n    <!-- 0 -->\r\n    <g style=\"fill:#ffffff;\" transform=\"translate(313.646875 152.654375)scale(0.1 -0.1)\">\r\n     <use xlink:href=\"#DejaVuSans-48\"/>\r\n    </g>\r\n   </g>\r\n   <g id=\"text_49\">\r\n    <!-- 0 -->\r\n    <g style=\"fill:#ffffff;\" transform=\"translate(40.226875 193.424375)scale(0.1 -0.1)\">\r\n     <use xlink:href=\"#DejaVuSans-48\"/>\r\n    </g>\r\n   </g>\r\n   <g id=\"text_50\">\r\n    <!-- 0 -->\r\n    <g style=\"fill:#ffffff;\" transform=\"translate(79.286875 193.424375)scale(0.1 -0.1)\">\r\n     <use xlink:href=\"#DejaVuSans-48\"/>\r\n    </g>\r\n   </g>\r\n   <g id=\"text_51\">\r\n    <!-- 0 -->\r\n    <g style=\"fill:#ffffff;\" transform=\"translate(118.346875 193.424375)scale(0.1 -0.1)\">\r\n     <use xlink:href=\"#DejaVuSans-48\"/>\r\n    </g>\r\n   </g>\r\n   <g id=\"text_52\">\r\n    <!-- 0 -->\r\n    <g style=\"fill:#ffffff;\" transform=\"translate(157.406875 193.424375)scale(0.1 -0.1)\">\r\n     <use xlink:href=\"#DejaVuSans-48\"/>\r\n    </g>\r\n   </g>\r\n   <g id=\"text_53\">\r\n    <!-- 302 -->\r\n    <g style=\"fill:#ffffff;\" transform=\"translate(190.104375 193.424375)scale(0.1 -0.1)\">\r\n     <use xlink:href=\"#DejaVuSans-51\"/>\r\n     <use x=\"63.623047\" xlink:href=\"#DejaVuSans-48\"/>\r\n     <use x=\"127.246094\" xlink:href=\"#DejaVuSans-50\"/>\r\n    </g>\r\n   </g>\r\n   <g id=\"text_54\">\r\n    <!-- 0 -->\r\n    <g style=\"fill:#ffffff;\" transform=\"translate(235.526875 193.424375)scale(0.1 -0.1)\">\r\n     <use xlink:href=\"#DejaVuSans-48\"/>\r\n    </g>\r\n   </g>\r\n   <g id=\"text_55\">\r\n    <!-- 0 -->\r\n    <g style=\"fill:#ffffff;\" transform=\"translate(274.586875 193.424375)scale(0.1 -0.1)\">\r\n     <use xlink:href=\"#DejaVuSans-48\"/>\r\n    </g>\r\n   </g>\r\n   <g id=\"text_56\">\r\n    <!-- 0 -->\r\n    <g style=\"fill:#ffffff;\" transform=\"translate(313.646875 193.424375)scale(0.1 -0.1)\">\r\n     <use xlink:href=\"#DejaVuSans-48\"/>\r\n    </g>\r\n   </g>\r\n   <g id=\"text_57\">\r\n    <!-- 0 -->\r\n    <g style=\"fill:#ffffff;\" transform=\"translate(40.226875 234.194375)scale(0.1 -0.1)\">\r\n     <use xlink:href=\"#DejaVuSans-48\"/>\r\n    </g>\r\n   </g>\r\n   <g id=\"text_58\">\r\n    <!-- 0 -->\r\n    <g style=\"fill:#ffffff;\" transform=\"translate(79.286875 234.194375)scale(0.1 -0.1)\">\r\n     <use xlink:href=\"#DejaVuSans-48\"/>\r\n    </g>\r\n   </g>\r\n   <g id=\"text_59\">\r\n    <!-- 0 -->\r\n    <g style=\"fill:#ffffff;\" transform=\"translate(118.346875 234.194375)scale(0.1 -0.1)\">\r\n     <use xlink:href=\"#DejaVuSans-48\"/>\r\n    </g>\r\n   </g>\r\n   <g id=\"text_60\">\r\n    <!-- 0 -->\r\n    <g style=\"fill:#ffffff;\" transform=\"translate(157.406875 234.194375)scale(0.1 -0.1)\">\r\n     <use xlink:href=\"#DejaVuSans-48\"/>\r\n    </g>\r\n   </g>\r\n   <g id=\"text_61\">\r\n    <!-- 8 -->\r\n    <g style=\"fill:#ffffff;\" transform=\"translate(196.466875 234.194375)scale(0.1 -0.1)\">\r\n     <use xlink:href=\"#DejaVuSans-56\"/>\r\n    </g>\r\n   </g>\r\n   <g id=\"text_62\">\r\n    <!-- 254 -->\r\n    <g style=\"fill:#ffffff;\" transform=\"translate(229.164375 234.194375)scale(0.1 -0.1)\">\r\n     <use xlink:href=\"#DejaVuSans-50\"/>\r\n     <use x=\"63.623047\" xlink:href=\"#DejaVuSans-53\"/>\r\n     <use x=\"127.246094\" xlink:href=\"#DejaVuSans-52\"/>\r\n    </g>\r\n   </g>\r\n   <g id=\"text_63\">\r\n    <!-- 0 -->\r\n    <g style=\"fill:#ffffff;\" transform=\"translate(274.586875 234.194375)scale(0.1 -0.1)\">\r\n     <use xlink:href=\"#DejaVuSans-48\"/>\r\n    </g>\r\n   </g>\r\n   <g id=\"text_64\">\r\n    <!-- 0 -->\r\n    <g style=\"fill:#ffffff;\" transform=\"translate(313.646875 234.194375)scale(0.1 -0.1)\">\r\n     <use xlink:href=\"#DejaVuSans-48\"/>\r\n    </g>\r\n   </g>\r\n   <g id=\"text_65\">\r\n    <!-- 17 -->\r\n    <g style=\"fill:#ffffff;\" transform=\"translate(37.045625 274.964375)scale(0.1 -0.1)\">\r\n     <use xlink:href=\"#DejaVuSans-49\"/>\r\n     <use x=\"63.623047\" xlink:href=\"#DejaVuSans-55\"/>\r\n    </g>\r\n   </g>\r\n   <g id=\"text_66\">\r\n    <!-- 0 -->\r\n    <g style=\"fill:#ffffff;\" transform=\"translate(79.286875 274.964375)scale(0.1 -0.1)\">\r\n     <use xlink:href=\"#DejaVuSans-48\"/>\r\n    </g>\r\n   </g>\r\n   <g id=\"text_67\">\r\n    <!-- 0 -->\r\n    <g style=\"fill:#ffffff;\" transform=\"translate(118.346875 274.964375)scale(0.1 -0.1)\">\r\n     <use xlink:href=\"#DejaVuSans-48\"/>\r\n    </g>\r\n   </g>\r\n   <g id=\"text_68\">\r\n    <!-- 0 -->\r\n    <g style=\"fill:#ffffff;\" transform=\"translate(157.406875 274.964375)scale(0.1 -0.1)\">\r\n     <use xlink:href=\"#DejaVuSans-48\"/>\r\n    </g>\r\n   </g>\r\n   <g id=\"text_69\">\r\n    <!-- 2 -->\r\n    <g style=\"fill:#ffffff;\" transform=\"translate(196.466875 274.964375)scale(0.1 -0.1)\">\r\n     <use xlink:href=\"#DejaVuSans-50\"/>\r\n    </g>\r\n   </g>\r\n   <g id=\"text_70\">\r\n    <!-- 12 -->\r\n    <g style=\"fill:#ffffff;\" transform=\"translate(232.345625 274.964375)scale(0.1 -0.1)\">\r\n     <use xlink:href=\"#DejaVuSans-49\"/>\r\n     <use x=\"63.623047\" xlink:href=\"#DejaVuSans-50\"/>\r\n    </g>\r\n   </g>\r\n   <g id=\"text_71\">\r\n    <!-- 304 -->\r\n    <g style=\"fill:#ffffff;\" transform=\"translate(268.224375 274.964375)scale(0.1 -0.1)\">\r\n     <use xlink:href=\"#DejaVuSans-51\"/>\r\n     <use x=\"63.623047\" xlink:href=\"#DejaVuSans-48\"/>\r\n     <use x=\"127.246094\" xlink:href=\"#DejaVuSans-52\"/>\r\n    </g>\r\n   </g>\r\n   <g id=\"text_72\">\r\n    <!-- 0 -->\r\n    <g style=\"fill:#ffffff;\" transform=\"translate(313.646875 274.964375)scale(0.1 -0.1)\">\r\n     <use xlink:href=\"#DejaVuSans-48\"/>\r\n    </g>\r\n   </g>\r\n   <g id=\"text_73\">\r\n    <!-- 0 -->\r\n    <g style=\"fill:#ffffff;\" transform=\"translate(40.226875 315.734375)scale(0.1 -0.1)\">\r\n     <use xlink:href=\"#DejaVuSans-48\"/>\r\n    </g>\r\n   </g>\r\n   <g id=\"text_74\">\r\n    <!-- 26 -->\r\n    <g style=\"fill:#ffffff;\" transform=\"translate(76.105625 315.734375)scale(0.1 -0.1)\">\r\n     <use xlink:href=\"#DejaVuSans-50\"/>\r\n     <use x=\"63.623047\" xlink:href=\"#DejaVuSans-54\"/>\r\n    </g>\r\n   </g>\r\n   <g id=\"text_75\">\r\n    <!-- 0 -->\r\n    <g style=\"fill:#ffffff;\" transform=\"translate(118.346875 315.734375)scale(0.1 -0.1)\">\r\n     <use xlink:href=\"#DejaVuSans-48\"/>\r\n    </g>\r\n   </g>\r\n   <g id=\"text_76\">\r\n    <!-- 0 -->\r\n    <g style=\"fill:#ffffff;\" transform=\"translate(157.406875 315.734375)scale(0.1 -0.1)\">\r\n     <use xlink:href=\"#DejaVuSans-48\"/>\r\n    </g>\r\n   </g>\r\n   <g id=\"text_77\">\r\n    <!-- 1 -->\r\n    <g style=\"fill:#ffffff;\" transform=\"translate(196.466875 315.734375)scale(0.1 -0.1)\">\r\n     <use xlink:href=\"#DejaVuSans-49\"/>\r\n    </g>\r\n   </g>\r\n   <g id=\"text_78\">\r\n    <!-- 0 -->\r\n    <g style=\"fill:#ffffff;\" transform=\"translate(235.526875 315.734375)scale(0.1 -0.1)\">\r\n     <use xlink:href=\"#DejaVuSans-48\"/>\r\n    </g>\r\n   </g>\r\n   <g id=\"text_79\">\r\n    <!-- 0 -->\r\n    <g style=\"fill:#ffffff;\" transform=\"translate(274.586875 315.734375)scale(0.1 -0.1)\">\r\n     <use xlink:href=\"#DejaVuSans-48\"/>\r\n    </g>\r\n   </g>\r\n   <g id=\"text_80\">\r\n    <!-- 284 -->\r\n    <g style=\"fill:#ffffff;\" transform=\"translate(307.284375 315.734375)scale(0.1 -0.1)\">\r\n     <use xlink:href=\"#DejaVuSans-50\"/>\r\n     <use x=\"63.623047\" xlink:href=\"#DejaVuSans-56\"/>\r\n     <use x=\"127.246094\" xlink:href=\"#DejaVuSans-52\"/>\r\n    </g>\r\n   </g>\r\n  </g>\r\n  <g id=\"axes_2\">\r\n   <g id=\"patch_3\">\r\n    <path clip-path=\"url(#p4c4666be60)\" d=\"M 355.888125 333.36 \r\nL 355.888125 332.085937 \r\nL 355.888125 8.474063 \r\nL 355.888125 7.2 \r\nL 372.196125 7.2 \r\nL 372.196125 8.474063 \r\nL 372.196125 332.085937 \r\nL 372.196125 333.36 \r\nz\r\n\" style=\"fill:#ffffff;stroke:#ffffff;stroke-linejoin:miter;stroke-width:0.01;\"/>\r\n   </g>\r\n   <image height=\"326\" id=\"image27d45a9d44\" transform=\"scale(1 -1)translate(0 -326)\" width=\"16\" x=\"356\" xlink:href=\"data:image/png;base64,\r\niVBORw0KGgoAAAANSUhEUgAAABAAAAFGCAYAAABjUx8/AAABu0lEQVR4nO2a0Q3DQAhDobku0f33TId4luxD3H8s8zAkadPP9/cWOKfJ1VV1upmEQKCYwAddXYoSPvcz4CVgiJABdrAQIyDSWfB3QRAkdxsVDhiGEUEasNYXor8E/z6YsNICgmRngB1QAcVahwL3j3PCKw+Osp0BVViICogJO5GdhCdVLsDOBAb2G0vANAq6YHYQANGexIAnVXsOIlYaFEjoAjszkshOAgP0L9MUiFjA/oABBQQQaZAmMMACC1GwUNwrLYDBBimDAbOASwhIIof4MggjGNwfpMYlUAeCNg5IIu6CnQGcpoAkNnxEUUCEDAQ/iVIHAyDiKC8DzACXILg3wtuzACJ34IbIkwg9BDCYECQooPgCggpwBtRBQBKxgBkiZ1D+jeQWEEB0l4AdBAyTACL8hyMBormEU9QBLSFgGkcwwEFyf9hGHURAZCY2iVWn4J1lQpDaHiTahQCI/mkcANGeRMUrjz0HGKL9W13BMNm7EDCNkAF/X7ifgX2YsIOIlWYX2JU2Yhr9SRwA0c1gV9qMIHU/ZgcbpIwg0RwsxIRhcnchYhrNUY5Y6zuN9hz42xiQRPs4YwZ/ztQuS6ONcUwAAAAASUVORK5CYII=\" y=\"-7\"/>\r\n   <g id=\"matplotlib.axis_3\"/>\r\n   <g id=\"matplotlib.axis_4\">\r\n    <g id=\"ytick_9\">\r\n     <g id=\"line2d_17\">\r\n      <defs>\r\n       <path d=\"M 0 0 \r\nL 3.5 0 \r\n\" id=\"ma3c525ecab\" style=\"stroke:#000000;stroke-width:0.8;\"/>\r\n      </defs>\r\n      <g>\r\n       <use style=\"stroke:#000000;stroke-width:0.8;\" x=\"372.196125\" xlink:href=\"#ma3c525ecab\" y=\"333.36\"/>\r\n      </g>\r\n     </g>\r\n     <g id=\"text_81\">\r\n      <!-- 0 -->\r\n      <g transform=\"translate(379.196125 337.159219)scale(0.1 -0.1)\">\r\n       <use xlink:href=\"#DejaVuSans-48\"/>\r\n      </g>\r\n     </g>\r\n    </g>\r\n    <g id=\"ytick_10\">\r\n     <g id=\"line2d_18\">\r\n      <g>\r\n       <use style=\"stroke:#000000;stroke-width:0.8;\" x=\"372.196125\" xlink:href=\"#ma3c525ecab\" y=\"280.152822\"/>\r\n      </g>\r\n     </g>\r\n     <g id=\"text_82\">\r\n      <!-- 100 -->\r\n      <g transform=\"translate(379.196125 283.952041)scale(0.1 -0.1)\">\r\n       <use xlink:href=\"#DejaVuSans-49\"/>\r\n       <use x=\"63.623047\" xlink:href=\"#DejaVuSans-48\"/>\r\n       <use x=\"127.246094\" xlink:href=\"#DejaVuSans-48\"/>\r\n      </g>\r\n     </g>\r\n    </g>\r\n    <g id=\"ytick_11\">\r\n     <g id=\"line2d_19\">\r\n      <g>\r\n       <use style=\"stroke:#000000;stroke-width:0.8;\" x=\"372.196125\" xlink:href=\"#ma3c525ecab\" y=\"226.945644\"/>\r\n      </g>\r\n     </g>\r\n     <g id=\"text_83\">\r\n      <!-- 200 -->\r\n      <g transform=\"translate(379.196125 230.744863)scale(0.1 -0.1)\">\r\n       <use xlink:href=\"#DejaVuSans-50\"/>\r\n       <use x=\"63.623047\" xlink:href=\"#DejaVuSans-48\"/>\r\n       <use x=\"127.246094\" xlink:href=\"#DejaVuSans-48\"/>\r\n      </g>\r\n     </g>\r\n    </g>\r\n    <g id=\"ytick_12\">\r\n     <g id=\"line2d_20\">\r\n      <g>\r\n       <use style=\"stroke:#000000;stroke-width:0.8;\" x=\"372.196125\" xlink:href=\"#ma3c525ecab\" y=\"173.738467\"/>\r\n      </g>\r\n     </g>\r\n     <g id=\"text_84\">\r\n      <!-- 300 -->\r\n      <g transform=\"translate(379.196125 177.537685)scale(0.1 -0.1)\">\r\n       <use xlink:href=\"#DejaVuSans-51\"/>\r\n       <use x=\"63.623047\" xlink:href=\"#DejaVuSans-48\"/>\r\n       <use x=\"127.246094\" xlink:href=\"#DejaVuSans-48\"/>\r\n      </g>\r\n     </g>\r\n    </g>\r\n    <g id=\"ytick_13\">\r\n     <g id=\"line2d_21\">\r\n      <g>\r\n       <use style=\"stroke:#000000;stroke-width:0.8;\" x=\"372.196125\" xlink:href=\"#ma3c525ecab\" y=\"120.531289\"/>\r\n      </g>\r\n     </g>\r\n     <g id=\"text_85\">\r\n      <!-- 400 -->\r\n      <g transform=\"translate(379.196125 124.330507)scale(0.1 -0.1)\">\r\n       <use xlink:href=\"#DejaVuSans-52\"/>\r\n       <use x=\"63.623047\" xlink:href=\"#DejaVuSans-48\"/>\r\n       <use x=\"127.246094\" xlink:href=\"#DejaVuSans-48\"/>\r\n      </g>\r\n     </g>\r\n    </g>\r\n    <g id=\"ytick_14\">\r\n     <g id=\"line2d_22\">\r\n      <g>\r\n       <use style=\"stroke:#000000;stroke-width:0.8;\" x=\"372.196125\" xlink:href=\"#ma3c525ecab\" y=\"67.324111\"/>\r\n      </g>\r\n     </g>\r\n     <g id=\"text_86\">\r\n      <!-- 500 -->\r\n      <g transform=\"translate(379.196125 71.12333)scale(0.1 -0.1)\">\r\n       <use xlink:href=\"#DejaVuSans-53\"/>\r\n       <use x=\"63.623047\" xlink:href=\"#DejaVuSans-48\"/>\r\n       <use x=\"127.246094\" xlink:href=\"#DejaVuSans-48\"/>\r\n      </g>\r\n     </g>\r\n    </g>\r\n    <g id=\"ytick_15\">\r\n     <g id=\"line2d_23\">\r\n      <g>\r\n       <use style=\"stroke:#000000;stroke-width:0.8;\" x=\"372.196125\" xlink:href=\"#ma3c525ecab\" y=\"14.116933\"/>\r\n      </g>\r\n     </g>\r\n     <g id=\"text_87\">\r\n      <!-- 600 -->\r\n      <g transform=\"translate(379.196125 17.916152)scale(0.1 -0.1)\">\r\n       <use xlink:href=\"#DejaVuSans-54\"/>\r\n       <use x=\"63.623047\" xlink:href=\"#DejaVuSans-48\"/>\r\n       <use x=\"127.246094\" xlink:href=\"#DejaVuSans-48\"/>\r\n      </g>\r\n     </g>\r\n    </g>\r\n   </g>\r\n   <g id=\"patch_4\">\r\n    <path d=\"M 355.888125 333.36 \r\nL 355.888125 332.085937 \r\nL 355.888125 8.474063 \r\nL 355.888125 7.2 \r\nL 372.196125 7.2 \r\nL 372.196125 8.474063 \r\nL 372.196125 332.085937 \r\nL 372.196125 333.36 \r\nz\r\n\" style=\"fill:none;\"/>\r\n   </g>\r\n  </g>\r\n </g>\r\n <defs>\r\n  <clipPath id=\"p6d0a525c2e\">\r\n   <rect height=\"326.16\" width=\"312.48\" x=\"23.878125\" y=\"7.2\"/>\r\n  </clipPath>\r\n  <clipPath id=\"p4c4666be60\">\r\n   <rect height=\"326.16\" width=\"16.308\" x=\"355.888125\" y=\"7.2\"/>\r\n  </clipPath>\r\n </defs>\r\n</svg>\r\n",
      "image/png": "[encoded data removed]"
     },
     "metadata": {
      "needs_background": "light"
     }
    },
    {
     "output_type": "stream",
     "name": "stdout",
     "text": [
      "Classification Report\n              precision    recall  f1-score   support\n\n           0       0.86      0.96      0.91       640\n           1       0.90      0.87      0.88       268\n           2       0.92      0.79      0.85       384\n           3       0.97      0.80      0.88       276\n           4       0.94      1.00      0.97       302\n           5       0.95      0.97      0.96       262\n           6       1.00      0.91      0.95       335\n           7       0.79      0.91      0.85       311\n\n    accuracy                           0.91      2778\n   macro avg       0.92      0.90      0.91      2778\nweighted avg       0.91      0.91      0.90      2778\n\n"
     ]
    }
   ],
   "source": [
    "import pandas as pd\n",
    "import seaborn as sns\n",
    "import matplotlib.pyplot as plt\n",
    "from sklearn.metrics import confusion_matrix, classification_report\n",
    "\n",
    "def print_confusion_matrix(y_true, y_pred, report=True):\n",
    "    labels = sorted(list(set(y_true)))\n",
    "    cmx_data = confusion_matrix(y_true, y_pred, labels=labels)\n",
    "    \n",
    "    df_cmx = pd.DataFrame(cmx_data, index=labels, columns=labels)\n",
    " \n",
    "    fig, ax = plt.subplots(figsize=(7, 6))\n",
    "    sns.heatmap(df_cmx, annot=True, fmt='g' ,square=False)\n",
    "    ax.set_ylim(len(set(y_true)), 0)\n",
    "    plt.show()\n",
    "    \n",
    "    if report:\n",
    "        print('Classification Report')\n",
    "        print(classification_report(y_test, y_pred))\n",
    "\n",
    "Y_pred = model.predict(X_test)\n",
    "y_pred = np.argmax(Y_pred, axis=1)\n",
    "\n",
    "print_confusion_matrix(y_test, y_pred)"
   ]
  },
  {
   "cell_type": "markdown",
   "metadata": {},
   "source": [
    "# 转化为Tensorflow-Lite用模型"
   ]
  },
  {
   "cell_type": "code",
   "execution_count": 18,
   "metadata": {},
   "outputs": [],
   "source": [
    "# 保存为仅供推理的模型\n",
    "model.save(model_save_path, include_optimizer=False)"
   ]
  },
  {
   "cell_type": "code",
   "execution_count": 19,
   "metadata": {},
   "outputs": [
    {
     "output_type": "stream",
     "name": "stdout",
     "text": [
      "INFO:tensorflow:Assets written to: C:\\Users\\Van5SE\\AppData\\Local\\Temp\\tmpn1t7ab4h\\assets\n"
     ]
    },
    {
     "output_type": "execute_result",
     "data": {
      "text/plain": [
       "6528"
      ]
     },
     "metadata": {},
     "execution_count": 19
    }
   ],
   "source": [
    "# 转换模型（量化）\n",
    "tflite_save_path = 'model/keypoint_classifier/keypoint_classifier.tflite'\n",
    "\n",
    "converter = tf.lite.TFLiteConverter.from_keras_model(model)\n",
    "converter.optimizations = [tf.lite.Optimize.DEFAULT]\n",
    "tflite_quantized_model = converter.convert()\n",
    "\n",
    "open(tflite_save_path, 'wb').write(tflite_quantized_model)"
   ]
  },
  {
   "cell_type": "markdown",
   "metadata": {},
   "source": [
    "# 推理测试"
   ]
  },
  {
   "cell_type": "code",
   "execution_count": 20,
   "metadata": {},
   "outputs": [],
   "source": [
    "interpreter = tf.lite.Interpreter(model_path=tflite_save_path)\n",
    "interpreter.allocate_tensors()"
   ]
  },
  {
   "cell_type": "code",
   "execution_count": 21,
   "metadata": {},
   "outputs": [],
   "source": [
    "# 获取 I/O 张量\n",
    "input_details = interpreter.get_input_details()\n",
    "output_details = interpreter.get_output_details()"
   ]
  },
  {
   "cell_type": "code",
   "execution_count": 22,
   "metadata": {},
   "outputs": [],
   "source": [
    "interpreter.set_tensor(input_details[0]['index'], np.array([X_test[0]]))"
   ]
  },
  {
   "cell_type": "code",
   "execution_count": 23,
   "metadata": {
    "scrolled": true
   },
   "outputs": [
    {
     "output_type": "stream",
     "name": "stdout",
     "text": [
      "Wall time: 0 ns\n"
     ]
    }
   ],
   "source": [
    "%%time\n",
    "# 推理实施\n",
    "interpreter.invoke()\n",
    "tflite_results = interpreter.get_tensor(output_details[0]['index'])"
   ]
  },
  {
   "cell_type": "code",
   "execution_count": 24,
   "metadata": {},
   "outputs": [
    {
     "output_type": "stream",
     "name": "stdout",
     "text": [
      "[1.4411871e-01 9.6272350e-05 2.2056950e-02 7.0651099e-02 7.4059875e-07\n 2.4477026e-04 7.6142454e-01 1.4069712e-03]\n6\n"
     ]
    }
   ],
   "source": [
    "print(np.squeeze(tflite_results))\n",
    "print(np.argmax(np.squeeze(tflite_results)))"
   ]
  }
 ],
 "metadata": {
  "kernelspec": {
   "name": "python385jvsc74a57bd0273d34ad3022fe9e2b04cefe7623df58b029f1dc7d41b81f8722b7ca43d9dee2",
   "display_name": "Python 3.8.5 64-bit ('mediapipe': conda)"
  },
  "language_info": {
   "codemirror_mode": {
    "name": "ipython",
    "version": 3
   },
   "file_extension": ".py",
   "mimetype": "text/x-python",
   "name": "python",
   "nbconvert_exporter": "python",
   "pygments_lexer": "ipython3",
   "version": "3.8.5"
  }
 },
 "nbformat": 4,
 "nbformat_minor": 4
}