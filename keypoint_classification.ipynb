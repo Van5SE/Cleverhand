{
 "cells": [
  {
   "cell_type": "code",
   "execution_count": 1,
   "metadata": {},
   "outputs": [],
   "source": [
    "import csv\n",
    "\n",
    "import numpy as np\n",
    "import tensorflow as tf\n",
    "from sklearn.model_selection import train_test_split\n",
    "\n",
    "RANDOM_SEED = 42"
   ]
  },
  {
   "cell_type": "markdown",
   "metadata": {},
   "source": [
    "# 路径声明"
   ]
  },
  {
   "cell_type": "code",
   "execution_count": 2,
   "metadata": {},
   "outputs": [],
   "source": [
    "dataset = 'model/keypoint_classifier/keypoint.csv'\n",
    "model_save_path = 'model/keypoint_classifier/keypoint_classifier.hdf5'"
   ]
  },
  {
   "cell_type": "markdown",
   "metadata": {},
   "source": [
    "# 设定分类数"
   ]
  },
  {
   "cell_type": "code",
   "execution_count": 3,
   "metadata": {},
   "outputs": [],
   "source": [
    "NUM_CLASSES = 8"
   ]
  },
  {
   "cell_type": "markdown",
   "metadata": {},
   "source": [
    "# 读取学习数据"
   ]
  },
  {
   "cell_type": "code",
   "execution_count": 4,
   "metadata": {},
   "outputs": [],
   "source": [
    "X_dataset = np.loadtxt(dataset, delimiter=',', dtype='float32', usecols=list(range(1, (21 * 2) + 1)))"
   ]
  },
  {
   "cell_type": "code",
   "execution_count": 5,
   "metadata": {},
   "outputs": [],
   "source": [
    "# 读入从1到21*2的数据（表的每行共有21个数据（对应21个特征点） 每个数据有两个值（xy坐标轴值））作为x"
   ]
  },
  {
   "cell_type": "code",
   "execution_count": 6,
   "metadata": {},
   "outputs": [],
   "source": [
    "y_dataset = np.loadtxt(dataset, delimiter=',', dtype='int32', usecols=(0))"
   ]
  },
  {
   "cell_type": "code",
   "execution_count": 7,
   "metadata": {},
   "outputs": [],
   "source": [
    "# 第0列的值代表属于哪种手势"
   ]
  },
  {
   "cell_type": "code",
   "execution_count": 8,
   "metadata": {},
   "outputs": [],
   "source": [
    "X_train, X_test, y_train, y_test = train_test_split(X_dataset, y_dataset, train_size=0.75, random_state=RANDOM_SEED)"
   ]
  },
  {
   "cell_type": "markdown",
   "metadata": {},
   "source": [
    "# 模型构建"
   ]
  },
  {
   "cell_type": "code",
   "execution_count": 9,
   "metadata": {},
   "outputs": [],
   "source": [
    "model = tf.keras.models.Sequential([\n",
    "    tf.keras.layers.Input((21 * 2, )),\n",
    "    tf.keras.layers.Dropout(0.2),\n",
    "    tf.keras.layers.Dense(20, activation='relu'),\n",
    "    tf.keras.layers.Dropout(0.4),\n",
    "    tf.keras.layers.Dense(10, activation='relu'),\n",
    "    tf.keras.layers.Dense(NUM_CLASSES, activation='softmax')\n",
    "])"
   ]
  },
  {
   "cell_type": "code",
   "execution_count": 10,
   "metadata": {},
   "outputs": [
    {
     "output_type": "stream",
     "name": "stdout",
     "text": [
      "Model: \"sequential\"\n_________________________________________________________________\nLayer (type)                 Output Shape              Param #   \n=================================================================\ndropout (Dropout)            (None, 42)                0         \n_________________________________________________________________\ndense (Dense)                (None, 20)                860       \n_________________________________________________________________\ndropout_1 (Dropout)          (None, 20)                0         \n_________________________________________________________________\ndense_1 (Dense)              (None, 10)                210       \n_________________________________________________________________\ndense_2 (Dense)              (None, 8)                 88        \n=================================================================\nTotal params: 1,158\nTrainable params: 1,158\nNon-trainable params: 0\n_________________________________________________________________\n"
     ]
    }
   ],
   "source": [
    "model.summary()  # tf.keras.utils.plot_model(model, show_shapes=True)"
   ]
  },
  {
   "cell_type": "code",
   "execution_count": 11,
   "metadata": {},
   "outputs": [],
   "source": [
    "# 模型检查点回调\n",
    "cp_callback = tf.keras.callbacks.ModelCheckpoint(\n",
    "    model_save_path, verbose=1, save_weights_only=False)\n",
    "# 用于提前结束的回调\n",
    "es_callback = tf.keras.callbacks.EarlyStopping(patience=20, verbose=1)"
   ]
  },
  {
   "cell_type": "code",
   "execution_count": 12,
   "metadata": {},
   "outputs": [],
   "source": [
    "# 模型编译\n",
    "model.compile(\n",
    "    optimizer='adam',\n",
    "    loss='sparse_categorical_crossentropy',\n",
    "    metrics=['accuracy']\n",
    ")"
   ]
  },
  {
   "cell_type": "markdown",
   "metadata": {},
   "source": [
    "# 模型训练"
   ]
  },
  {
   "cell_type": "code",
   "execution_count": 13,
   "metadata": {
    "scrolled": true,
    "tags": [
     "outputPrepend"
    ]
   },
   "outputs": [
    {
     "output_type": "stream",
     "name": "stdout",
     "text": [
      "uracy: 0.5430 - val_loss: 0.7505 - val_accuracy: 0.8033\n",
      "\n",
      "Epoch 00043: saving model to model/keypoint_classifier\\keypoint_classifier.hdf5\n",
      "Epoch 44/12000\n",
      "68/68 [==============================] - 0s 7ms/step - loss: 1.1481 - accuracy: 0.5505 - val_loss: 0.7540 - val_accuracy: 0.8147\n",
      "\n",
      "Epoch 00044: saving model to model/keypoint_classifier\\keypoint_classifier.hdf5\n",
      "Epoch 45/12000\n",
      "68/68 [==============================] - 0s 6ms/step - loss: 1.1341 - accuracy: 0.5501 - val_loss: 0.7445 - val_accuracy: 0.8043\n",
      "\n",
      "Epoch 00045: saving model to model/keypoint_classifier\\keypoint_classifier.hdf5\n",
      "Epoch 46/12000\n",
      "68/68 [==============================] - 0s 6ms/step - loss: 1.1289 - accuracy: 0.5502 - val_loss: 0.7309 - val_accuracy: 0.8109\n",
      "\n",
      "Epoch 00046: saving model to model/keypoint_classifier\\keypoint_classifier.hdf5\n",
      "Epoch 47/12000\n",
      "68/68 [==============================] - 0s 6ms/step - loss: 1.1305 - accuracy: 0.5425 - val_loss: 0.7341 - val_accuracy: 0.8199\n",
      "\n",
      "Epoch 00047: saving model to model/keypoint_classifier\\keypoint_classifier.hdf5\n",
      "Epoch 48/12000\n",
      "68/68 [==============================] - 0s 7ms/step - loss: 1.1184 - accuracy: 0.5574 - val_loss: 0.7335 - val_accuracy: 0.8158\n",
      "\n",
      "Epoch 00048: saving model to model/keypoint_classifier\\keypoint_classifier.hdf5\n",
      "Epoch 49/12000\n",
      "68/68 [==============================] - 0s 7ms/step - loss: 1.1333 - accuracy: 0.5484 - val_loss: 0.7341 - val_accuracy: 0.8123\n",
      "\n",
      "Epoch 00049: saving model to model/keypoint_classifier\\keypoint_classifier.hdf5\n",
      "Epoch 50/12000\n",
      "68/68 [==============================] - 0s 7ms/step - loss: 1.1324 - accuracy: 0.5485 - val_loss: 0.7281 - val_accuracy: 0.8133\n",
      "\n",
      "Epoch 00050: saving model to model/keypoint_classifier\\keypoint_classifier.hdf5\n",
      "Epoch 51/12000\n",
      "68/68 [==============================] - 0s 7ms/step - loss: 1.1047 - accuracy: 0.5552 - val_loss: 0.7066 - val_accuracy: 0.8151\n",
      "\n",
      "Epoch 00051: saving model to model/keypoint_classifier\\keypoint_classifier.hdf5\n",
      "Epoch 52/12000\n",
      "68/68 [==============================] - 0s 6ms/step - loss: 1.0865 - accuracy: 0.5584 - val_loss: 0.7027 - val_accuracy: 0.8487\n",
      "\n",
      "Epoch 00052: saving model to model/keypoint_classifier\\keypoint_classifier.hdf5\n",
      "Epoch 53/12000\n",
      "68/68 [==============================] - 0s 6ms/step - loss: 1.1150 - accuracy: 0.5590 - val_loss: 0.7123 - val_accuracy: 0.8199\n",
      "\n",
      "Epoch 00053: saving model to model/keypoint_classifier\\keypoint_classifier.hdf5\n",
      "Epoch 54/12000\n",
      "68/68 [==============================] - 0s 6ms/step - loss: 1.1143 - accuracy: 0.5605 - val_loss: 0.7073 - val_accuracy: 0.8296\n",
      "\n",
      "Epoch 00054: saving model to model/keypoint_classifier\\keypoint_classifier.hdf5\n",
      "Epoch 55/12000\n",
      "68/68 [==============================] - 0s 6ms/step - loss: 1.1068 - accuracy: 0.5548 - val_loss: 0.6953 - val_accuracy: 0.8456\n",
      "\n",
      "Epoch 00055: saving model to model/keypoint_classifier\\keypoint_classifier.hdf5\n",
      "Epoch 56/12000\n",
      "68/68 [==============================] - 0s 7ms/step - loss: 1.0971 - accuracy: 0.5648 - val_loss: 0.7059 - val_accuracy: 0.8341\n",
      "\n",
      "Epoch 00056: saving model to model/keypoint_classifier\\keypoint_classifier.hdf5\n",
      "Epoch 57/12000\n",
      "68/68 [==============================] - 0s 6ms/step - loss: 1.0968 - accuracy: 0.5598 - val_loss: 0.6859 - val_accuracy: 0.8269\n",
      "\n",
      "Epoch 00057: saving model to model/keypoint_classifier\\keypoint_classifier.hdf5\n",
      "Epoch 58/12000\n",
      "68/68 [==============================] - 0s 6ms/step - loss: 1.0829 - accuracy: 0.5656 - val_loss: 0.7054 - val_accuracy: 0.8598\n",
      "\n",
      "Epoch 00058: saving model to model/keypoint_classifier\\keypoint_classifier.hdf5\n",
      "Epoch 59/12000\n",
      "68/68 [==============================] - 0s 7ms/step - loss: 1.0810 - accuracy: 0.5645 - val_loss: 0.6874 - val_accuracy: 0.8505\n",
      "\n",
      "Epoch 00059: saving model to model/keypoint_classifier\\keypoint_classifier.hdf5\n",
      "Epoch 60/12000\n",
      "68/68 [==============================] - 0s 6ms/step - loss: 1.0921 - accuracy: 0.5592 - val_loss: 0.6873 - val_accuracy: 0.8584\n",
      "\n",
      "Epoch 00060: saving model to model/keypoint_classifier\\keypoint_classifier.hdf5\n",
      "Epoch 61/12000\n",
      "68/68 [==============================] - 0s 6ms/step - loss: 1.0794 - accuracy: 0.5602 - val_loss: 0.6670 - val_accuracy: 0.8681\n",
      "\n",
      "Epoch 00061: saving model to model/keypoint_classifier\\keypoint_classifier.hdf5\n",
      "Epoch 62/12000\n",
      "68/68 [==============================] - 0s 6ms/step - loss: 1.0796 - accuracy: 0.5750 - val_loss: 0.6844 - val_accuracy: 0.8574\n",
      "\n",
      "Epoch 00062: saving model to model/keypoint_classifier\\keypoint_classifier.hdf5\n",
      "Epoch 63/12000\n",
      "68/68 [==============================] - 0s 6ms/step - loss: 1.0605 - accuracy: 0.5795 - val_loss: 0.6791 - val_accuracy: 0.8439\n",
      "\n",
      "Epoch 00063: saving model to model/keypoint_classifier\\keypoint_classifier.hdf5\n",
      "Epoch 64/12000\n",
      "68/68 [==============================] - 1s 8ms/step - loss: 1.0805 - accuracy: 0.5585 - val_loss: 0.6737 - val_accuracy: 0.8411\n",
      "\n",
      "Epoch 00064: saving model to model/keypoint_classifier\\keypoint_classifier.hdf5\n",
      "Epoch 65/12000\n",
      "68/68 [==============================] - 0s 7ms/step - loss: 1.0584 - accuracy: 0.5767 - val_loss: 0.6794 - val_accuracy: 0.8636\n",
      "\n",
      "Epoch 00065: saving model to model/keypoint_classifier\\keypoint_classifier.hdf5\n",
      "Epoch 66/12000\n",
      "68/68 [==============================] - 0s 6ms/step - loss: 1.0687 - accuracy: 0.5709 - val_loss: 0.6740 - val_accuracy: 0.8702\n",
      "\n",
      "Epoch 00066: saving model to model/keypoint_classifier\\keypoint_classifier.hdf5\n",
      "Epoch 67/12000\n",
      "68/68 [==============================] - 1s 11ms/step - loss: 1.0357 - accuracy: 0.5791 - val_loss: 0.6734 - val_accuracy: 0.8661\n",
      "\n",
      "Epoch 00067: saving model to model/keypoint_classifier\\keypoint_classifier.hdf5\n",
      "Epoch 68/12000\n",
      "68/68 [==============================] - 1s 11ms/step - loss: 1.0310 - accuracy: 0.5866 - val_loss: 0.6693 - val_accuracy: 0.8529\n",
      "\n",
      "Epoch 00068: saving model to model/keypoint_classifier\\keypoint_classifier.hdf5\n",
      "Epoch 69/12000\n",
      "68/68 [==============================] - 1s 11ms/step - loss: 1.0434 - accuracy: 0.5795 - val_loss: 0.6730 - val_accuracy: 0.8505\n",
      "\n",
      "Epoch 00069: saving model to model/keypoint_classifier\\keypoint_classifier.hdf5\n",
      "Epoch 70/12000\n",
      "68/68 [==============================] - 1s 8ms/step - loss: 1.0537 - accuracy: 0.5929 - val_loss: 0.6638 - val_accuracy: 0.8220\n",
      "\n",
      "Epoch 00070: saving model to model/keypoint_classifier\\keypoint_classifier.hdf5\n",
      "Epoch 71/12000\n",
      "68/68 [==============================] - 0s 7ms/step - loss: 1.0184 - accuracy: 0.5898 - val_loss: 0.6516 - val_accuracy: 0.8727\n",
      "\n",
      "Epoch 00071: saving model to model/keypoint_classifier\\keypoint_classifier.hdf5\n",
      "Epoch 72/12000\n",
      "68/68 [==============================] - 0s 7ms/step - loss: 1.0395 - accuracy: 0.5875 - val_loss: 0.6564 - val_accuracy: 0.8817\n",
      "\n",
      "Epoch 00072: saving model to model/keypoint_classifier\\keypoint_classifier.hdf5\n",
      "Epoch 73/12000\n",
      "68/68 [==============================] - 0s 7ms/step - loss: 1.0463 - accuracy: 0.5881 - val_loss: 0.6680 - val_accuracy: 0.8380\n",
      "\n",
      "Epoch 00073: saving model to model/keypoint_classifier\\keypoint_classifier.hdf5\n",
      "Epoch 74/12000\n",
      "68/68 [==============================] - 1s 7ms/step - loss: 1.0448 - accuracy: 0.5779 - val_loss: 0.6493 - val_accuracy: 0.8515\n",
      "\n",
      "Epoch 00074: saving model to model/keypoint_classifier\\keypoint_classifier.hdf5\n",
      "Epoch 75/12000\n",
      "68/68 [==============================] - 0s 7ms/step - loss: 1.0512 - accuracy: 0.5825 - val_loss: 0.6515 - val_accuracy: 0.8699\n",
      "\n",
      "Epoch 00075: saving model to model/keypoint_classifier\\keypoint_classifier.hdf5\n",
      "Epoch 76/12000\n",
      "68/68 [==============================] - 0s 6ms/step - loss: 1.0381 - accuracy: 0.5809 - val_loss: 0.6625 - val_accuracy: 0.8838\n",
      "\n",
      "Epoch 00076: saving model to model/keypoint_classifier\\keypoint_classifier.hdf5\n",
      "Epoch 77/12000\n",
      "68/68 [==============================] - 0s 7ms/step - loss: 1.0485 - accuracy: 0.5915 - val_loss: 0.6536 - val_accuracy: 0.8557\n",
      "\n",
      "Epoch 00077: saving model to model/keypoint_classifier\\keypoint_classifier.hdf5\n",
      "Epoch 78/12000\n",
      "68/68 [==============================] - 0s 7ms/step - loss: 1.0528 - accuracy: 0.5747 - val_loss: 0.6462 - val_accuracy: 0.8695\n",
      "\n",
      "Epoch 00078: saving model to model/keypoint_classifier\\keypoint_classifier.hdf5\n",
      "Epoch 79/12000\n",
      "68/68 [==============================] - 0s 6ms/step - loss: 1.0318 - accuracy: 0.5927 - val_loss: 0.6474 - val_accuracy: 0.8695\n",
      "\n",
      "Epoch 00079: saving model to model/keypoint_classifier\\keypoint_classifier.hdf5\n",
      "Epoch 80/12000\n",
      "68/68 [==============================] - 0s 6ms/step - loss: 1.0480 - accuracy: 0.5913 - val_loss: 0.6367 - val_accuracy: 0.8872\n",
      "\n",
      "Epoch 00080: saving model to model/keypoint_classifier\\keypoint_classifier.hdf5\n",
      "Epoch 81/12000\n",
      "68/68 [==============================] - 0s 7ms/step - loss: 1.0288 - accuracy: 0.5952 - val_loss: 0.6559 - val_accuracy: 0.8612\n",
      "\n",
      "Epoch 00081: saving model to model/keypoint_classifier\\keypoint_classifier.hdf5\n",
      "Epoch 82/12000\n",
      "68/68 [==============================] - 0s 6ms/step - loss: 1.0243 - accuracy: 0.5897 - val_loss: 0.6395 - val_accuracy: 0.8713\n",
      "\n",
      "Epoch 00082: saving model to model/keypoint_classifier\\keypoint_classifier.hdf5\n",
      "Epoch 83/12000\n",
      "68/68 [==============================] - 0s 7ms/step - loss: 1.0181 - accuracy: 0.5944 - val_loss: 0.6423 - val_accuracy: 0.8661\n",
      "\n",
      "Epoch 00083: saving model to model/keypoint_classifier\\keypoint_classifier.hdf5\n",
      "Epoch 84/12000\n",
      "68/68 [==============================] - 0s 6ms/step - loss: 1.0179 - accuracy: 0.5873 - val_loss: 0.6537 - val_accuracy: 0.8678\n",
      "\n",
      "Epoch 00084: saving model to model/keypoint_classifier\\keypoint_classifier.hdf5\n",
      "Epoch 85/12000\n",
      "68/68 [==============================] - 0s 7ms/step - loss: 1.0238 - accuracy: 0.5826 - val_loss: 0.6468 - val_accuracy: 0.8782\n",
      "\n",
      "Epoch 00085: saving model to model/keypoint_classifier\\keypoint_classifier.hdf5\n",
      "Epoch 86/12000\n",
      "68/68 [==============================] - 0s 6ms/step - loss: 1.0079 - accuracy: 0.6001 - val_loss: 0.6320 - val_accuracy: 0.8459\n",
      "\n",
      "Epoch 00086: saving model to model/keypoint_classifier\\keypoint_classifier.hdf5\n",
      "Epoch 87/12000\n",
      "68/68 [==============================] - 0s 6ms/step - loss: 1.0372 - accuracy: 0.5820 - val_loss: 0.6290 - val_accuracy: 0.8782\n",
      "\n",
      "Epoch 00087: saving model to model/keypoint_classifier\\keypoint_classifier.hdf5\n",
      "Epoch 88/12000\n",
      "68/68 [==============================] - 0s 7ms/step - loss: 1.0259 - accuracy: 0.5873 - val_loss: 0.6285 - val_accuracy: 0.8692\n",
      "\n",
      "Epoch 00088: saving model to model/keypoint_classifier\\keypoint_classifier.hdf5\n",
      "Epoch 89/12000\n",
      "68/68 [==============================] - 0s 7ms/step - loss: 1.0260 - accuracy: 0.6013 - val_loss: 0.6378 - val_accuracy: 0.8720\n",
      "\n",
      "Epoch 00089: saving model to model/keypoint_classifier\\keypoint_classifier.hdf5\n",
      "Epoch 90/12000\n",
      "68/68 [==============================] - 0s 7ms/step - loss: 1.0002 - accuracy: 0.5892 - val_loss: 0.6317 - val_accuracy: 0.8716\n",
      "\n",
      "Epoch 00090: saving model to model/keypoint_classifier\\keypoint_classifier.hdf5\n",
      "Epoch 91/12000\n",
      "68/68 [==============================] - 0s 7ms/step - loss: 1.0228 - accuracy: 0.5963 - val_loss: 0.6352 - val_accuracy: 0.8675\n",
      "\n",
      "Epoch 00091: saving model to model/keypoint_classifier\\keypoint_classifier.hdf5\n",
      "Epoch 92/12000\n",
      "68/68 [==============================] - 0s 6ms/step - loss: 1.0031 - accuracy: 0.6049 - val_loss: 0.6503 - val_accuracy: 0.8782\n",
      "\n",
      "Epoch 00092: saving model to model/keypoint_classifier\\keypoint_classifier.hdf5\n",
      "Epoch 93/12000\n",
      "68/68 [==============================] - 0s 7ms/step - loss: 1.0223 - accuracy: 0.5941 - val_loss: 0.6376 - val_accuracy: 0.8709\n",
      "\n",
      "Epoch 00093: saving model to model/keypoint_classifier\\keypoint_classifier.hdf5\n",
      "Epoch 94/12000\n",
      "68/68 [==============================] - 0s 6ms/step - loss: 1.0093 - accuracy: 0.6022 - val_loss: 0.6436 - val_accuracy: 0.8727\n",
      "\n",
      "Epoch 00094: saving model to model/keypoint_classifier\\keypoint_classifier.hdf5\n",
      "Epoch 95/12000\n",
      "68/68 [==============================] - 0s 6ms/step - loss: 1.0210 - accuracy: 0.5934 - val_loss: 0.6403 - val_accuracy: 0.8817\n",
      "\n",
      "Epoch 00095: saving model to model/keypoint_classifier\\keypoint_classifier.hdf5\n",
      "Epoch 96/12000\n",
      "68/68 [==============================] - 0s 6ms/step - loss: 1.0300 - accuracy: 0.5875 - val_loss: 0.6328 - val_accuracy: 0.8740\n",
      "\n",
      "Epoch 00096: saving model to model/keypoint_classifier\\keypoint_classifier.hdf5\n",
      "Epoch 97/12000\n",
      "68/68 [==============================] - 0s 6ms/step - loss: 1.0208 - accuracy: 0.5949 - val_loss: 0.6297 - val_accuracy: 0.8543\n",
      "\n",
      "Epoch 00097: saving model to model/keypoint_classifier\\keypoint_classifier.hdf5\n",
      "Epoch 98/12000\n",
      "68/68 [==============================] - 0s 6ms/step - loss: 1.0156 - accuracy: 0.5883 - val_loss: 0.6416 - val_accuracy: 0.8636\n",
      "\n",
      "Epoch 00098: saving model to model/keypoint_classifier\\keypoint_classifier.hdf5\n",
      "Epoch 99/12000\n",
      "68/68 [==============================] - 0s 6ms/step - loss: 0.9992 - accuracy: 0.6022 - val_loss: 0.6269 - val_accuracy: 0.8754\n",
      "\n",
      "Epoch 00099: saving model to model/keypoint_classifier\\keypoint_classifier.hdf5\n",
      "Epoch 100/12000\n",
      "68/68 [==============================] - 0s 6ms/step - loss: 1.0157 - accuracy: 0.6023 - val_loss: 0.6273 - val_accuracy: 0.8636\n",
      "\n",
      "Epoch 00100: saving model to model/keypoint_classifier\\keypoint_classifier.hdf5\n",
      "Epoch 101/12000\n",
      "68/68 [==============================] - 0s 7ms/step - loss: 0.9907 - accuracy: 0.6052 - val_loss: 0.6193 - val_accuracy: 0.8786\n",
      "\n",
      "Epoch 00101: saving model to model/keypoint_classifier\\keypoint_classifier.hdf5\n",
      "Epoch 102/12000\n",
      "68/68 [==============================] - 0s 6ms/step - loss: 1.0034 - accuracy: 0.6024 - val_loss: 0.6244 - val_accuracy: 0.8758\n",
      "\n",
      "Epoch 00102: saving model to model/keypoint_classifier\\keypoint_classifier.hdf5\n",
      "Epoch 103/12000\n",
      "68/68 [==============================] - 0s 6ms/step - loss: 1.0040 - accuracy: 0.5980 - val_loss: 0.6178 - val_accuracy: 0.8758\n",
      "\n",
      "Epoch 00103: saving model to model/keypoint_classifier\\keypoint_classifier.hdf5\n",
      "Epoch 104/12000\n",
      "68/68 [==============================] - 0s 7ms/step - loss: 0.9837 - accuracy: 0.6025 - val_loss: 0.6309 - val_accuracy: 0.8716\n",
      "\n",
      "Epoch 00104: saving model to model/keypoint_classifier\\keypoint_classifier.hdf5\n",
      "Epoch 105/12000\n",
      "68/68 [==============================] - 0s 7ms/step - loss: 0.9770 - accuracy: 0.6113 - val_loss: 0.6286 - val_accuracy: 0.8793\n",
      "\n",
      "Epoch 00105: saving model to model/keypoint_classifier\\keypoint_classifier.hdf5\n",
      "Epoch 106/12000\n",
      "68/68 [==============================] - 1s 9ms/step - loss: 0.9763 - accuracy: 0.6177 - val_loss: 0.6316 - val_accuracy: 0.8647\n",
      "\n",
      "Epoch 00106: saving model to model/keypoint_classifier\\keypoint_classifier.hdf5\n",
      "Epoch 107/12000\n",
      "68/68 [==============================] - 0s 7ms/step - loss: 0.9957 - accuracy: 0.6013 - val_loss: 0.6234 - val_accuracy: 0.8779\n",
      "\n",
      "Epoch 00107: saving model to model/keypoint_classifier\\keypoint_classifier.hdf5\n",
      "Epoch 108/12000\n",
      "68/68 [==============================] - 1s 7ms/step - loss: 0.9913 - accuracy: 0.6039 - val_loss: 0.6265 - val_accuracy: 0.8702\n",
      "\n",
      "Epoch 00108: saving model to model/keypoint_classifier\\keypoint_classifier.hdf5\n",
      "Epoch 109/12000\n",
      "68/68 [==============================] - 0s 6ms/step - loss: 0.9808 - accuracy: 0.6132 - val_loss: 0.6253 - val_accuracy: 0.8702\n",
      "\n",
      "Epoch 00109: saving model to model/keypoint_classifier\\keypoint_classifier.hdf5\n",
      "Epoch 110/12000\n",
      "68/68 [==============================] - 1s 8ms/step - loss: 0.9768 - accuracy: 0.6058 - val_loss: 0.6256 - val_accuracy: 0.8636\n",
      "\n",
      "Epoch 00110: saving model to model/keypoint_classifier\\keypoint_classifier.hdf5\n",
      "Epoch 111/12000\n",
      "68/68 [==============================] - 0s 7ms/step - loss: 0.9916 - accuracy: 0.6109 - val_loss: 0.6051 - val_accuracy: 0.8702\n",
      "\n",
      "Epoch 00111: saving model to model/keypoint_classifier\\keypoint_classifier.hdf5\n",
      "Epoch 112/12000\n",
      "68/68 [==============================] - 0s 6ms/step - loss: 0.9963 - accuracy: 0.5967 - val_loss: 0.6197 - val_accuracy: 0.8765\n",
      "\n",
      "Epoch 00112: saving model to model/keypoint_classifier\\keypoint_classifier.hdf5\n",
      "Epoch 113/12000\n",
      "68/68 [==============================] - 0s 6ms/step - loss: 0.9799 - accuracy: 0.6102 - val_loss: 0.6178 - val_accuracy: 0.8730\n",
      "\n",
      "Epoch 00113: saving model to model/keypoint_classifier\\keypoint_classifier.hdf5\n",
      "Epoch 114/12000\n",
      "68/68 [==============================] - 0s 6ms/step - loss: 0.9820 - accuracy: 0.6046 - val_loss: 0.6280 - val_accuracy: 0.8324\n",
      "\n",
      "Epoch 00114: saving model to model/keypoint_classifier\\keypoint_classifier.hdf5\n",
      "Epoch 115/12000\n",
      "68/68 [==============================] - 0s 6ms/step - loss: 0.9812 - accuracy: 0.6025 - val_loss: 0.6408 - val_accuracy: 0.8536\n",
      "\n",
      "Epoch 00115: saving model to model/keypoint_classifier\\keypoint_classifier.hdf5\n",
      "Epoch 116/12000\n",
      "68/68 [==============================] - 0s 7ms/step - loss: 0.9691 - accuracy: 0.6154 - val_loss: 0.6181 - val_accuracy: 0.8584\n",
      "\n",
      "Epoch 00116: saving model to model/keypoint_classifier\\keypoint_classifier.hdf5\n",
      "Epoch 117/12000\n",
      "68/68 [==============================] - 0s 6ms/step - loss: 0.9674 - accuracy: 0.6193 - val_loss: 0.6351 - val_accuracy: 0.8650\n",
      "\n",
      "Epoch 00117: saving model to model/keypoint_classifier\\keypoint_classifier.hdf5\n",
      "Epoch 118/12000\n",
      "68/68 [==============================] - 0s 6ms/step - loss: 0.9561 - accuracy: 0.6299 - val_loss: 0.6173 - val_accuracy: 0.8633\n",
      "\n",
      "Epoch 00118: saving model to model/keypoint_classifier\\keypoint_classifier.hdf5\n",
      "Epoch 119/12000\n",
      "68/68 [==============================] - 0s 6ms/step - loss: 0.9863 - accuracy: 0.6015 - val_loss: 0.6398 - val_accuracy: 0.8498\n",
      "\n",
      "Epoch 00119: saving model to model/keypoint_classifier\\keypoint_classifier.hdf5\n",
      "Epoch 120/12000\n",
      "68/68 [==============================] - 0s 6ms/step - loss: 0.9650 - accuracy: 0.6181 - val_loss: 0.6173 - val_accuracy: 0.8730\n",
      "\n",
      "Epoch 00120: saving model to model/keypoint_classifier\\keypoint_classifier.hdf5\n",
      "Epoch 121/12000\n",
      "68/68 [==============================] - 0s 6ms/step - loss: 0.9537 - accuracy: 0.6241 - val_loss: 0.6165 - val_accuracy: 0.8536\n",
      "\n",
      "Epoch 00121: saving model to model/keypoint_classifier\\keypoint_classifier.hdf5\n",
      "Epoch 122/12000\n",
      "68/68 [==============================] - 0s 6ms/step - loss: 0.9880 - accuracy: 0.6162 - val_loss: 0.6173 - val_accuracy: 0.8602\n",
      "\n",
      "Epoch 00122: saving model to model/keypoint_classifier\\keypoint_classifier.hdf5\n",
      "Epoch 123/12000\n",
      "68/68 [==============================] - 0s 6ms/step - loss: 0.9630 - accuracy: 0.6135 - val_loss: 0.6139 - val_accuracy: 0.8747\n",
      "\n",
      "Epoch 00123: saving model to model/keypoint_classifier\\keypoint_classifier.hdf5\n",
      "Epoch 124/12000\n",
      "68/68 [==============================] - 0s 6ms/step - loss: 0.9787 - accuracy: 0.6101 - val_loss: 0.6059 - val_accuracy: 0.8723\n",
      "\n",
      "Epoch 00124: saving model to model/keypoint_classifier\\keypoint_classifier.hdf5\n",
      "Epoch 125/12000\n",
      "68/68 [==============================] - 0s 6ms/step - loss: 0.9672 - accuracy: 0.6200 - val_loss: 0.6260 - val_accuracy: 0.8765\n",
      "\n",
      "Epoch 00125: saving model to model/keypoint_classifier\\keypoint_classifier.hdf5\n",
      "Epoch 126/12000\n",
      "68/68 [==============================] - 0s 7ms/step - loss: 0.9804 - accuracy: 0.6155 - val_loss: 0.6177 - val_accuracy: 0.8626\n",
      "\n",
      "Epoch 00126: saving model to model/keypoint_classifier\\keypoint_classifier.hdf5\n",
      "Epoch 127/12000\n",
      "68/68 [==============================] - 0s 6ms/step - loss: 0.9715 - accuracy: 0.6132 - val_loss: 0.6352 - val_accuracy: 0.8616\n",
      "\n",
      "Epoch 00127: saving model to model/keypoint_classifier\\keypoint_classifier.hdf5\n",
      "Epoch 128/12000\n",
      "68/68 [==============================] - 0s 6ms/step - loss: 0.9642 - accuracy: 0.6098 - val_loss: 0.6279 - val_accuracy: 0.8574\n",
      "\n",
      "Epoch 00128: saving model to model/keypoint_classifier\\keypoint_classifier.hdf5\n",
      "Epoch 129/12000\n",
      "68/68 [==============================] - 0s 6ms/step - loss: 0.9484 - accuracy: 0.6220 - val_loss: 0.6334 - val_accuracy: 0.8407\n",
      "\n",
      "Epoch 00129: saving model to model/keypoint_classifier\\keypoint_classifier.hdf5\n",
      "Epoch 130/12000\n",
      "68/68 [==============================] - 0s 6ms/step - loss: 0.9845 - accuracy: 0.6020 - val_loss: 0.6306 - val_accuracy: 0.8640\n",
      "\n",
      "Epoch 00130: saving model to model/keypoint_classifier\\keypoint_classifier.hdf5\n",
      "Epoch 131/12000\n",
      "68/68 [==============================] - 0s 6ms/step - loss: 0.9459 - accuracy: 0.6286 - val_loss: 0.6122 - val_accuracy: 0.8671\n",
      "\n",
      "Epoch 00131: saving model to model/keypoint_classifier\\keypoint_classifier.hdf5\n",
      "Epoch 00131: early stopping\n"
     ]
    },
    {
     "output_type": "execute_result",
     "data": {
      "text/plain": [
       "<tensorflow.python.keras.callbacks.History at 0x1a9b1f83910>"
      ]
     },
     "metadata": {},
     "execution_count": 13
    }
   ],
   "source": [
    "model.fit(\n",
    "    X_train,\n",
    "    y_train,\n",
    "    epochs=12000,\n",
    "    batch_size=128,\n",
    "    validation_data=(X_test, y_test),\n",
    "    callbacks=[cp_callback, es_callback]\n",
    ")"
   ]
  },
  {
   "cell_type": "code",
   "execution_count": 14,
   "metadata": {},
   "outputs": [
    {
     "output_type": "stream",
     "name": "stdout",
     "text": [
      "23/23 [==============================] - 0s 4ms/step - loss: 0.6122 - accuracy: 0.8671\n"
     ]
    }
   ],
   "source": [
    "# 模型评估\n",
    "val_loss, val_acc = model.evaluate(X_test, y_test, batch_size=128)"
   ]
  },
  {
   "cell_type": "code",
   "execution_count": 15,
   "metadata": {},
   "outputs": [],
   "source": [
    "# 加载保存的模型\n",
    "model = tf.keras.models.load_model(model_save_path)"
   ]
  },
  {
   "cell_type": "code",
   "execution_count": 16,
   "metadata": {},
   "outputs": [
    {
     "output_type": "stream",
     "name": "stdout",
     "text": [
      "[0.10307282 0.04440359 0.0008756  0.0104354  0.6322752  0.15277313\n 0.04367717 0.01248706]\n4\n"
     ]
    }
   ],
   "source": [
    "# 推理测试\n",
    "predict_result = model.predict(np.array([X_test[0]]))\n",
    "print(np.squeeze(predict_result))\n",
    "print(np.argmax(np.squeeze(predict_result)))"
   ]
  },
  {
   "cell_type": "markdown",
   "metadata": {},
   "source": [
    "# 混淆矩阵"
   ]
  },
  {
   "cell_type": "code",
   "execution_count": 17,
   "metadata": {},
   "outputs": [
    {
     "output_type": "display_data",
     "data": {
      "text/plain": "<Figure size 504x432 with 2 Axes>",
      "image/svg+xml": "<?xml version=\"1.0\" encoding=\"utf-8\" standalone=\"no\"?>\r\n<!DOCTYPE svg PUBLIC \"-//W3C//DTD SVG 1.1//EN\"\r\n  \"http://www.w3.org/Graphics/SVG/1.1/DTD/svg11.dtd\">\r\n<svg height=\"357.238125pt\" version=\"1.1\" viewBox=\"0 0 405.483625 357.238125\" width=\"405.483625pt\" xmlns=\"http://www.w3.org/2000/svg\" xmlns:xlink=\"http://www.w3.org/1999/xlink\">\r\n <metadata>\r\n  <rdf:RDF xmlns:cc=\"http://creativecommons.org/ns#\" xmlns:dc=\"http://purl.org/dc/elements/1.1/\" xmlns:rdf=\"http://www.w3.org/1999/02/22-rdf-syntax-ns#\">\r\n   <cc:Work>\r\n    <dc:type rdf:resource=\"http://purl.org/dc/dcmitype/StillImage\"/>\r\n    <dc:date>2021-04-13T20:37:15.289080</dc:date>\r\n    <dc:format>image/svg+xml</dc:format>\r\n    <dc:creator>\r\n     <cc:Agent>\r\n      <dc:title>Matplotlib v3.4.0, https://matplotlib.org/</dc:title>\r\n     </cc:Agent>\r\n    </dc:creator>\r\n   </cc:Work>\r\n  </rdf:RDF>\r\n </metadata>\r\n <defs>\r\n  <style type=\"text/css\">*{stroke-linecap:butt;stroke-linejoin:round;}</style>\r\n </defs>\r\n <g id=\"figure_1\">\r\n  <g id=\"patch_1\">\r\n   <path d=\"M 0 357.238125 \r\nL 405.483625 357.238125 \r\nL 405.483625 0 \r\nL 0 0 \r\nz\r\n\" style=\"fill:none;\"/>\r\n  </g>\r\n  <g id=\"axes_1\">\r\n   <g id=\"patch_2\">\r\n    <path d=\"M 23.878125 333.36 \r\nL 336.358125 333.36 \r\nL 336.358125 7.2 \r\nL 23.878125 7.2 \r\nz\r\n\" style=\"fill:#ffffff;\"/>\r\n   </g>\r\n   <g id=\"QuadMesh_1\">\r\n    <path clip-path=\"url(#p3d17f62c1d)\" d=\"M 23.878125 7.2 \r\nL 62.938125 7.2 \r\nL 62.938125 47.97 \r\nL 23.878125 47.97 \r\nL 23.878125 7.2 \r\n\" style=\"fill:#faebdd;\"/>\r\n    <path clip-path=\"url(#p3d17f62c1d)\" d=\"M 62.938125 7.2 \r\nL 101.998125 7.2 \r\nL 101.998125 47.97 \r\nL 62.938125 47.97 \r\nL 62.938125 7.2 \r\n\" style=\"fill:#03051a;\"/>\r\n    <path clip-path=\"url(#p3d17f62c1d)\" d=\"M 101.998125 7.2 \r\nL 141.058125 7.2 \r\nL 141.058125 47.97 \r\nL 101.998125 47.97 \r\nL 101.998125 7.2 \r\n\" style=\"fill:#08081e;\"/>\r\n    <path clip-path=\"url(#p3d17f62c1d)\" d=\"M 141.058125 7.2 \r\nL 180.118125 7.2 \r\nL 180.118125 47.97 \r\nL 141.058125 47.97 \r\nL 141.058125 7.2 \r\n\" style=\"fill:#03051a;\"/>\r\n    <path clip-path=\"url(#p3d17f62c1d)\" d=\"M 180.118125 7.2 \r\nL 219.178125 7.2 \r\nL 219.178125 47.97 \r\nL 180.118125 47.97 \r\nL 180.118125 7.2 \r\n\" style=\"fill:#03051a;\"/>\r\n    <path clip-path=\"url(#p3d17f62c1d)\" d=\"M 219.178125 7.2 \r\nL 258.238125 7.2 \r\nL 258.238125 47.97 \r\nL 219.178125 47.97 \r\nL 219.178125 7.2 \r\n\" style=\"fill:#03051a;\"/>\r\n    <path clip-path=\"url(#p3d17f62c1d)\" d=\"M 258.238125 7.2 \r\nL 297.298125 7.2 \r\nL 297.298125 47.97 \r\nL 258.238125 47.97 \r\nL 258.238125 7.2 \r\n\" style=\"fill:#03051a;\"/>\r\n    <path clip-path=\"url(#p3d17f62c1d)\" d=\"M 297.298125 7.2 \r\nL 336.358125 7.2 \r\nL 336.358125 47.97 \r\nL 297.298125 47.97 \r\nL 297.298125 7.2 \r\n\" style=\"fill:#03051a;\"/>\r\n    <path clip-path=\"url(#p3d17f62c1d)\" d=\"M 23.878125 47.97 \r\nL 62.938125 47.97 \r\nL 62.938125 88.74 \r\nL 23.878125 88.74 \r\nL 23.878125 47.97 \r\n\" style=\"fill:#04051a;\"/>\r\n    <path clip-path=\"url(#p3d17f62c1d)\" d=\"M 62.938125 47.97 \r\nL 101.998125 47.97 \r\nL 101.998125 88.74 \r\nL 62.938125 88.74 \r\nL 62.938125 47.97 \r\n\" style=\"fill:#921c5b;\"/>\r\n    <path clip-path=\"url(#p3d17f62c1d)\" d=\"M 101.998125 47.97 \r\nL 141.058125 47.97 \r\nL 141.058125 88.74 \r\nL 101.998125 88.74 \r\nL 101.998125 47.97 \r\n\" style=\"fill:#03051a;\"/>\r\n    <path clip-path=\"url(#p3d17f62c1d)\" d=\"M 141.058125 47.97 \r\nL 180.118125 47.97 \r\nL 180.118125 88.74 \r\nL 141.058125 88.74 \r\nL 141.058125 47.97 \r\n\" style=\"fill:#03051a;\"/>\r\n    <path clip-path=\"url(#p3d17f62c1d)\" d=\"M 180.118125 47.97 \r\nL 219.178125 47.97 \r\nL 219.178125 88.74 \r\nL 180.118125 88.74 \r\nL 180.118125 47.97 \r\n\" style=\"fill:#08081e;\"/>\r\n    <path clip-path=\"url(#p3d17f62c1d)\" d=\"M 219.178125 47.97 \r\nL 258.238125 47.97 \r\nL 258.238125 88.74 \r\nL 219.178125 88.74 \r\nL 219.178125 47.97 \r\n\" style=\"fill:#03051a;\"/>\r\n    <path clip-path=\"url(#p3d17f62c1d)\" d=\"M 258.238125 47.97 \r\nL 297.298125 47.97 \r\nL 297.298125 88.74 \r\nL 258.238125 88.74 \r\nL 258.238125 47.97 \r\n\" style=\"fill:#04051a;\"/>\r\n    <path clip-path=\"url(#p3d17f62c1d)\" d=\"M 297.298125 47.97 \r\nL 336.358125 47.97 \r\nL 336.358125 88.74 \r\nL 297.298125 88.74 \r\nL 297.298125 47.97 \r\n\" style=\"fill:#04051a;\"/>\r\n    <path clip-path=\"url(#p3d17f62c1d)\" d=\"M 23.878125 88.74 \r\nL 62.938125 88.74 \r\nL 62.938125 129.51 \r\nL 23.878125 129.51 \r\nL 23.878125 88.74 \r\n\" style=\"fill:#0e0b22;\"/>\r\n    <path clip-path=\"url(#p3d17f62c1d)\" d=\"M 62.938125 88.74 \r\nL 101.998125 88.74 \r\nL 101.998125 129.51 \r\nL 62.938125 129.51 \r\nL 62.938125 88.74 \r\n\" style=\"fill:#03051a;\"/>\r\n    <path clip-path=\"url(#p3d17f62c1d)\" d=\"M 101.998125 88.74 \r\nL 141.058125 88.74 \r\nL 141.058125 129.51 \r\nL 101.998125 129.51 \r\nL 101.998125 88.74 \r\n\" style=\"fill:#b21758;\"/>\r\n    <path clip-path=\"url(#p3d17f62c1d)\" d=\"M 141.058125 88.74 \r\nL 180.118125 88.74 \r\nL 180.118125 129.51 \r\nL 141.058125 129.51 \r\nL 141.058125 88.74 \r\n\" style=\"fill:#03051a;\"/>\r\n    <path clip-path=\"url(#p3d17f62c1d)\" d=\"M 180.118125 88.74 \r\nL 219.178125 88.74 \r\nL 219.178125 129.51 \r\nL 180.118125 129.51 \r\nL 180.118125 88.74 \r\n\" style=\"fill:#03051a;\"/>\r\n    <path clip-path=\"url(#p3d17f62c1d)\" d=\"M 219.178125 88.74 \r\nL 258.238125 88.74 \r\nL 258.238125 129.51 \r\nL 219.178125 129.51 \r\nL 219.178125 88.74 \r\n\" style=\"fill:#03051a;\"/>\r\n    <path clip-path=\"url(#p3d17f62c1d)\" d=\"M 258.238125 88.74 \r\nL 297.298125 88.74 \r\nL 297.298125 129.51 \r\nL 258.238125 129.51 \r\nL 258.238125 88.74 \r\n\" style=\"fill:#03051a;\"/>\r\n    <path clip-path=\"url(#p3d17f62c1d)\" d=\"M 297.298125 88.74 \r\nL 336.358125 88.74 \r\nL 336.358125 129.51 \r\nL 297.298125 129.51 \r\nL 297.298125 88.74 \r\n\" style=\"fill:#281535;\"/>\r\n    <path clip-path=\"url(#p3d17f62c1d)\" d=\"M 23.878125 129.51 \r\nL 62.938125 129.51 \r\nL 62.938125 170.28 \r\nL 23.878125 170.28 \r\nL 23.878125 129.51 \r\n\" style=\"fill:#281535;\"/>\r\n    <path clip-path=\"url(#p3d17f62c1d)\" d=\"M 62.938125 129.51 \r\nL 101.998125 129.51 \r\nL 101.998125 170.28 \r\nL 62.938125 170.28 \r\nL 62.938125 129.51 \r\n\" style=\"fill:#03051a;\"/>\r\n    <path clip-path=\"url(#p3d17f62c1d)\" d=\"M 101.998125 129.51 \r\nL 141.058125 129.51 \r\nL 141.058125 170.28 \r\nL 101.998125 170.28 \r\nL 101.998125 129.51 \r\n\" style=\"fill:#03051a;\"/>\r\n    <path clip-path=\"url(#p3d17f62c1d)\" d=\"M 141.058125 129.51 \r\nL 180.118125 129.51 \r\nL 180.118125 170.28 \r\nL 141.058125 170.28 \r\nL 141.058125 129.51 \r\n\" style=\"fill:#841e5a;\"/>\r\n    <path clip-path=\"url(#p3d17f62c1d)\" d=\"M 180.118125 129.51 \r\nL 219.178125 129.51 \r\nL 219.178125 170.28 \r\nL 180.118125 170.28 \r\nL 180.118125 129.51 \r\n\" style=\"fill:#03051a;\"/>\r\n    <path clip-path=\"url(#p3d17f62c1d)\" d=\"M 219.178125 129.51 \r\nL 258.238125 129.51 \r\nL 258.238125 170.28 \r\nL 219.178125 170.28 \r\nL 219.178125 129.51 \r\n\" style=\"fill:#03051a;\"/>\r\n    <path clip-path=\"url(#p3d17f62c1d)\" d=\"M 258.238125 129.51 \r\nL 297.298125 129.51 \r\nL 297.298125 170.28 \r\nL 258.238125 170.28 \r\nL 258.238125 129.51 \r\n\" style=\"fill:#04051a;\"/>\r\n    <path clip-path=\"url(#p3d17f62c1d)\" d=\"M 297.298125 129.51 \r\nL 336.358125 129.51 \r\nL 336.358125 170.28 \r\nL 297.298125 170.28 \r\nL 297.298125 129.51 \r\n\" style=\"fill:#03051a;\"/>\r\n    <path clip-path=\"url(#p3d17f62c1d)\" d=\"M 23.878125 170.28 \r\nL 62.938125 170.28 \r\nL 62.938125 211.05 \r\nL 23.878125 211.05 \r\nL 23.878125 170.28 \r\n\" style=\"fill:#03051a;\"/>\r\n    <path clip-path=\"url(#p3d17f62c1d)\" d=\"M 62.938125 170.28 \r\nL 101.998125 170.28 \r\nL 101.998125 211.05 \r\nL 62.938125 211.05 \r\nL 62.938125 170.28 \r\n\" style=\"fill:#03051a;\"/>\r\n    <path clip-path=\"url(#p3d17f62c1d)\" d=\"M 101.998125 170.28 \r\nL 141.058125 170.28 \r\nL 141.058125 211.05 \r\nL 101.998125 211.05 \r\nL 101.998125 170.28 \r\n\" style=\"fill:#03051a;\"/>\r\n    <path clip-path=\"url(#p3d17f62c1d)\" d=\"M 141.058125 170.28 \r\nL 180.118125 170.28 \r\nL 180.118125 211.05 \r\nL 141.058125 211.05 \r\nL 141.058125 170.28 \r\n\" style=\"fill:#03051a;\"/>\r\n    <path clip-path=\"url(#p3d17f62c1d)\" d=\"M 180.118125 170.28 \r\nL 219.178125 170.28 \r\nL 219.178125 211.05 \r\nL 180.118125 211.05 \r\nL 180.118125 170.28 \r\n\" style=\"fill:#ab185a;\"/>\r\n    <path clip-path=\"url(#p3d17f62c1d)\" d=\"M 219.178125 170.28 \r\nL 258.238125 170.28 \r\nL 258.238125 211.05 \r\nL 219.178125 211.05 \r\nL 219.178125 170.28 \r\n\" style=\"fill:#05061b;\"/>\r\n    <path clip-path=\"url(#p3d17f62c1d)\" d=\"M 258.238125 170.28 \r\nL 297.298125 170.28 \r\nL 297.298125 211.05 \r\nL 258.238125 211.05 \r\nL 258.238125 170.28 \r\n\" style=\"fill:#03051a;\"/>\r\n    <path clip-path=\"url(#p3d17f62c1d)\" d=\"M 297.298125 170.28 \r\nL 336.358125 170.28 \r\nL 336.358125 211.05 \r\nL 297.298125 211.05 \r\nL 297.298125 170.28 \r\n\" style=\"fill:#03051a;\"/>\r\n    <path clip-path=\"url(#p3d17f62c1d)\" d=\"M 23.878125 211.05 \r\nL 62.938125 211.05 \r\nL 62.938125 251.82 \r\nL 23.878125 251.82 \r\nL 23.878125 211.05 \r\n\" style=\"fill:#03051a;\"/>\r\n    <path clip-path=\"url(#p3d17f62c1d)\" d=\"M 62.938125 211.05 \r\nL 101.998125 211.05 \r\nL 101.998125 251.82 \r\nL 62.938125 251.82 \r\nL 62.938125 211.05 \r\n\" style=\"fill:#03051a;\"/>\r\n    <path clip-path=\"url(#p3d17f62c1d)\" d=\"M 101.998125 211.05 \r\nL 141.058125 211.05 \r\nL 141.058125 251.82 \r\nL 101.998125 251.82 \r\nL 101.998125 211.05 \r\n\" style=\"fill:#03051a;\"/>\r\n    <path clip-path=\"url(#p3d17f62c1d)\" d=\"M 141.058125 211.05 \r\nL 180.118125 211.05 \r\nL 180.118125 251.82 \r\nL 141.058125 251.82 \r\nL 141.058125 211.05 \r\n\" style=\"fill:#03051a;\"/>\r\n    <path clip-path=\"url(#p3d17f62c1d)\" d=\"M 180.118125 211.05 \r\nL 219.178125 211.05 \r\nL 219.178125 251.82 \r\nL 180.118125 251.82 \r\nL 180.118125 211.05 \r\n\" style=\"fill:#05061b;\"/>\r\n    <path clip-path=\"url(#p3d17f62c1d)\" d=\"M 219.178125 211.05 \r\nL 258.238125 211.05 \r\nL 258.238125 251.82 \r\nL 219.178125 251.82 \r\nL 219.178125 211.05 \r\n\" style=\"fill:#971c5b;\"/>\r\n    <path clip-path=\"url(#p3d17f62c1d)\" d=\"M 258.238125 211.05 \r\nL 297.298125 211.05 \r\nL 297.298125 251.82 \r\nL 258.238125 251.82 \r\nL 258.238125 211.05 \r\n\" style=\"fill:#03051a;\"/>\r\n    <path clip-path=\"url(#p3d17f62c1d)\" d=\"M 297.298125 211.05 \r\nL 336.358125 211.05 \r\nL 336.358125 251.82 \r\nL 297.298125 251.82 \r\nL 297.298125 211.05 \r\n\" style=\"fill:#03051a;\"/>\r\n    <path clip-path=\"url(#p3d17f62c1d)\" d=\"M 23.878125 251.82 \r\nL 62.938125 251.82 \r\nL 62.938125 292.59 \r\nL 23.878125 292.59 \r\nL 23.878125 251.82 \r\n\" style=\"fill:#04051a;\"/>\r\n    <path clip-path=\"url(#p3d17f62c1d)\" d=\"M 62.938125 251.82 \r\nL 101.998125 251.82 \r\nL 101.998125 292.59 \r\nL 62.938125 292.59 \r\nL 62.938125 251.82 \r\n\" style=\"fill:#03051a;\"/>\r\n    <path clip-path=\"url(#p3d17f62c1d)\" d=\"M 101.998125 251.82 \r\nL 141.058125 251.82 \r\nL 141.058125 292.59 \r\nL 101.998125 292.59 \r\nL 101.998125 251.82 \r\n\" style=\"fill:#03051a;\"/>\r\n    <path clip-path=\"url(#p3d17f62c1d)\" d=\"M 141.058125 251.82 \r\nL 180.118125 251.82 \r\nL 180.118125 292.59 \r\nL 141.058125 292.59 \r\nL 141.058125 251.82 \r\n\" style=\"fill:#03051a;\"/>\r\n    <path clip-path=\"url(#p3d17f62c1d)\" d=\"M 180.118125 251.82 \r\nL 219.178125 251.82 \r\nL 219.178125 292.59 \r\nL 180.118125 292.59 \r\nL 180.118125 251.82 \r\n\" style=\"fill:#06071c;\"/>\r\n    <path clip-path=\"url(#p3d17f62c1d)\" d=\"M 219.178125 251.82 \r\nL 258.238125 251.82 \r\nL 258.238125 292.59 \r\nL 219.178125 292.59 \r\nL 219.178125 251.82 \r\n\" style=\"fill:#07071d;\"/>\r\n    <path clip-path=\"url(#p3d17f62c1d)\" d=\"M 258.238125 251.82 \r\nL 297.298125 251.82 \r\nL 297.298125 292.59 \r\nL 258.238125 292.59 \r\nL 258.238125 251.82 \r\n\" style=\"fill:#af1759;\"/>\r\n    <path clip-path=\"url(#p3d17f62c1d)\" d=\"M 297.298125 251.82 \r\nL 336.358125 251.82 \r\nL 336.358125 292.59 \r\nL 297.298125 292.59 \r\nL 297.298125 251.82 \r\n\" style=\"fill:#03051a;\"/>\r\n    <path clip-path=\"url(#p3d17f62c1d)\" d=\"M 23.878125 292.59 \r\nL 62.938125 292.59 \r\nL 62.938125 333.36 \r\nL 23.878125 333.36 \r\nL 23.878125 292.59 \r\n\" style=\"fill:#03051a;\"/>\r\n    <path clip-path=\"url(#p3d17f62c1d)\" d=\"M 62.938125 292.59 \r\nL 101.998125 292.59 \r\nL 101.998125 333.36 \r\nL 62.938125 333.36 \r\nL 62.938125 292.59 \r\n\" style=\"fill:#381a40;\"/>\r\n    <path clip-path=\"url(#p3d17f62c1d)\" d=\"M 101.998125 292.59 \r\nL 141.058125 292.59 \r\nL 141.058125 333.36 \r\nL 101.998125 333.36 \r\nL 101.998125 292.59 \r\n\" style=\"fill:#03051a;\"/>\r\n    <path clip-path=\"url(#p3d17f62c1d)\" d=\"M 141.058125 292.59 \r\nL 180.118125 292.59 \r\nL 180.118125 333.36 \r\nL 141.058125 333.36 \r\nL 141.058125 292.59 \r\n\" style=\"fill:#03051a;\"/>\r\n    <path clip-path=\"url(#p3d17f62c1d)\" d=\"M 180.118125 292.59 \r\nL 219.178125 292.59 \r\nL 219.178125 333.36 \r\nL 180.118125 333.36 \r\nL 180.118125 292.59 \r\n\" style=\"fill:#06071c;\"/>\r\n    <path clip-path=\"url(#p3d17f62c1d)\" d=\"M 219.178125 292.59 \r\nL 258.238125 292.59 \r\nL 258.238125 333.36 \r\nL 219.178125 333.36 \r\nL 219.178125 292.59 \r\n\" style=\"fill:#03051a;\"/>\r\n    <path clip-path=\"url(#p3d17f62c1d)\" d=\"M 258.238125 292.59 \r\nL 297.298125 292.59 \r\nL 297.298125 333.36 \r\nL 258.238125 333.36 \r\nL 258.238125 292.59 \r\n\" style=\"fill:#03051a;\"/>\r\n    <path clip-path=\"url(#p3d17f62c1d)\" d=\"M 297.298125 292.59 \r\nL 336.358125 292.59 \r\nL 336.358125 333.36 \r\nL 297.298125 333.36 \r\nL 297.298125 292.59 \r\n\" style=\"fill:#711f57;\"/>\r\n   </g>\r\n   <g id=\"matplotlib.axis_1\">\r\n    <g id=\"xtick_1\">\r\n     <g id=\"line2d_1\">\r\n      <defs>\r\n       <path d=\"M 0 0 \r\nL 0 3.5 \r\n\" id=\"m9847aab7ed\" style=\"stroke:#000000;stroke-width:0.8;\"/>\r\n      </defs>\r\n      <g>\r\n       <use style=\"stroke:#000000;stroke-width:0.8;\" x=\"43.408125\" xlink:href=\"#m9847aab7ed\" y=\"333.36\"/>\r\n      </g>\r\n     </g>\r\n     <g id=\"text_1\">\r\n      <!-- 0 -->\r\n      <g transform=\"translate(40.226875 347.958438)scale(0.1 -0.1)\">\r\n       <defs>\r\n        <path d=\"M 2034 4250 \r\nQ 1547 4250 1301 3770 \r\nQ 1056 3291 1056 2328 \r\nQ 1056 1369 1301 889 \r\nQ 1547 409 2034 409 \r\nQ 2525 409 2770 889 \r\nQ 3016 1369 3016 2328 \r\nQ 3016 3291 2770 3770 \r\nQ 2525 4250 2034 4250 \r\nz\r\nM 2034 4750 \r\nQ 2819 4750 3233 4129 \r\nQ 3647 3509 3647 2328 \r\nQ 3647 1150 3233 529 \r\nQ 2819 -91 2034 -91 \r\nQ 1250 -91 836 529 \r\nQ 422 1150 422 2328 \r\nQ 422 3509 836 4129 \r\nQ 1250 4750 2034 4750 \r\nz\r\n\" id=\"DejaVuSans-30\" transform=\"scale(0.015625)\"/>\r\n       </defs>\r\n       <use xlink:href=\"#DejaVuSans-30\"/>\r\n      </g>\r\n     </g>\r\n    </g>\r\n    <g id=\"xtick_2\">\r\n     <g id=\"line2d_2\">\r\n      <g>\r\n       <use style=\"stroke:#000000;stroke-width:0.8;\" x=\"82.468125\" xlink:href=\"#m9847aab7ed\" y=\"333.36\"/>\r\n      </g>\r\n     </g>\r\n     <g id=\"text_2\">\r\n      <!-- 1 -->\r\n      <g transform=\"translate(79.286875 347.958438)scale(0.1 -0.1)\">\r\n       <defs>\r\n        <path d=\"M 794 531 \r\nL 1825 531 \r\nL 1825 4091 \r\nL 703 3866 \r\nL 703 4441 \r\nL 1819 4666 \r\nL 2450 4666 \r\nL 2450 531 \r\nL 3481 531 \r\nL 3481 0 \r\nL 794 0 \r\nL 794 531 \r\nz\r\n\" id=\"DejaVuSans-31\" transform=\"scale(0.015625)\"/>\r\n       </defs>\r\n       <use xlink:href=\"#DejaVuSans-31\"/>\r\n      </g>\r\n     </g>\r\n    </g>\r\n    <g id=\"xtick_3\">\r\n     <g id=\"line2d_3\">\r\n      <g>\r\n       <use style=\"stroke:#000000;stroke-width:0.8;\" x=\"121.528125\" xlink:href=\"#m9847aab7ed\" y=\"333.36\"/>\r\n      </g>\r\n     </g>\r\n     <g id=\"text_3\">\r\n      <!-- 2 -->\r\n      <g transform=\"translate(118.346875 347.958438)scale(0.1 -0.1)\">\r\n       <defs>\r\n        <path d=\"M 1228 531 \r\nL 3431 531 \r\nL 3431 0 \r\nL 469 0 \r\nL 469 531 \r\nQ 828 903 1448 1529 \r\nQ 2069 2156 2228 2338 \r\nQ 2531 2678 2651 2914 \r\nQ 2772 3150 2772 3378 \r\nQ 2772 3750 2511 3984 \r\nQ 2250 4219 1831 4219 \r\nQ 1534 4219 1204 4116 \r\nQ 875 4013 500 3803 \r\nL 500 4441 \r\nQ 881 4594 1212 4672 \r\nQ 1544 4750 1819 4750 \r\nQ 2544 4750 2975 4387 \r\nQ 3406 4025 3406 3419 \r\nQ 3406 3131 3298 2873 \r\nQ 3191 2616 2906 2266 \r\nQ 2828 2175 2409 1742 \r\nQ 1991 1309 1228 531 \r\nz\r\n\" id=\"DejaVuSans-32\" transform=\"scale(0.015625)\"/>\r\n       </defs>\r\n       <use xlink:href=\"#DejaVuSans-32\"/>\r\n      </g>\r\n     </g>\r\n    </g>\r\n    <g id=\"xtick_4\">\r\n     <g id=\"line2d_4\">\r\n      <g>\r\n       <use style=\"stroke:#000000;stroke-width:0.8;\" x=\"160.588125\" xlink:href=\"#m9847aab7ed\" y=\"333.36\"/>\r\n      </g>\r\n     </g>\r\n     <g id=\"text_4\">\r\n      <!-- 3 -->\r\n      <g transform=\"translate(157.406875 347.958438)scale(0.1 -0.1)\">\r\n       <defs>\r\n        <path d=\"M 2597 2516 \r\nQ 3050 2419 3304 2112 \r\nQ 3559 1806 3559 1356 \r\nQ 3559 666 3084 287 \r\nQ 2609 -91 1734 -91 \r\nQ 1441 -91 1130 -33 \r\nQ 819 25 488 141 \r\nL 488 750 \r\nQ 750 597 1062 519 \r\nQ 1375 441 1716 441 \r\nQ 2309 441 2620 675 \r\nQ 2931 909 2931 1356 \r\nQ 2931 1769 2642 2001 \r\nQ 2353 2234 1838 2234 \r\nL 1294 2234 \r\nL 1294 2753 \r\nL 1863 2753 \r\nQ 2328 2753 2575 2939 \r\nQ 2822 3125 2822 3475 \r\nQ 2822 3834 2567 4026 \r\nQ 2313 4219 1838 4219 \r\nQ 1578 4219 1281 4162 \r\nQ 984 4106 628 3988 \r\nL 628 4550 \r\nQ 988 4650 1302 4700 \r\nQ 1616 4750 1894 4750 \r\nQ 2613 4750 3031 4423 \r\nQ 3450 4097 3450 3541 \r\nQ 3450 3153 3228 2886 \r\nQ 3006 2619 2597 2516 \r\nz\r\n\" id=\"DejaVuSans-33\" transform=\"scale(0.015625)\"/>\r\n       </defs>\r\n       <use xlink:href=\"#DejaVuSans-33\"/>\r\n      </g>\r\n     </g>\r\n    </g>\r\n    <g id=\"xtick_5\">\r\n     <g id=\"line2d_5\">\r\n      <g>\r\n       <use style=\"stroke:#000000;stroke-width:0.8;\" x=\"199.648125\" xlink:href=\"#m9847aab7ed\" y=\"333.36\"/>\r\n      </g>\r\n     </g>\r\n     <g id=\"text_5\">\r\n      <!-- 4 -->\r\n      <g transform=\"translate(196.466875 347.958438)scale(0.1 -0.1)\">\r\n       <defs>\r\n        <path d=\"M 2419 4116 \r\nL 825 1625 \r\nL 2419 1625 \r\nL 2419 4116 \r\nz\r\nM 2253 4666 \r\nL 3047 4666 \r\nL 3047 1625 \r\nL 3713 1625 \r\nL 3713 1100 \r\nL 3047 1100 \r\nL 3047 0 \r\nL 2419 0 \r\nL 2419 1100 \r\nL 313 1100 \r\nL 313 1709 \r\nL 2253 4666 \r\nz\r\n\" id=\"DejaVuSans-34\" transform=\"scale(0.015625)\"/>\r\n       </defs>\r\n       <use xlink:href=\"#DejaVuSans-34\"/>\r\n      </g>\r\n     </g>\r\n    </g>\r\n    <g id=\"xtick_6\">\r\n     <g id=\"line2d_6\">\r\n      <g>\r\n       <use style=\"stroke:#000000;stroke-width:0.8;\" x=\"238.708125\" xlink:href=\"#m9847aab7ed\" y=\"333.36\"/>\r\n      </g>\r\n     </g>\r\n     <g id=\"text_6\">\r\n      <!-- 5 -->\r\n      <g transform=\"translate(235.526875 347.958438)scale(0.1 -0.1)\">\r\n       <defs>\r\n        <path d=\"M 691 4666 \r\nL 3169 4666 \r\nL 3169 4134 \r\nL 1269 4134 \r\nL 1269 2991 \r\nQ 1406 3038 1543 3061 \r\nQ 1681 3084 1819 3084 \r\nQ 2600 3084 3056 2656 \r\nQ 3513 2228 3513 1497 \r\nQ 3513 744 3044 326 \r\nQ 2575 -91 1722 -91 \r\nQ 1428 -91 1123 -41 \r\nQ 819 9 494 109 \r\nL 494 744 \r\nQ 775 591 1075 516 \r\nQ 1375 441 1709 441 \r\nQ 2250 441 2565 725 \r\nQ 2881 1009 2881 1497 \r\nQ 2881 1984 2565 2268 \r\nQ 2250 2553 1709 2553 \r\nQ 1456 2553 1204 2497 \r\nQ 953 2441 691 2322 \r\nL 691 4666 \r\nz\r\n\" id=\"DejaVuSans-35\" transform=\"scale(0.015625)\"/>\r\n       </defs>\r\n       <use xlink:href=\"#DejaVuSans-35\"/>\r\n      </g>\r\n     </g>\r\n    </g>\r\n    <g id=\"xtick_7\">\r\n     <g id=\"line2d_7\">\r\n      <g>\r\n       <use style=\"stroke:#000000;stroke-width:0.8;\" x=\"277.768125\" xlink:href=\"#m9847aab7ed\" y=\"333.36\"/>\r\n      </g>\r\n     </g>\r\n     <g id=\"text_7\">\r\n      <!-- 6 -->\r\n      <g transform=\"translate(274.586875 347.958438)scale(0.1 -0.1)\">\r\n       <defs>\r\n        <path d=\"M 2113 2584 \r\nQ 1688 2584 1439 2293 \r\nQ 1191 2003 1191 1497 \r\nQ 1191 994 1439 701 \r\nQ 1688 409 2113 409 \r\nQ 2538 409 2786 701 \r\nQ 3034 994 3034 1497 \r\nQ 3034 2003 2786 2293 \r\nQ 2538 2584 2113 2584 \r\nz\r\nM 3366 4563 \r\nL 3366 3988 \r\nQ 3128 4100 2886 4159 \r\nQ 2644 4219 2406 4219 \r\nQ 1781 4219 1451 3797 \r\nQ 1122 3375 1075 2522 \r\nQ 1259 2794 1537 2939 \r\nQ 1816 3084 2150 3084 \r\nQ 2853 3084 3261 2657 \r\nQ 3669 2231 3669 1497 \r\nQ 3669 778 3244 343 \r\nQ 2819 -91 2113 -91 \r\nQ 1303 -91 875 529 \r\nQ 447 1150 447 2328 \r\nQ 447 3434 972 4092 \r\nQ 1497 4750 2381 4750 \r\nQ 2619 4750 2861 4703 \r\nQ 3103 4656 3366 4563 \r\nz\r\n\" id=\"DejaVuSans-36\" transform=\"scale(0.015625)\"/>\r\n       </defs>\r\n       <use xlink:href=\"#DejaVuSans-36\"/>\r\n      </g>\r\n     </g>\r\n    </g>\r\n    <g id=\"xtick_8\">\r\n     <g id=\"line2d_8\">\r\n      <g>\r\n       <use style=\"stroke:#000000;stroke-width:0.8;\" x=\"316.828125\" xlink:href=\"#m9847aab7ed\" y=\"333.36\"/>\r\n      </g>\r\n     </g>\r\n     <g id=\"text_8\">\r\n      <!-- 7 -->\r\n      <g transform=\"translate(313.646875 347.958438)scale(0.1 -0.1)\">\r\n       <defs>\r\n        <path d=\"M 525 4666 \r\nL 3525 4666 \r\nL 3525 4397 \r\nL 1831 0 \r\nL 1172 0 \r\nL 2766 4134 \r\nL 525 4134 \r\nL 525 4666 \r\nz\r\n\" id=\"DejaVuSans-37\" transform=\"scale(0.015625)\"/>\r\n       </defs>\r\n       <use xlink:href=\"#DejaVuSans-37\"/>\r\n      </g>\r\n     </g>\r\n    </g>\r\n   </g>\r\n   <g id=\"matplotlib.axis_2\">\r\n    <g id=\"ytick_1\">\r\n     <g id=\"line2d_9\">\r\n      <defs>\r\n       <path d=\"M 0 0 \r\nL -3.5 0 \r\n\" id=\"m91b6ff2ea8\" style=\"stroke:#000000;stroke-width:0.8;\"/>\r\n      </defs>\r\n      <g>\r\n       <use style=\"stroke:#000000;stroke-width:0.8;\" x=\"23.878125\" xlink:href=\"#m91b6ff2ea8\" y=\"27.585\"/>\r\n      </g>\r\n     </g>\r\n     <g id=\"text_9\">\r\n      <!-- 0 -->\r\n      <g transform=\"translate(14.798438 30.148281)rotate(-90)scale(0.1 -0.1)\">\r\n       <use xlink:href=\"#DejaVuSans-30\"/>\r\n      </g>\r\n     </g>\r\n    </g>\r\n    <g id=\"ytick_2\">\r\n     <g id=\"line2d_10\">\r\n      <g>\r\n       <use style=\"stroke:#000000;stroke-width:0.8;\" x=\"23.878125\" xlink:href=\"#m91b6ff2ea8\" y=\"68.355\"/>\r\n      </g>\r\n     </g>\r\n     <g id=\"text_10\">\r\n      <!-- 1 -->\r\n      <g transform=\"translate(14.798438 70.918281)rotate(-90)scale(0.1 -0.1)\">\r\n       <use xlink:href=\"#DejaVuSans-31\"/>\r\n      </g>\r\n     </g>\r\n    </g>\r\n    <g id=\"ytick_3\">\r\n     <g id=\"line2d_11\">\r\n      <g>\r\n       <use style=\"stroke:#000000;stroke-width:0.8;\" x=\"23.878125\" xlink:href=\"#m91b6ff2ea8\" y=\"109.125\"/>\r\n      </g>\r\n     </g>\r\n     <g id=\"text_11\">\r\n      <!-- 2 -->\r\n      <g transform=\"translate(14.798438 111.688281)rotate(-90)scale(0.1 -0.1)\">\r\n       <use xlink:href=\"#DejaVuSans-32\"/>\r\n      </g>\r\n     </g>\r\n    </g>\r\n    <g id=\"ytick_4\">\r\n     <g id=\"line2d_12\">\r\n      <g>\r\n       <use style=\"stroke:#000000;stroke-width:0.8;\" x=\"23.878125\" xlink:href=\"#m91b6ff2ea8\" y=\"149.895\"/>\r\n      </g>\r\n     </g>\r\n     <g id=\"text_12\">\r\n      <!-- 3 -->\r\n      <g transform=\"translate(14.798438 152.458281)rotate(-90)scale(0.1 -0.1)\">\r\n       <use xlink:href=\"#DejaVuSans-33\"/>\r\n      </g>\r\n     </g>\r\n    </g>\r\n    <g id=\"ytick_5\">\r\n     <g id=\"line2d_13\">\r\n      <g>\r\n       <use style=\"stroke:#000000;stroke-width:0.8;\" x=\"23.878125\" xlink:href=\"#m91b6ff2ea8\" y=\"190.665\"/>\r\n      </g>\r\n     </g>\r\n     <g id=\"text_13\">\r\n      <!-- 4 -->\r\n      <g transform=\"translate(14.798438 193.228281)rotate(-90)scale(0.1 -0.1)\">\r\n       <use xlink:href=\"#DejaVuSans-34\"/>\r\n      </g>\r\n     </g>\r\n    </g>\r\n    <g id=\"ytick_6\">\r\n     <g id=\"line2d_14\">\r\n      <g>\r\n       <use style=\"stroke:#000000;stroke-width:0.8;\" x=\"23.878125\" xlink:href=\"#m91b6ff2ea8\" y=\"231.435\"/>\r\n      </g>\r\n     </g>\r\n     <g id=\"text_14\">\r\n      <!-- 5 -->\r\n      <g transform=\"translate(14.798438 233.998281)rotate(-90)scale(0.1 -0.1)\">\r\n       <use xlink:href=\"#DejaVuSans-35\"/>\r\n      </g>\r\n     </g>\r\n    </g>\r\n    <g id=\"ytick_7\">\r\n     <g id=\"line2d_15\">\r\n      <g>\r\n       <use style=\"stroke:#000000;stroke-width:0.8;\" x=\"23.878125\" xlink:href=\"#m91b6ff2ea8\" y=\"272.205\"/>\r\n      </g>\r\n     </g>\r\n     <g id=\"text_15\">\r\n      <!-- 6 -->\r\n      <g transform=\"translate(14.798438 274.768281)rotate(-90)scale(0.1 -0.1)\">\r\n       <use xlink:href=\"#DejaVuSans-36\"/>\r\n      </g>\r\n     </g>\r\n    </g>\r\n    <g id=\"ytick_8\">\r\n     <g id=\"line2d_16\">\r\n      <g>\r\n       <use style=\"stroke:#000000;stroke-width:0.8;\" x=\"23.878125\" xlink:href=\"#m91b6ff2ea8\" y=\"312.975\"/>\r\n      </g>\r\n     </g>\r\n     <g id=\"text_16\">\r\n      <!-- 7 -->\r\n      <g transform=\"translate(14.798438 315.538281)rotate(-90)scale(0.1 -0.1)\">\r\n       <use xlink:href=\"#DejaVuSans-37\"/>\r\n      </g>\r\n     </g>\r\n    </g>\r\n   </g>\r\n   <g id=\"text_17\">\r\n    <!-- 683 -->\r\n    <g style=\"fill:#262626;\" transform=\"translate(33.864375 30.344375)scale(0.1 -0.1)\">\r\n     <defs>\r\n      <path d=\"M 2034 2216 \r\nQ 1584 2216 1326 1975 \r\nQ 1069 1734 1069 1313 \r\nQ 1069 891 1326 650 \r\nQ 1584 409 2034 409 \r\nQ 2484 409 2743 651 \r\nQ 3003 894 3003 1313 \r\nQ 3003 1734 2745 1975 \r\nQ 2488 2216 2034 2216 \r\nz\r\nM 1403 2484 \r\nQ 997 2584 770 2862 \r\nQ 544 3141 544 3541 \r\nQ 544 4100 942 4425 \r\nQ 1341 4750 2034 4750 \r\nQ 2731 4750 3128 4425 \r\nQ 3525 4100 3525 3541 \r\nQ 3525 3141 3298 2862 \r\nQ 3072 2584 2669 2484 \r\nQ 3125 2378 3379 2068 \r\nQ 3634 1759 3634 1313 \r\nQ 3634 634 3220 271 \r\nQ 2806 -91 2034 -91 \r\nQ 1263 -91 848 271 \r\nQ 434 634 434 1313 \r\nQ 434 1759 690 2068 \r\nQ 947 2378 1403 2484 \r\nz\r\nM 1172 3481 \r\nQ 1172 3119 1398 2916 \r\nQ 1625 2713 2034 2713 \r\nQ 2441 2713 2670 2916 \r\nQ 2900 3119 2900 3481 \r\nQ 2900 3844 2670 4047 \r\nQ 2441 4250 2034 4250 \r\nQ 1625 4250 1398 4047 \r\nQ 1172 3844 1172 3481 \r\nz\r\n\" id=\"DejaVuSans-38\" transform=\"scale(0.015625)\"/>\r\n     </defs>\r\n     <use xlink:href=\"#DejaVuSans-36\"/>\r\n     <use x=\"63.623047\" xlink:href=\"#DejaVuSans-38\"/>\r\n     <use x=\"127.246094\" xlink:href=\"#DejaVuSans-33\"/>\r\n    </g>\r\n   </g>\r\n   <g id=\"text_18\">\r\n    <!-- 2 -->\r\n    <g style=\"fill:#ffffff;\" transform=\"translate(79.286875 30.344375)scale(0.1 -0.1)\">\r\n     <use xlink:href=\"#DejaVuSans-32\"/>\r\n    </g>\r\n   </g>\r\n   <g id=\"text_19\">\r\n    <!-- 15 -->\r\n    <g style=\"fill:#ffffff;\" transform=\"translate(115.165625 30.344375)scale(0.1 -0.1)\">\r\n     <use xlink:href=\"#DejaVuSans-31\"/>\r\n     <use x=\"63.623047\" xlink:href=\"#DejaVuSans-35\"/>\r\n    </g>\r\n   </g>\r\n   <g id=\"text_20\">\r\n    <!-- 0 -->\r\n    <g style=\"fill:#ffffff;\" transform=\"translate(157.406875 30.344375)scale(0.1 -0.1)\">\r\n     <use xlink:href=\"#DejaVuSans-30\"/>\r\n    </g>\r\n   </g>\r\n   <g id=\"text_21\">\r\n    <!-- 2 -->\r\n    <g style=\"fill:#ffffff;\" transform=\"translate(196.466875 30.344375)scale(0.1 -0.1)\">\r\n     <use xlink:href=\"#DejaVuSans-32\"/>\r\n    </g>\r\n   </g>\r\n   <g id=\"text_22\">\r\n    <!-- 0 -->\r\n    <g style=\"fill:#ffffff;\" transform=\"translate(235.526875 30.344375)scale(0.1 -0.1)\">\r\n     <use xlink:href=\"#DejaVuSans-30\"/>\r\n    </g>\r\n   </g>\r\n   <g id=\"text_23\">\r\n    <!-- 0 -->\r\n    <g style=\"fill:#ffffff;\" transform=\"translate(274.586875 30.344375)scale(0.1 -0.1)\">\r\n     <use xlink:href=\"#DejaVuSans-30\"/>\r\n    </g>\r\n   </g>\r\n   <g id=\"text_24\">\r\n    <!-- 2 -->\r\n    <g style=\"fill:#ffffff;\" transform=\"translate(313.646875 30.344375)scale(0.1 -0.1)\">\r\n     <use xlink:href=\"#DejaVuSans-32\"/>\r\n    </g>\r\n   </g>\r\n   <g id=\"text_25\">\r\n    <!-- 3 -->\r\n    <g style=\"fill:#ffffff;\" transform=\"translate(40.226875 71.114375)scale(0.1 -0.1)\">\r\n     <use xlink:href=\"#DejaVuSans-33\"/>\r\n    </g>\r\n   </g>\r\n   <g id=\"text_26\">\r\n    <!-- 249 -->\r\n    <g style=\"fill:#ffffff;\" transform=\"translate(72.924375 71.114375)scale(0.1 -0.1)\">\r\n     <defs>\r\n      <path d=\"M 703 97 \r\nL 703 672 \r\nQ 941 559 1184 500 \r\nQ 1428 441 1663 441 \r\nQ 2288 441 2617 861 \r\nQ 2947 1281 2994 2138 \r\nQ 2813 1869 2534 1725 \r\nQ 2256 1581 1919 1581 \r\nQ 1219 1581 811 2004 \r\nQ 403 2428 403 3163 \r\nQ 403 3881 828 4315 \r\nQ 1253 4750 1959 4750 \r\nQ 2769 4750 3195 4129 \r\nQ 3622 3509 3622 2328 \r\nQ 3622 1225 3098 567 \r\nQ 2575 -91 1691 -91 \r\nQ 1453 -91 1209 -44 \r\nQ 966 3 703 97 \r\nz\r\nM 1959 2075 \r\nQ 2384 2075 2632 2365 \r\nQ 2881 2656 2881 3163 \r\nQ 2881 3666 2632 3958 \r\nQ 2384 4250 1959 4250 \r\nQ 1534 4250 1286 3958 \r\nQ 1038 3666 1038 3163 \r\nQ 1038 2656 1286 2365 \r\nQ 1534 2075 1959 2075 \r\nz\r\n\" id=\"DejaVuSans-39\" transform=\"scale(0.015625)\"/>\r\n     </defs>\r\n     <use xlink:href=\"#DejaVuSans-32\"/>\r\n     <use x=\"63.623047\" xlink:href=\"#DejaVuSans-34\"/>\r\n     <use x=\"127.246094\" xlink:href=\"#DejaVuSans-39\"/>\r\n    </g>\r\n   </g>\r\n   <g id=\"text_27\">\r\n    <!-- 0 -->\r\n    <g style=\"fill:#ffffff;\" transform=\"translate(118.346875 71.114375)scale(0.1 -0.1)\">\r\n     <use xlink:href=\"#DejaVuSans-30\"/>\r\n    </g>\r\n   </g>\r\n   <g id=\"text_28\">\r\n    <!-- 0 -->\r\n    <g style=\"fill:#ffffff;\" transform=\"translate(157.406875 71.114375)scale(0.1 -0.1)\">\r\n     <use xlink:href=\"#DejaVuSans-30\"/>\r\n    </g>\r\n   </g>\r\n   <g id=\"text_29\">\r\n    <!-- 15 -->\r\n    <g style=\"fill:#ffffff;\" transform=\"translate(193.285625 71.114375)scale(0.1 -0.1)\">\r\n     <use xlink:href=\"#DejaVuSans-31\"/>\r\n     <use x=\"63.623047\" xlink:href=\"#DejaVuSans-35\"/>\r\n    </g>\r\n   </g>\r\n   <g id=\"text_30\">\r\n    <!-- 1 -->\r\n    <g style=\"fill:#ffffff;\" transform=\"translate(235.526875 71.114375)scale(0.1 -0.1)\">\r\n     <use xlink:href=\"#DejaVuSans-31\"/>\r\n    </g>\r\n   </g>\r\n   <g id=\"text_31\">\r\n    <!-- 3 -->\r\n    <g style=\"fill:#ffffff;\" transform=\"translate(274.586875 71.114375)scale(0.1 -0.1)\">\r\n     <use xlink:href=\"#DejaVuSans-33\"/>\r\n    </g>\r\n   </g>\r\n   <g id=\"text_32\">\r\n    <!-- 5 -->\r\n    <g style=\"fill:#ffffff;\" transform=\"translate(313.646875 71.114375)scale(0.1 -0.1)\">\r\n     <use xlink:href=\"#DejaVuSans-35\"/>\r\n    </g>\r\n   </g>\r\n   <g id=\"text_33\">\r\n    <!-- 26 -->\r\n    <g style=\"fill:#ffffff;\" transform=\"translate(37.045625 111.884375)scale(0.1 -0.1)\">\r\n     <use xlink:href=\"#DejaVuSans-32\"/>\r\n     <use x=\"63.623047\" xlink:href=\"#DejaVuSans-36\"/>\r\n    </g>\r\n   </g>\r\n   <g id=\"text_34\">\r\n    <!-- 1 -->\r\n    <g style=\"fill:#ffffff;\" transform=\"translate(79.286875 111.884375)scale(0.1 -0.1)\">\r\n     <use xlink:href=\"#DejaVuSans-31\"/>\r\n    </g>\r\n   </g>\r\n   <g id=\"text_35\">\r\n    <!-- 299 -->\r\n    <g style=\"fill:#ffffff;\" transform=\"translate(111.984375 111.884375)scale(0.1 -0.1)\">\r\n     <use xlink:href=\"#DejaVuSans-32\"/>\r\n     <use x=\"63.623047\" xlink:href=\"#DejaVuSans-39\"/>\r\n     <use x=\"127.246094\" xlink:href=\"#DejaVuSans-39\"/>\r\n    </g>\r\n   </g>\r\n   <g id=\"text_36\">\r\n    <!-- 0 -->\r\n    <g style=\"fill:#ffffff;\" transform=\"translate(157.406875 111.884375)scale(0.1 -0.1)\">\r\n     <use xlink:href=\"#DejaVuSans-30\"/>\r\n    </g>\r\n   </g>\r\n   <g id=\"text_37\">\r\n    <!-- 0 -->\r\n    <g style=\"fill:#ffffff;\" transform=\"translate(196.466875 111.884375)scale(0.1 -0.1)\">\r\n     <use xlink:href=\"#DejaVuSans-30\"/>\r\n    </g>\r\n   </g>\r\n   <g id=\"text_38\">\r\n    <!-- 0 -->\r\n    <g style=\"fill:#ffffff;\" transform=\"translate(235.526875 111.884375)scale(0.1 -0.1)\">\r\n     <use xlink:href=\"#DejaVuSans-30\"/>\r\n    </g>\r\n   </g>\r\n   <g id=\"text_39\">\r\n    <!-- 0 -->\r\n    <g style=\"fill:#ffffff;\" transform=\"translate(274.586875 111.884375)scale(0.1 -0.1)\">\r\n     <use xlink:href=\"#DejaVuSans-30\"/>\r\n    </g>\r\n   </g>\r\n   <g id=\"text_40\">\r\n    <!-- 74 -->\r\n    <g style=\"fill:#ffffff;\" transform=\"translate(310.465625 111.884375)scale(0.1 -0.1)\">\r\n     <use xlink:href=\"#DejaVuSans-37\"/>\r\n     <use x=\"63.623047\" xlink:href=\"#DejaVuSans-34\"/>\r\n    </g>\r\n   </g>\r\n   <g id=\"text_41\">\r\n    <!-- 74 -->\r\n    <g style=\"fill:#ffffff;\" transform=\"translate(37.045625 152.654375)scale(0.1 -0.1)\">\r\n     <use xlink:href=\"#DejaVuSans-37\"/>\r\n     <use x=\"63.623047\" xlink:href=\"#DejaVuSans-34\"/>\r\n    </g>\r\n   </g>\r\n   <g id=\"text_42\">\r\n    <!-- 0 -->\r\n    <g style=\"fill:#ffffff;\" transform=\"translate(79.286875 152.654375)scale(0.1 -0.1)\">\r\n     <use xlink:href=\"#DejaVuSans-30\"/>\r\n    </g>\r\n   </g>\r\n   <g id=\"text_43\">\r\n    <!-- 2 -->\r\n    <g style=\"fill:#ffffff;\" transform=\"translate(118.346875 152.654375)scale(0.1 -0.1)\">\r\n     <use xlink:href=\"#DejaVuSans-32\"/>\r\n    </g>\r\n   </g>\r\n   <g id=\"text_44\">\r\n    <!-- 228 -->\r\n    <g style=\"fill:#ffffff;\" transform=\"translate(151.044375 152.654375)scale(0.1 -0.1)\">\r\n     <use xlink:href=\"#DejaVuSans-32\"/>\r\n     <use x=\"63.623047\" xlink:href=\"#DejaVuSans-32\"/>\r\n     <use x=\"127.246094\" xlink:href=\"#DejaVuSans-38\"/>\r\n    </g>\r\n   </g>\r\n   <g id=\"text_45\">\r\n    <!-- 0 -->\r\n    <g style=\"fill:#ffffff;\" transform=\"translate(196.466875 152.654375)scale(0.1 -0.1)\">\r\n     <use xlink:href=\"#DejaVuSans-30\"/>\r\n    </g>\r\n   </g>\r\n   <g id=\"text_46\">\r\n    <!-- 0 -->\r\n    <g style=\"fill:#ffffff;\" transform=\"translate(235.526875 152.654375)scale(0.1 -0.1)\">\r\n     <use xlink:href=\"#DejaVuSans-30\"/>\r\n    </g>\r\n   </g>\r\n   <g id=\"text_47\">\r\n    <!-- 3 -->\r\n    <g style=\"fill:#ffffff;\" transform=\"translate(274.586875 152.654375)scale(0.1 -0.1)\">\r\n     <use xlink:href=\"#DejaVuSans-33\"/>\r\n    </g>\r\n   </g>\r\n   <g id=\"text_48\">\r\n    <!-- 0 -->\r\n    <g style=\"fill:#ffffff;\" transform=\"translate(313.646875 152.654375)scale(0.1 -0.1)\">\r\n     <use xlink:href=\"#DejaVuSans-30\"/>\r\n    </g>\r\n   </g>\r\n   <g id=\"text_49\">\r\n    <!-- 0 -->\r\n    <g style=\"fill:#ffffff;\" transform=\"translate(40.226875 193.424375)scale(0.1 -0.1)\">\r\n     <use xlink:href=\"#DejaVuSans-30\"/>\r\n    </g>\r\n   </g>\r\n   <g id=\"text_50\">\r\n    <!-- 1 -->\r\n    <g style=\"fill:#ffffff;\" transform=\"translate(79.286875 193.424375)scale(0.1 -0.1)\">\r\n     <use xlink:href=\"#DejaVuSans-31\"/>\r\n    </g>\r\n   </g>\r\n   <g id=\"text_51\">\r\n    <!-- 0 -->\r\n    <g style=\"fill:#ffffff;\" transform=\"translate(118.346875 193.424375)scale(0.1 -0.1)\">\r\n     <use xlink:href=\"#DejaVuSans-30\"/>\r\n    </g>\r\n   </g>\r\n   <g id=\"text_52\">\r\n    <!-- 0 -->\r\n    <g style=\"fill:#ffffff;\" transform=\"translate(157.406875 193.424375)scale(0.1 -0.1)\">\r\n     <use xlink:href=\"#DejaVuSans-30\"/>\r\n    </g>\r\n   </g>\r\n   <g id=\"text_53\">\r\n    <!-- 289 -->\r\n    <g style=\"fill:#ffffff;\" transform=\"translate(190.104375 193.424375)scale(0.1 -0.1)\">\r\n     <use xlink:href=\"#DejaVuSans-32\"/>\r\n     <use x=\"63.623047\" xlink:href=\"#DejaVuSans-38\"/>\r\n     <use x=\"127.246094\" xlink:href=\"#DejaVuSans-39\"/>\r\n    </g>\r\n   </g>\r\n   <g id=\"text_54\">\r\n    <!-- 6 -->\r\n    <g style=\"fill:#ffffff;\" transform=\"translate(235.526875 193.424375)scale(0.1 -0.1)\">\r\n     <use xlink:href=\"#DejaVuSans-36\"/>\r\n    </g>\r\n   </g>\r\n   <g id=\"text_55\">\r\n    <!-- 0 -->\r\n    <g style=\"fill:#ffffff;\" transform=\"translate(274.586875 193.424375)scale(0.1 -0.1)\">\r\n     <use xlink:href=\"#DejaVuSans-30\"/>\r\n    </g>\r\n   </g>\r\n   <g id=\"text_56\">\r\n    <!-- 0 -->\r\n    <g style=\"fill:#ffffff;\" transform=\"translate(313.646875 193.424375)scale(0.1 -0.1)\">\r\n     <use xlink:href=\"#DejaVuSans-30\"/>\r\n    </g>\r\n   </g>\r\n   <g id=\"text_57\">\r\n    <!-- 0 -->\r\n    <g style=\"fill:#ffffff;\" transform=\"translate(40.226875 234.194375)scale(0.1 -0.1)\">\r\n     <use xlink:href=\"#DejaVuSans-30\"/>\r\n    </g>\r\n   </g>\r\n   <g id=\"text_58\">\r\n    <!-- 0 -->\r\n    <g style=\"fill:#ffffff;\" transform=\"translate(79.286875 234.194375)scale(0.1 -0.1)\">\r\n     <use xlink:href=\"#DejaVuSans-30\"/>\r\n    </g>\r\n   </g>\r\n   <g id=\"text_59\">\r\n    <!-- 0 -->\r\n    <g style=\"fill:#ffffff;\" transform=\"translate(118.346875 234.194375)scale(0.1 -0.1)\">\r\n     <use xlink:href=\"#DejaVuSans-30\"/>\r\n    </g>\r\n   </g>\r\n   <g id=\"text_60\">\r\n    <!-- 0 -->\r\n    <g style=\"fill:#ffffff;\" transform=\"translate(157.406875 234.194375)scale(0.1 -0.1)\">\r\n     <use xlink:href=\"#DejaVuSans-30\"/>\r\n    </g>\r\n   </g>\r\n   <g id=\"text_61\">\r\n    <!-- 7 -->\r\n    <g style=\"fill:#ffffff;\" transform=\"translate(196.466875 234.194375)scale(0.1 -0.1)\">\r\n     <use xlink:href=\"#DejaVuSans-37\"/>\r\n    </g>\r\n   </g>\r\n   <g id=\"text_62\">\r\n    <!-- 257 -->\r\n    <g style=\"fill:#ffffff;\" transform=\"translate(229.164375 234.194375)scale(0.1 -0.1)\">\r\n     <use xlink:href=\"#DejaVuSans-32\"/>\r\n     <use x=\"63.623047\" xlink:href=\"#DejaVuSans-35\"/>\r\n     <use x=\"127.246094\" xlink:href=\"#DejaVuSans-37\"/>\r\n    </g>\r\n   </g>\r\n   <g id=\"text_63\">\r\n    <!-- 0 -->\r\n    <g style=\"fill:#ffffff;\" transform=\"translate(274.586875 234.194375)scale(0.1 -0.1)\">\r\n     <use xlink:href=\"#DejaVuSans-30\"/>\r\n    </g>\r\n   </g>\r\n   <g id=\"text_64\">\r\n    <!-- 0 -->\r\n    <g style=\"fill:#ffffff;\" transform=\"translate(313.646875 234.194375)scale(0.1 -0.1)\">\r\n     <use xlink:href=\"#DejaVuSans-30\"/>\r\n    </g>\r\n   </g>\r\n   <g id=\"text_65\">\r\n    <!-- 5 -->\r\n    <g style=\"fill:#ffffff;\" transform=\"translate(40.226875 274.964375)scale(0.1 -0.1)\">\r\n     <use xlink:href=\"#DejaVuSans-35\"/>\r\n    </g>\r\n   </g>\r\n   <g id=\"text_66\">\r\n    <!-- 0 -->\r\n    <g style=\"fill:#ffffff;\" transform=\"translate(79.286875 274.964375)scale(0.1 -0.1)\">\r\n     <use xlink:href=\"#DejaVuSans-30\"/>\r\n    </g>\r\n   </g>\r\n   <g id=\"text_67\">\r\n    <!-- 1 -->\r\n    <g style=\"fill:#ffffff;\" transform=\"translate(118.346875 274.964375)scale(0.1 -0.1)\">\r\n     <use xlink:href=\"#DejaVuSans-31\"/>\r\n    </g>\r\n   </g>\r\n   <g id=\"text_68\">\r\n    <!-- 0 -->\r\n    <g style=\"fill:#ffffff;\" transform=\"translate(157.406875 274.964375)scale(0.1 -0.1)\">\r\n     <use xlink:href=\"#DejaVuSans-30\"/>\r\n    </g>\r\n   </g>\r\n   <g id=\"text_69\">\r\n    <!-- 9 -->\r\n    <g style=\"fill:#ffffff;\" transform=\"translate(196.466875 274.964375)scale(0.1 -0.1)\">\r\n     <use xlink:href=\"#DejaVuSans-39\"/>\r\n    </g>\r\n   </g>\r\n   <g id=\"text_70\">\r\n    <!-- 12 -->\r\n    <g style=\"fill:#ffffff;\" transform=\"translate(232.345625 274.964375)scale(0.1 -0.1)\">\r\n     <use xlink:href=\"#DejaVuSans-31\"/>\r\n     <use x=\"63.623047\" xlink:href=\"#DejaVuSans-32\"/>\r\n    </g>\r\n   </g>\r\n   <g id=\"text_71\">\r\n    <!-- 294 -->\r\n    <g style=\"fill:#ffffff;\" transform=\"translate(268.224375 274.964375)scale(0.1 -0.1)\">\r\n     <use xlink:href=\"#DejaVuSans-32\"/>\r\n     <use x=\"63.623047\" xlink:href=\"#DejaVuSans-39\"/>\r\n     <use x=\"127.246094\" xlink:href=\"#DejaVuSans-34\"/>\r\n    </g>\r\n   </g>\r\n   <g id=\"text_72\">\r\n    <!-- 0 -->\r\n    <g style=\"fill:#ffffff;\" transform=\"translate(313.646875 274.964375)scale(0.1 -0.1)\">\r\n     <use xlink:href=\"#DejaVuSans-30\"/>\r\n    </g>\r\n   </g>\r\n   <g id=\"text_73\">\r\n    <!-- 1 -->\r\n    <g style=\"fill:#ffffff;\" transform=\"translate(40.226875 315.734375)scale(0.1 -0.1)\">\r\n     <use xlink:href=\"#DejaVuSans-31\"/>\r\n    </g>\r\n   </g>\r\n   <g id=\"text_74\">\r\n    <!-- 104 -->\r\n    <g style=\"fill:#ffffff;\" transform=\"translate(72.924375 315.734375)scale(0.1 -0.1)\">\r\n     <use xlink:href=\"#DejaVuSans-31\"/>\r\n     <use x=\"63.623047\" xlink:href=\"#DejaVuSans-30\"/>\r\n     <use x=\"127.246094\" xlink:href=\"#DejaVuSans-34\"/>\r\n    </g>\r\n   </g>\r\n   <g id=\"text_75\">\r\n    <!-- 0 -->\r\n    <g style=\"fill:#ffffff;\" transform=\"translate(118.346875 315.734375)scale(0.1 -0.1)\">\r\n     <use xlink:href=\"#DejaVuSans-30\"/>\r\n    </g>\r\n   </g>\r\n   <g id=\"text_76\">\r\n    <!-- 0 -->\r\n    <g style=\"fill:#ffffff;\" transform=\"translate(157.406875 315.734375)scale(0.1 -0.1)\">\r\n     <use xlink:href=\"#DejaVuSans-30\"/>\r\n    </g>\r\n   </g>\r\n   <g id=\"text_77\">\r\n    <!-- 9 -->\r\n    <g style=\"fill:#ffffff;\" transform=\"translate(196.466875 315.734375)scale(0.1 -0.1)\">\r\n     <use xlink:href=\"#DejaVuSans-39\"/>\r\n    </g>\r\n   </g>\r\n   <g id=\"text_78\">\r\n    <!-- 0 -->\r\n    <g style=\"fill:#ffffff;\" transform=\"translate(235.526875 315.734375)scale(0.1 -0.1)\">\r\n     <use xlink:href=\"#DejaVuSans-30\"/>\r\n    </g>\r\n   </g>\r\n   <g id=\"text_79\">\r\n    <!-- 0 -->\r\n    <g style=\"fill:#ffffff;\" transform=\"translate(274.586875 315.734375)scale(0.1 -0.1)\">\r\n     <use xlink:href=\"#DejaVuSans-30\"/>\r\n    </g>\r\n   </g>\r\n   <g id=\"text_80\">\r\n    <!-- 200 -->\r\n    <g style=\"fill:#ffffff;\" transform=\"translate(307.284375 315.734375)scale(0.1 -0.1)\">\r\n     <use xlink:href=\"#DejaVuSans-32\"/>\r\n     <use x=\"63.623047\" xlink:href=\"#DejaVuSans-30\"/>\r\n     <use x=\"127.246094\" xlink:href=\"#DejaVuSans-30\"/>\r\n    </g>\r\n   </g>\r\n  </g>\r\n  <g id=\"axes_2\">\r\n   <g id=\"patch_3\">\r\n    <path d=\"M 355.888125 333.36 \r\nL 372.196125 333.36 \r\nL 372.196125 7.2 \r\nL 355.888125 7.2 \r\nz\r\n\" style=\"fill:#ffffff;\"/>\r\n   </g>\r\n   <g id=\"patch_4\">\r\n    <path clip-path=\"url(#pdbb430db1e)\" d=\"M 355.888125 333.36 \r\nL 355.888125 332.085937 \r\nL 355.888125 8.474062 \r\nL 355.888125 7.2 \r\nL 372.196125 7.2 \r\nL 372.196125 8.474062 \r\nL 372.196125 332.085937 \r\nL 372.196125 333.36 \r\nL 372.196125 333.36 \r\nz\r\n\" style=\"fill:#ffffff;stroke:#ffffff;stroke-linejoin:miter;stroke-width:0.01;\"/>\r\n   </g>\r\n   <image height=\"326\" id=\"image9365ecb461\" transform=\"scale(1 -1)translate(0 -326)\" width=\"16\" x=\"356\" xlink:href=\"data:image/png;base64,\r\niVBORw0KGgoAAAANSUhEUgAAABAAAAFGCAYAAABjUx8/AAABuklEQVR4nO2cwQ3DMAwD7dRdovvvmQ5xAo4WlH8E6kxKAdJmf76/d4HrbHL3WuvszUo8UABXcPaiBXQGj86AK/Ah2j4YiAlxTkgjNpJ9ChFGYiL8mViwG+0WWqRxIPoDxVeQkMb7GeAWOAN0e5OxbhsJK4iASBXoRioIkw0xwEg8C1SBPQ8qnAgLNGCgbyb/FHoYiV0RY91W4EPUfeCfQkQasYJhwNOI3jJ1gYgL2E4MYKAbKYABLjAQC+aBDtFnMEbiDHALFUZiPXAG+nYugPhSiFRBAAPdSBsrYAISxrrOACtIcCJMUwQDWGDDZ5zz0AIBIw23YEOseEGBC+hGgi1UQNQZwO2aAJG3cH8aYQnOYIwUwAAr6OFEpiDCSFDB6gDRLkCbCICot4AVVBgJvqgqgCgrqDASfftvM8AtRDhRLhDwwzadwVkPw9AjjbQA3CwBEAtO4X4G9A9Rk8YEiOPEhN1IrXwWX64Y4hjJZ8DXu80gAGJAmOxTmJEWwkBPY8DT+v0QfSf6DMZIXMHeH1QgAeL1pxCRRuaDSWNBmHoYyT4FauUOEOnHhTqkcUZawUem9GOsgMh88AfoPi5LGbweAAAAAABJRU5ErkJggg==\" y=\"-7\"/>\r\n   <g id=\"matplotlib.axis_3\"/>\r\n   <g id=\"matplotlib.axis_4\">\r\n    <g id=\"ytick_9\">\r\n     <g id=\"line2d_17\">\r\n      <defs>\r\n       <path d=\"M 0 0 \r\nL 3.5 0 \r\n\" id=\"mc698682ec9\" style=\"stroke:#000000;stroke-width:0.8;\"/>\r\n      </defs>\r\n      <g>\r\n       <use style=\"stroke:#000000;stroke-width:0.8;\" x=\"372.196125\" xlink:href=\"#mc698682ec9\" y=\"333.36\"/>\r\n      </g>\r\n     </g>\r\n     <g id=\"text_81\">\r\n      <!-- 0 -->\r\n      <g transform=\"translate(379.196125 337.159219)scale(0.1 -0.1)\">\r\n       <use xlink:href=\"#DejaVuSans-30\"/>\r\n      </g>\r\n     </g>\r\n    </g>\r\n    <g id=\"ytick_10\">\r\n     <g id=\"line2d_18\">\r\n      <g>\r\n       <use style=\"stroke:#000000;stroke-width:0.8;\" x=\"372.196125\" xlink:href=\"#mc698682ec9\" y=\"285.605974\"/>\r\n      </g>\r\n     </g>\r\n     <g id=\"text_82\">\r\n      <!-- 100 -->\r\n      <g transform=\"translate(379.196125 289.405192)scale(0.1 -0.1)\">\r\n       <use xlink:href=\"#DejaVuSans-31\"/>\r\n       <use x=\"63.623047\" xlink:href=\"#DejaVuSans-30\"/>\r\n       <use x=\"127.246094\" xlink:href=\"#DejaVuSans-30\"/>\r\n      </g>\r\n     </g>\r\n    </g>\r\n    <g id=\"ytick_11\">\r\n     <g id=\"line2d_19\">\r\n      <g>\r\n       <use style=\"stroke:#000000;stroke-width:0.8;\" x=\"372.196125\" xlink:href=\"#mc698682ec9\" y=\"237.851947\"/>\r\n      </g>\r\n     </g>\r\n     <g id=\"text_83\">\r\n      <!-- 200 -->\r\n      <g transform=\"translate(379.196125 241.651166)scale(0.1 -0.1)\">\r\n       <use xlink:href=\"#DejaVuSans-32\"/>\r\n       <use x=\"63.623047\" xlink:href=\"#DejaVuSans-30\"/>\r\n       <use x=\"127.246094\" xlink:href=\"#DejaVuSans-30\"/>\r\n      </g>\r\n     </g>\r\n    </g>\r\n    <g id=\"ytick_12\">\r\n     <g id=\"line2d_20\">\r\n      <g>\r\n       <use style=\"stroke:#000000;stroke-width:0.8;\" x=\"372.196125\" xlink:href=\"#mc698682ec9\" y=\"190.097921\"/>\r\n      </g>\r\n     </g>\r\n     <g id=\"text_84\">\r\n      <!-- 300 -->\r\n      <g transform=\"translate(379.196125 193.89714)scale(0.1 -0.1)\">\r\n       <use xlink:href=\"#DejaVuSans-33\"/>\r\n       <use x=\"63.623047\" xlink:href=\"#DejaVuSans-30\"/>\r\n       <use x=\"127.246094\" xlink:href=\"#DejaVuSans-30\"/>\r\n      </g>\r\n     </g>\r\n    </g>\r\n    <g id=\"ytick_13\">\r\n     <g id=\"line2d_21\">\r\n      <g>\r\n       <use style=\"stroke:#000000;stroke-width:0.8;\" x=\"372.196125\" xlink:href=\"#mc698682ec9\" y=\"142.343895\"/>\r\n      </g>\r\n     </g>\r\n     <g id=\"text_85\">\r\n      <!-- 400 -->\r\n      <g transform=\"translate(379.196125 146.143113)scale(0.1 -0.1)\">\r\n       <use xlink:href=\"#DejaVuSans-34\"/>\r\n       <use x=\"63.623047\" xlink:href=\"#DejaVuSans-30\"/>\r\n       <use x=\"127.246094\" xlink:href=\"#DejaVuSans-30\"/>\r\n      </g>\r\n     </g>\r\n    </g>\r\n    <g id=\"ytick_14\">\r\n     <g id=\"line2d_22\">\r\n      <g>\r\n       <use style=\"stroke:#000000;stroke-width:0.8;\" x=\"372.196125\" xlink:href=\"#mc698682ec9\" y=\"94.589868\"/>\r\n      </g>\r\n     </g>\r\n     <g id=\"text_86\">\r\n      <!-- 500 -->\r\n      <g transform=\"translate(379.196125 98.389087)scale(0.1 -0.1)\">\r\n       <use xlink:href=\"#DejaVuSans-35\"/>\r\n       <use x=\"63.623047\" xlink:href=\"#DejaVuSans-30\"/>\r\n       <use x=\"127.246094\" xlink:href=\"#DejaVuSans-30\"/>\r\n      </g>\r\n     </g>\r\n    </g>\r\n    <g id=\"ytick_15\">\r\n     <g id=\"line2d_23\">\r\n      <g>\r\n       <use style=\"stroke:#000000;stroke-width:0.8;\" x=\"372.196125\" xlink:href=\"#mc698682ec9\" y=\"46.835842\"/>\r\n      </g>\r\n     </g>\r\n     <g id=\"text_87\">\r\n      <!-- 600 -->\r\n      <g transform=\"translate(379.196125 50.635061)scale(0.1 -0.1)\">\r\n       <use xlink:href=\"#DejaVuSans-36\"/>\r\n       <use x=\"63.623047\" xlink:href=\"#DejaVuSans-30\"/>\r\n       <use x=\"127.246094\" xlink:href=\"#DejaVuSans-30\"/>\r\n      </g>\r\n     </g>\r\n    </g>\r\n   </g>\r\n   <g id=\"LineCollection_1\"/>\r\n   <g id=\"patch_5\">\r\n    <path d=\"M 355.888125 333.36 \r\nL 355.888125 332.085937 \r\nL 355.888125 8.474062 \r\nL 355.888125 7.2 \r\nL 372.196125 7.2 \r\nL 372.196125 8.474062 \r\nL 372.196125 332.085937 \r\nL 372.196125 333.36 \r\nz\r\n\" style=\"fill:none;\"/>\r\n   </g>\r\n  </g>\r\n </g>\r\n <defs>\r\n  <clipPath id=\"p3d17f62c1d\">\r\n   <rect height=\"326.16\" width=\"312.48\" x=\"23.878125\" y=\"7.2\"/>\r\n  </clipPath>\r\n  <clipPath id=\"pdbb430db1e\">\r\n   <rect height=\"326.16\" width=\"16.308\" x=\"355.888125\" y=\"7.2\"/>\r\n  </clipPath>\r\n </defs>\r\n</svg>\r\n",
      "image/png": "[encoded data removed]"
     },
     "metadata": {
      "needs_background": "light"
     }
    },
    {
     "output_type": "stream",
     "name": "stdout",
     "text": [
      "Classification Report\n              precision    recall  f1-score   support\n\n           0       0.86      0.97      0.91       704\n           1       0.70      0.90      0.79       276\n           2       0.94      0.75      0.83       400\n           3       1.00      0.74      0.85       307\n           4       0.87      0.98      0.92       296\n           5       0.93      0.97      0.95       264\n           6       0.98      0.92      0.95       321\n           7       0.71      0.64      0.67       314\n\n    accuracy                           0.87      2882\n   macro avg       0.87      0.86      0.86      2882\nweighted avg       0.88      0.87      0.87      2882\n\n"
     ]
    }
   ],
   "source": [
    "import pandas as pd\n",
    "import seaborn as sns\n",
    "import matplotlib.pyplot as plt\n",
    "from sklearn.metrics import confusion_matrix, classification_report\n",
    "\n",
    "def print_confusion_matrix(y_true, y_pred, report=True):\n",
    "    labels = sorted(list(set(y_true)))\n",
    "    cmx_data = confusion_matrix(y_true, y_pred, labels=labels)\n",
    "    \n",
    "    df_cmx = pd.DataFrame(cmx_data, index=labels, columns=labels)\n",
    " \n",
    "    fig, ax = plt.subplots(figsize=(7, 6))\n",
    "    sns.heatmap(df_cmx, annot=True, fmt='g' ,square=False)\n",
    "    ax.set_ylim(len(set(y_true)), 0)\n",
    "    plt.show()\n",
    "    \n",
    "    if report:\n",
    "        print('Classification Report')\n",
    "        print(classification_report(y_test, y_pred))\n",
    "\n",
    "Y_pred = model.predict(X_test)\n",
    "y_pred = np.argmax(Y_pred, axis=1)\n",
    "\n",
    "print_confusion_matrix(y_test, y_pred)"
   ]
  },
  {
   "cell_type": "markdown",
   "metadata": {},
   "source": [
    "# 转化为Tensorflow-Lite用模型"
   ]
  },
  {
   "cell_type": "code",
   "execution_count": 18,
   "metadata": {},
   "outputs": [],
   "source": [
    "# 保存为仅供推理的模型\n",
    "model.save(model_save_path, include_optimizer=False)"
   ]
  },
  {
   "cell_type": "code",
   "execution_count": 19,
   "metadata": {},
   "outputs": [
    {
     "output_type": "stream",
     "name": "stdout",
     "text": [
      "INFO:tensorflow:Assets written to: C:\\Users\\fxf20\\AppData\\Local\\Temp\\tmpi_nfk8ca\\assets\n"
     ]
    },
    {
     "output_type": "execute_result",
     "data": {
      "text/plain": [
       "6528"
      ]
     },
     "metadata": {},
     "execution_count": 19
    }
   ],
   "source": [
    "# 转换模型（量化）\n",
    "tflite_save_path = 'model/keypoint_classifier/keypoint_classifier.tflite'\n",
    "\n",
    "converter = tf.lite.TFLiteConverter.from_keras_model(model)\n",
    "converter.optimizations = [tf.lite.Optimize.DEFAULT]\n",
    "tflite_quantized_model = converter.convert()\n",
    "\n",
    "open(tflite_save_path, 'wb').write(tflite_quantized_model)"
   ]
  },
  {
   "cell_type": "markdown",
   "metadata": {},
   "source": [
    "# 推理测试"
   ]
  },
  {
   "cell_type": "code",
   "execution_count": 20,
   "metadata": {},
   "outputs": [],
   "source": [
    "interpreter = tf.lite.Interpreter(model_path=tflite_save_path)\n",
    "interpreter.allocate_tensors()"
   ]
  },
  {
   "cell_type": "code",
   "execution_count": 21,
   "metadata": {},
   "outputs": [],
   "source": [
    "# 获取 I/O 张量\n",
    "input_details = interpreter.get_input_details()\n",
    "output_details = interpreter.get_output_details()"
   ]
  },
  {
   "cell_type": "code",
   "execution_count": 22,
   "metadata": {},
   "outputs": [],
   "source": [
    "interpreter.set_tensor(input_details[0]['index'], np.array([X_test[0]]))"
   ]
  },
  {
   "cell_type": "code",
   "execution_count": 23,
   "metadata": {
    "scrolled": true
   },
   "outputs": [
    {
     "output_type": "stream",
     "name": "stdout",
     "text": [
      "Wall time: 0 ns\n"
     ]
    }
   ],
   "source": [
    "%%time\n",
    "# 推理实施\n",
    "interpreter.invoke()\n",
    "tflite_results = interpreter.get_tensor(output_details[0]['index'])"
   ]
  },
  {
   "cell_type": "code",
   "execution_count": 24,
   "metadata": {},
   "outputs": [
    {
     "output_type": "stream",
     "name": "stdout",
     "text": [
      "[0.10307287 0.0444036  0.0008756  0.01043539 0.6322751  0.15277317\n 0.04367717 0.01248705]\n4\n"
     ]
    }
   ],
   "source": [
    "print(np.squeeze(tflite_results))\n",
    "print(np.argmax(np.squeeze(tflite_results)))"
   ]
  }
 ],
 "metadata": {
  "kernelspec": {
   "name": "python38664bit47253cadcd6b4b919516906e56c58ac6",
   "display_name": "Python 3.8.6 64-bit"
  },
  "language_info": {
   "codemirror_mode": {
    "name": "ipython",
    "version": 3
   },
   "file_extension": ".py",
   "mimetype": "text/x-python",
   "name": "python",
   "nbconvert_exporter": "python",
   "pygments_lexer": "ipython3",
   "version": "3.8.6-final"
  },
  "metadata": {
   "interpreter": {
    "hash": "7becfd3880399f3a8129f0db18a4f055ebcda55a092905bdd303baa15cd65075"
   }
  }
 },
 "nbformat": 4,
 "nbformat_minor": 4
}