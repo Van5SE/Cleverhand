{
 "cells": [
  {
   "cell_type": "code",
   "execution_count": 25,
   "metadata": {},
   "outputs": [],
   "source": [
    "import csv\n",
    "\n",
    "import numpy as np\n",
    "import tensorflow as tf\n",
    "from sklearn.model_selection import train_test_split\n",
    "\n",
    "RANDOM_SEED = 42"
   ]
  },
  {
   "source": [
    "# 路径声明"
   ],
   "cell_type": "markdown",
   "metadata": {}
  },
  {
   "cell_type": "code",
   "execution_count": 26,
   "metadata": {},
   "outputs": [],
   "source": [
    "dataset = 'model/point_history_classifier/point_history.csv'\n",
    "model_save_path = 'model/point_history_classifier/point_history_classifier.hdf5'"
   ]
  },
  {
   "source": [
    "# 设定分类数"
   ],
   "cell_type": "markdown",
   "metadata": {}
  },
  {
   "cell_type": "code",
   "execution_count": 27,
   "metadata": {},
   "outputs": [],
   "source": [
    "NUM_CLASSES = 6"
   ]
  },
  {
   "cell_type": "markdown",
   "metadata": {},
   "source": [
    "# 输入数据格式 长度为16 二维数组"
   ]
  },
  {
   "cell_type": "code",
   "execution_count": 28,
   "metadata": {},
   "outputs": [],
   "source": [
    "TIME_STEPS = 16\n",
    "DIMENSION = 2"
   ]
  },
  {
   "cell_type": "markdown",
   "metadata": {},
   "source": [
    "# 读取训练集数据"
   ]
  },
  {
   "cell_type": "code",
   "execution_count": 29,
   "metadata": {},
   "outputs": [],
   "source": [
    "X_dataset = np.loadtxt(dataset, delimiter=',', dtype='float32', usecols=list(range(1, (TIME_STEPS * DIMENSION) + 1)))"
   ]
  },
  {
   "cell_type": "code",
   "execution_count": 30,
   "metadata": {},
   "outputs": [],
   "source": [
    "y_dataset = np.loadtxt(dataset, delimiter=',', dtype='int32', usecols=(0))"
   ]
  },
  {
   "cell_type": "code",
   "execution_count": 31,
   "metadata": {},
   "outputs": [],
   "source": [
    "X_train, X_test, y_train, y_test = train_test_split(X_dataset, y_dataset, train_size=0.75, random_state=RANDOM_SEED)"
   ]
  },
  {
   "cell_type": "markdown",
   "metadata": {},
   "source": [
    "# 模型构建"
   ]
  },
  {
   "cell_type": "code",
   "execution_count": 32,
   "metadata": {},
   "outputs": [],
   "source": [
    "use_lstm = False\n",
    "model = None\n",
    "\n",
    "if use_lstm:\n",
    "    model = tf.keras.models.Sequential([\n",
    "        tf.keras.layers.InputLayer(input_shape=(TIME_STEPS * DIMENSION, )),\n",
    "        tf.keras.layers.Reshape((TIME_STEPS, DIMENSION), input_shape=(TIME_STEPS * DIMENSION, )), \n",
    "        tf.keras.layers.Dropout(0.2),\n",
    "        tf.keras.layers.LSTM(16, input_shape=[TIME_STEPS, DIMENSION]),\n",
    "        tf.keras.layers.Dropout(0.5),\n",
    "        tf.keras.layers.Dense(10, activation='relu'),\n",
    "        tf.keras.layers.Dense(NUM_CLASSES, activation='softmax')\n",
    "    ])\n",
    "else:\n",
    "    model = tf.keras.models.Sequential([\n",
    "        tf.keras.layers.InputLayer(input_shape=(TIME_STEPS * DIMENSION, )),\n",
    "        tf.keras.layers.Dropout(0.2),\n",
    "        tf.keras.layers.Dense(24, activation='relu'),\n",
    "        tf.keras.layers.Dropout(0.5),\n",
    "        tf.keras.layers.Dense(10, activation='relu'),\n",
    "        tf.keras.layers.Dense(NUM_CLASSES, activation='softmax')\n",
    "    ])"
   ]
  },
  {
   "cell_type": "code",
   "execution_count": 33,
   "metadata": {},
   "outputs": [
    {
     "output_type": "stream",
     "name": "stdout",
     "text": [
      "Model: \"sequential_2\"\n_________________________________________________________________\nLayer (type)                 Output Shape              Param #   \n=================================================================\ndropout_4 (Dropout)          (None, 32)                0         \n_________________________________________________________________\ndense_6 (Dense)              (None, 24)                792       \n_________________________________________________________________\ndropout_5 (Dropout)          (None, 24)                0         \n_________________________________________________________________\ndense_7 (Dense)              (None, 10)                250       \n_________________________________________________________________\ndense_8 (Dense)              (None, 6)                 66        \n=================================================================\nTotal params: 1,108\nTrainable params: 1,108\nNon-trainable params: 0\n_________________________________________________________________\n"
     ]
    }
   ],
   "source": [
    "model.summary()  # tf.keras.utils.plot_model(model, show_shapes=True)"
   ]
  },
  {
   "cell_type": "code",
   "execution_count": 34,
   "metadata": {},
   "outputs": [],
   "source": [
    "# 模型检查点回调\n",
    "cp_callback = tf.keras.callbacks.ModelCheckpoint(\n",
    "    model_save_path, verbose=1, save_weights_only=False)\n",
    "# 用于提前结束的回调\n",
    "es_callback = tf.keras.callbacks.EarlyStopping(patience=20, verbose=1)"
   ]
  },
  {
   "cell_type": "code",
   "execution_count": 35,
   "metadata": {},
   "outputs": [],
   "source": [
    "# 模型编译\n",
    "model.compile(\n",
    "    optimizer='adam',\n",
    "    loss='sparse_categorical_crossentropy',\n",
    "    metrics=['accuracy']\n",
    ")"
   ]
  },
  {
   "cell_type": "markdown",
   "metadata": {},
   "source": [
    "# 模型训练"
   ]
  },
  {
   "cell_type": "code",
   "execution_count": 36,
   "metadata": {
    "scrolled": true,
    "tags": [
     "outputPrepend"
    ]
   },
   "outputs": [
    {
     "output_type": "stream",
     "name": "stdout",
     "text": [
      "367: saving model to model/point_history_classifier\\point_history_classifier.hdf5\n",
      "Epoch 368/1000\n",
      "7/7 [==============================] - 0s 16ms/step - loss: 0.5975 - accuracy: 0.8114 - val_loss: 0.4640 - val_accuracy: 0.8612\n",
      "\n",
      "Epoch 00368: saving model to model/point_history_classifier\\point_history_classifier.hdf5\n",
      "Epoch 369/1000\n",
      "7/7 [==============================] - 0s 17ms/step - loss: 0.5485 - accuracy: 0.8007 - val_loss: 0.4635 - val_accuracy: 0.8612\n",
      "\n",
      "Epoch 00369: saving model to model/point_history_classifier\\point_history_classifier.hdf5\n",
      "Epoch 370/1000\n",
      "7/7 [==============================] - 0s 17ms/step - loss: 0.6210 - accuracy: 0.7993 - val_loss: 0.4631 - val_accuracy: 0.8612\n",
      "\n",
      "Epoch 00370: saving model to model/point_history_classifier\\point_history_classifier.hdf5\n",
      "Epoch 371/1000\n",
      "7/7 [==============================] - 0s 17ms/step - loss: 0.6280 - accuracy: 0.7871 - val_loss: 0.4638 - val_accuracy: 0.8577\n",
      "\n",
      "Epoch 00371: saving model to model/point_history_classifier\\point_history_classifier.hdf5\n",
      "Epoch 372/1000\n",
      "7/7 [==============================] - 0s 17ms/step - loss: 0.5636 - accuracy: 0.8154 - val_loss: 0.4640 - val_accuracy: 0.8577\n",
      "\n",
      "Epoch 00372: saving model to model/point_history_classifier\\point_history_classifier.hdf5\n",
      "Epoch 373/1000\n",
      "7/7 [==============================] - 0s 16ms/step - loss: 0.6183 - accuracy: 0.8011 - val_loss: 0.4640 - val_accuracy: 0.8612\n",
      "\n",
      "Epoch 00373: saving model to model/point_history_classifier\\point_history_classifier.hdf5\n",
      "Epoch 374/1000\n",
      "7/7 [==============================] - 0s 17ms/step - loss: 0.5362 - accuracy: 0.8312 - val_loss: 0.4632 - val_accuracy: 0.8683\n",
      "\n",
      "Epoch 00374: saving model to model/point_history_classifier\\point_history_classifier.hdf5\n",
      "Epoch 375/1000\n",
      "7/7 [==============================] - 0s 17ms/step - loss: 0.5765 - accuracy: 0.8199 - val_loss: 0.4623 - val_accuracy: 0.8648\n",
      "\n",
      "Epoch 00375: saving model to model/point_history_classifier\\point_history_classifier.hdf5\n",
      "Epoch 376/1000\n",
      "7/7 [==============================] - 0s 17ms/step - loss: 0.5497 - accuracy: 0.8247 - val_loss: 0.4612 - val_accuracy: 0.8612\n",
      "\n",
      "Epoch 00376: saving model to model/point_history_classifier\\point_history_classifier.hdf5\n",
      "Epoch 377/1000\n",
      "7/7 [==============================] - 0s 17ms/step - loss: 0.6387 - accuracy: 0.7921 - val_loss: 0.4610 - val_accuracy: 0.8577\n",
      "\n",
      "Epoch 00377: saving model to model/point_history_classifier\\point_history_classifier.hdf5\n",
      "Epoch 378/1000\n",
      "7/7 [==============================] - 0s 18ms/step - loss: 0.6256 - accuracy: 0.8061 - val_loss: 0.4610 - val_accuracy: 0.8612\n",
      "\n",
      "Epoch 00378: saving model to model/point_history_classifier\\point_history_classifier.hdf5\n",
      "Epoch 379/1000\n",
      "7/7 [==============================] - 0s 18ms/step - loss: 0.5432 - accuracy: 0.8128 - val_loss: 0.4621 - val_accuracy: 0.8648\n",
      "\n",
      "Epoch 00379: saving model to model/point_history_classifier\\point_history_classifier.hdf5\n",
      "Epoch 380/1000\n",
      "7/7 [==============================] - 0s 16ms/step - loss: 0.5779 - accuracy: 0.7949 - val_loss: 0.4633 - val_accuracy: 0.8683\n",
      "\n",
      "Epoch 00380: saving model to model/point_history_classifier\\point_history_classifier.hdf5\n",
      "Epoch 381/1000\n",
      "7/7 [==============================] - 0s 18ms/step - loss: 0.5857 - accuracy: 0.8028 - val_loss: 0.4628 - val_accuracy: 0.8683\n",
      "\n",
      "Epoch 00381: saving model to model/point_history_classifier\\point_history_classifier.hdf5\n",
      "Epoch 382/1000\n",
      "7/7 [==============================] - 0s 16ms/step - loss: 0.5639 - accuracy: 0.7987 - val_loss: 0.4608 - val_accuracy: 0.8648\n",
      "\n",
      "Epoch 00382: saving model to model/point_history_classifier\\point_history_classifier.hdf5\n",
      "Epoch 383/1000\n",
      "7/7 [==============================] - 0s 17ms/step - loss: 0.5459 - accuracy: 0.8203 - val_loss: 0.4593 - val_accuracy: 0.8683\n",
      "\n",
      "Epoch 00383: saving model to model/point_history_classifier\\point_history_classifier.hdf5\n",
      "Epoch 384/1000\n",
      "7/7 [==============================] - 0s 18ms/step - loss: 0.5905 - accuracy: 0.8093 - val_loss: 0.4590 - val_accuracy: 0.8719\n",
      "\n",
      "Epoch 00384: saving model to model/point_history_classifier\\point_history_classifier.hdf5\n",
      "Epoch 385/1000\n",
      "7/7 [==============================] - 0s 16ms/step - loss: 0.5566 - accuracy: 0.8092 - val_loss: 0.4594 - val_accuracy: 0.8719\n",
      "\n",
      "Epoch 00385: saving model to model/point_history_classifier\\point_history_classifier.hdf5\n",
      "Epoch 386/1000\n",
      "7/7 [==============================] - 0s 19ms/step - loss: 0.5575 - accuracy: 0.8205 - val_loss: 0.4604 - val_accuracy: 0.8648\n",
      "\n",
      "Epoch 00386: saving model to model/point_history_classifier\\point_history_classifier.hdf5\n",
      "Epoch 387/1000\n",
      "7/7 [==============================] - 0s 17ms/step - loss: 0.5638 - accuracy: 0.8060 - val_loss: 0.4610 - val_accuracy: 0.8612\n",
      "\n",
      "Epoch 00387: saving model to model/point_history_classifier\\point_history_classifier.hdf5\n",
      "Epoch 388/1000\n",
      "7/7 [==============================] - 0s 16ms/step - loss: 0.6168 - accuracy: 0.8018 - val_loss: 0.4614 - val_accuracy: 0.8648\n",
      "\n",
      "Epoch 00388: saving model to model/point_history_classifier\\point_history_classifier.hdf5\n",
      "Epoch 389/1000\n",
      "7/7 [==============================] - 0s 16ms/step - loss: 0.5857 - accuracy: 0.8011 - val_loss: 0.4605 - val_accuracy: 0.8648\n",
      "\n",
      "Epoch 00389: saving model to model/point_history_classifier\\point_history_classifier.hdf5\n",
      "Epoch 390/1000\n",
      "7/7 [==============================] - 0s 17ms/step - loss: 0.6055 - accuracy: 0.7906 - val_loss: 0.4594 - val_accuracy: 0.8612\n",
      "\n",
      "Epoch 00390: saving model to model/point_history_classifier\\point_history_classifier.hdf5\n",
      "Epoch 391/1000\n",
      "7/7 [==============================] - 0s 17ms/step - loss: 0.5377 - accuracy: 0.8320 - val_loss: 0.4581 - val_accuracy: 0.8612\n",
      "\n",
      "Epoch 00391: saving model to model/point_history_classifier\\point_history_classifier.hdf5\n",
      "Epoch 392/1000\n",
      "7/7 [==============================] - 0s 17ms/step - loss: 0.5769 - accuracy: 0.8274 - val_loss: 0.4572 - val_accuracy: 0.8648\n",
      "\n",
      "Epoch 00392: saving model to model/point_history_classifier\\point_history_classifier.hdf5\n",
      "Epoch 393/1000\n",
      "7/7 [==============================] - 0s 17ms/step - loss: 0.5724 - accuracy: 0.8144 - val_loss: 0.4560 - val_accuracy: 0.8683\n",
      "\n",
      "Epoch 00393: saving model to model/point_history_classifier\\point_history_classifier.hdf5\n",
      "Epoch 394/1000\n",
      "7/7 [==============================] - 0s 18ms/step - loss: 0.6198 - accuracy: 0.8065 - val_loss: 0.4562 - val_accuracy: 0.8719\n",
      "\n",
      "Epoch 00394: saving model to model/point_history_classifier\\point_history_classifier.hdf5\n",
      "Epoch 395/1000\n",
      "7/7 [==============================] - 0s 19ms/step - loss: 0.5264 - accuracy: 0.8220 - val_loss: 0.4570 - val_accuracy: 0.8683\n",
      "\n",
      "Epoch 00395: saving model to model/point_history_classifier\\point_history_classifier.hdf5\n",
      "Epoch 396/1000\n",
      "7/7 [==============================] - 0s 17ms/step - loss: 0.5499 - accuracy: 0.8188 - val_loss: 0.4577 - val_accuracy: 0.8683\n",
      "\n",
      "Epoch 00396: saving model to model/point_history_classifier\\point_history_classifier.hdf5\n",
      "Epoch 397/1000\n",
      "7/7 [==============================] - 0s 16ms/step - loss: 0.5660 - accuracy: 0.8043 - val_loss: 0.4586 - val_accuracy: 0.8683\n",
      "\n",
      "Epoch 00397: saving model to model/point_history_classifier\\point_history_classifier.hdf5\n",
      "Epoch 398/1000\n",
      "7/7 [==============================] - 0s 17ms/step - loss: 0.5474 - accuracy: 0.8133 - val_loss: 0.4573 - val_accuracy: 0.8683\n",
      "\n",
      "Epoch 00398: saving model to model/point_history_classifier\\point_history_classifier.hdf5\n",
      "Epoch 399/1000\n",
      "7/7 [==============================] - 0s 18ms/step - loss: 0.5536 - accuracy: 0.8081 - val_loss: 0.4565 - val_accuracy: 0.8648\n",
      "\n",
      "Epoch 00399: saving model to model/point_history_classifier\\point_history_classifier.hdf5\n",
      "Epoch 400/1000\n",
      "7/7 [==============================] - 0s 16ms/step - loss: 0.5828 - accuracy: 0.8001 - val_loss: 0.4552 - val_accuracy: 0.8648\n",
      "\n",
      "Epoch 00400: saving model to model/point_history_classifier\\point_history_classifier.hdf5\n",
      "Epoch 401/1000\n",
      "7/7 [==============================] - 0s 18ms/step - loss: 0.5478 - accuracy: 0.8150 - val_loss: 0.4549 - val_accuracy: 0.8648\n",
      "\n",
      "Epoch 00401: saving model to model/point_history_classifier\\point_history_classifier.hdf5\n",
      "Epoch 402/1000\n",
      "7/7 [==============================] - 0s 17ms/step - loss: 0.5424 - accuracy: 0.8224 - val_loss: 0.4555 - val_accuracy: 0.8612\n",
      "\n",
      "Epoch 00402: saving model to model/point_history_classifier\\point_history_classifier.hdf5\n",
      "Epoch 403/1000\n",
      "7/7 [==============================] - 0s 17ms/step - loss: 0.5548 - accuracy: 0.8053 - val_loss: 0.4565 - val_accuracy: 0.8648\n",
      "\n",
      "Epoch 00403: saving model to model/point_history_classifier\\point_history_classifier.hdf5\n",
      "Epoch 404/1000\n",
      "7/7 [==============================] - 0s 18ms/step - loss: 0.5591 - accuracy: 0.8188 - val_loss: 0.4561 - val_accuracy: 0.8683\n",
      "\n",
      "Epoch 00404: saving model to model/point_history_classifier\\point_history_classifier.hdf5\n",
      "Epoch 405/1000\n",
      "7/7 [==============================] - 0s 17ms/step - loss: 0.5644 - accuracy: 0.8312 - val_loss: 0.4551 - val_accuracy: 0.8683\n",
      "\n",
      "Epoch 00405: saving model to model/point_history_classifier\\point_history_classifier.hdf5\n",
      "Epoch 406/1000\n",
      "7/7 [==============================] - 0s 17ms/step - loss: 0.5672 - accuracy: 0.8058 - val_loss: 0.4540 - val_accuracy: 0.8612\n",
      "\n",
      "Epoch 00406: saving model to model/point_history_classifier\\point_history_classifier.hdf5\n",
      "Epoch 407/1000\n",
      "7/7 [==============================] - 0s 18ms/step - loss: 0.5987 - accuracy: 0.8012 - val_loss: 0.4528 - val_accuracy: 0.8612\n",
      "\n",
      "Epoch 00407: saving model to model/point_history_classifier\\point_history_classifier.hdf5\n",
      "Epoch 408/1000\n",
      "7/7 [==============================] - 0s 17ms/step - loss: 0.6167 - accuracy: 0.7759 - val_loss: 0.4530 - val_accuracy: 0.8648\n",
      "\n",
      "Epoch 00408: saving model to model/point_history_classifier\\point_history_classifier.hdf5\n",
      "Epoch 409/1000\n",
      "7/7 [==============================] - 0s 17ms/step - loss: 0.6137 - accuracy: 0.7922 - val_loss: 0.4539 - val_accuracy: 0.8683\n",
      "\n",
      "Epoch 00409: saving model to model/point_history_classifier\\point_history_classifier.hdf5\n",
      "Epoch 410/1000\n",
      "7/7 [==============================] - 0s 19ms/step - loss: 0.5561 - accuracy: 0.8269 - val_loss: 0.4537 - val_accuracy: 0.8719\n",
      "\n",
      "Epoch 00410: saving model to model/point_history_classifier\\point_history_classifier.hdf5\n",
      "Epoch 411/1000\n",
      "7/7 [==============================] - 0s 18ms/step - loss: 0.5812 - accuracy: 0.8183 - val_loss: 0.4526 - val_accuracy: 0.8683\n",
      "\n",
      "Epoch 00411: saving model to model/point_history_classifier\\point_history_classifier.hdf5\n",
      "Epoch 412/1000\n",
      "7/7 [==============================] - 0s 17ms/step - loss: 0.5172 - accuracy: 0.8276 - val_loss: 0.4515 - val_accuracy: 0.8683\n",
      "\n",
      "Epoch 00412: saving model to model/point_history_classifier\\point_history_classifier.hdf5\n",
      "Epoch 413/1000\n",
      "7/7 [==============================] - 0s 17ms/step - loss: 0.5598 - accuracy: 0.8122 - val_loss: 0.4507 - val_accuracy: 0.8719\n",
      "\n",
      "Epoch 00413: saving model to model/point_history_classifier\\point_history_classifier.hdf5\n",
      "Epoch 414/1000\n",
      "7/7 [==============================] - 0s 20ms/step - loss: 0.5849 - accuracy: 0.8157 - val_loss: 0.4501 - val_accuracy: 0.8683\n",
      "\n",
      "Epoch 00414: saving model to model/point_history_classifier\\point_history_classifier.hdf5\n",
      "Epoch 415/1000\n",
      "7/7 [==============================] - 0s 17ms/step - loss: 0.5553 - accuracy: 0.8258 - val_loss: 0.4499 - val_accuracy: 0.8719\n",
      "\n",
      "Epoch 00415: saving model to model/point_history_classifier\\point_history_classifier.hdf5\n",
      "Epoch 416/1000\n",
      "7/7 [==============================] - 0s 18ms/step - loss: 0.5095 - accuracy: 0.8492 - val_loss: 0.4496 - val_accuracy: 0.8719\n",
      "\n",
      "Epoch 00416: saving model to model/point_history_classifier\\point_history_classifier.hdf5\n",
      "Epoch 417/1000\n",
      "7/7 [==============================] - 0s 25ms/step - loss: 0.5108 - accuracy: 0.8309 - val_loss: 0.4502 - val_accuracy: 0.8683\n",
      "\n",
      "Epoch 00417: saving model to model/point_history_classifier\\point_history_classifier.hdf5\n",
      "Epoch 418/1000\n",
      "7/7 [==============================] - 0s 24ms/step - loss: 0.6084 - accuracy: 0.8154 - val_loss: 0.4504 - val_accuracy: 0.8612\n",
      "\n",
      "Epoch 00418: saving model to model/point_history_classifier\\point_history_classifier.hdf5\n",
      "Epoch 419/1000\n",
      "7/7 [==============================] - 0s 20ms/step - loss: 0.5722 - accuracy: 0.8090 - val_loss: 0.4497 - val_accuracy: 0.8612\n",
      "\n",
      "Epoch 00419: saving model to model/point_history_classifier\\point_history_classifier.hdf5\n",
      "Epoch 420/1000\n",
      "7/7 [==============================] - 0s 19ms/step - loss: 0.5448 - accuracy: 0.8184 - val_loss: 0.4496 - val_accuracy: 0.8683\n",
      "\n",
      "Epoch 00420: saving model to model/point_history_classifier\\point_history_classifier.hdf5\n",
      "Epoch 421/1000\n",
      "7/7 [==============================] - 0s 16ms/step - loss: 0.5712 - accuracy: 0.8091 - val_loss: 0.4496 - val_accuracy: 0.8754\n",
      "\n",
      "Epoch 00421: saving model to model/point_history_classifier\\point_history_classifier.hdf5\n",
      "Epoch 422/1000\n",
      "7/7 [==============================] - 0s 17ms/step - loss: 0.6098 - accuracy: 0.8130 - val_loss: 0.4488 - val_accuracy: 0.8754\n",
      "\n",
      "Epoch 00422: saving model to model/point_history_classifier\\point_history_classifier.hdf5\n",
      "Epoch 423/1000\n",
      "7/7 [==============================] - 0s 18ms/step - loss: 0.5757 - accuracy: 0.8172 - val_loss: 0.4491 - val_accuracy: 0.8719\n",
      "\n",
      "Epoch 00423: saving model to model/point_history_classifier\\point_history_classifier.hdf5\n",
      "Epoch 424/1000\n",
      "7/7 [==============================] - 0s 18ms/step - loss: 0.5500 - accuracy: 0.8282 - val_loss: 0.4496 - val_accuracy: 0.8683\n",
      "\n",
      "Epoch 00424: saving model to model/point_history_classifier\\point_history_classifier.hdf5\n",
      "Epoch 425/1000\n",
      "7/7 [==============================] - 0s 18ms/step - loss: 0.5602 - accuracy: 0.8069 - val_loss: 0.4492 - val_accuracy: 0.8683\n",
      "\n",
      "Epoch 00425: saving model to model/point_history_classifier\\point_history_classifier.hdf5\n",
      "Epoch 426/1000\n",
      "7/7 [==============================] - 0s 19ms/step - loss: 0.6055 - accuracy: 0.7824 - val_loss: 0.4499 - val_accuracy: 0.8683\n",
      "\n",
      "Epoch 00426: saving model to model/point_history_classifier\\point_history_classifier.hdf5\n",
      "Epoch 427/1000\n",
      "7/7 [==============================] - 0s 16ms/step - loss: 0.5611 - accuracy: 0.8269 - val_loss: 0.4497 - val_accuracy: 0.8683\n",
      "\n",
      "Epoch 00427: saving model to model/point_history_classifier\\point_history_classifier.hdf5\n",
      "Epoch 428/1000\n",
      "7/7 [==============================] - 0s 17ms/step - loss: 0.5908 - accuracy: 0.8128 - val_loss: 0.4506 - val_accuracy: 0.8683\n",
      "\n",
      "Epoch 00428: saving model to model/point_history_classifier\\point_history_classifier.hdf5\n",
      "Epoch 429/1000\n",
      "7/7 [==============================] - 0s 19ms/step - loss: 0.5407 - accuracy: 0.8239 - val_loss: 0.4509 - val_accuracy: 0.8683\n",
      "\n",
      "Epoch 00429: saving model to model/point_history_classifier\\point_history_classifier.hdf5\n",
      "Epoch 430/1000\n",
      "7/7 [==============================] - 0s 19ms/step - loss: 0.5407 - accuracy: 0.8225 - val_loss: 0.4484 - val_accuracy: 0.8719\n",
      "\n",
      "Epoch 00430: saving model to model/point_history_classifier\\point_history_classifier.hdf5\n",
      "Epoch 431/1000\n",
      "7/7 [==============================] - 0s 17ms/step - loss: 0.5291 - accuracy: 0.8207 - val_loss: 0.4460 - val_accuracy: 0.8683\n",
      "\n",
      "Epoch 00431: saving model to model/point_history_classifier\\point_history_classifier.hdf5\n",
      "Epoch 432/1000\n",
      "7/7 [==============================] - 0s 17ms/step - loss: 0.5410 - accuracy: 0.8228 - val_loss: 0.4452 - val_accuracy: 0.8719\n",
      "\n",
      "Epoch 00432: saving model to model/point_history_classifier\\point_history_classifier.hdf5\n",
      "Epoch 433/1000\n",
      "7/7 [==============================] - 0s 17ms/step - loss: 0.5924 - accuracy: 0.8146 - val_loss: 0.4458 - val_accuracy: 0.8719\n",
      "\n",
      "Epoch 00433: saving model to model/point_history_classifier\\point_history_classifier.hdf5\n",
      "Epoch 434/1000\n",
      "7/7 [==============================] - 0s 17ms/step - loss: 0.5795 - accuracy: 0.8130 - val_loss: 0.4471 - val_accuracy: 0.8719\n",
      "\n",
      "Epoch 00434: saving model to model/point_history_classifier\\point_history_classifier.hdf5\n",
      "Epoch 435/1000\n",
      "7/7 [==============================] - 0s 18ms/step - loss: 0.5276 - accuracy: 0.8261 - val_loss: 0.4480 - val_accuracy: 0.8719\n",
      "\n",
      "Epoch 00435: saving model to model/point_history_classifier\\point_history_classifier.hdf5\n",
      "Epoch 436/1000\n",
      "7/7 [==============================] - 0s 19ms/step - loss: 0.5744 - accuracy: 0.8176 - val_loss: 0.4482 - val_accuracy: 0.8683\n",
      "\n",
      "Epoch 00436: saving model to model/point_history_classifier\\point_history_classifier.hdf5\n",
      "Epoch 437/1000\n",
      "7/7 [==============================] - 0s 19ms/step - loss: 0.5778 - accuracy: 0.8098 - val_loss: 0.4494 - val_accuracy: 0.8719\n",
      "\n",
      "Epoch 00437: saving model to model/point_history_classifier\\point_history_classifier.hdf5\n",
      "Epoch 438/1000\n",
      "7/7 [==============================] - 0s 18ms/step - loss: 0.5191 - accuracy: 0.8405 - val_loss: 0.4496 - val_accuracy: 0.8719\n",
      "\n",
      "Epoch 00438: saving model to model/point_history_classifier\\point_history_classifier.hdf5\n",
      "Epoch 439/1000\n",
      "7/7 [==============================] - 0s 17ms/step - loss: 0.5725 - accuracy: 0.8219 - val_loss: 0.4496 - val_accuracy: 0.8683\n",
      "\n",
      "Epoch 00439: saving model to model/point_history_classifier\\point_history_classifier.hdf5\n",
      "Epoch 440/1000\n",
      "7/7 [==============================] - 0s 17ms/step - loss: 0.5401 - accuracy: 0.8124 - val_loss: 0.4506 - val_accuracy: 0.8683\n",
      "\n",
      "Epoch 00440: saving model to model/point_history_classifier\\point_history_classifier.hdf5\n",
      "Epoch 441/1000\n",
      "7/7 [==============================] - 0s 16ms/step - loss: 0.5959 - accuracy: 0.7977 - val_loss: 0.4496 - val_accuracy: 0.8719\n",
      "\n",
      "Epoch 00441: saving model to model/point_history_classifier\\point_history_classifier.hdf5\n",
      "Epoch 442/1000\n",
      "7/7 [==============================] - 0s 17ms/step - loss: 0.5650 - accuracy: 0.8074 - val_loss: 0.4484 - val_accuracy: 0.8683\n",
      "\n",
      "Epoch 00442: saving model to model/point_history_classifier\\point_history_classifier.hdf5\n",
      "Epoch 443/1000\n",
      "7/7 [==============================] - 0s 26ms/step - loss: 0.5362 - accuracy: 0.8235 - val_loss: 0.4482 - val_accuracy: 0.8683\n",
      "\n",
      "Epoch 00443: saving model to model/point_history_classifier\\point_history_classifier.hdf5\n",
      "Epoch 444/1000\n",
      "7/7 [==============================] - 0s 17ms/step - loss: 0.5823 - accuracy: 0.8033 - val_loss: 0.4494 - val_accuracy: 0.8683\n",
      "\n",
      "Epoch 00444: saving model to model/point_history_classifier\\point_history_classifier.hdf5\n",
      "Epoch 445/1000\n",
      "7/7 [==============================] - 0s 18ms/step - loss: 0.5200 - accuracy: 0.8331 - val_loss: 0.4503 - val_accuracy: 0.8719\n",
      "\n",
      "Epoch 00445: saving model to model/point_history_classifier\\point_history_classifier.hdf5\n",
      "Epoch 446/1000\n",
      "7/7 [==============================] - 0s 17ms/step - loss: 0.6235 - accuracy: 0.8024 - val_loss: 0.4512 - val_accuracy: 0.8683\n",
      "\n",
      "Epoch 00446: saving model to model/point_history_classifier\\point_history_classifier.hdf5\n",
      "Epoch 447/1000\n",
      "7/7 [==============================] - 0s 17ms/step - loss: 0.6143 - accuracy: 0.7902 - val_loss: 0.4517 - val_accuracy: 0.8648\n",
      "\n",
      "Epoch 00447: saving model to model/point_history_classifier\\point_history_classifier.hdf5\n",
      "Epoch 448/1000\n",
      "7/7 [==============================] - 0s 16ms/step - loss: 0.5899 - accuracy: 0.7981 - val_loss: 0.4516 - val_accuracy: 0.8683\n",
      "\n",
      "Epoch 00448: saving model to model/point_history_classifier\\point_history_classifier.hdf5\n",
      "Epoch 449/1000\n",
      "7/7 [==============================] - 0s 18ms/step - loss: 0.5185 - accuracy: 0.8360 - val_loss: 0.4500 - val_accuracy: 0.8648\n",
      "\n",
      "Epoch 00449: saving model to model/point_history_classifier\\point_history_classifier.hdf5\n",
      "Epoch 450/1000\n",
      "7/7 [==============================] - 0s 17ms/step - loss: 0.5421 - accuracy: 0.8226 - val_loss: 0.4501 - val_accuracy: 0.8683\n",
      "\n",
      "Epoch 00450: saving model to model/point_history_classifier\\point_history_classifier.hdf5\n",
      "Epoch 451/1000\n",
      "7/7 [==============================] - 0s 17ms/step - loss: 0.5710 - accuracy: 0.8144 - val_loss: 0.4496 - val_accuracy: 0.8719\n",
      "\n",
      "Epoch 00451: saving model to model/point_history_classifier\\point_history_classifier.hdf5\n",
      "Epoch 452/1000\n",
      "7/7 [==============================] - 0s 16ms/step - loss: 0.5534 - accuracy: 0.8088 - val_loss: 0.4494 - val_accuracy: 0.8648\n",
      "\n",
      "Epoch 00452: saving model to model/point_history_classifier\\point_history_classifier.hdf5\n",
      "Epoch 00452: early stopping\n"
     ]
    },
    {
     "output_type": "execute_result",
     "data": {
      "text/plain": [
       "<tensorflow.python.keras.callbacks.History at 0x20b206eea30>"
      ]
     },
     "metadata": {},
     "execution_count": 36
    }
   ],
   "source": [
    "model.fit(\n",
    "    X_train,\n",
    "    y_train,\n",
    "    epochs=1000,\n",
    "    batch_size=128,\n",
    "    validation_data=(X_test, y_test),\n",
    "    callbacks=[cp_callback, es_callback]\n",
    ")"
   ]
  },
  {
   "cell_type": "code",
   "execution_count": 37,
   "metadata": {},
   "outputs": [],
   "source": [
    "# 加载保存的模型\n",
    "model = tf.keras.models.load_model(model_save_path)"
   ]
  },
  {
   "cell_type": "code",
   "execution_count": 38,
   "metadata": {},
   "outputs": [
    {
     "output_type": "stream",
     "name": "stdout",
     "text": [
      "[4.1509789e-05 3.3541776e-02 1.1370261e-02 1.4691179e-01 1.0222732e-01\n 7.0590740e-01]\n5\n"
     ]
    }
   ],
   "source": [
    "# 预测测试\n",
    "predict_result = model.predict(np.array([X_test[0]]))\n",
    "print(np.squeeze(predict_result))\n",
    "print(np.argmax(np.squeeze(predict_result)))"
   ]
  },
  {
   "cell_type": "markdown",
   "metadata": {},
   "source": [
    "# 混淆矩阵"
   ]
  },
  {
   "cell_type": "code",
   "execution_count": 39,
   "metadata": {},
   "outputs": [
    {
     "output_type": "display_data",
     "data": {
      "text/plain": "<Figure size 504x432 with 2 Axes>",
      "image/png": "[encoded data removed]"
     },
     "metadata": {
      "needs_background": "light"
     }
    },
    {
     "output_type": "stream",
     "name": "stdout",
     "text": [
      "Classification Report\n              precision    recall  f1-score   support\n\n           0       0.97      0.97      0.97       117\n           1       0.86      0.90      0.88        21\n           2       0.96      0.78      0.86        32\n           3       0.74      0.64      0.69        36\n           4       0.67      0.77      0.72        31\n           5       0.79      0.86      0.83        44\n\n    accuracy                           0.86       281\n   macro avg       0.83      0.82      0.82       281\nweighted avg       0.87      0.86      0.86       281\n\n"
     ]
    }
   ],
   "source": [
    "import pandas as pd\n",
    "import seaborn as sns\n",
    "import matplotlib.pyplot as plt\n",
    "from sklearn.metrics import confusion_matrix, classification_report\n",
    "\n",
    "def print_confusion_matrix(y_true, y_pred, report=True):\n",
    "    labels = sorted(list(set(y_true)))\n",
    "    cmx_data = confusion_matrix(y_true, y_pred, labels=labels)\n",
    "    \n",
    "    df_cmx = pd.DataFrame(cmx_data, index=labels, columns=labels)\n",
    " \n",
    "    fig, ax = plt.subplots(figsize=(7, 6))\n",
    "    sns.heatmap(df_cmx, annot=True, fmt='g' ,square=False)\n",
    "    ax.set_ylim(len(set(y_true)), 0)\n",
    "    plt.show()\n",
    "    \n",
    "    if report:\n",
    "        print('Classification Report')\n",
    "        print(classification_report(y_test, y_pred))\n",
    "\n",
    "Y_pred = model.predict(X_test)\n",
    "y_pred = np.argmax(Y_pred, axis=1)\n",
    "\n",
    "print_confusion_matrix(y_test, y_pred)"
   ]
  },
  {
   "cell_type": "markdown",
   "metadata": {},
   "source": [
    "# 转换为Tensorflow-Lite模型"
   ]
  },
  {
   "cell_type": "code",
   "execution_count": 40,
   "metadata": {},
   "outputs": [
    {
     "output_type": "stream",
     "name": "stdout",
     "text": [
      "WARNING:tensorflow:No training configuration found in the save file, so the model was *not* compiled. Compile it manually.\n"
     ]
    }
   ],
   "source": [
    "# 保存为仅用于推理的模型\n",
    "model.save(model_save_path, include_optimizer=False)\n",
    "model = tf.keras.models.load_model(model_save_path)"
   ]
  },
  {
   "cell_type": "code",
   "execution_count": 41,
   "metadata": {},
   "outputs": [],
   "source": [
    "tflite_save_path = 'model/point_history_classifier/point_history_classifier.tflite'"
   ]
  },
  {
   "cell_type": "code",
   "execution_count": 42,
   "metadata": {},
   "outputs": [
    {
     "output_type": "stream",
     "name": "stdout",
     "text": [
      "INFO:tensorflow:Assets written to: C:\\Users\\Van5SE\\AppData\\Local\\Temp\\tmp1khsfrkc\\assets\n"
     ]
    },
    {
     "output_type": "execute_result",
     "data": {
      "text/plain": [
       "6384"
      ]
     },
     "metadata": {},
     "execution_count": 42
    }
   ],
   "source": [
    "# 转换模型（量化）\n",
    "converter = tf.lite.TFLiteConverter.from_keras_model(model)  # converter = tf.lite.TFLiteConverter.from_saved_model(saved_model_path)\n",
    "converter.optimizations = [tf.lite.Optimize.DEFAULT]\n",
    "tflite_quantized_model = converter.convert()\n",
    "\n",
    "open(tflite_save_path, 'wb').write(tflite_quantized_model)"
   ]
  },
  {
   "cell_type": "markdown",
   "metadata": {},
   "source": [
    "# 推理测试"
   ]
  },
  {
   "cell_type": "code",
   "execution_count": 43,
   "metadata": {},
   "outputs": [],
   "source": [
    "interpreter = tf.lite.Interpreter(model_path=tflite_save_path)\n",
    "interpreter.allocate_tensors()"
   ]
  },
  {
   "cell_type": "code",
   "execution_count": 44,
   "metadata": {},
   "outputs": [
    {
     "output_type": "stream",
     "name": "stdout",
     "text": [
      "[{'name': 'input_3', 'index': 0, 'shape': array([ 1, 32]), 'shape_signature': array([-1, 32]), 'dtype': <class 'numpy.float32'>, 'quantization': (0.0, 0), 'quantization_parameters': {'scales': array([], dtype=float32), 'zero_points': array([], dtype=int32), 'quantized_dimension': 0}, 'sparsity_parameters': {}}]\n"
     ]
    }
   ],
   "source": [
    "# 获取 输入输出 张量\n",
    "input_details = interpreter.get_input_details()\n",
    "output_details = interpreter.get_output_details()\n",
    "print(input_details)"
   ]
  },
  {
   "cell_type": "code",
   "execution_count": 45,
   "metadata": {},
   "outputs": [],
   "source": [
    "interpreter.set_tensor(input_details[0]['index'], np.array([X_test[0]]))"
   ]
  },
  {
   "cell_type": "code",
   "execution_count": 46,
   "metadata": {},
   "outputs": [
    {
     "output_type": "stream",
     "name": "stdout",
     "text": [
      "Wall time: 0 ns\n"
     ]
    }
   ],
   "source": [
    "%%time\n",
    "# 推理执行\n",
    "interpreter.invoke()\n",
    "tflite_results = interpreter.get_tensor(output_details[0]['index'])"
   ]
  },
  {
   "cell_type": "code",
   "execution_count": 47,
   "metadata": {},
   "outputs": [
    {
     "output_type": "stream",
     "name": "stdout",
     "text": [
      "[4.1509829e-05 3.3541769e-02 1.1370257e-02 1.4691176e-01 1.0222727e-01\n 7.0590746e-01]\n5\n"
     ]
    }
   ],
   "source": [
    "print(np.squeeze(tflite_results))\n",
    "print(np.argmax(np.squeeze(tflite_results)))"
   ]
  }
 ],
 "metadata": {
  "kernelspec": {
   "name": "python3",
   "display_name": "Python 3",
   "language": "python"
  },
  "language_info": {
   "codemirror_mode": {
    "name": "ipython",
    "version": 3
   },
   "file_extension": ".py",
   "mimetype": "text/x-python",
   "name": "python",
   "nbconvert_exporter": "python",
   "pygments_lexer": "ipython3",
   "version": "3.8.5-final"
  }
 },
 "nbformat": 4,
 "nbformat_minor": 4
}