{
 "cells": [
  {
   "cell_type": "code",
   "execution_count": 1,
   "metadata": {},
   "outputs": [],
   "source": [
    "import csv\n",
    "\n",
    "import numpy as np\n",
    "import tensorflow as tf\n",
    "from sklearn.model_selection import train_test_split\n",
    "\n",
    "RANDOM_SEED = 42"
   ]
  },
  {
   "source": [
    "# 路径声明"
   ],
   "cell_type": "markdown",
   "metadata": {}
  },
  {
   "cell_type": "code",
   "execution_count": 2,
   "metadata": {},
   "outputs": [],
   "source": [
    "dataset = 'model/point_history_classifier/point_history.csv'\n",
    "model_save_path = 'model/point_history_classifier/point_history_classifier.hdf5'"
   ]
  },
  {
   "source": [
    "# 设定分类数"
   ],
   "cell_type": "markdown",
   "metadata": {}
  },
  {
   "cell_type": "code",
   "execution_count": 3,
   "metadata": {},
   "outputs": [],
   "source": [
    "# 如果用原本的数据 就用origin csv 分类数设为4 否则 自己按照对应的情况改"
   ]
  },
  {
   "cell_type": "code",
   "execution_count": 4,
   "metadata": {},
   "outputs": [],
   "source": [
    "NUM_CLASSES = 5"
   ]
  },
  {
   "cell_type": "markdown",
   "metadata": {},
   "source": [
    "# 输入数据格式 长度为16 二维数组"
   ]
  },
  {
   "cell_type": "code",
   "execution_count": 5,
   "metadata": {},
   "outputs": [],
   "source": [
    "TIME_STEPS = 16\n",
    "DIMENSION = 2"
   ]
  },
  {
   "cell_type": "markdown",
   "metadata": {},
   "source": [
    "# 读取训练集数据"
   ]
  },
  {
   "cell_type": "code",
   "execution_count": 6,
   "metadata": {},
   "outputs": [],
   "source": [
    "X_dataset = np.loadtxt(dataset, delimiter=',', dtype='float32', usecols=list(range(1, (TIME_STEPS * DIMENSION) + 1)))"
   ]
  },
  {
   "cell_type": "code",
   "execution_count": 7,
   "metadata": {},
   "outputs": [],
   "source": [
    "y_dataset = np.loadtxt(dataset, delimiter=',', dtype='int32', usecols=(0))"
   ]
  },
  {
   "cell_type": "code",
   "execution_count": 8,
   "metadata": {},
   "outputs": [],
   "source": [
    "X_train, X_test, y_train, y_test = train_test_split(X_dataset, y_dataset, train_size=0.75, random_state=RANDOM_SEED)"
   ]
  },
  {
   "cell_type": "markdown",
   "metadata": {},
   "source": [
    "# 模型构建"
   ]
  },
  {
   "cell_type": "code",
   "execution_count": 9,
   "metadata": {},
   "outputs": [],
   "source": [
    "use_lstm = False\n",
    "model = None\n",
    "\n",
    "if use_lstm:\n",
    "    model = tf.keras.models.Sequential([\n",
    "        tf.keras.layers.InputLayer(input_shape=(TIME_STEPS * DIMENSION, )),\n",
    "        tf.keras.layers.Reshape((TIME_STEPS, DIMENSION), input_shape=(TIME_STEPS * DIMENSION, )), \n",
    "        tf.keras.layers.Dropout(0.2),\n",
    "        tf.keras.layers.LSTM(16, input_shape=[TIME_STEPS, DIMENSION]),\n",
    "        tf.keras.layers.Dropout(0.5),\n",
    "        tf.keras.layers.Dense(10, activation='relu'),\n",
    "        tf.keras.layers.Dense(NUM_CLASSES, activation='softmax')\n",
    "    ])\n",
    "else:\n",
    "    model = tf.keras.models.Sequential([\n",
    "        tf.keras.layers.InputLayer(input_shape=(TIME_STEPS * DIMENSION, )),\n",
    "        tf.keras.layers.Dropout(0.2),\n",
    "        tf.keras.layers.Dense(24, activation='relu'),\n",
    "        tf.keras.layers.Dropout(0.5),\n",
    "        tf.keras.layers.Dense(10, activation='relu'),\n",
    "        tf.keras.layers.Dense(NUM_CLASSES, activation='softmax')\n",
    "    ])"
   ]
  },
  {
   "cell_type": "code",
   "execution_count": 10,
   "metadata": {},
   "outputs": [
    {
     "output_type": "stream",
     "name": "stdout",
     "text": [
      "Model: \"sequential\"\n_________________________________________________________________\nLayer (type)                 Output Shape              Param #   \n=================================================================\ndropout (Dropout)            (None, 32)                0         \n_________________________________________________________________\ndense (Dense)                (None, 24)                792       \n_________________________________________________________________\ndropout_1 (Dropout)          (None, 24)                0         \n_________________________________________________________________\ndense_1 (Dense)              (None, 10)                250       \n_________________________________________________________________\ndense_2 (Dense)              (None, 5)                 55        \n=================================================================\nTotal params: 1,097\nTrainable params: 1,097\nNon-trainable params: 0\n_________________________________________________________________\n"
     ]
    }
   ],
   "source": [
    "model.summary()  # tf.keras.utils.plot_model(model, show_shapes=True)"
   ]
  },
  {
   "cell_type": "code",
   "execution_count": 11,
   "metadata": {},
   "outputs": [],
   "source": [
    "# 模型检查点回调\n",
    "cp_callback = tf.keras.callbacks.ModelCheckpoint(\n",
    "    model_save_path, verbose=1, save_weights_only=False)\n",
    "# 用于提前结束的回调\n",
    "es_callback = tf.keras.callbacks.EarlyStopping(patience=20, verbose=1)"
   ]
  },
  {
   "cell_type": "code",
   "execution_count": 12,
   "metadata": {},
   "outputs": [],
   "source": [
    "# 模型编译\n",
    "model.compile(\n",
    "    optimizer='adam',\n",
    "    loss='sparse_categorical_crossentropy',\n",
    "    metrics=['accuracy']\n",
    ")"
   ]
  },
  {
   "cell_type": "markdown",
   "metadata": {},
   "source": [
    "# 模型训练"
   ]
  },
  {
   "cell_type": "code",
   "execution_count": 13,
   "metadata": {
    "scrolled": true,
    "tags": [
     "outputPrepend"
    ]
   },
   "outputs": [
    {
     "output_type": "stream",
     "name": "stdout",
     "text": [
      "ch 347/1000\n",
      "36/36 [==============================] - 0s 3ms/step - loss: 0.5568 - accuracy: 0.8065 - val_loss: 0.3092 - val_accuracy: 0.9338\n",
      "\n",
      "Epoch 00347: saving model to model/point_history_classifier\\point_history_classifier.hdf5\n",
      "Epoch 348/1000\n",
      "36/36 [==============================] - 0s 3ms/step - loss: 0.5625 - accuracy: 0.8030 - val_loss: 0.3079 - val_accuracy: 0.9351\n",
      "\n",
      "Epoch 00348: saving model to model/point_history_classifier\\point_history_classifier.hdf5\n",
      "Epoch 349/1000\n",
      "36/36 [==============================] - 0s 3ms/step - loss: 0.5778 - accuracy: 0.7934 - val_loss: 0.3070 - val_accuracy: 0.9351\n",
      "\n",
      "Epoch 00349: saving model to model/point_history_classifier\\point_history_classifier.hdf5\n",
      "Epoch 350/1000\n",
      "36/36 [==============================] - 0s 3ms/step - loss: 0.5614 - accuracy: 0.8127 - val_loss: 0.3053 - val_accuracy: 0.9351\n",
      "\n",
      "Epoch 00350: saving model to model/point_history_classifier\\point_history_classifier.hdf5\n",
      "Epoch 351/1000\n",
      "36/36 [==============================] - 0s 3ms/step - loss: 0.5494 - accuracy: 0.8125 - val_loss: 0.3057 - val_accuracy: 0.9377\n",
      "\n",
      "Epoch 00351: saving model to model/point_history_classifier\\point_history_classifier.hdf5\n",
      "Epoch 352/1000\n",
      "36/36 [==============================] - 0s 3ms/step - loss: 0.5654 - accuracy: 0.8149 - val_loss: 0.3075 - val_accuracy: 0.9344\n",
      "\n",
      "Epoch 00352: saving model to model/point_history_classifier\\point_history_classifier.hdf5\n",
      "Epoch 353/1000\n",
      "36/36 [==============================] - 0s 3ms/step - loss: 0.5474 - accuracy: 0.8094 - val_loss: 0.3057 - val_accuracy: 0.9351\n",
      "\n",
      "Epoch 00353: saving model to model/point_history_classifier\\point_history_classifier.hdf5\n",
      "Epoch 354/1000\n",
      "36/36 [==============================] - 0s 3ms/step - loss: 0.5571 - accuracy: 0.8204 - val_loss: 0.3064 - val_accuracy: 0.9344\n",
      "\n",
      "Epoch 00354: saving model to model/point_history_classifier\\point_history_classifier.hdf5\n",
      "Epoch 355/1000\n",
      "36/36 [==============================] - 0s 3ms/step - loss: 0.5587 - accuracy: 0.8077 - val_loss: 0.3057 - val_accuracy: 0.9357\n",
      "\n",
      "Epoch 00355: saving model to model/point_history_classifier\\point_history_classifier.hdf5\n",
      "Epoch 356/1000\n",
      "36/36 [==============================] - 0s 3ms/step - loss: 0.5840 - accuracy: 0.8035 - val_loss: 0.3039 - val_accuracy: 0.9364\n",
      "\n",
      "Epoch 00356: saving model to model/point_history_classifier\\point_history_classifier.hdf5\n",
      "Epoch 357/1000\n",
      "36/36 [==============================] - 0s 3ms/step - loss: 0.5747 - accuracy: 0.8057 - val_loss: 0.3059 - val_accuracy: 0.9338\n",
      "\n",
      "Epoch 00357: saving model to model/point_history_classifier\\point_history_classifier.hdf5\n",
      "Epoch 358/1000\n",
      "36/36 [==============================] - 0s 3ms/step - loss: 0.5402 - accuracy: 0.8207 - val_loss: 0.3046 - val_accuracy: 0.9364\n",
      "\n",
      "Epoch 00358: saving model to model/point_history_classifier\\point_history_classifier.hdf5\n",
      "Epoch 359/1000\n",
      "36/36 [==============================] - 0s 3ms/step - loss: 0.5748 - accuracy: 0.8020 - val_loss: 0.3059 - val_accuracy: 0.9357\n",
      "\n",
      "Epoch 00359: saving model to model/point_history_classifier\\point_history_classifier.hdf5\n",
      "Epoch 360/1000\n",
      "36/36 [==============================] - 0s 3ms/step - loss: 0.5493 - accuracy: 0.8142 - val_loss: 0.3030 - val_accuracy: 0.9370\n",
      "\n",
      "Epoch 00360: saving model to model/point_history_classifier\\point_history_classifier.hdf5\n",
      "Epoch 361/1000\n",
      "36/36 [==============================] - 0s 3ms/step - loss: 0.5483 - accuracy: 0.8127 - val_loss: 0.3022 - val_accuracy: 0.9338\n",
      "\n",
      "Epoch 00361: saving model to model/point_history_classifier\\point_history_classifier.hdf5\n",
      "Epoch 362/1000\n",
      "36/36 [==============================] - 0s 3ms/step - loss: 0.5823 - accuracy: 0.8014 - val_loss: 0.3022 - val_accuracy: 0.9370\n",
      "\n",
      "Epoch 00362: saving model to model/point_history_classifier\\point_history_classifier.hdf5\n",
      "Epoch 363/1000\n",
      "36/36 [==============================] - 0s 3ms/step - loss: 0.5780 - accuracy: 0.8106 - val_loss: 0.3032 - val_accuracy: 0.9370\n",
      "\n",
      "Epoch 00363: saving model to model/point_history_classifier\\point_history_classifier.hdf5\n",
      "Epoch 364/1000\n",
      "36/36 [==============================] - 0s 3ms/step - loss: 0.5574 - accuracy: 0.8034 - val_loss: 0.3031 - val_accuracy: 0.9338\n",
      "\n",
      "Epoch 00364: saving model to model/point_history_classifier\\point_history_classifier.hdf5\n",
      "Epoch 365/1000\n",
      "36/36 [==============================] - 0s 3ms/step - loss: 0.5616 - accuracy: 0.8209 - val_loss: 0.3017 - val_accuracy: 0.9370\n",
      "\n",
      "Epoch 00365: saving model to model/point_history_classifier\\point_history_classifier.hdf5\n",
      "Epoch 366/1000\n",
      "36/36 [==============================] - 0s 3ms/step - loss: 0.5528 - accuracy: 0.8132 - val_loss: 0.3032 - val_accuracy: 0.9351\n",
      "\n",
      "Epoch 00366: saving model to model/point_history_classifier\\point_history_classifier.hdf5\n",
      "Epoch 367/1000\n",
      "36/36 [==============================] - 0s 3ms/step - loss: 0.5807 - accuracy: 0.8067 - val_loss: 0.3035 - val_accuracy: 0.9364\n",
      "\n",
      "Epoch 00367: saving model to model/point_history_classifier\\point_history_classifier.hdf5\n",
      "Epoch 368/1000\n",
      "36/36 [==============================] - 0s 3ms/step - loss: 0.5636 - accuracy: 0.8073 - val_loss: 0.3039 - val_accuracy: 0.9377\n",
      "\n",
      "Epoch 00368: saving model to model/point_history_classifier\\point_history_classifier.hdf5\n",
      "Epoch 369/1000\n",
      "36/36 [==============================] - 0s 3ms/step - loss: 0.5657 - accuracy: 0.8100 - val_loss: 0.3036 - val_accuracy: 0.9364\n",
      "\n",
      "Epoch 00369: saving model to model/point_history_classifier\\point_history_classifier.hdf5\n",
      "Epoch 370/1000\n",
      "36/36 [==============================] - 0s 3ms/step - loss: 0.5507 - accuracy: 0.8195 - val_loss: 0.3027 - val_accuracy: 0.9338\n",
      "\n",
      "Epoch 00370: saving model to model/point_history_classifier\\point_history_classifier.hdf5\n",
      "Epoch 371/1000\n",
      "36/36 [==============================] - 0s 3ms/step - loss: 0.5613 - accuracy: 0.8042 - val_loss: 0.3038 - val_accuracy: 0.9344\n",
      "\n",
      "Epoch 00371: saving model to model/point_history_classifier\\point_history_classifier.hdf5\n",
      "Epoch 372/1000\n",
      "36/36 [==============================] - 0s 4ms/step - loss: 0.5899 - accuracy: 0.7940 - val_loss: 0.3056 - val_accuracy: 0.9325\n",
      "\n",
      "Epoch 00372: saving model to model/point_history_classifier\\point_history_classifier.hdf5\n",
      "Epoch 373/1000\n",
      "36/36 [==============================] - 0s 3ms/step - loss: 0.5449 - accuracy: 0.8136 - val_loss: 0.3050 - val_accuracy: 0.9331\n",
      "\n",
      "Epoch 00373: saving model to model/point_history_classifier\\point_history_classifier.hdf5\n",
      "Epoch 374/1000\n",
      "36/36 [==============================] - 0s 3ms/step - loss: 0.5626 - accuracy: 0.8070 - val_loss: 0.3045 - val_accuracy: 0.9344\n",
      "\n",
      "Epoch 00374: saving model to model/point_history_classifier\\point_history_classifier.hdf5\n",
      "Epoch 375/1000\n",
      "36/36 [==============================] - 0s 3ms/step - loss: 0.5624 - accuracy: 0.8171 - val_loss: 0.3042 - val_accuracy: 0.9357\n",
      "\n",
      "Epoch 00375: saving model to model/point_history_classifier\\point_history_classifier.hdf5\n",
      "Epoch 376/1000\n",
      "36/36 [==============================] - 0s 3ms/step - loss: 0.5839 - accuracy: 0.7960 - val_loss: 0.3028 - val_accuracy: 0.9351\n",
      "\n",
      "Epoch 00376: saving model to model/point_history_classifier\\point_history_classifier.hdf5\n",
      "Epoch 377/1000\n",
      "36/36 [==============================] - 0s 3ms/step - loss: 0.5613 - accuracy: 0.8112 - val_loss: 0.3014 - val_accuracy: 0.9338\n",
      "\n",
      "Epoch 00377: saving model to model/point_history_classifier\\point_history_classifier.hdf5\n",
      "Epoch 378/1000\n",
      "36/36 [==============================] - 0s 3ms/step - loss: 0.5624 - accuracy: 0.8086 - val_loss: 0.3019 - val_accuracy: 0.9370\n",
      "\n",
      "Epoch 00378: saving model to model/point_history_classifier\\point_history_classifier.hdf5\n",
      "Epoch 379/1000\n",
      "36/36 [==============================] - 0s 3ms/step - loss: 0.5573 - accuracy: 0.8111 - val_loss: 0.3013 - val_accuracy: 0.9357\n",
      "\n",
      "Epoch 00379: saving model to model/point_history_classifier\\point_history_classifier.hdf5\n",
      "Epoch 380/1000\n",
      "36/36 [==============================] - 0s 3ms/step - loss: 0.5499 - accuracy: 0.8122 - val_loss: 0.3022 - val_accuracy: 0.9344\n",
      "\n",
      "Epoch 00380: saving model to model/point_history_classifier\\point_history_classifier.hdf5\n",
      "Epoch 381/1000\n",
      "36/36 [==============================] - 0s 3ms/step - loss: 0.6105 - accuracy: 0.7971 - val_loss: 0.3033 - val_accuracy: 0.9344\n",
      "\n",
      "Epoch 00381: saving model to model/point_history_classifier\\point_history_classifier.hdf5\n",
      "Epoch 382/1000\n",
      "36/36 [==============================] - 0s 3ms/step - loss: 0.5661 - accuracy: 0.8103 - val_loss: 0.3043 - val_accuracy: 0.9351\n",
      "\n",
      "Epoch 00382: saving model to model/point_history_classifier\\point_history_classifier.hdf5\n",
      "Epoch 383/1000\n",
      "36/36 [==============================] - 0s 3ms/step - loss: 0.5550 - accuracy: 0.8103 - val_loss: 0.3027 - val_accuracy: 0.9351\n",
      "\n",
      "Epoch 00383: saving model to model/point_history_classifier\\point_history_classifier.hdf5\n",
      "Epoch 384/1000\n",
      "36/36 [==============================] - 0s 3ms/step - loss: 0.5384 - accuracy: 0.8090 - val_loss: 0.3011 - val_accuracy: 0.9357\n",
      "\n",
      "Epoch 00384: saving model to model/point_history_classifier\\point_history_classifier.hdf5\n",
      "Epoch 385/1000\n",
      "36/36 [==============================] - 0s 3ms/step - loss: 0.5581 - accuracy: 0.8100 - val_loss: 0.3023 - val_accuracy: 0.9370\n",
      "\n",
      "Epoch 00385: saving model to model/point_history_classifier\\point_history_classifier.hdf5\n",
      "Epoch 386/1000\n",
      "36/36 [==============================] - 0s 3ms/step - loss: 0.5605 - accuracy: 0.8126 - val_loss: 0.3030 - val_accuracy: 0.9357\n",
      "\n",
      "Epoch 00386: saving model to model/point_history_classifier\\point_history_classifier.hdf5\n",
      "Epoch 387/1000\n",
      "36/36 [==============================] - 0s 3ms/step - loss: 0.5735 - accuracy: 0.8081 - val_loss: 0.3031 - val_accuracy: 0.9370\n",
      "\n",
      "Epoch 00387: saving model to model/point_history_classifier\\point_history_classifier.hdf5\n",
      "Epoch 388/1000\n",
      "36/36 [==============================] - 0s 3ms/step - loss: 0.5470 - accuracy: 0.8064 - val_loss: 0.3012 - val_accuracy: 0.9384\n",
      "\n",
      "Epoch 00388: saving model to model/point_history_classifier\\point_history_classifier.hdf5\n",
      "Epoch 389/1000\n",
      "36/36 [==============================] - 0s 3ms/step - loss: 0.5712 - accuracy: 0.8047 - val_loss: 0.3059 - val_accuracy: 0.9370\n",
      "\n",
      "Epoch 00389: saving model to model/point_history_classifier\\point_history_classifier.hdf5\n",
      "Epoch 390/1000\n",
      "36/36 [==============================] - 0s 3ms/step - loss: 0.5572 - accuracy: 0.8185 - val_loss: 0.3048 - val_accuracy: 0.9390\n",
      "\n",
      "Epoch 00390: saving model to model/point_history_classifier\\point_history_classifier.hdf5\n",
      "Epoch 391/1000\n",
      "36/36 [==============================] - 0s 3ms/step - loss: 0.5619 - accuracy: 0.8073 - val_loss: 0.3036 - val_accuracy: 0.9370\n",
      "\n",
      "Epoch 00391: saving model to model/point_history_classifier\\point_history_classifier.hdf5\n",
      "Epoch 392/1000\n",
      "36/36 [==============================] - 0s 3ms/step - loss: 0.5794 - accuracy: 0.8069 - val_loss: 0.3039 - val_accuracy: 0.9357\n",
      "\n",
      "Epoch 00392: saving model to model/point_history_classifier\\point_history_classifier.hdf5\n",
      "Epoch 393/1000\n",
      "36/36 [==============================] - 0s 3ms/step - loss: 0.5615 - accuracy: 0.8054 - val_loss: 0.3041 - val_accuracy: 0.9384\n",
      "\n",
      "Epoch 00393: saving model to model/point_history_classifier\\point_history_classifier.hdf5\n",
      "Epoch 394/1000\n",
      "36/36 [==============================] - 0s 3ms/step - loss: 0.5588 - accuracy: 0.8103 - val_loss: 0.3029 - val_accuracy: 0.9370\n",
      "\n",
      "Epoch 00394: saving model to model/point_history_classifier\\point_history_classifier.hdf5\n",
      "Epoch 395/1000\n",
      "36/36 [==============================] - 0s 3ms/step - loss: 0.5740 - accuracy: 0.8102 - val_loss: 0.3013 - val_accuracy: 0.9351\n",
      "\n",
      "Epoch 00395: saving model to model/point_history_classifier\\point_history_classifier.hdf5\n",
      "Epoch 396/1000\n",
      "36/36 [==============================] - 0s 3ms/step - loss: 0.5990 - accuracy: 0.8014 - val_loss: 0.3012 - val_accuracy: 0.9344\n",
      "\n",
      "Epoch 00396: saving model to model/point_history_classifier\\point_history_classifier.hdf5\n",
      "Epoch 397/1000\n",
      "36/36 [==============================] - 0s 3ms/step - loss: 0.5562 - accuracy: 0.8034 - val_loss: 0.3000 - val_accuracy: 0.9364\n",
      "\n",
      "Epoch 00397: saving model to model/point_history_classifier\\point_history_classifier.hdf5\n",
      "Epoch 398/1000\n",
      "36/36 [==============================] - 0s 3ms/step - loss: 0.5359 - accuracy: 0.8103 - val_loss: 0.2985 - val_accuracy: 0.9344\n",
      "\n",
      "Epoch 00398: saving model to model/point_history_classifier\\point_history_classifier.hdf5\n",
      "Epoch 399/1000\n",
      "36/36 [==============================] - 0s 3ms/step - loss: 0.5635 - accuracy: 0.8195 - val_loss: 0.3017 - val_accuracy: 0.9357\n",
      "\n",
      "Epoch 00399: saving model to model/point_history_classifier\\point_history_classifier.hdf5\n",
      "Epoch 400/1000\n",
      "36/36 [==============================] - 0s 3ms/step - loss: 0.5698 - accuracy: 0.8063 - val_loss: 0.3023 - val_accuracy: 0.9344\n",
      "\n",
      "Epoch 00400: saving model to model/point_history_classifier\\point_history_classifier.hdf5\n",
      "Epoch 401/1000\n",
      "36/36 [==============================] - 0s 3ms/step - loss: 0.5593 - accuracy: 0.8099 - val_loss: 0.3004 - val_accuracy: 0.9338\n",
      "\n",
      "Epoch 00401: saving model to model/point_history_classifier\\point_history_classifier.hdf5\n",
      "Epoch 402/1000\n",
      "36/36 [==============================] - 0s 3ms/step - loss: 0.5463 - accuracy: 0.8213 - val_loss: 0.2989 - val_accuracy: 0.9384\n",
      "\n",
      "Epoch 00402: saving model to model/point_history_classifier\\point_history_classifier.hdf5\n",
      "Epoch 403/1000\n",
      "36/36 [==============================] - 0s 3ms/step - loss: 0.5571 - accuracy: 0.8032 - val_loss: 0.2982 - val_accuracy: 0.9351\n",
      "\n",
      "Epoch 00403: saving model to model/point_history_classifier\\point_history_classifier.hdf5\n",
      "Epoch 404/1000\n",
      "36/36 [==============================] - 0s 3ms/step - loss: 0.5390 - accuracy: 0.8184 - val_loss: 0.3007 - val_accuracy: 0.9370\n",
      "\n",
      "Epoch 00404: saving model to model/point_history_classifier\\point_history_classifier.hdf5\n",
      "Epoch 405/1000\n",
      "36/36 [==============================] - 0s 3ms/step - loss: 0.5657 - accuracy: 0.8106 - val_loss: 0.2984 - val_accuracy: 0.9384\n",
      "\n",
      "Epoch 00405: saving model to model/point_history_classifier\\point_history_classifier.hdf5\n",
      "Epoch 406/1000\n",
      "36/36 [==============================] - 0s 3ms/step - loss: 0.5827 - accuracy: 0.8085 - val_loss: 0.2978 - val_accuracy: 0.9384\n",
      "\n",
      "Epoch 00406: saving model to model/point_history_classifier\\point_history_classifier.hdf5\n",
      "Epoch 407/1000\n",
      "36/36 [==============================] - 0s 3ms/step - loss: 0.5539 - accuracy: 0.8162 - val_loss: 0.2956 - val_accuracy: 0.9377\n",
      "\n",
      "Epoch 00407: saving model to model/point_history_classifier\\point_history_classifier.hdf5\n",
      "Epoch 408/1000\n",
      "36/36 [==============================] - 0s 3ms/step - loss: 0.5419 - accuracy: 0.8036 - val_loss: 0.2954 - val_accuracy: 0.9377\n",
      "\n",
      "Epoch 00408: saving model to model/point_history_classifier\\point_history_classifier.hdf5\n",
      "Epoch 409/1000\n",
      "36/36 [==============================] - 0s 3ms/step - loss: 0.5652 - accuracy: 0.8113 - val_loss: 0.2945 - val_accuracy: 0.9357\n",
      "\n",
      "Epoch 00409: saving model to model/point_history_classifier\\point_history_classifier.hdf5\n",
      "Epoch 410/1000\n",
      "36/36 [==============================] - 0s 3ms/step - loss: 0.5876 - accuracy: 0.8040 - val_loss: 0.2953 - val_accuracy: 0.9370\n",
      "\n",
      "Epoch 00410: saving model to model/point_history_classifier\\point_history_classifier.hdf5\n",
      "Epoch 411/1000\n",
      "36/36 [==============================] - 0s 3ms/step - loss: 0.5678 - accuracy: 0.8093 - val_loss: 0.2943 - val_accuracy: 0.9377\n",
      "\n",
      "Epoch 00411: saving model to model/point_history_classifier\\point_history_classifier.hdf5\n",
      "Epoch 412/1000\n",
      "36/36 [==============================] - 0s 3ms/step - loss: 0.5677 - accuracy: 0.8072 - val_loss: 0.2980 - val_accuracy: 0.9351\n",
      "\n",
      "Epoch 00412: saving model to model/point_history_classifier\\point_history_classifier.hdf5\n",
      "Epoch 413/1000\n",
      "36/36 [==============================] - 0s 3ms/step - loss: 0.5414 - accuracy: 0.8189 - val_loss: 0.2959 - val_accuracy: 0.9331\n",
      "\n",
      "Epoch 00413: saving model to model/point_history_classifier\\point_history_classifier.hdf5\n",
      "Epoch 414/1000\n",
      "36/36 [==============================] - 0s 3ms/step - loss: 0.5567 - accuracy: 0.8019 - val_loss: 0.2950 - val_accuracy: 0.9331\n",
      "\n",
      "Epoch 00414: saving model to model/point_history_classifier\\point_history_classifier.hdf5\n",
      "Epoch 415/1000\n",
      "36/36 [==============================] - 0s 3ms/step - loss: 0.5305 - accuracy: 0.8185 - val_loss: 0.2970 - val_accuracy: 0.9325\n",
      "\n",
      "Epoch 00415: saving model to model/point_history_classifier\\point_history_classifier.hdf5\n",
      "Epoch 416/1000\n",
      "36/36 [==============================] - 0s 3ms/step - loss: 0.5581 - accuracy: 0.8038 - val_loss: 0.2965 - val_accuracy: 0.9370\n",
      "\n",
      "Epoch 00416: saving model to model/point_history_classifier\\point_history_classifier.hdf5\n",
      "Epoch 417/1000\n",
      "36/36 [==============================] - 0s 3ms/step - loss: 0.5492 - accuracy: 0.8095 - val_loss: 0.3003 - val_accuracy: 0.9357\n",
      "\n",
      "Epoch 00417: saving model to model/point_history_classifier\\point_history_classifier.hdf5\n",
      "Epoch 418/1000\n",
      "36/36 [==============================] - 0s 3ms/step - loss: 0.5294 - accuracy: 0.8128 - val_loss: 0.2986 - val_accuracy: 0.9370\n",
      "\n",
      "Epoch 00418: saving model to model/point_history_classifier\\point_history_classifier.hdf5\n",
      "Epoch 419/1000\n",
      "36/36 [==============================] - 0s 3ms/step - loss: 0.5678 - accuracy: 0.8119 - val_loss: 0.2993 - val_accuracy: 0.9357\n",
      "\n",
      "Epoch 00419: saving model to model/point_history_classifier\\point_history_classifier.hdf5\n",
      "Epoch 420/1000\n",
      "36/36 [==============================] - 0s 3ms/step - loss: 0.5515 - accuracy: 0.8136 - val_loss: 0.2991 - val_accuracy: 0.9331\n",
      "\n",
      "Epoch 00420: saving model to model/point_history_classifier\\point_history_classifier.hdf5\n",
      "Epoch 421/1000\n",
      "36/36 [==============================] - 0s 3ms/step - loss: 0.5377 - accuracy: 0.8240 - val_loss: 0.2983 - val_accuracy: 0.9357\n",
      "\n",
      "Epoch 00421: saving model to model/point_history_classifier\\point_history_classifier.hdf5\n",
      "Epoch 422/1000\n",
      "36/36 [==============================] - 0s 3ms/step - loss: 0.5444 - accuracy: 0.8194 - val_loss: 0.2988 - val_accuracy: 0.9377\n",
      "\n",
      "Epoch 00422: saving model to model/point_history_classifier\\point_history_classifier.hdf5\n",
      "Epoch 423/1000\n",
      "36/36 [==============================] - 0s 3ms/step - loss: 0.5407 - accuracy: 0.8105 - val_loss: 0.2956 - val_accuracy: 0.9370\n",
      "\n",
      "Epoch 00423: saving model to model/point_history_classifier\\point_history_classifier.hdf5\n",
      "Epoch 424/1000\n",
      "36/36 [==============================] - 0s 3ms/step - loss: 0.5607 - accuracy: 0.8035 - val_loss: 0.2974 - val_accuracy: 0.9370\n",
      "\n",
      "Epoch 00424: saving model to model/point_history_classifier\\point_history_classifier.hdf5\n",
      "Epoch 425/1000\n",
      "36/36 [==============================] - 0s 3ms/step - loss: 0.5592 - accuracy: 0.8183 - val_loss: 0.2975 - val_accuracy: 0.9370\n",
      "\n",
      "Epoch 00425: saving model to model/point_history_classifier\\point_history_classifier.hdf5\n",
      "Epoch 426/1000\n",
      "36/36 [==============================] - 0s 3ms/step - loss: 0.5617 - accuracy: 0.7970 - val_loss: 0.2988 - val_accuracy: 0.9364\n",
      "\n",
      "Epoch 00426: saving model to model/point_history_classifier\\point_history_classifier.hdf5\n",
      "Epoch 427/1000\n",
      "36/36 [==============================] - 0s 3ms/step - loss: 0.5297 - accuracy: 0.8182 - val_loss: 0.2963 - val_accuracy: 0.9384\n",
      "\n",
      "Epoch 00427: saving model to model/point_history_classifier\\point_history_classifier.hdf5\n",
      "Epoch 428/1000\n",
      "36/36 [==============================] - 0s 3ms/step - loss: 0.5678 - accuracy: 0.8112 - val_loss: 0.2987 - val_accuracy: 0.9364\n",
      "\n",
      "Epoch 00428: saving model to model/point_history_classifier\\point_history_classifier.hdf5\n",
      "Epoch 429/1000\n",
      "36/36 [==============================] - 0s 3ms/step - loss: 0.5645 - accuracy: 0.8083 - val_loss: 0.2970 - val_accuracy: 0.9377\n",
      "\n",
      "Epoch 00429: saving model to model/point_history_classifier\\point_history_classifier.hdf5\n",
      "Epoch 430/1000\n",
      "36/36 [==============================] - 0s 3ms/step - loss: 0.5564 - accuracy: 0.8078 - val_loss: 0.3000 - val_accuracy: 0.9364\n",
      "\n",
      "Epoch 00430: saving model to model/point_history_classifier\\point_history_classifier.hdf5\n",
      "Epoch 431/1000\n",
      "36/36 [==============================] - 0s 3ms/step - loss: 0.5218 - accuracy: 0.8164 - val_loss: 0.2975 - val_accuracy: 0.9370\n",
      "\n",
      "Epoch 00431: saving model to model/point_history_classifier\\point_history_classifier.hdf5\n",
      "Epoch 00431: early stopping\n"
     ]
    },
    {
     "output_type": "execute_result",
     "data": {
      "text/plain": [
       "<tensorflow.python.keras.callbacks.History at 0x219887bb580>"
      ]
     },
     "metadata": {},
     "execution_count": 13
    }
   ],
   "source": [
    "model.fit(\n",
    "    X_train,\n",
    "    y_train,\n",
    "    epochs=1000,\n",
    "    batch_size=128,\n",
    "    validation_data=(X_test, y_test),\n",
    "    callbacks=[cp_callback, es_callback]\n",
    ")"
   ]
  },
  {
   "cell_type": "code",
   "execution_count": 14,
   "metadata": {},
   "outputs": [],
   "source": [
    "# 加载保存的模型\n",
    "model = tf.keras.models.load_model(model_save_path)"
   ]
  },
  {
   "cell_type": "code",
   "execution_count": 15,
   "metadata": {},
   "outputs": [
    {
     "output_type": "stream",
     "name": "stdout",
     "text": [
      "[1.6818524e-37 9.0651619e-01 6.1690961e-03 8.4728308e-02 2.5864600e-03]\n1\n"
     ]
    }
   ],
   "source": [
    "# 预测测试\n",
    "predict_result = model.predict(np.array([X_test[0]]))\n",
    "print(np.squeeze(predict_result))\n",
    "print(np.argmax(np.squeeze(predict_result)))"
   ]
  },
  {
   "cell_type": "markdown",
   "metadata": {},
   "source": [
    "# 混淆矩阵"
   ]
  },
  {
   "cell_type": "code",
   "execution_count": 16,
   "metadata": {},
   "outputs": [
    {
     "output_type": "display_data",
     "data": {
      "text/plain": "<Figure size 504x432 with 2 Axes>",
      "image/svg+xml": "<?xml version=\"1.0\" encoding=\"utf-8\" standalone=\"no\"?>\r\n<!DOCTYPE svg PUBLIC \"-//W3C//DTD SVG 1.1//EN\"\r\n  \"http://www.w3.org/Graphics/SVG/1.1/DTD/svg11.dtd\">\r\n<!-- Created with matplotlib (https://matplotlib.org/) -->\r\n<svg height=\"357.238125pt\" version=\"1.1\" viewBox=\"0 0 405.483625 357.238125\" width=\"405.483625pt\" xmlns=\"http://www.w3.org/2000/svg\" xmlns:xlink=\"http://www.w3.org/1999/xlink\">\r\n <metadata>\r\n  <rdf:RDF xmlns:cc=\"http://creativecommons.org/ns#\" xmlns:dc=\"http://purl.org/dc/elements/1.1/\" xmlns:rdf=\"http://www.w3.org/1999/02/22-rdf-syntax-ns#\">\r\n   <cc:Work>\r\n    <dc:type rdf:resource=\"http://purl.org/dc/dcmitype/StillImage\"/>\r\n    <dc:date>2021-04-13T17:14:53.953604</dc:date>\r\n    <dc:format>image/svg+xml</dc:format>\r\n    <dc:creator>\r\n     <cc:Agent>\r\n      <dc:title>Matplotlib v3.3.4, https://matplotlib.org/</dc:title>\r\n     </cc:Agent>\r\n    </dc:creator>\r\n   </cc:Work>\r\n  </rdf:RDF>\r\n </metadata>\r\n <defs>\r\n  <style type=\"text/css\">*{stroke-linecap:butt;stroke-linejoin:round;}</style>\r\n </defs>\r\n <g id=\"figure_1\">\r\n  <g id=\"patch_1\">\r\n   <path d=\"M 0 357.238125 \r\nL 405.483625 357.238125 \r\nL 405.483625 0 \r\nL 0 0 \r\nz\r\n\" style=\"fill:none;\"/>\r\n  </g>\r\n  <g id=\"axes_1\">\r\n   <g id=\"patch_2\">\r\n    <path d=\"M 23.878125 333.36 \r\nL 336.358125 333.36 \r\nL 336.358125 7.2 \r\nL 23.878125 7.2 \r\nz\r\n\" style=\"fill:#ffffff;\"/>\r\n   </g>\r\n   <g id=\"QuadMesh_1\">\r\n    <path clip-path=\"url(#p07d1d74e35)\" d=\"M 23.878125 7.2 \r\nL 86.374125 7.2 \r\nL 86.374125 72.432 \r\nL 23.878125 72.432 \r\nL 23.878125 7.2 \r\n\" style=\"fill:#faebdd;\"/>\r\n    <path clip-path=\"url(#p07d1d74e35)\" d=\"M 86.374125 7.2 \r\nL 148.870125 7.2 \r\nL 148.870125 72.432 \r\nL 86.374125 72.432 \r\nL 86.374125 7.2 \r\n\" style=\"fill:#03051a;\"/>\r\n    <path clip-path=\"url(#p07d1d74e35)\" d=\"M 148.870125 7.2 \r\nL 211.366125 7.2 \r\nL 211.366125 72.432 \r\nL 148.870125 72.432 \r\nL 148.870125 7.2 \r\n\" style=\"fill:#03051a;\"/>\r\n    <path clip-path=\"url(#p07d1d74e35)\" d=\"M 211.366125 7.2 \r\nL 273.862125 7.2 \r\nL 273.862125 72.432 \r\nL 211.366125 72.432 \r\nL 211.366125 7.2 \r\n\" style=\"fill:#03051a;\"/>\r\n    <path clip-path=\"url(#p07d1d74e35)\" d=\"M 273.862125 7.2 \r\nL 336.358125 7.2 \r\nL 336.358125 72.432 \r\nL 273.862125 72.432 \r\nL 273.862125 7.2 \r\n\" style=\"fill:#05061b;\"/>\r\n    <path clip-path=\"url(#p07d1d74e35)\" d=\"M 23.878125 72.432 \r\nL 86.374125 72.432 \r\nL 86.374125 137.664 \r\nL 23.878125 137.664 \r\nL 23.878125 72.432 \r\n\" style=\"fill:#03051a;\"/>\r\n    <path clip-path=\"url(#p07d1d74e35)\" d=\"M 86.374125 72.432 \r\nL 148.870125 72.432 \r\nL 148.870125 137.664 \r\nL 86.374125 137.664 \r\nL 86.374125 72.432 \r\n\" style=\"fill:#f6a47c;\"/>\r\n    <path clip-path=\"url(#p07d1d74e35)\" d=\"M 148.870125 72.432 \r\nL 211.366125 72.432 \r\nL 211.366125 137.664 \r\nL 148.870125 137.664 \r\nL 148.870125 72.432 \r\n\" style=\"fill:#03051a;\"/>\r\n    <path clip-path=\"url(#p07d1d74e35)\" d=\"M 211.366125 72.432 \r\nL 273.862125 72.432 \r\nL 273.862125 137.664 \r\nL 211.366125 137.664 \r\nL 211.366125 72.432 \r\n\" style=\"fill:#03051a;\"/>\r\n    <path clip-path=\"url(#p07d1d74e35)\" d=\"M 273.862125 72.432 \r\nL 336.358125 72.432 \r\nL 336.358125 137.664 \r\nL 273.862125 137.664 \r\nL 273.862125 72.432 \r\n\" style=\"fill:#04051a;\"/>\r\n    <path clip-path=\"url(#p07d1d74e35)\" d=\"M 23.878125 137.664 \r\nL 86.374125 137.664 \r\nL 86.374125 202.896 \r\nL 23.878125 202.896 \r\nL 23.878125 137.664 \r\n\" style=\"fill:#03051a;\"/>\r\n    <path clip-path=\"url(#p07d1d74e35)\" d=\"M 86.374125 137.664 \r\nL 148.870125 137.664 \r\nL 148.870125 202.896 \r\nL 86.374125 202.896 \r\nL 86.374125 137.664 \r\n\" style=\"fill:#03051a;\"/>\r\n    <path clip-path=\"url(#p07d1d74e35)\" d=\"M 148.870125 137.664 \r\nL 211.366125 137.664 \r\nL 211.366125 202.896 \r\nL 148.870125 202.896 \r\nL 148.870125 137.664 \r\n\" style=\"fill:#f58860;\"/>\r\n    <path clip-path=\"url(#p07d1d74e35)\" d=\"M 211.366125 137.664 \r\nL 273.862125 137.664 \r\nL 273.862125 202.896 \r\nL 211.366125 202.896 \r\nL 211.366125 137.664 \r\n\" style=\"fill:#0d0a21;\"/>\r\n    <path clip-path=\"url(#p07d1d74e35)\" d=\"M 273.862125 137.664 \r\nL 336.358125 137.664 \r\nL 336.358125 202.896 \r\nL 273.862125 202.896 \r\nL 273.862125 137.664 \r\n\" style=\"fill:#05061b;\"/>\r\n    <path clip-path=\"url(#p07d1d74e35)\" d=\"M 23.878125 202.896 \r\nL 86.374125 202.896 \r\nL 86.374125 268.128 \r\nL 23.878125 268.128 \r\nL 23.878125 202.896 \r\n\" style=\"fill:#05061b;\"/>\r\n    <path clip-path=\"url(#p07d1d74e35)\" d=\"M 86.374125 202.896 \r\nL 148.870125 202.896 \r\nL 148.870125 268.128 \r\nL 86.374125 268.128 \r\nL 86.374125 202.896 \r\n\" style=\"fill:#0e0b22;\"/>\r\n    <path clip-path=\"url(#p07d1d74e35)\" d=\"M 148.870125 202.896 \r\nL 211.366125 202.896 \r\nL 211.366125 268.128 \r\nL 148.870125 268.128 \r\nL 148.870125 202.896 \r\n\" style=\"fill:#0e0b22;\"/>\r\n    <path clip-path=\"url(#p07d1d74e35)\" d=\"M 211.366125 202.896 \r\nL 273.862125 202.896 \r\nL 273.862125 268.128 \r\nL 211.366125 268.128 \r\nL 211.366125 202.896 \r\n\" style=\"fill:#f26f4c;\"/>\r\n    <path clip-path=\"url(#p07d1d74e35)\" d=\"M 273.862125 202.896 \r\nL 336.358125 202.896 \r\nL 336.358125 268.128 \r\nL 273.862125 268.128 \r\nL 273.862125 202.896 \r\n\" style=\"fill:#08081e;\"/>\r\n    <path clip-path=\"url(#p07d1d74e35)\" d=\"M 23.878125 268.128 \r\nL 86.374125 268.128 \r\nL 86.374125 333.36 \r\nL 23.878125 333.36 \r\nL 23.878125 268.128 \r\n\" style=\"fill:#0d0a21;\"/>\r\n    <path clip-path=\"url(#p07d1d74e35)\" d=\"M 86.374125 268.128 \r\nL 148.870125 268.128 \r\nL 148.870125 333.36 \r\nL 86.374125 333.36 \r\nL 86.374125 268.128 \r\n\" style=\"fill:#03051a;\"/>\r\n    <path clip-path=\"url(#p07d1d74e35)\" d=\"M 148.870125 268.128 \r\nL 211.366125 268.128 \r\nL 211.366125 333.36 \r\nL 148.870125 333.36 \r\nL 148.870125 268.128 \r\n\" style=\"fill:#07071d;\"/>\r\n    <path clip-path=\"url(#p07d1d74e35)\" d=\"M 211.366125 268.128 \r\nL 273.862125 268.128 \r\nL 273.862125 333.36 \r\nL 211.366125 333.36 \r\nL 211.366125 268.128 \r\n\" style=\"fill:#100b23;\"/>\r\n    <path clip-path=\"url(#p07d1d74e35)\" d=\"M 273.862125 268.128 \r\nL 336.358125 268.128 \r\nL 336.358125 333.36 \r\nL 273.862125 333.36 \r\nL 273.862125 268.128 \r\n\" style=\"fill:#b91657;\"/>\r\n   </g>\r\n   <g id=\"matplotlib.axis_1\">\r\n    <g id=\"xtick_1\">\r\n     <g id=\"line2d_1\">\r\n      <defs>\r\n       <path d=\"M 0 0 \r\nL 0 3.5 \r\n\" id=\"m0b78692ce3\" style=\"stroke:#000000;stroke-width:0.8;\"/>\r\n      </defs>\r\n      <g>\r\n       <use style=\"stroke:#000000;stroke-width:0.8;\" x=\"55.126125\" xlink:href=\"#m0b78692ce3\" y=\"333.36\"/>\r\n      </g>\r\n     </g>\r\n     <g id=\"text_1\">\r\n      <!-- 0 -->\r\n      <g transform=\"translate(51.944875 347.958438)scale(0.1 -0.1)\">\r\n       <defs>\r\n        <path d=\"M 31.78125 66.40625 \r\nQ 24.171875 66.40625 20.328125 58.90625 \r\nQ 16.5 51.421875 16.5 36.375 \r\nQ 16.5 21.390625 20.328125 13.890625 \r\nQ 24.171875 6.390625 31.78125 6.390625 \r\nQ 39.453125 6.390625 43.28125 13.890625 \r\nQ 47.125 21.390625 47.125 36.375 \r\nQ 47.125 51.421875 43.28125 58.90625 \r\nQ 39.453125 66.40625 31.78125 66.40625 \r\nz\r\nM 31.78125 74.21875 \r\nQ 44.046875 74.21875 50.515625 64.515625 \r\nQ 56.984375 54.828125 56.984375 36.375 \r\nQ 56.984375 17.96875 50.515625 8.265625 \r\nQ 44.046875 -1.421875 31.78125 -1.421875 \r\nQ 19.53125 -1.421875 13.0625 8.265625 \r\nQ 6.59375 17.96875 6.59375 36.375 \r\nQ 6.59375 54.828125 13.0625 64.515625 \r\nQ 19.53125 74.21875 31.78125 74.21875 \r\nz\r\n\" id=\"DejaVuSans-48\"/>\r\n       </defs>\r\n       <use xlink:href=\"#DejaVuSans-48\"/>\r\n      </g>\r\n     </g>\r\n    </g>\r\n    <g id=\"xtick_2\">\r\n     <g id=\"line2d_2\">\r\n      <g>\r\n       <use style=\"stroke:#000000;stroke-width:0.8;\" x=\"117.622125\" xlink:href=\"#m0b78692ce3\" y=\"333.36\"/>\r\n      </g>\r\n     </g>\r\n     <g id=\"text_2\">\r\n      <!-- 1 -->\r\n      <g transform=\"translate(114.440875 347.958438)scale(0.1 -0.1)\">\r\n       <defs>\r\n        <path d=\"M 12.40625 8.296875 \r\nL 28.515625 8.296875 \r\nL 28.515625 63.921875 \r\nL 10.984375 60.40625 \r\nL 10.984375 69.390625 \r\nL 28.421875 72.90625 \r\nL 38.28125 72.90625 \r\nL 38.28125 8.296875 \r\nL 54.390625 8.296875 \r\nL 54.390625 0 \r\nL 12.40625 0 \r\nz\r\n\" id=\"DejaVuSans-49\"/>\r\n       </defs>\r\n       <use xlink:href=\"#DejaVuSans-49\"/>\r\n      </g>\r\n     </g>\r\n    </g>\r\n    <g id=\"xtick_3\">\r\n     <g id=\"line2d_3\">\r\n      <g>\r\n       <use style=\"stroke:#000000;stroke-width:0.8;\" x=\"180.118125\" xlink:href=\"#m0b78692ce3\" y=\"333.36\"/>\r\n      </g>\r\n     </g>\r\n     <g id=\"text_3\">\r\n      <!-- 2 -->\r\n      <g transform=\"translate(176.936875 347.958438)scale(0.1 -0.1)\">\r\n       <defs>\r\n        <path d=\"M 19.1875 8.296875 \r\nL 53.609375 8.296875 \r\nL 53.609375 0 \r\nL 7.328125 0 \r\nL 7.328125 8.296875 \r\nQ 12.9375 14.109375 22.625 23.890625 \r\nQ 32.328125 33.6875 34.8125 36.53125 \r\nQ 39.546875 41.84375 41.421875 45.53125 \r\nQ 43.3125 49.21875 43.3125 52.78125 \r\nQ 43.3125 58.59375 39.234375 62.25 \r\nQ 35.15625 65.921875 28.609375 65.921875 \r\nQ 23.96875 65.921875 18.8125 64.3125 \r\nQ 13.671875 62.703125 7.8125 59.421875 \r\nL 7.8125 69.390625 \r\nQ 13.765625 71.78125 18.9375 73 \r\nQ 24.125 74.21875 28.421875 74.21875 \r\nQ 39.75 74.21875 46.484375 68.546875 \r\nQ 53.21875 62.890625 53.21875 53.421875 \r\nQ 53.21875 48.921875 51.53125 44.890625 \r\nQ 49.859375 40.875 45.40625 35.40625 \r\nQ 44.1875 33.984375 37.640625 27.21875 \r\nQ 31.109375 20.453125 19.1875 8.296875 \r\nz\r\n\" id=\"DejaVuSans-50\"/>\r\n       </defs>\r\n       <use xlink:href=\"#DejaVuSans-50\"/>\r\n      </g>\r\n     </g>\r\n    </g>\r\n    <g id=\"xtick_4\">\r\n     <g id=\"line2d_4\">\r\n      <g>\r\n       <use style=\"stroke:#000000;stroke-width:0.8;\" x=\"242.614125\" xlink:href=\"#m0b78692ce3\" y=\"333.36\"/>\r\n      </g>\r\n     </g>\r\n     <g id=\"text_4\">\r\n      <!-- 3 -->\r\n      <g transform=\"translate(239.432875 347.958438)scale(0.1 -0.1)\">\r\n       <defs>\r\n        <path d=\"M 40.578125 39.3125 \r\nQ 47.65625 37.796875 51.625 33 \r\nQ 55.609375 28.21875 55.609375 21.1875 \r\nQ 55.609375 10.40625 48.1875 4.484375 \r\nQ 40.765625 -1.421875 27.09375 -1.421875 \r\nQ 22.515625 -1.421875 17.65625 -0.515625 \r\nQ 12.796875 0.390625 7.625 2.203125 \r\nL 7.625 11.71875 \r\nQ 11.71875 9.328125 16.59375 8.109375 \r\nQ 21.484375 6.890625 26.8125 6.890625 \r\nQ 36.078125 6.890625 40.9375 10.546875 \r\nQ 45.796875 14.203125 45.796875 21.1875 \r\nQ 45.796875 27.640625 41.28125 31.265625 \r\nQ 36.765625 34.90625 28.71875 34.90625 \r\nL 20.21875 34.90625 \r\nL 20.21875 43.015625 \r\nL 29.109375 43.015625 \r\nQ 36.375 43.015625 40.234375 45.921875 \r\nQ 44.09375 48.828125 44.09375 54.296875 \r\nQ 44.09375 59.90625 40.109375 62.90625 \r\nQ 36.140625 65.921875 28.71875 65.921875 \r\nQ 24.65625 65.921875 20.015625 65.03125 \r\nQ 15.375 64.15625 9.8125 62.3125 \r\nL 9.8125 71.09375 \r\nQ 15.4375 72.65625 20.34375 73.4375 \r\nQ 25.25 74.21875 29.59375 74.21875 \r\nQ 40.828125 74.21875 47.359375 69.109375 \r\nQ 53.90625 64.015625 53.90625 55.328125 \r\nQ 53.90625 49.265625 50.4375 45.09375 \r\nQ 46.96875 40.921875 40.578125 39.3125 \r\nz\r\n\" id=\"DejaVuSans-51\"/>\r\n       </defs>\r\n       <use xlink:href=\"#DejaVuSans-51\"/>\r\n      </g>\r\n     </g>\r\n    </g>\r\n    <g id=\"xtick_5\">\r\n     <g id=\"line2d_5\">\r\n      <g>\r\n       <use style=\"stroke:#000000;stroke-width:0.8;\" x=\"305.110125\" xlink:href=\"#m0b78692ce3\" y=\"333.36\"/>\r\n      </g>\r\n     </g>\r\n     <g id=\"text_5\">\r\n      <!-- 4 -->\r\n      <g transform=\"translate(301.928875 347.958438)scale(0.1 -0.1)\">\r\n       <defs>\r\n        <path d=\"M 37.796875 64.3125 \r\nL 12.890625 25.390625 \r\nL 37.796875 25.390625 \r\nz\r\nM 35.203125 72.90625 \r\nL 47.609375 72.90625 \r\nL 47.609375 25.390625 \r\nL 58.015625 25.390625 \r\nL 58.015625 17.1875 \r\nL 47.609375 17.1875 \r\nL 47.609375 0 \r\nL 37.796875 0 \r\nL 37.796875 17.1875 \r\nL 4.890625 17.1875 \r\nL 4.890625 26.703125 \r\nz\r\n\" id=\"DejaVuSans-52\"/>\r\n       </defs>\r\n       <use xlink:href=\"#DejaVuSans-52\"/>\r\n      </g>\r\n     </g>\r\n    </g>\r\n   </g>\r\n   <g id=\"matplotlib.axis_2\">\r\n    <g id=\"ytick_1\">\r\n     <g id=\"line2d_6\">\r\n      <defs>\r\n       <path d=\"M 0 0 \r\nL -3.5 0 \r\n\" id=\"md57bbf14c2\" style=\"stroke:#000000;stroke-width:0.8;\"/>\r\n      </defs>\r\n      <g>\r\n       <use style=\"stroke:#000000;stroke-width:0.8;\" x=\"23.878125\" xlink:href=\"#md57bbf14c2\" y=\"39.816\"/>\r\n      </g>\r\n     </g>\r\n     <g id=\"text_6\">\r\n      <!-- 0 -->\r\n      <g transform=\"translate(14.798438 42.379281)rotate(-90)scale(0.1 -0.1)\">\r\n       <use xlink:href=\"#DejaVuSans-48\"/>\r\n      </g>\r\n     </g>\r\n    </g>\r\n    <g id=\"ytick_2\">\r\n     <g id=\"line2d_7\">\r\n      <g>\r\n       <use style=\"stroke:#000000;stroke-width:0.8;\" x=\"23.878125\" xlink:href=\"#md57bbf14c2\" y=\"105.048\"/>\r\n      </g>\r\n     </g>\r\n     <g id=\"text_7\">\r\n      <!-- 1 -->\r\n      <g transform=\"translate(14.798438 107.611281)rotate(-90)scale(0.1 -0.1)\">\r\n       <use xlink:href=\"#DejaVuSans-49\"/>\r\n      </g>\r\n     </g>\r\n    </g>\r\n    <g id=\"ytick_3\">\r\n     <g id=\"line2d_8\">\r\n      <g>\r\n       <use style=\"stroke:#000000;stroke-width:0.8;\" x=\"23.878125\" xlink:href=\"#md57bbf14c2\" y=\"170.28\"/>\r\n      </g>\r\n     </g>\r\n     <g id=\"text_8\">\r\n      <!-- 2 -->\r\n      <g transform=\"translate(14.798438 172.843281)rotate(-90)scale(0.1 -0.1)\">\r\n       <use xlink:href=\"#DejaVuSans-50\"/>\r\n      </g>\r\n     </g>\r\n    </g>\r\n    <g id=\"ytick_4\">\r\n     <g id=\"line2d_9\">\r\n      <g>\r\n       <use style=\"stroke:#000000;stroke-width:0.8;\" x=\"23.878125\" xlink:href=\"#md57bbf14c2\" y=\"235.512\"/>\r\n      </g>\r\n     </g>\r\n     <g id=\"text_9\">\r\n      <!-- 3 -->\r\n      <g transform=\"translate(14.798438 238.075281)rotate(-90)scale(0.1 -0.1)\">\r\n       <use xlink:href=\"#DejaVuSans-51\"/>\r\n      </g>\r\n     </g>\r\n    </g>\r\n    <g id=\"ytick_5\">\r\n     <g id=\"line2d_10\">\r\n      <g>\r\n       <use style=\"stroke:#000000;stroke-width:0.8;\" x=\"23.878125\" xlink:href=\"#md57bbf14c2\" y=\"300.744\"/>\r\n      </g>\r\n     </g>\r\n     <g id=\"text_10\">\r\n      <!-- 4 -->\r\n      <g transform=\"translate(14.798438 303.307281)rotate(-90)scale(0.1 -0.1)\">\r\n       <use xlink:href=\"#DejaVuSans-52\"/>\r\n      </g>\r\n     </g>\r\n    </g>\r\n   </g>\r\n   <g id=\"text_11\">\r\n    <!-- 384 -->\r\n    <g style=\"fill:#262626;\" transform=\"translate(45.582375 42.575375)scale(0.1 -0.1)\">\r\n     <defs>\r\n      <path d=\"M 31.78125 34.625 \r\nQ 24.75 34.625 20.71875 30.859375 \r\nQ 16.703125 27.09375 16.703125 20.515625 \r\nQ 16.703125 13.921875 20.71875 10.15625 \r\nQ 24.75 6.390625 31.78125 6.390625 \r\nQ 38.8125 6.390625 42.859375 10.171875 \r\nQ 46.921875 13.96875 46.921875 20.515625 \r\nQ 46.921875 27.09375 42.890625 30.859375 \r\nQ 38.875 34.625 31.78125 34.625 \r\nz\r\nM 21.921875 38.8125 \r\nQ 15.578125 40.375 12.03125 44.71875 \r\nQ 8.5 49.078125 8.5 55.328125 \r\nQ 8.5 64.0625 14.71875 69.140625 \r\nQ 20.953125 74.21875 31.78125 74.21875 \r\nQ 42.671875 74.21875 48.875 69.140625 \r\nQ 55.078125 64.0625 55.078125 55.328125 \r\nQ 55.078125 49.078125 51.53125 44.71875 \r\nQ 48 40.375 41.703125 38.8125 \r\nQ 48.828125 37.15625 52.796875 32.3125 \r\nQ 56.78125 27.484375 56.78125 20.515625 \r\nQ 56.78125 9.90625 50.3125 4.234375 \r\nQ 43.84375 -1.421875 31.78125 -1.421875 \r\nQ 19.734375 -1.421875 13.25 4.234375 \r\nQ 6.78125 9.90625 6.78125 20.515625 \r\nQ 6.78125 27.484375 10.78125 32.3125 \r\nQ 14.796875 37.15625 21.921875 38.8125 \r\nz\r\nM 18.3125 54.390625 \r\nQ 18.3125 48.734375 21.84375 45.5625 \r\nQ 25.390625 42.390625 31.78125 42.390625 \r\nQ 38.140625 42.390625 41.71875 45.5625 \r\nQ 45.3125 48.734375 45.3125 54.390625 \r\nQ 45.3125 60.0625 41.71875 63.234375 \r\nQ 38.140625 66.40625 31.78125 66.40625 \r\nQ 25.390625 66.40625 21.84375 63.234375 \r\nQ 18.3125 60.0625 18.3125 54.390625 \r\nz\r\n\" id=\"DejaVuSans-56\"/>\r\n     </defs>\r\n     <use xlink:href=\"#DejaVuSans-51\"/>\r\n     <use x=\"63.623047\" xlink:href=\"#DejaVuSans-56\"/>\r\n     <use x=\"127.246094\" xlink:href=\"#DejaVuSans-52\"/>\r\n    </g>\r\n   </g>\r\n   <g id=\"text_12\">\r\n    <!-- 0 -->\r\n    <g style=\"fill:#ffffff;\" transform=\"translate(114.440875 42.575375)scale(0.1 -0.1)\">\r\n     <use xlink:href=\"#DejaVuSans-48\"/>\r\n    </g>\r\n   </g>\r\n   <g id=\"text_13\">\r\n    <!-- 0 -->\r\n    <g style=\"fill:#ffffff;\" transform=\"translate(176.936875 42.575375)scale(0.1 -0.1)\">\r\n     <use xlink:href=\"#DejaVuSans-48\"/>\r\n    </g>\r\n   </g>\r\n   <g id=\"text_14\">\r\n    <!-- 0 -->\r\n    <g style=\"fill:#ffffff;\" transform=\"translate(239.432875 42.575375)scale(0.1 -0.1)\">\r\n     <use xlink:href=\"#DejaVuSans-48\"/>\r\n    </g>\r\n   </g>\r\n   <g id=\"text_15\">\r\n    <!-- 3 -->\r\n    <g style=\"fill:#ffffff;\" transform=\"translate(301.928875 42.575375)scale(0.1 -0.1)\">\r\n     <use xlink:href=\"#DejaVuSans-51\"/>\r\n    </g>\r\n   </g>\r\n   <g id=\"text_16\">\r\n    <!-- 0 -->\r\n    <g style=\"fill:#ffffff;\" transform=\"translate(51.944875 107.807375)scale(0.1 -0.1)\">\r\n     <use xlink:href=\"#DejaVuSans-48\"/>\r\n    </g>\r\n   </g>\r\n   <g id=\"text_17\">\r\n    <!-- 314 -->\r\n    <g style=\"fill:#262626;\" transform=\"translate(108.078375 107.807375)scale(0.1 -0.1)\">\r\n     <use xlink:href=\"#DejaVuSans-51\"/>\r\n     <use x=\"63.623047\" xlink:href=\"#DejaVuSans-49\"/>\r\n     <use x=\"127.246094\" xlink:href=\"#DejaVuSans-52\"/>\r\n    </g>\r\n   </g>\r\n   <g id=\"text_18\">\r\n    <!-- 0 -->\r\n    <g style=\"fill:#ffffff;\" transform=\"translate(176.936875 107.807375)scale(0.1 -0.1)\">\r\n     <use xlink:href=\"#DejaVuSans-48\"/>\r\n    </g>\r\n   </g>\r\n   <g id=\"text_19\">\r\n    <!-- 1 -->\r\n    <g style=\"fill:#ffffff;\" transform=\"translate(239.432875 107.807375)scale(0.1 -0.1)\">\r\n     <use xlink:href=\"#DejaVuSans-49\"/>\r\n    </g>\r\n   </g>\r\n   <g id=\"text_20\">\r\n    <!-- 2 -->\r\n    <g style=\"fill:#ffffff;\" transform=\"translate(301.928875 107.807375)scale(0.1 -0.1)\">\r\n     <use xlink:href=\"#DejaVuSans-50\"/>\r\n    </g>\r\n   </g>\r\n   <g id=\"text_21\">\r\n    <!-- 0 -->\r\n    <g style=\"fill:#ffffff;\" transform=\"translate(51.944875 173.039375)scale(0.1 -0.1)\">\r\n     <use xlink:href=\"#DejaVuSans-48\"/>\r\n    </g>\r\n   </g>\r\n   <g id=\"text_22\">\r\n    <!-- 1 -->\r\n    <g style=\"fill:#ffffff;\" transform=\"translate(114.440875 173.039375)scale(0.1 -0.1)\">\r\n     <use xlink:href=\"#DejaVuSans-49\"/>\r\n    </g>\r\n   </g>\r\n   <g id=\"text_23\">\r\n    <!-- 289 -->\r\n    <g style=\"fill:#ffffff;\" transform=\"translate(170.574375 173.039375)scale(0.1 -0.1)\">\r\n     <defs>\r\n      <path d=\"M 10.984375 1.515625 \r\nL 10.984375 10.5 \r\nQ 14.703125 8.734375 18.5 7.8125 \r\nQ 22.3125 6.890625 25.984375 6.890625 \r\nQ 35.75 6.890625 40.890625 13.453125 \r\nQ 46.046875 20.015625 46.78125 33.40625 \r\nQ 43.953125 29.203125 39.59375 26.953125 \r\nQ 35.25 24.703125 29.984375 24.703125 \r\nQ 19.046875 24.703125 12.671875 31.3125 \r\nQ 6.296875 37.9375 6.296875 49.421875 \r\nQ 6.296875 60.640625 12.9375 67.421875 \r\nQ 19.578125 74.21875 30.609375 74.21875 \r\nQ 43.265625 74.21875 49.921875 64.515625 \r\nQ 56.59375 54.828125 56.59375 36.375 \r\nQ 56.59375 19.140625 48.40625 8.859375 \r\nQ 40.234375 -1.421875 26.421875 -1.421875 \r\nQ 22.703125 -1.421875 18.890625 -0.6875 \r\nQ 15.09375 0.046875 10.984375 1.515625 \r\nz\r\nM 30.609375 32.421875 \r\nQ 37.25 32.421875 41.125 36.953125 \r\nQ 45.015625 41.5 45.015625 49.421875 \r\nQ 45.015625 57.28125 41.125 61.84375 \r\nQ 37.25 66.40625 30.609375 66.40625 \r\nQ 23.96875 66.40625 20.09375 61.84375 \r\nQ 16.21875 57.28125 16.21875 49.421875 \r\nQ 16.21875 41.5 20.09375 36.953125 \r\nQ 23.96875 32.421875 30.609375 32.421875 \r\nz\r\n\" id=\"DejaVuSans-57\"/>\r\n     </defs>\r\n     <use xlink:href=\"#DejaVuSans-50\"/>\r\n     <use x=\"63.623047\" xlink:href=\"#DejaVuSans-56\"/>\r\n     <use x=\"127.246094\" xlink:href=\"#DejaVuSans-57\"/>\r\n    </g>\r\n   </g>\r\n   <g id=\"text_24\">\r\n    <!-- 12 -->\r\n    <g style=\"fill:#ffffff;\" transform=\"translate(236.251625 173.039375)scale(0.1 -0.1)\">\r\n     <use xlink:href=\"#DejaVuSans-49\"/>\r\n     <use x=\"63.623047\" xlink:href=\"#DejaVuSans-50\"/>\r\n    </g>\r\n   </g>\r\n   <g id=\"text_25\">\r\n    <!-- 3 -->\r\n    <g style=\"fill:#ffffff;\" transform=\"translate(301.928875 173.039375)scale(0.1 -0.1)\">\r\n     <use xlink:href=\"#DejaVuSans-51\"/>\r\n    </g>\r\n   </g>\r\n   <g id=\"text_26\">\r\n    <!-- 3 -->\r\n    <g style=\"fill:#ffffff;\" transform=\"translate(51.944875 238.271375)scale(0.1 -0.1)\">\r\n     <use xlink:href=\"#DejaVuSans-51\"/>\r\n    </g>\r\n   </g>\r\n   <g id=\"text_27\">\r\n    <!-- 14 -->\r\n    <g style=\"fill:#ffffff;\" transform=\"translate(111.259625 238.271375)scale(0.1 -0.1)\">\r\n     <use xlink:href=\"#DejaVuSans-49\"/>\r\n     <use x=\"63.623047\" xlink:href=\"#DejaVuSans-52\"/>\r\n    </g>\r\n   </g>\r\n   <g id=\"text_28\">\r\n    <!-- 14 -->\r\n    <g style=\"fill:#ffffff;\" transform=\"translate(173.755625 238.271375)scale(0.1 -0.1)\">\r\n     <use xlink:href=\"#DejaVuSans-49\"/>\r\n     <use x=\"63.623047\" xlink:href=\"#DejaVuSans-52\"/>\r\n    </g>\r\n   </g>\r\n   <g id=\"text_29\">\r\n    <!-- 267 -->\r\n    <g style=\"fill:#ffffff;\" transform=\"translate(233.070375 238.271375)scale(0.1 -0.1)\">\r\n     <defs>\r\n      <path d=\"M 33.015625 40.375 \r\nQ 26.375 40.375 22.484375 35.828125 \r\nQ 18.609375 31.296875 18.609375 23.390625 \r\nQ 18.609375 15.53125 22.484375 10.953125 \r\nQ 26.375 6.390625 33.015625 6.390625 \r\nQ 39.65625 6.390625 43.53125 10.953125 \r\nQ 47.40625 15.53125 47.40625 23.390625 \r\nQ 47.40625 31.296875 43.53125 35.828125 \r\nQ 39.65625 40.375 33.015625 40.375 \r\nz\r\nM 52.59375 71.296875 \r\nL 52.59375 62.3125 \r\nQ 48.875 64.0625 45.09375 64.984375 \r\nQ 41.3125 65.921875 37.59375 65.921875 \r\nQ 27.828125 65.921875 22.671875 59.328125 \r\nQ 17.53125 52.734375 16.796875 39.40625 \r\nQ 19.671875 43.65625 24.015625 45.921875 \r\nQ 28.375 48.1875 33.59375 48.1875 \r\nQ 44.578125 48.1875 50.953125 41.515625 \r\nQ 57.328125 34.859375 57.328125 23.390625 \r\nQ 57.328125 12.15625 50.6875 5.359375 \r\nQ 44.046875 -1.421875 33.015625 -1.421875 \r\nQ 20.359375 -1.421875 13.671875 8.265625 \r\nQ 6.984375 17.96875 6.984375 36.375 \r\nQ 6.984375 53.65625 15.1875 63.9375 \r\nQ 23.390625 74.21875 37.203125 74.21875 \r\nQ 40.921875 74.21875 44.703125 73.484375 \r\nQ 48.484375 72.75 52.59375 71.296875 \r\nz\r\n\" id=\"DejaVuSans-54\"/>\r\n      <path d=\"M 8.203125 72.90625 \r\nL 55.078125 72.90625 \r\nL 55.078125 68.703125 \r\nL 28.609375 0 \r\nL 18.3125 0 \r\nL 43.21875 64.59375 \r\nL 8.203125 64.59375 \r\nz\r\n\" id=\"DejaVuSans-55\"/>\r\n     </defs>\r\n     <use xlink:href=\"#DejaVuSans-50\"/>\r\n     <use x=\"63.623047\" xlink:href=\"#DejaVuSans-54\"/>\r\n     <use x=\"127.246094\" xlink:href=\"#DejaVuSans-55\"/>\r\n    </g>\r\n   </g>\r\n   <g id=\"text_30\">\r\n    <!-- 8 -->\r\n    <g style=\"fill:#ffffff;\" transform=\"translate(301.928875 238.271375)scale(0.1 -0.1)\">\r\n     <use xlink:href=\"#DejaVuSans-56\"/>\r\n    </g>\r\n   </g>\r\n   <g id=\"text_31\">\r\n    <!-- 13 -->\r\n    <g style=\"fill:#ffffff;\" transform=\"translate(48.763625 303.503375)scale(0.1 -0.1)\">\r\n     <use xlink:href=\"#DejaVuSans-49\"/>\r\n     <use x=\"63.623047\" xlink:href=\"#DejaVuSans-51\"/>\r\n    </g>\r\n   </g>\r\n   <g id=\"text_32\">\r\n    <!-- 0 -->\r\n    <g style=\"fill:#ffffff;\" transform=\"translate(114.440875 303.503375)scale(0.1 -0.1)\">\r\n     <use xlink:href=\"#DejaVuSans-48\"/>\r\n    </g>\r\n   </g>\r\n   <g id=\"text_33\">\r\n    <!-- 6 -->\r\n    <g style=\"fill:#ffffff;\" transform=\"translate(176.936875 303.503375)scale(0.1 -0.1)\">\r\n     <use xlink:href=\"#DejaVuSans-54\"/>\r\n    </g>\r\n   </g>\r\n   <g id=\"text_34\">\r\n    <!-- 16 -->\r\n    <g style=\"fill:#ffffff;\" transform=\"translate(236.251625 303.503375)scale(0.1 -0.1)\">\r\n     <use xlink:href=\"#DejaVuSans-49\"/>\r\n     <use x=\"63.623047\" xlink:href=\"#DejaVuSans-54\"/>\r\n    </g>\r\n   </g>\r\n   <g id=\"text_35\">\r\n    <!-- 175 -->\r\n    <g style=\"fill:#ffffff;\" transform=\"translate(295.566375 303.503375)scale(0.1 -0.1)\">\r\n     <defs>\r\n      <path d=\"M 10.796875 72.90625 \r\nL 49.515625 72.90625 \r\nL 49.515625 64.59375 \r\nL 19.828125 64.59375 \r\nL 19.828125 46.734375 \r\nQ 21.96875 47.46875 24.109375 47.828125 \r\nQ 26.265625 48.1875 28.421875 48.1875 \r\nQ 40.625 48.1875 47.75 41.5 \r\nQ 54.890625 34.8125 54.890625 23.390625 \r\nQ 54.890625 11.625 47.5625 5.09375 \r\nQ 40.234375 -1.421875 26.90625 -1.421875 \r\nQ 22.3125 -1.421875 17.546875 -0.640625 \r\nQ 12.796875 0.140625 7.71875 1.703125 \r\nL 7.71875 11.625 \r\nQ 12.109375 9.234375 16.796875 8.0625 \r\nQ 21.484375 6.890625 26.703125 6.890625 \r\nQ 35.15625 6.890625 40.078125 11.328125 \r\nQ 45.015625 15.765625 45.015625 23.390625 \r\nQ 45.015625 31 40.078125 35.4375 \r\nQ 35.15625 39.890625 26.703125 39.890625 \r\nQ 22.75 39.890625 18.8125 39.015625 \r\nQ 14.890625 38.140625 10.796875 36.28125 \r\nz\r\n\" id=\"DejaVuSans-53\"/>\r\n     </defs>\r\n     <use xlink:href=\"#DejaVuSans-49\"/>\r\n     <use x=\"63.623047\" xlink:href=\"#DejaVuSans-55\"/>\r\n     <use x=\"127.246094\" xlink:href=\"#DejaVuSans-53\"/>\r\n    </g>\r\n   </g>\r\n  </g>\r\n  <g id=\"axes_2\">\r\n   <g id=\"patch_3\">\r\n    <path clip-path=\"url(#p108c171ce3)\" d=\"M 355.888125 333.36 \r\nL 355.888125 332.085937 \r\nL 355.888125 8.474063 \r\nL 355.888125 7.2 \r\nL 372.196125 7.2 \r\nL 372.196125 8.474063 \r\nL 372.196125 332.085937 \r\nL 372.196125 333.36 \r\nz\r\n\" style=\"fill:#ffffff;stroke:#ffffff;stroke-linejoin:miter;stroke-width:0.01;\"/>\r\n   </g>\r\n   <image height=\"326\" id=\"image06791502e6\" transform=\"scale(1 -1)translate(0 -326)\" width=\"16\" x=\"356\" xlink:href=\"data:image/png;base64,\r\niVBORw0KGgoAAAANSUhEUgAAABAAAAFGCAYAAABjUx8/AAABu0lEQVR4nO2a0Q3DQAhDobku0f33TId4luxD3H8s8zAkadPP9/cWOKfJ1VV1upmEQKCYwAddXYoSPvcz4CVgiJABdrAQIyDSWfB3QRAkdxsVDhiGEUEasNYXor8E/z6YsNICgmRngB1QAcVahwL3j3PCKw+Osp0BVViICogJO5GdhCdVLsDOBAb2G0vANAq6YHYQANGexIAnVXsOIlYaFEjoAjszkshOAgP0L9MUiFjA/oABBQQQaZAmMMACC1GwUNwrLYDBBimDAbOASwhIIof4MggjGNwfpMYlUAeCNg5IIu6CnQGcpoAkNnxEUUCEDAQ/iVIHAyDiKC8DzACXILg3wtuzACJ34IbIkwg9BDCYECQooPgCggpwBtRBQBKxgBkiZ1D+jeQWEEB0l4AdBAyTACL8hyMBormEU9QBLSFgGkcwwEFyf9hGHURAZCY2iVWn4J1lQpDaHiTahQCI/mkcANGeRMUrjz0HGKL9W13BMNm7EDCNkAF/X7ifgX2YsIOIlWYX2JU2Yhr9SRwA0c1gV9qMIHU/ZgcbpIwg0RwsxIRhcnchYhrNUY5Y6zuN9hz42xiQRPs4YwZ/ztQuS6ONcUwAAAAASUVORK5CYII=\" y=\"-7\"/>\r\n   <g id=\"matplotlib.axis_3\"/>\r\n   <g id=\"matplotlib.axis_4\">\r\n    <g id=\"ytick_6\">\r\n     <g id=\"line2d_11\">\r\n      <defs>\r\n       <path d=\"M 0 0 \r\nL 3.5 0 \r\n\" id=\"ma6ad788de3\" style=\"stroke:#000000;stroke-width:0.8;\"/>\r\n      </defs>\r\n      <g>\r\n       <use style=\"stroke:#000000;stroke-width:0.8;\" x=\"372.196125\" xlink:href=\"#ma6ad788de3\" y=\"333.36\"/>\r\n      </g>\r\n     </g>\r\n     <g id=\"text_36\">\r\n      <!-- 0 -->\r\n      <g transform=\"translate(379.196125 337.159219)scale(0.1 -0.1)\">\r\n       <use xlink:href=\"#DejaVuSans-48\"/>\r\n      </g>\r\n     </g>\r\n    </g>\r\n    <g id=\"ytick_7\">\r\n     <g id=\"line2d_12\">\r\n      <g>\r\n       <use style=\"stroke:#000000;stroke-width:0.8;\" x=\"372.196125\" xlink:href=\"#ma6ad788de3\" y=\"290.89125\"/>\r\n      </g>\r\n     </g>\r\n     <g id=\"text_37\">\r\n      <!-- 50 -->\r\n      <g transform=\"translate(379.196125 294.690469)scale(0.1 -0.1)\">\r\n       <use xlink:href=\"#DejaVuSans-53\"/>\r\n       <use x=\"63.623047\" xlink:href=\"#DejaVuSans-48\"/>\r\n      </g>\r\n     </g>\r\n    </g>\r\n    <g id=\"ytick_8\">\r\n     <g id=\"line2d_13\">\r\n      <g>\r\n       <use style=\"stroke:#000000;stroke-width:0.8;\" x=\"372.196125\" xlink:href=\"#ma6ad788de3\" y=\"248.4225\"/>\r\n      </g>\r\n     </g>\r\n     <g id=\"text_38\">\r\n      <!-- 100 -->\r\n      <g transform=\"translate(379.196125 252.221719)scale(0.1 -0.1)\">\r\n       <use xlink:href=\"#DejaVuSans-49\"/>\r\n       <use x=\"63.623047\" xlink:href=\"#DejaVuSans-48\"/>\r\n       <use x=\"127.246094\" xlink:href=\"#DejaVuSans-48\"/>\r\n      </g>\r\n     </g>\r\n    </g>\r\n    <g id=\"ytick_9\">\r\n     <g id=\"line2d_14\">\r\n      <g>\r\n       <use style=\"stroke:#000000;stroke-width:0.8;\" x=\"372.196125\" xlink:href=\"#ma6ad788de3\" y=\"205.95375\"/>\r\n      </g>\r\n     </g>\r\n     <g id=\"text_39\">\r\n      <!-- 150 -->\r\n      <g transform=\"translate(379.196125 209.752969)scale(0.1 -0.1)\">\r\n       <use xlink:href=\"#DejaVuSans-49\"/>\r\n       <use x=\"63.623047\" xlink:href=\"#DejaVuSans-53\"/>\r\n       <use x=\"127.246094\" xlink:href=\"#DejaVuSans-48\"/>\r\n      </g>\r\n     </g>\r\n    </g>\r\n    <g id=\"ytick_10\">\r\n     <g id=\"line2d_15\">\r\n      <g>\r\n       <use style=\"stroke:#000000;stroke-width:0.8;\" x=\"372.196125\" xlink:href=\"#ma6ad788de3\" y=\"163.485\"/>\r\n      </g>\r\n     </g>\r\n     <g id=\"text_40\">\r\n      <!-- 200 -->\r\n      <g transform=\"translate(379.196125 167.284219)scale(0.1 -0.1)\">\r\n       <use xlink:href=\"#DejaVuSans-50\"/>\r\n       <use x=\"63.623047\" xlink:href=\"#DejaVuSans-48\"/>\r\n       <use x=\"127.246094\" xlink:href=\"#DejaVuSans-48\"/>\r\n      </g>\r\n     </g>\r\n    </g>\r\n    <g id=\"ytick_11\">\r\n     <g id=\"line2d_16\">\r\n      <g>\r\n       <use style=\"stroke:#000000;stroke-width:0.8;\" x=\"372.196125\" xlink:href=\"#ma6ad788de3\" y=\"121.01625\"/>\r\n      </g>\r\n     </g>\r\n     <g id=\"text_41\">\r\n      <!-- 250 -->\r\n      <g transform=\"translate(379.196125 124.815469)scale(0.1 -0.1)\">\r\n       <use xlink:href=\"#DejaVuSans-50\"/>\r\n       <use x=\"63.623047\" xlink:href=\"#DejaVuSans-53\"/>\r\n       <use x=\"127.246094\" xlink:href=\"#DejaVuSans-48\"/>\r\n      </g>\r\n     </g>\r\n    </g>\r\n    <g id=\"ytick_12\">\r\n     <g id=\"line2d_17\">\r\n      <g>\r\n       <use style=\"stroke:#000000;stroke-width:0.8;\" x=\"372.196125\" xlink:href=\"#ma6ad788de3\" y=\"78.5475\"/>\r\n      </g>\r\n     </g>\r\n     <g id=\"text_42\">\r\n      <!-- 300 -->\r\n      <g transform=\"translate(379.196125 82.346719)scale(0.1 -0.1)\">\r\n       <use xlink:href=\"#DejaVuSans-51\"/>\r\n       <use x=\"63.623047\" xlink:href=\"#DejaVuSans-48\"/>\r\n       <use x=\"127.246094\" xlink:href=\"#DejaVuSans-48\"/>\r\n      </g>\r\n     </g>\r\n    </g>\r\n    <g id=\"ytick_13\">\r\n     <g id=\"line2d_18\">\r\n      <g>\r\n       <use style=\"stroke:#000000;stroke-width:0.8;\" x=\"372.196125\" xlink:href=\"#ma6ad788de3\" y=\"36.07875\"/>\r\n      </g>\r\n     </g>\r\n     <g id=\"text_43\">\r\n      <!-- 350 -->\r\n      <g transform=\"translate(379.196125 39.877969)scale(0.1 -0.1)\">\r\n       <use xlink:href=\"#DejaVuSans-51\"/>\r\n       <use x=\"63.623047\" xlink:href=\"#DejaVuSans-53\"/>\r\n       <use x=\"127.246094\" xlink:href=\"#DejaVuSans-48\"/>\r\n      </g>\r\n     </g>\r\n    </g>\r\n   </g>\r\n   <g id=\"patch_4\">\r\n    <path d=\"M 355.888125 333.36 \r\nL 355.888125 332.085937 \r\nL 355.888125 8.474063 \r\nL 355.888125 7.2 \r\nL 372.196125 7.2 \r\nL 372.196125 8.474063 \r\nL 372.196125 332.085937 \r\nL 372.196125 333.36 \r\nz\r\n\" style=\"fill:none;\"/>\r\n   </g>\r\n  </g>\r\n </g>\r\n <defs>\r\n  <clipPath id=\"p07d1d74e35\">\r\n   <rect height=\"326.16\" width=\"312.48\" x=\"23.878125\" y=\"7.2\"/>\r\n  </clipPath>\r\n  <clipPath id=\"p108c171ce3\">\r\n   <rect height=\"326.16\" width=\"16.308\" x=\"355.888125\" y=\"7.2\"/>\r\n  </clipPath>\r\n </defs>\r\n</svg>\r\n",
      "image/png": "[encoded data removed]"
     },
     "metadata": {
      "needs_background": "light"
     }
    },
    {
     "output_type": "stream",
     "name": "stdout",
     "text": [
      "Classification Report\n              precision    recall  f1-score   support\n\n           0       0.96      0.99      0.98       387\n           1       0.95      0.99      0.97       317\n           2       0.94      0.95      0.94       305\n           3       0.90      0.87      0.89       306\n           4       0.92      0.83      0.87       210\n\n    accuracy                           0.94      1525\n   macro avg       0.93      0.93      0.93      1525\nweighted avg       0.94      0.94      0.94      1525\n\n"
     ]
    }
   ],
   "source": [
    "import pandas as pd\n",
    "import seaborn as sns\n",
    "import matplotlib.pyplot as plt\n",
    "from sklearn.metrics import confusion_matrix, classification_report\n",
    "\n",
    "def print_confusion_matrix(y_true, y_pred, report=True):\n",
    "    labels = sorted(list(set(y_true)))\n",
    "    cmx_data = confusion_matrix(y_true, y_pred, labels=labels)\n",
    "    \n",
    "    df_cmx = pd.DataFrame(cmx_data, index=labels, columns=labels)\n",
    " \n",
    "    fig, ax = plt.subplots(figsize=(7, 6))\n",
    "    sns.heatmap(df_cmx, annot=True, fmt='g' ,square=False)\n",
    "    ax.set_ylim(len(set(y_true)), 0)\n",
    "    plt.show()\n",
    "    \n",
    "    if report:\n",
    "        print('Classification Report')\n",
    "        print(classification_report(y_test, y_pred))\n",
    "\n",
    "Y_pred = model.predict(X_test)\n",
    "y_pred = np.argmax(Y_pred, axis=1)\n",
    "\n",
    "print_confusion_matrix(y_test, y_pred)"
   ]
  },
  {
   "cell_type": "markdown",
   "metadata": {},
   "source": [
    "# 转换为Tensorflow-Lite模型"
   ]
  },
  {
   "cell_type": "code",
   "execution_count": 17,
   "metadata": {},
   "outputs": [
    {
     "output_type": "stream",
     "name": "stdout",
     "text": [
      "WARNING:tensorflow:No training configuration found in the save file, so the model was *not* compiled. Compile it manually.\n"
     ]
    }
   ],
   "source": [
    "# 保存为仅用于推理的模型\n",
    "model.save(model_save_path, include_optimizer=False)\n",
    "model = tf.keras.models.load_model(model_save_path)"
   ]
  },
  {
   "cell_type": "code",
   "execution_count": 18,
   "metadata": {},
   "outputs": [],
   "source": [
    "tflite_save_path = 'model/point_history_classifier/point_history_classifier.tflite'"
   ]
  },
  {
   "cell_type": "code",
   "execution_count": 19,
   "metadata": {},
   "outputs": [
    {
     "output_type": "stream",
     "name": "stdout",
     "text": [
      "INFO:tensorflow:Assets written to: C:\\Users\\Van5SE\\AppData\\Local\\Temp\\tmp450pctng\\assets\n"
     ]
    },
    {
     "output_type": "execute_result",
     "data": {
      "text/plain": [
       "6288"
      ]
     },
     "metadata": {},
     "execution_count": 19
    }
   ],
   "source": [
    "# 转换模型（量化）\n",
    "converter = tf.lite.TFLiteConverter.from_keras_model(model)  # converter = tf.lite.TFLiteConverter.from_saved_model(saved_model_path)\n",
    "converter.optimizations = [tf.lite.Optimize.DEFAULT]\n",
    "tflite_quantized_model = converter.convert()\n",
    "\n",
    "open(tflite_save_path, 'wb').write(tflite_quantized_model)"
   ]
  },
  {
   "cell_type": "markdown",
   "metadata": {},
   "source": [
    "# 推理测试"
   ]
  },
  {
   "cell_type": "code",
   "execution_count": 20,
   "metadata": {},
   "outputs": [],
   "source": [
    "interpreter = tf.lite.Interpreter(model_path=tflite_save_path)\n",
    "interpreter.allocate_tensors()"
   ]
  },
  {
   "cell_type": "code",
   "execution_count": 21,
   "metadata": {},
   "outputs": [
    {
     "output_type": "stream",
     "name": "stdout",
     "text": [
      "[{'name': 'input_1', 'index': 0, 'shape': array([ 1, 32]), 'shape_signature': array([-1, 32]), 'dtype': <class 'numpy.float32'>, 'quantization': (0.0, 0), 'quantization_parameters': {'scales': array([], dtype=float32), 'zero_points': array([], dtype=int32), 'quantized_dimension': 0}, 'sparsity_parameters': {}}]\n"
     ]
    }
   ],
   "source": [
    "# 获取 输入输出 张量\n",
    "input_details = interpreter.get_input_details()\n",
    "output_details = interpreter.get_output_details()\n",
    "print(input_details)"
   ]
  },
  {
   "cell_type": "code",
   "execution_count": 22,
   "metadata": {},
   "outputs": [],
   "source": [
    "interpreter.set_tensor(input_details[0]['index'], np.array([X_test[0]]))"
   ]
  },
  {
   "cell_type": "code",
   "execution_count": 23,
   "metadata": {},
   "outputs": [
    {
     "output_type": "stream",
     "name": "stdout",
     "text": [
      "Wall time: 0 ns\n"
     ]
    }
   ],
   "source": [
    "%%time\n",
    "# 推理执行\n",
    "interpreter.invoke()\n",
    "tflite_results = interpreter.get_tensor(output_details[0]['index'])"
   ]
  },
  {
   "cell_type": "code",
   "execution_count": 24,
   "metadata": {},
   "outputs": [
    {
     "output_type": "stream",
     "name": "stdout",
     "text": [
      "[1.6818521e-37 9.0651602e-01 6.1691101e-03 8.4728450e-02 2.5864670e-03]\n1\n"
     ]
    }
   ],
   "source": [
    "print(np.squeeze(tflite_results))\n",
    "print(np.argmax(np.squeeze(tflite_results)))"
   ]
  }
 ],
 "metadata": {
  "kernelspec": {
   "name": "python385jvsc74a57bd0273d34ad3022fe9e2b04cefe7623df58b029f1dc7d41b81f8722b7ca43d9dee2",
   "display_name": "Python 3.8.5 64-bit ('mediapipe': conda)"
  },
  "language_info": {
   "codemirror_mode": {
    "name": "ipython",
    "version": 3
   },
   "file_extension": ".py",
   "mimetype": "text/x-python",
   "name": "python",
   "nbconvert_exporter": "python",
   "pygments_lexer": "ipython3",
   "version": "3.8.5"
  }
 },
 "nbformat": 4,
 "nbformat_minor": 4
}