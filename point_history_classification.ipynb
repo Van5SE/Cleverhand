{
 "cells": [
  {
   "cell_type": "code",
   "execution_count": 128,
   "metadata": {},
   "outputs": [],
   "source": [
    "import csv\n",
    "\n",
    "import numpy as np\n",
    "import tensorflow as tf\n",
    "from sklearn.model_selection import train_test_split\n",
    "\n",
    "RANDOM_SEED = 42"
   ]
  },
  {
   "source": [
    "# 路径声明"
   ],
   "cell_type": "markdown",
   "metadata": {}
  },
  {
   "cell_type": "code",
   "execution_count": 131,
   "metadata": {},
   "outputs": [],
   "source": [
    "dataset = 'model/point_history_classifier/point_history_origin.csv'\n",
    "model_save_path = 'model/point_history_classifier/point_history_classifier.hdf5'"
   ]
  },
  {
   "source": [
    "# 设定分类数"
   ],
   "cell_type": "markdown",
   "metadata": {}
  },
  {
   "cell_type": "code",
   "execution_count": 134,
   "metadata": {},
   "outputs": [],
   "source": [
    "# 如果用原本的数据 就用origin csv 分类数设为4 否则 自己按照对应的情况改"
   ]
  },
  {
   "cell_type": "code",
   "execution_count": 137,
   "metadata": {},
   "outputs": [],
   "source": [
    "NUM_CLASSES = 4"
   ]
  },
  {
   "cell_type": "markdown",
   "metadata": {},
   "source": [
    "# 输入数据格式 长度为16 二维数组"
   ]
  },
  {
   "cell_type": "code",
   "execution_count": 140,
   "metadata": {},
   "outputs": [],
   "source": [
    "TIME_STEPS = 16\n",
    "DIMENSION = 2"
   ]
  },
  {
   "cell_type": "markdown",
   "metadata": {},
   "source": [
    "# 读取训练集数据"
   ]
  },
  {
   "cell_type": "code",
   "execution_count": 143,
   "metadata": {},
   "outputs": [],
   "source": [
    "X_dataset = np.loadtxt(dataset, delimiter=',', dtype='float32', usecols=list(range(1, (TIME_STEPS * DIMENSION) + 1)))"
   ]
  },
  {
   "cell_type": "code",
   "execution_count": 145,
   "metadata": {},
   "outputs": [],
   "source": [
    "y_dataset = np.loadtxt(dataset, delimiter=',', dtype='int32', usecols=(0))"
   ]
  },
  {
   "cell_type": "code",
   "execution_count": 147,
   "metadata": {},
   "outputs": [],
   "source": [
    "X_train, X_test, y_train, y_test = train_test_split(X_dataset, y_dataset, train_size=0.75, random_state=RANDOM_SEED)"
   ]
  },
  {
   "cell_type": "markdown",
   "metadata": {},
   "source": [
    "# 模型构建"
   ]
  },
  {
   "cell_type": "code",
   "execution_count": 149,
   "metadata": {},
   "outputs": [],
   "source": [
    "use_lstm = False\n",
    "model = None\n",
    "\n",
    "if use_lstm:\n",
    "    model = tf.keras.models.Sequential([\n",
    "        tf.keras.layers.InputLayer(input_shape=(TIME_STEPS * DIMENSION, )),\n",
    "        tf.keras.layers.Reshape((TIME_STEPS, DIMENSION), input_shape=(TIME_STEPS * DIMENSION, )), \n",
    "        tf.keras.layers.Dropout(0.2),\n",
    "        tf.keras.layers.LSTM(16, input_shape=[TIME_STEPS, DIMENSION]),\n",
    "        tf.keras.layers.Dropout(0.5),\n",
    "        tf.keras.layers.Dense(10, activation='relu'),\n",
    "        tf.keras.layers.Dense(NUM_CLASSES, activation='softmax')\n",
    "    ])\n",
    "else:\n",
    "    model = tf.keras.models.Sequential([\n",
    "        tf.keras.layers.InputLayer(input_shape=(TIME_STEPS * DIMENSION, )),\n",
    "        tf.keras.layers.Dropout(0.2),\n",
    "        tf.keras.layers.Dense(24, activation='relu'),\n",
    "        tf.keras.layers.Dropout(0.5),\n",
    "        tf.keras.layers.Dense(10, activation='relu'),\n",
    "        tf.keras.layers.Dense(NUM_CLASSES, activation='softmax')\n",
    "    ])"
   ]
  },
  {
   "cell_type": "code",
   "execution_count": 151,
   "metadata": {},
   "outputs": [
    {
     "output_type": "stream",
     "name": "stdout",
     "text": [
      "Model: \"sequential_7\"\n_________________________________________________________________\nLayer (type)                 Output Shape              Param #   \n=================================================================\ndropout_14 (Dropout)         (None, 32)                0         \n_________________________________________________________________\ndense_21 (Dense)             (None, 24)                792       \n_________________________________________________________________\ndropout_15 (Dropout)         (None, 24)                0         \n_________________________________________________________________\ndense_22 (Dense)             (None, 10)                250       \n_________________________________________________________________\ndense_23 (Dense)             (None, 4)                 44        \n=================================================================\nTotal params: 1,086\nTrainable params: 1,086\nNon-trainable params: 0\n_________________________________________________________________\n"
     ]
    }
   ],
   "source": [
    "model.summary()  # tf.keras.utils.plot_model(model, show_shapes=True)"
   ]
  },
  {
   "cell_type": "code",
   "execution_count": 153,
   "metadata": {},
   "outputs": [],
   "source": [
    "# 模型检查点回调\n",
    "cp_callback = tf.keras.callbacks.ModelCheckpoint(\n",
    "    model_save_path, verbose=1, save_weights_only=False)\n",
    "# 用于提前结束的回调\n",
    "es_callback = tf.keras.callbacks.EarlyStopping(patience=20, verbose=1)"
   ]
  },
  {
   "cell_type": "code",
   "execution_count": 155,
   "metadata": {},
   "outputs": [],
   "source": [
    "# 模型编译\n",
    "model.compile(\n",
    "    optimizer='adam',\n",
    "    loss='sparse_categorical_crossentropy',\n",
    "    metrics=['accuracy']\n",
    ")"
   ]
  },
  {
   "cell_type": "markdown",
   "metadata": {},
   "source": [
    "# 模型训练"
   ]
  },
  {
   "cell_type": "code",
   "execution_count": 156,
   "metadata": {
    "scrolled": true,
    "tags": [
     "outputPrepend"
    ]
   },
   "outputs": [
    {
     "output_type": "stream",
     "name": "stdout",
     "text": [
      "df5\n",
      "Epoch 93/1000\n",
      "32/32 [==============================] - 0s 8ms/step - loss: 0.4617 - accuracy: 0.8326 - val_loss: 0.2321 - val_accuracy: 0.9569\n",
      "\n",
      "Epoch 00093: saving model to model/point_history_classifier\\point_history_classifier.hdf5\n",
      "Epoch 94/1000\n",
      "32/32 [==============================] - 0s 6ms/step - loss: 0.4571 - accuracy: 0.8334 - val_loss: 0.2332 - val_accuracy: 0.9532\n",
      "\n",
      "Epoch 00094: saving model to model/point_history_classifier\\point_history_classifier.hdf5\n",
      "Epoch 95/1000\n",
      "32/32 [==============================] - 0s 6ms/step - loss: 0.4575 - accuracy: 0.8362 - val_loss: 0.2326 - val_accuracy: 0.9547\n",
      "\n",
      "Epoch 00095: saving model to model/point_history_classifier\\point_history_classifier.hdf5\n",
      "Epoch 96/1000\n",
      "32/32 [==============================] - 0s 8ms/step - loss: 0.4613 - accuracy: 0.8352 - val_loss: 0.2315 - val_accuracy: 0.9554\n",
      "\n",
      "Epoch 00096: saving model to model/point_history_classifier\\point_history_classifier.hdf5\n",
      "Epoch 97/1000\n",
      "32/32 [==============================] - 0s 7ms/step - loss: 0.4413 - accuracy: 0.8348 - val_loss: 0.2300 - val_accuracy: 0.9547\n",
      "\n",
      "Epoch 00097: saving model to model/point_history_classifier\\point_history_classifier.hdf5\n",
      "Epoch 98/1000\n",
      "32/32 [==============================] - 0s 6ms/step - loss: 0.4394 - accuracy: 0.8365 - val_loss: 0.2309 - val_accuracy: 0.9554\n",
      "\n",
      "Epoch 00098: saving model to model/point_history_classifier\\point_history_classifier.hdf5\n",
      "Epoch 99/1000\n",
      "32/32 [==============================] - 0s 6ms/step - loss: 0.4384 - accuracy: 0.8399 - val_loss: 0.2310 - val_accuracy: 0.9562\n",
      "\n",
      "Epoch 00099: saving model to model/point_history_classifier\\point_history_classifier.hdf5\n",
      "Epoch 100/1000\n",
      "32/32 [==============================] - 0s 7ms/step - loss: 0.4271 - accuracy: 0.8437 - val_loss: 0.2343 - val_accuracy: 0.9600\n",
      "\n",
      "Epoch 00100: saving model to model/point_history_classifier\\point_history_classifier.hdf5\n",
      "Epoch 101/1000\n",
      "32/32 [==============================] - 0s 6ms/step - loss: 0.4543 - accuracy: 0.8377 - val_loss: 0.2327 - val_accuracy: 0.9562\n",
      "\n",
      "Epoch 00101: saving model to model/point_history_classifier\\point_history_classifier.hdf5\n",
      "Epoch 102/1000\n",
      "32/32 [==============================] - 0s 6ms/step - loss: 0.4449 - accuracy: 0.8428 - val_loss: 0.2319 - val_accuracy: 0.9524\n",
      "\n",
      "Epoch 00102: saving model to model/point_history_classifier\\point_history_classifier.hdf5\n",
      "Epoch 103/1000\n",
      "32/32 [==============================] - 0s 7ms/step - loss: 0.4480 - accuracy: 0.8336 - val_loss: 0.2316 - val_accuracy: 0.9494\n",
      "\n",
      "Epoch 00103: saving model to model/point_history_classifier\\point_history_classifier.hdf5\n",
      "Epoch 104/1000\n",
      "32/32 [==============================] - 0s 6ms/step - loss: 0.4531 - accuracy: 0.8308 - val_loss: 0.2299 - val_accuracy: 0.9562\n",
      "\n",
      "Epoch 00104: saving model to model/point_history_classifier\\point_history_classifier.hdf5\n",
      "Epoch 105/1000\n",
      "32/32 [==============================] - 0s 6ms/step - loss: 0.4672 - accuracy: 0.8381 - val_loss: 0.2295 - val_accuracy: 0.9554\n",
      "\n",
      "Epoch 00105: saving model to model/point_history_classifier\\point_history_classifier.hdf5\n",
      "Epoch 106/1000\n",
      "32/32 [==============================] - 0s 6ms/step - loss: 0.4624 - accuracy: 0.8378 - val_loss: 0.2297 - val_accuracy: 0.9562\n",
      "\n",
      "Epoch 00106: saving model to model/point_history_classifier\\point_history_classifier.hdf5\n",
      "Epoch 107/1000\n",
      "32/32 [==============================] - 0s 7ms/step - loss: 0.4370 - accuracy: 0.8391 - val_loss: 0.2286 - val_accuracy: 0.9554\n",
      "\n",
      "Epoch 00107: saving model to model/point_history_classifier\\point_history_classifier.hdf5\n",
      "Epoch 108/1000\n",
      "32/32 [==============================] - 0s 6ms/step - loss: 0.4405 - accuracy: 0.8326 - val_loss: 0.2276 - val_accuracy: 0.9562\n",
      "\n",
      "Epoch 00108: saving model to model/point_history_classifier\\point_history_classifier.hdf5\n",
      "Epoch 109/1000\n",
      "32/32 [==============================] - 0s 6ms/step - loss: 0.4555 - accuracy: 0.8421 - val_loss: 0.2270 - val_accuracy: 0.9554\n",
      "\n",
      "Epoch 00109: saving model to model/point_history_classifier\\point_history_classifier.hdf5\n",
      "Epoch 110/1000\n",
      "32/32 [==============================] - 0s 6ms/step - loss: 0.4448 - accuracy: 0.8360 - val_loss: 0.2261 - val_accuracy: 0.9562\n",
      "\n",
      "Epoch 00110: saving model to model/point_history_classifier\\point_history_classifier.hdf5\n",
      "Epoch 111/1000\n",
      "32/32 [==============================] - 0s 7ms/step - loss: 0.4101 - accuracy: 0.8530 - val_loss: 0.2247 - val_accuracy: 0.9554\n",
      "\n",
      "Epoch 00111: saving model to model/point_history_classifier\\point_history_classifier.hdf5\n",
      "Epoch 112/1000\n",
      "32/32 [==============================] - 0s 6ms/step - loss: 0.4782 - accuracy: 0.8241 - val_loss: 0.2248 - val_accuracy: 0.9547\n",
      "\n",
      "Epoch 00112: saving model to model/point_history_classifier\\point_history_classifier.hdf5\n",
      "Epoch 113/1000\n",
      "32/32 [==============================] - 0s 6ms/step - loss: 0.4399 - accuracy: 0.8453 - val_loss: 0.2234 - val_accuracy: 0.9547\n",
      "\n",
      "Epoch 00113: saving model to model/point_history_classifier\\point_history_classifier.hdf5\n",
      "Epoch 114/1000\n",
      "32/32 [==============================] - 0s 6ms/step - loss: 0.4407 - accuracy: 0.8472 - val_loss: 0.2234 - val_accuracy: 0.9562\n",
      "\n",
      "Epoch 00114: saving model to model/point_history_classifier\\point_history_classifier.hdf5\n",
      "Epoch 115/1000\n",
      "32/32 [==============================] - 0s 6ms/step - loss: 0.4636 - accuracy: 0.8306 - val_loss: 0.2239 - val_accuracy: 0.9554\n",
      "\n",
      "Epoch 00115: saving model to model/point_history_classifier\\point_history_classifier.hdf5\n",
      "Epoch 116/1000\n",
      "32/32 [==============================] - 0s 6ms/step - loss: 0.4316 - accuracy: 0.8469 - val_loss: 0.2251 - val_accuracy: 0.9562\n",
      "\n",
      "Epoch 00116: saving model to model/point_history_classifier\\point_history_classifier.hdf5\n",
      "Epoch 117/1000\n",
      "32/32 [==============================] - 0s 6ms/step - loss: 0.4460 - accuracy: 0.8467 - val_loss: 0.2250 - val_accuracy: 0.9524\n",
      "\n",
      "Epoch 00117: saving model to model/point_history_classifier\\point_history_classifier.hdf5\n",
      "Epoch 118/1000\n",
      "32/32 [==============================] - 0s 6ms/step - loss: 0.4290 - accuracy: 0.8522 - val_loss: 0.2237 - val_accuracy: 0.9569\n",
      "\n",
      "Epoch 00118: saving model to model/point_history_classifier\\point_history_classifier.hdf5\n",
      "Epoch 119/1000\n",
      "32/32 [==============================] - 0s 6ms/step - loss: 0.4101 - accuracy: 0.8531 - val_loss: 0.2220 - val_accuracy: 0.9562\n",
      "\n",
      "Epoch 00119: saving model to model/point_history_classifier\\point_history_classifier.hdf5\n",
      "Epoch 120/1000\n",
      "32/32 [==============================] - 0s 6ms/step - loss: 0.4207 - accuracy: 0.8512 - val_loss: 0.2222 - val_accuracy: 0.9509\n",
      "\n",
      "Epoch 00120: saving model to model/point_history_classifier\\point_history_classifier.hdf5\n",
      "Epoch 121/1000\n",
      "32/32 [==============================] - 0s 6ms/step - loss: 0.4468 - accuracy: 0.8336 - val_loss: 0.2205 - val_accuracy: 0.9539\n",
      "\n",
      "Epoch 00121: saving model to model/point_history_classifier\\point_history_classifier.hdf5\n",
      "Epoch 122/1000\n",
      "32/32 [==============================] - 0s 6ms/step - loss: 0.4298 - accuracy: 0.8516 - val_loss: 0.2219 - val_accuracy: 0.9486\n",
      "\n",
      "Epoch 00122: saving model to model/point_history_classifier\\point_history_classifier.hdf5\n",
      "Epoch 123/1000\n",
      "32/32 [==============================] - 0s 7ms/step - loss: 0.4144 - accuracy: 0.8392 - val_loss: 0.2224 - val_accuracy: 0.9524\n",
      "\n",
      "Epoch 00123: saving model to model/point_history_classifier\\point_history_classifier.hdf5\n",
      "Epoch 124/1000\n",
      "32/32 [==============================] - 0s 8ms/step - loss: 0.4129 - accuracy: 0.8609 - val_loss: 0.2222 - val_accuracy: 0.9434\n",
      "\n",
      "Epoch 00124: saving model to model/point_history_classifier\\point_history_classifier.hdf5\n",
      "Epoch 125/1000\n",
      "32/32 [==============================] - 0s 8ms/step - loss: 0.4398 - accuracy: 0.8425 - val_loss: 0.2194 - val_accuracy: 0.9592\n",
      "\n",
      "Epoch 00125: saving model to model/point_history_classifier\\point_history_classifier.hdf5\n",
      "Epoch 126/1000\n",
      "32/32 [==============================] - 0s 8ms/step - loss: 0.4415 - accuracy: 0.8437 - val_loss: 0.2204 - val_accuracy: 0.9539\n",
      "\n",
      "Epoch 00126: saving model to model/point_history_classifier\\point_history_classifier.hdf5\n",
      "Epoch 127/1000\n",
      "32/32 [==============================] - 0s 6ms/step - loss: 0.4506 - accuracy: 0.8351 - val_loss: 0.2223 - val_accuracy: 0.9547\n",
      "\n",
      "Epoch 00127: saving model to model/point_history_classifier\\point_history_classifier.hdf5\n",
      "Epoch 128/1000\n",
      "32/32 [==============================] - 0s 6ms/step - loss: 0.4248 - accuracy: 0.8526 - val_loss: 0.2226 - val_accuracy: 0.9592\n",
      "\n",
      "Epoch 00128: saving model to model/point_history_classifier\\point_history_classifier.hdf5\n",
      "Epoch 129/1000\n",
      "32/32 [==============================] - 0s 6ms/step - loss: 0.4442 - accuracy: 0.8480 - val_loss: 0.2227 - val_accuracy: 0.9592\n",
      "\n",
      "Epoch 00129: saving model to model/point_history_classifier\\point_history_classifier.hdf5\n",
      "Epoch 130/1000\n",
      "32/32 [==============================] - 0s 6ms/step - loss: 0.4253 - accuracy: 0.8444 - val_loss: 0.2201 - val_accuracy: 0.9607\n",
      "\n",
      "Epoch 00130: saving model to model/point_history_classifier\\point_history_classifier.hdf5\n",
      "Epoch 131/1000\n",
      "32/32 [==============================] - 0s 6ms/step - loss: 0.4552 - accuracy: 0.8257 - val_loss: 0.2204 - val_accuracy: 0.9585\n",
      "\n",
      "Epoch 00131: saving model to model/point_history_classifier\\point_history_classifier.hdf5\n",
      "Epoch 132/1000\n",
      "32/32 [==============================] - 0s 6ms/step - loss: 0.4547 - accuracy: 0.8357 - val_loss: 0.2201 - val_accuracy: 0.9577\n",
      "\n",
      "Epoch 00132: saving model to model/point_history_classifier\\point_history_classifier.hdf5\n",
      "Epoch 133/1000\n",
      "32/32 [==============================] - 0s 7ms/step - loss: 0.4207 - accuracy: 0.8444 - val_loss: 0.2167 - val_accuracy: 0.9585\n",
      "\n",
      "Epoch 00133: saving model to model/point_history_classifier\\point_history_classifier.hdf5\n",
      "Epoch 134/1000\n",
      "32/32 [==============================] - 0s 6ms/step - loss: 0.4466 - accuracy: 0.8388 - val_loss: 0.2173 - val_accuracy: 0.9577\n",
      "\n",
      "Epoch 00134: saving model to model/point_history_classifier\\point_history_classifier.hdf5\n",
      "Epoch 135/1000\n",
      "32/32 [==============================] - 0s 6ms/step - loss: 0.4192 - accuracy: 0.8523 - val_loss: 0.2162 - val_accuracy: 0.9615\n",
      "\n",
      "Epoch 00135: saving model to model/point_history_classifier\\point_history_classifier.hdf5\n",
      "Epoch 136/1000\n",
      "32/32 [==============================] - 0s 6ms/step - loss: 0.4225 - accuracy: 0.8580 - val_loss: 0.2163 - val_accuracy: 0.9569\n",
      "\n",
      "Epoch 00136: saving model to model/point_history_classifier\\point_history_classifier.hdf5\n",
      "Epoch 137/1000\n",
      "32/32 [==============================] - 0s 6ms/step - loss: 0.4320 - accuracy: 0.8450 - val_loss: 0.2170 - val_accuracy: 0.9539\n",
      "\n",
      "Epoch 00137: saving model to model/point_history_classifier\\point_history_classifier.hdf5\n",
      "Epoch 138/1000\n",
      "32/32 [==============================] - 0s 7ms/step - loss: 0.4004 - accuracy: 0.8589 - val_loss: 0.2154 - val_accuracy: 0.9607\n",
      "\n",
      "Epoch 00138: saving model to model/point_history_classifier\\point_history_classifier.hdf5\n",
      "Epoch 139/1000\n",
      "32/32 [==============================] - 0s 6ms/step - loss: 0.4411 - accuracy: 0.8428 - val_loss: 0.2147 - val_accuracy: 0.9585\n",
      "\n",
      "Epoch 00139: saving model to model/point_history_classifier\\point_history_classifier.hdf5\n",
      "Epoch 140/1000\n",
      "32/32 [==============================] - 0s 6ms/step - loss: 0.4329 - accuracy: 0.8455 - val_loss: 0.2139 - val_accuracy: 0.9592\n",
      "\n",
      "Epoch 00140: saving model to model/point_history_classifier\\point_history_classifier.hdf5\n",
      "Epoch 141/1000\n",
      "32/32 [==============================] - 0s 6ms/step - loss: 0.3964 - accuracy: 0.8606 - val_loss: 0.2123 - val_accuracy: 0.9615\n",
      "\n",
      "Epoch 00141: saving model to model/point_history_classifier\\point_history_classifier.hdf5\n",
      "Epoch 142/1000\n",
      "32/32 [==============================] - 0s 6ms/step - loss: 0.4349 - accuracy: 0.8378 - val_loss: 0.2127 - val_accuracy: 0.9600\n",
      "\n",
      "Epoch 00142: saving model to model/point_history_classifier\\point_history_classifier.hdf5\n",
      "Epoch 143/1000\n",
      "32/32 [==============================] - 0s 6ms/step - loss: 0.4160 - accuracy: 0.8581 - val_loss: 0.2176 - val_accuracy: 0.9637\n",
      "\n",
      "Epoch 00143: saving model to model/point_history_classifier\\point_history_classifier.hdf5\n",
      "Epoch 144/1000\n",
      "32/32 [==============================] - 0s 6ms/step - loss: 0.4040 - accuracy: 0.8575 - val_loss: 0.2148 - val_accuracy: 0.9615\n",
      "\n",
      "Epoch 00144: saving model to model/point_history_classifier\\point_history_classifier.hdf5\n",
      "Epoch 145/1000\n",
      "32/32 [==============================] - 0s 6ms/step - loss: 0.4272 - accuracy: 0.8402 - val_loss: 0.2156 - val_accuracy: 0.9577\n",
      "\n",
      "Epoch 00145: saving model to model/point_history_classifier\\point_history_classifier.hdf5\n",
      "Epoch 146/1000\n",
      "32/32 [==============================] - 0s 6ms/step - loss: 0.4274 - accuracy: 0.8483 - val_loss: 0.2138 - val_accuracy: 0.9585\n",
      "\n",
      "Epoch 00146: saving model to model/point_history_classifier\\point_history_classifier.hdf5\n",
      "Epoch 147/1000\n",
      "32/32 [==============================] - 0s 7ms/step - loss: 0.4083 - accuracy: 0.8444 - val_loss: 0.2128 - val_accuracy: 0.9607\n",
      "\n",
      "Epoch 00147: saving model to model/point_history_classifier\\point_history_classifier.hdf5\n",
      "Epoch 148/1000\n",
      "32/32 [==============================] - 0s 6ms/step - loss: 0.4129 - accuracy: 0.8553 - val_loss: 0.2144 - val_accuracy: 0.9539\n",
      "\n",
      "Epoch 00148: saving model to model/point_history_classifier\\point_history_classifier.hdf5\n",
      "Epoch 149/1000\n",
      "32/32 [==============================] - 0s 6ms/step - loss: 0.4087 - accuracy: 0.8522 - val_loss: 0.2136 - val_accuracy: 0.9569\n",
      "\n",
      "Epoch 00149: saving model to model/point_history_classifier\\point_history_classifier.hdf5\n",
      "Epoch 150/1000\n",
      "32/32 [==============================] - 0s 6ms/step - loss: 0.4148 - accuracy: 0.8443 - val_loss: 0.2145 - val_accuracy: 0.9554\n",
      "\n",
      "Epoch 00150: saving model to model/point_history_classifier\\point_history_classifier.hdf5\n",
      "Epoch 151/1000\n",
      "32/32 [==============================] - 0s 6ms/step - loss: 0.4466 - accuracy: 0.8431 - val_loss: 0.2145 - val_accuracy: 0.9592\n",
      "\n",
      "Epoch 00151: saving model to model/point_history_classifier\\point_history_classifier.hdf5\n",
      "Epoch 152/1000\n",
      "32/32 [==============================] - 0s 7ms/step - loss: 0.4402 - accuracy: 0.8390 - val_loss: 0.2124 - val_accuracy: 0.9585\n",
      "\n",
      "Epoch 00152: saving model to model/point_history_classifier\\point_history_classifier.hdf5\n",
      "Epoch 153/1000\n",
      "32/32 [==============================] - 0s 6ms/step - loss: 0.4214 - accuracy: 0.8503 - val_loss: 0.2136 - val_accuracy: 0.9577\n",
      "\n",
      "Epoch 00153: saving model to model/point_history_classifier\\point_history_classifier.hdf5\n",
      "Epoch 154/1000\n",
      "32/32 [==============================] - 0s 6ms/step - loss: 0.4198 - accuracy: 0.8476 - val_loss: 0.2143 - val_accuracy: 0.9554\n",
      "\n",
      "Epoch 00154: saving model to model/point_history_classifier\\point_history_classifier.hdf5\n",
      "Epoch 155/1000\n",
      "32/32 [==============================] - 0s 6ms/step - loss: 0.4347 - accuracy: 0.8467 - val_loss: 0.2124 - val_accuracy: 0.9607\n",
      "\n",
      "Epoch 00155: saving model to model/point_history_classifier\\point_history_classifier.hdf5\n",
      "Epoch 156/1000\n",
      "32/32 [==============================] - 0s 6ms/step - loss: 0.4244 - accuracy: 0.8450 - val_loss: 0.2117 - val_accuracy: 0.9607\n",
      "\n",
      "Epoch 00156: saving model to model/point_history_classifier\\point_history_classifier.hdf5\n",
      "Epoch 157/1000\n",
      "32/32 [==============================] - 0s 6ms/step - loss: 0.4076 - accuracy: 0.8544 - val_loss: 0.2089 - val_accuracy: 0.9622\n",
      "\n",
      "Epoch 00157: saving model to model/point_history_classifier\\point_history_classifier.hdf5\n",
      "Epoch 158/1000\n",
      "32/32 [==============================] - 0s 6ms/step - loss: 0.4526 - accuracy: 0.8348 - val_loss: 0.2104 - val_accuracy: 0.9645\n",
      "\n",
      "Epoch 00158: saving model to model/point_history_classifier\\point_history_classifier.hdf5\n",
      "Epoch 159/1000\n",
      "32/32 [==============================] - 0s 6ms/step - loss: 0.3976 - accuracy: 0.8530 - val_loss: 0.2098 - val_accuracy: 0.9622\n",
      "\n",
      "Epoch 00159: saving model to model/point_history_classifier\\point_history_classifier.hdf5\n",
      "Epoch 160/1000\n",
      "32/32 [==============================] - 0s 6ms/step - loss: 0.4121 - accuracy: 0.8529 - val_loss: 0.2108 - val_accuracy: 0.9622\n",
      "\n",
      "Epoch 00160: saving model to model/point_history_classifier\\point_history_classifier.hdf5\n",
      "Epoch 161/1000\n",
      "32/32 [==============================] - 0s 7ms/step - loss: 0.4051 - accuracy: 0.8551 - val_loss: 0.2110 - val_accuracy: 0.9653\n",
      "\n",
      "Epoch 00161: saving model to model/point_history_classifier\\point_history_classifier.hdf5\n",
      "Epoch 162/1000\n",
      "32/32 [==============================] - 0s 6ms/step - loss: 0.4127 - accuracy: 0.8468 - val_loss: 0.2102 - val_accuracy: 0.9600\n",
      "\n",
      "Epoch 00162: saving model to model/point_history_classifier\\point_history_classifier.hdf5\n",
      "Epoch 163/1000\n",
      "32/32 [==============================] - 0s 6ms/step - loss: 0.4434 - accuracy: 0.8459 - val_loss: 0.2115 - val_accuracy: 0.9615\n",
      "\n",
      "Epoch 00163: saving model to model/point_history_classifier\\point_history_classifier.hdf5\n",
      "Epoch 164/1000\n",
      "32/32 [==============================] - 0s 7ms/step - loss: 0.4173 - accuracy: 0.8505 - val_loss: 0.2119 - val_accuracy: 0.9615\n",
      "\n",
      "Epoch 00164: saving model to model/point_history_classifier\\point_history_classifier.hdf5\n",
      "Epoch 165/1000\n",
      "32/32 [==============================] - 0s 7ms/step - loss: 0.4198 - accuracy: 0.8467 - val_loss: 0.2144 - val_accuracy: 0.9577\n",
      "\n",
      "Epoch 00165: saving model to model/point_history_classifier\\point_history_classifier.hdf5\n",
      "Epoch 166/1000\n",
      "32/32 [==============================] - 0s 6ms/step - loss: 0.4153 - accuracy: 0.8480 - val_loss: 0.2122 - val_accuracy: 0.9562\n",
      "\n",
      "Epoch 00166: saving model to model/point_history_classifier\\point_history_classifier.hdf5\n",
      "Epoch 167/1000\n",
      "32/32 [==============================] - 0s 6ms/step - loss: 0.4157 - accuracy: 0.8454 - val_loss: 0.2127 - val_accuracy: 0.9600\n",
      "\n",
      "Epoch 00167: saving model to model/point_history_classifier\\point_history_classifier.hdf5\n",
      "Epoch 168/1000\n",
      "32/32 [==============================] - 0s 6ms/step - loss: 0.4240 - accuracy: 0.8415 - val_loss: 0.2120 - val_accuracy: 0.9600\n",
      "\n",
      "Epoch 00168: saving model to model/point_history_classifier\\point_history_classifier.hdf5\n",
      "Epoch 169/1000\n",
      "32/32 [==============================] - 0s 6ms/step - loss: 0.4205 - accuracy: 0.8581 - val_loss: 0.2111 - val_accuracy: 0.9607\n",
      "\n",
      "Epoch 00169: saving model to model/point_history_classifier\\point_history_classifier.hdf5\n",
      "Epoch 170/1000\n",
      "32/32 [==============================] - 0s 6ms/step - loss: 0.4050 - accuracy: 0.8557 - val_loss: 0.2109 - val_accuracy: 0.9569\n",
      "\n",
      "Epoch 00170: saving model to model/point_history_classifier\\point_history_classifier.hdf5\n",
      "Epoch 171/1000\n",
      "32/32 [==============================] - 0s 6ms/step - loss: 0.4124 - accuracy: 0.8497 - val_loss: 0.2099 - val_accuracy: 0.9509\n",
      "\n",
      "Epoch 00171: saving model to model/point_history_classifier\\point_history_classifier.hdf5\n",
      "Epoch 172/1000\n",
      "32/32 [==============================] - 0s 6ms/step - loss: 0.4166 - accuracy: 0.8514 - val_loss: 0.2095 - val_accuracy: 0.9532\n",
      "\n",
      "Epoch 00172: saving model to model/point_history_classifier\\point_history_classifier.hdf5\n",
      "Epoch 173/1000\n",
      "32/32 [==============================] - 0s 6ms/step - loss: 0.4243 - accuracy: 0.8511 - val_loss: 0.2092 - val_accuracy: 0.9600\n",
      "\n",
      "Epoch 00173: saving model to model/point_history_classifier\\point_history_classifier.hdf5\n",
      "Epoch 174/1000\n",
      "32/32 [==============================] - 0s 7ms/step - loss: 0.4279 - accuracy: 0.8533 - val_loss: 0.2100 - val_accuracy: 0.9562\n",
      "\n",
      "Epoch 00174: saving model to model/point_history_classifier\\point_history_classifier.hdf5\n",
      "Epoch 175/1000\n",
      "32/32 [==============================] - 0s 7ms/step - loss: 0.4241 - accuracy: 0.8395 - val_loss: 0.2099 - val_accuracy: 0.9637\n",
      "\n",
      "Epoch 00175: saving model to model/point_history_classifier\\point_history_classifier.hdf5\n",
      "Epoch 176/1000\n",
      "32/32 [==============================] - 0s 6ms/step - loss: 0.4103 - accuracy: 0.8529 - val_loss: 0.2133 - val_accuracy: 0.9585\n",
      "\n",
      "Epoch 00176: saving model to model/point_history_classifier\\point_history_classifier.hdf5\n",
      "Epoch 177/1000\n",
      "32/32 [==============================] - 0s 6ms/step - loss: 0.4067 - accuracy: 0.8514 - val_loss: 0.2095 - val_accuracy: 0.9592\n",
      "\n",
      "Epoch 00177: saving model to model/point_history_classifier\\point_history_classifier.hdf5\n",
      "Epoch 00177: early stopping\n"
     ]
    },
    {
     "output_type": "execute_result",
     "data": {
      "text/plain": [
       "<tensorflow.python.keras.callbacks.History at 0x247248c03a0>"
      ]
     },
     "metadata": {},
     "execution_count": 156
    }
   ],
   "source": [
    "model.fit(\n",
    "    X_train,\n",
    "    y_train,\n",
    "    epochs=1000,\n",
    "    batch_size=128,\n",
    "    validation_data=(X_test, y_test),\n",
    "    callbacks=[cp_callback, es_callback]\n",
    ")"
   ]
  },
  {
   "cell_type": "code",
   "execution_count": 157,
   "metadata": {},
   "outputs": [],
   "source": [
    "# 加载保存的模型\n",
    "model = tf.keras.models.load_model(model_save_path)"
   ]
  },
  {
   "cell_type": "code",
   "execution_count": 158,
   "metadata": {},
   "outputs": [
    {
     "output_type": "stream",
     "name": "stdout",
     "text": [
      "[0.9403664  0.01620508 0.01478212 0.02864632]\n0\n"
     ]
    }
   ],
   "source": [
    "# 预测测试\n",
    "predict_result = model.predict(np.array([X_test[0]]))\n",
    "print(np.squeeze(predict_result))\n",
    "print(np.argmax(np.squeeze(predict_result)))"
   ]
  },
  {
   "cell_type": "markdown",
   "metadata": {},
   "source": [
    "# 混淆矩阵"
   ]
  },
  {
   "cell_type": "code",
   "execution_count": 159,
   "metadata": {},
   "outputs": [
    {
     "output_type": "display_data",
     "data": {
      "text/plain": "<Figure size 504x432 with 2 Axes>",
      "image/svg+xml": "<?xml version=\"1.0\" encoding=\"utf-8\" standalone=\"no\"?>\r\n<!DOCTYPE svg PUBLIC \"-//W3C//DTD SVG 1.1//EN\"\r\n  \"http://www.w3.org/Graphics/SVG/1.1/DTD/svg11.dtd\">\r\n<!-- Created with matplotlib (https://matplotlib.org/) -->\r\n<svg height=\"357.238125pt\" version=\"1.1\" viewBox=\"0 0 405.483625 357.238125\" width=\"405.483625pt\" xmlns=\"http://www.w3.org/2000/svg\" xmlns:xlink=\"http://www.w3.org/1999/xlink\">\r\n <metadata>\r\n  <rdf:RDF xmlns:cc=\"http://creativecommons.org/ns#\" xmlns:dc=\"http://purl.org/dc/elements/1.1/\" xmlns:rdf=\"http://www.w3.org/1999/02/22-rdf-syntax-ns#\">\r\n   <cc:Work>\r\n    <dc:type rdf:resource=\"http://purl.org/dc/dcmitype/StillImage\"/>\r\n    <dc:date>2021-03-14T12:29:08.076172</dc:date>\r\n    <dc:format>image/svg+xml</dc:format>\r\n    <dc:creator>\r\n     <cc:Agent>\r\n      <dc:title>Matplotlib v3.3.4, https://matplotlib.org/</dc:title>\r\n     </cc:Agent>\r\n    </dc:creator>\r\n   </cc:Work>\r\n  </rdf:RDF>\r\n </metadata>\r\n <defs>\r\n  <style type=\"text/css\">*{stroke-linecap:butt;stroke-linejoin:round;}</style>\r\n </defs>\r\n <g id=\"figure_1\">\r\n  <g id=\"patch_1\">\r\n   <path d=\"M 0 357.238125 \r\nL 405.483625 357.238125 \r\nL 405.483625 0 \r\nL 0 0 \r\nz\r\n\" style=\"fill:none;\"/>\r\n  </g>\r\n  <g id=\"axes_1\">\r\n   <g id=\"patch_2\">\r\n    <path d=\"M 23.878125 333.36 \r\nL 336.358125 333.36 \r\nL 336.358125 7.2 \r\nL 23.878125 7.2 \r\nz\r\n\" style=\"fill:#ffffff;\"/>\r\n   </g>\r\n   <g id=\"QuadMesh_1\">\r\n    <path clip-path=\"url(#p3a9ee9811b)\" d=\"M 23.878125 7.2 \r\nL 101.998125 7.2 \r\nL 101.998125 88.74 \r\nL 23.878125 88.74 \r\nL 23.878125 7.2 \r\n\" style=\"fill:#faebdd;\"/>\r\n    <path clip-path=\"url(#p3a9ee9811b)\" d=\"M 101.998125 7.2 \r\nL 180.118125 7.2 \r\nL 180.118125 88.74 \r\nL 101.998125 88.74 \r\nL 101.998125 7.2 \r\n\" style=\"fill:#03051a;\"/>\r\n    <path clip-path=\"url(#p3a9ee9811b)\" d=\"M 180.118125 7.2 \r\nL 258.238125 7.2 \r\nL 258.238125 88.74 \r\nL 180.118125 88.74 \r\nL 180.118125 7.2 \r\n\" style=\"fill:#03051a;\"/>\r\n    <path clip-path=\"url(#p3a9ee9811b)\" d=\"M 258.238125 7.2 \r\nL 336.358125 7.2 \r\nL 336.358125 88.74 \r\nL 258.238125 88.74 \r\nL 258.238125 7.2 \r\n\" style=\"fill:#03051a;\"/>\r\n    <path clip-path=\"url(#p3a9ee9811b)\" d=\"M 23.878125 88.74 \r\nL 101.998125 88.74 \r\nL 101.998125 170.28 \r\nL 23.878125 170.28 \r\nL 23.878125 88.74 \r\n\" style=\"fill:#03051a;\"/>\r\n    <path clip-path=\"url(#p3a9ee9811b)\" d=\"M 101.998125 88.74 \r\nL 180.118125 88.74 \r\nL 180.118125 170.28 \r\nL 101.998125 170.28 \r\nL 101.998125 88.74 \r\n\" style=\"fill:#f4815a;\"/>\r\n    <path clip-path=\"url(#p3a9ee9811b)\" d=\"M 180.118125 88.74 \r\nL 258.238125 88.74 \r\nL 258.238125 170.28 \r\nL 180.118125 170.28 \r\nL 180.118125 88.74 \r\n\" style=\"fill:#03051a;\"/>\r\n    <path clip-path=\"url(#p3a9ee9811b)\" d=\"M 258.238125 88.74 \r\nL 336.358125 88.74 \r\nL 336.358125 170.28 \r\nL 258.238125 170.28 \r\nL 258.238125 88.74 \r\n\" style=\"fill:#04051a;\"/>\r\n    <path clip-path=\"url(#p3a9ee9811b)\" d=\"M 23.878125 170.28 \r\nL 101.998125 170.28 \r\nL 101.998125 251.82 \r\nL 23.878125 251.82 \r\nL 23.878125 170.28 \r\n\" style=\"fill:#03051a;\"/>\r\n    <path clip-path=\"url(#p3a9ee9811b)\" d=\"M 101.998125 170.28 \r\nL 180.118125 170.28 \r\nL 180.118125 251.82 \r\nL 101.998125 251.82 \r\nL 101.998125 170.28 \r\n\" style=\"fill:#03051a;\"/>\r\n    <path clip-path=\"url(#p3a9ee9811b)\" d=\"M 180.118125 170.28 \r\nL 258.238125 170.28 \r\nL 258.238125 251.82 \r\nL 180.118125 251.82 \r\nL 180.118125 170.28 \r\n\" style=\"fill:#f58d64;\"/>\r\n    <path clip-path=\"url(#p3a9ee9811b)\" d=\"M 258.238125 170.28 \r\nL 336.358125 170.28 \r\nL 336.358125 251.82 \r\nL 258.238125 251.82 \r\nL 258.238125 170.28 \r\n\" style=\"fill:#06071c;\"/>\r\n    <path clip-path=\"url(#p3a9ee9811b)\" d=\"M 23.878125 251.82 \r\nL 101.998125 251.82 \r\nL 101.998125 333.36 \r\nL 23.878125 333.36 \r\nL 23.878125 251.82 \r\n\" style=\"fill:#05061b;\"/>\r\n    <path clip-path=\"url(#p3a9ee9811b)\" d=\"M 101.998125 251.82 \r\nL 180.118125 251.82 \r\nL 180.118125 333.36 \r\nL 101.998125 333.36 \r\nL 101.998125 251.82 \r\n\" style=\"fill:#0b0920;\"/>\r\n    <path clip-path=\"url(#p3a9ee9811b)\" d=\"M 180.118125 251.82 \r\nL 258.238125 251.82 \r\nL 258.238125 333.36 \r\nL 180.118125 333.36 \r\nL 180.118125 251.82 \r\n\" style=\"fill:#1b112b;\"/>\r\n    <path clip-path=\"url(#p3a9ee9811b)\" d=\"M 258.238125 251.82 \r\nL 336.358125 251.82 \r\nL 336.358125 333.36 \r\nL 258.238125 333.36 \r\nL 258.238125 251.82 \r\n\" style=\"fill:#f37651;\"/>\r\n   </g>\r\n   <g id=\"matplotlib.axis_1\">\r\n    <g id=\"xtick_1\">\r\n     <g id=\"line2d_1\">\r\n      <defs>\r\n       <path d=\"M 0 0 \r\nL 0 3.5 \r\n\" id=\"mbb6c052a02\" style=\"stroke:#000000;stroke-width:0.8;\"/>\r\n      </defs>\r\n      <g>\r\n       <use style=\"stroke:#000000;stroke-width:0.8;\" x=\"62.938125\" xlink:href=\"#mbb6c052a02\" y=\"333.36\"/>\r\n      </g>\r\n     </g>\r\n     <g id=\"text_1\">\r\n      <!-- 0 -->\r\n      <g transform=\"translate(59.756875 347.958438)scale(0.1 -0.1)\">\r\n       <defs>\r\n        <path d=\"M 31.78125 66.40625 \r\nQ 24.171875 66.40625 20.328125 58.90625 \r\nQ 16.5 51.421875 16.5 36.375 \r\nQ 16.5 21.390625 20.328125 13.890625 \r\nQ 24.171875 6.390625 31.78125 6.390625 \r\nQ 39.453125 6.390625 43.28125 13.890625 \r\nQ 47.125 21.390625 47.125 36.375 \r\nQ 47.125 51.421875 43.28125 58.90625 \r\nQ 39.453125 66.40625 31.78125 66.40625 \r\nz\r\nM 31.78125 74.21875 \r\nQ 44.046875 74.21875 50.515625 64.515625 \r\nQ 56.984375 54.828125 56.984375 36.375 \r\nQ 56.984375 17.96875 50.515625 8.265625 \r\nQ 44.046875 -1.421875 31.78125 -1.421875 \r\nQ 19.53125 -1.421875 13.0625 8.265625 \r\nQ 6.59375 17.96875 6.59375 36.375 \r\nQ 6.59375 54.828125 13.0625 64.515625 \r\nQ 19.53125 74.21875 31.78125 74.21875 \r\nz\r\n\" id=\"DejaVuSans-48\"/>\r\n       </defs>\r\n       <use xlink:href=\"#DejaVuSans-48\"/>\r\n      </g>\r\n     </g>\r\n    </g>\r\n    <g id=\"xtick_2\">\r\n     <g id=\"line2d_2\">\r\n      <g>\r\n       <use style=\"stroke:#000000;stroke-width:0.8;\" x=\"141.058125\" xlink:href=\"#mbb6c052a02\" y=\"333.36\"/>\r\n      </g>\r\n     </g>\r\n     <g id=\"text_2\">\r\n      <!-- 1 -->\r\n      <g transform=\"translate(137.876875 347.958438)scale(0.1 -0.1)\">\r\n       <defs>\r\n        <path d=\"M 12.40625 8.296875 \r\nL 28.515625 8.296875 \r\nL 28.515625 63.921875 \r\nL 10.984375 60.40625 \r\nL 10.984375 69.390625 \r\nL 28.421875 72.90625 \r\nL 38.28125 72.90625 \r\nL 38.28125 8.296875 \r\nL 54.390625 8.296875 \r\nL 54.390625 0 \r\nL 12.40625 0 \r\nz\r\n\" id=\"DejaVuSans-49\"/>\r\n       </defs>\r\n       <use xlink:href=\"#DejaVuSans-49\"/>\r\n      </g>\r\n     </g>\r\n    </g>\r\n    <g id=\"xtick_3\">\r\n     <g id=\"line2d_3\">\r\n      <g>\r\n       <use style=\"stroke:#000000;stroke-width:0.8;\" x=\"219.178125\" xlink:href=\"#mbb6c052a02\" y=\"333.36\"/>\r\n      </g>\r\n     </g>\r\n     <g id=\"text_3\">\r\n      <!-- 2 -->\r\n      <g transform=\"translate(215.996875 347.958438)scale(0.1 -0.1)\">\r\n       <defs>\r\n        <path d=\"M 19.1875 8.296875 \r\nL 53.609375 8.296875 \r\nL 53.609375 0 \r\nL 7.328125 0 \r\nL 7.328125 8.296875 \r\nQ 12.9375 14.109375 22.625 23.890625 \r\nQ 32.328125 33.6875 34.8125 36.53125 \r\nQ 39.546875 41.84375 41.421875 45.53125 \r\nQ 43.3125 49.21875 43.3125 52.78125 \r\nQ 43.3125 58.59375 39.234375 62.25 \r\nQ 35.15625 65.921875 28.609375 65.921875 \r\nQ 23.96875 65.921875 18.8125 64.3125 \r\nQ 13.671875 62.703125 7.8125 59.421875 \r\nL 7.8125 69.390625 \r\nQ 13.765625 71.78125 18.9375 73 \r\nQ 24.125 74.21875 28.421875 74.21875 \r\nQ 39.75 74.21875 46.484375 68.546875 \r\nQ 53.21875 62.890625 53.21875 53.421875 \r\nQ 53.21875 48.921875 51.53125 44.890625 \r\nQ 49.859375 40.875 45.40625 35.40625 \r\nQ 44.1875 33.984375 37.640625 27.21875 \r\nQ 31.109375 20.453125 19.1875 8.296875 \r\nz\r\n\" id=\"DejaVuSans-50\"/>\r\n       </defs>\r\n       <use xlink:href=\"#DejaVuSans-50\"/>\r\n      </g>\r\n     </g>\r\n    </g>\r\n    <g id=\"xtick_4\">\r\n     <g id=\"line2d_4\">\r\n      <g>\r\n       <use style=\"stroke:#000000;stroke-width:0.8;\" x=\"297.298125\" xlink:href=\"#mbb6c052a02\" y=\"333.36\"/>\r\n      </g>\r\n     </g>\r\n     <g id=\"text_4\">\r\n      <!-- 3 -->\r\n      <g transform=\"translate(294.116875 347.958438)scale(0.1 -0.1)\">\r\n       <defs>\r\n        <path d=\"M 40.578125 39.3125 \r\nQ 47.65625 37.796875 51.625 33 \r\nQ 55.609375 28.21875 55.609375 21.1875 \r\nQ 55.609375 10.40625 48.1875 4.484375 \r\nQ 40.765625 -1.421875 27.09375 -1.421875 \r\nQ 22.515625 -1.421875 17.65625 -0.515625 \r\nQ 12.796875 0.390625 7.625 2.203125 \r\nL 7.625 11.71875 \r\nQ 11.71875 9.328125 16.59375 8.109375 \r\nQ 21.484375 6.890625 26.8125 6.890625 \r\nQ 36.078125 6.890625 40.9375 10.546875 \r\nQ 45.796875 14.203125 45.796875 21.1875 \r\nQ 45.796875 27.640625 41.28125 31.265625 \r\nQ 36.765625 34.90625 28.71875 34.90625 \r\nL 20.21875 34.90625 \r\nL 20.21875 43.015625 \r\nL 29.109375 43.015625 \r\nQ 36.375 43.015625 40.234375 45.921875 \r\nQ 44.09375 48.828125 44.09375 54.296875 \r\nQ 44.09375 59.90625 40.109375 62.90625 \r\nQ 36.140625 65.921875 28.71875 65.921875 \r\nQ 24.65625 65.921875 20.015625 65.03125 \r\nQ 15.375 64.15625 9.8125 62.3125 \r\nL 9.8125 71.09375 \r\nQ 15.4375 72.65625 20.34375 73.4375 \r\nQ 25.25 74.21875 29.59375 74.21875 \r\nQ 40.828125 74.21875 47.359375 69.109375 \r\nQ 53.90625 64.015625 53.90625 55.328125 \r\nQ 53.90625 49.265625 50.4375 45.09375 \r\nQ 46.96875 40.921875 40.578125 39.3125 \r\nz\r\n\" id=\"DejaVuSans-51\"/>\r\n       </defs>\r\n       <use xlink:href=\"#DejaVuSans-51\"/>\r\n      </g>\r\n     </g>\r\n    </g>\r\n   </g>\r\n   <g id=\"matplotlib.axis_2\">\r\n    <g id=\"ytick_1\">\r\n     <g id=\"line2d_5\">\r\n      <defs>\r\n       <path d=\"M 0 0 \r\nL -3.5 0 \r\n\" id=\"m0b425d8cef\" style=\"stroke:#000000;stroke-width:0.8;\"/>\r\n      </defs>\r\n      <g>\r\n       <use style=\"stroke:#000000;stroke-width:0.8;\" x=\"23.878125\" xlink:href=\"#m0b425d8cef\" y=\"47.97\"/>\r\n      </g>\r\n     </g>\r\n     <g id=\"text_5\">\r\n      <!-- 0 -->\r\n      <g transform=\"translate(14.798438 50.533281)rotate(-90)scale(0.1 -0.1)\">\r\n       <use xlink:href=\"#DejaVuSans-48\"/>\r\n      </g>\r\n     </g>\r\n    </g>\r\n    <g id=\"ytick_2\">\r\n     <g id=\"line2d_6\">\r\n      <g>\r\n       <use style=\"stroke:#000000;stroke-width:0.8;\" x=\"23.878125\" xlink:href=\"#m0b425d8cef\" y=\"129.51\"/>\r\n      </g>\r\n     </g>\r\n     <g id=\"text_6\">\r\n      <!-- 1 -->\r\n      <g transform=\"translate(14.798438 132.073281)rotate(-90)scale(0.1 -0.1)\">\r\n       <use xlink:href=\"#DejaVuSans-49\"/>\r\n      </g>\r\n     </g>\r\n    </g>\r\n    <g id=\"ytick_3\">\r\n     <g id=\"line2d_7\">\r\n      <g>\r\n       <use style=\"stroke:#000000;stroke-width:0.8;\" x=\"23.878125\" xlink:href=\"#m0b425d8cef\" y=\"211.05\"/>\r\n      </g>\r\n     </g>\r\n     <g id=\"text_7\">\r\n      <!-- 2 -->\r\n      <g transform=\"translate(14.798438 213.613281)rotate(-90)scale(0.1 -0.1)\">\r\n       <use xlink:href=\"#DejaVuSans-50\"/>\r\n      </g>\r\n     </g>\r\n    </g>\r\n    <g id=\"ytick_4\">\r\n     <g id=\"line2d_8\">\r\n      <g>\r\n       <use style=\"stroke:#000000;stroke-width:0.8;\" x=\"23.878125\" xlink:href=\"#m0b425d8cef\" y=\"292.59\"/>\r\n      </g>\r\n     </g>\r\n     <g id=\"text_8\">\r\n      <!-- 3 -->\r\n      <g transform=\"translate(14.798438 295.153281)rotate(-90)scale(0.1 -0.1)\">\r\n       <use xlink:href=\"#DejaVuSans-51\"/>\r\n      </g>\r\n     </g>\r\n    </g>\r\n   </g>\r\n   <g id=\"text_9\">\r\n    <!-- 395 -->\r\n    <g style=\"fill:#262626;\" transform=\"translate(53.394375 50.729375)scale(0.1 -0.1)\">\r\n     <defs>\r\n      <path d=\"M 10.984375 1.515625 \r\nL 10.984375 10.5 \r\nQ 14.703125 8.734375 18.5 7.8125 \r\nQ 22.3125 6.890625 25.984375 6.890625 \r\nQ 35.75 6.890625 40.890625 13.453125 \r\nQ 46.046875 20.015625 46.78125 33.40625 \r\nQ 43.953125 29.203125 39.59375 26.953125 \r\nQ 35.25 24.703125 29.984375 24.703125 \r\nQ 19.046875 24.703125 12.671875 31.3125 \r\nQ 6.296875 37.9375 6.296875 49.421875 \r\nQ 6.296875 60.640625 12.9375 67.421875 \r\nQ 19.578125 74.21875 30.609375 74.21875 \r\nQ 43.265625 74.21875 49.921875 64.515625 \r\nQ 56.59375 54.828125 56.59375 36.375 \r\nQ 56.59375 19.140625 48.40625 8.859375 \r\nQ 40.234375 -1.421875 26.421875 -1.421875 \r\nQ 22.703125 -1.421875 18.890625 -0.6875 \r\nQ 15.09375 0.046875 10.984375 1.515625 \r\nz\r\nM 30.609375 32.421875 \r\nQ 37.25 32.421875 41.125 36.953125 \r\nQ 45.015625 41.5 45.015625 49.421875 \r\nQ 45.015625 57.28125 41.125 61.84375 \r\nQ 37.25 66.40625 30.609375 66.40625 \r\nQ 23.96875 66.40625 20.09375 61.84375 \r\nQ 16.21875 57.28125 16.21875 49.421875 \r\nQ 16.21875 41.5 20.09375 36.953125 \r\nQ 23.96875 32.421875 30.609375 32.421875 \r\nz\r\n\" id=\"DejaVuSans-57\"/>\r\n      <path d=\"M 10.796875 72.90625 \r\nL 49.515625 72.90625 \r\nL 49.515625 64.59375 \r\nL 19.828125 64.59375 \r\nL 19.828125 46.734375 \r\nQ 21.96875 47.46875 24.109375 47.828125 \r\nQ 26.265625 48.1875 28.421875 48.1875 \r\nQ 40.625 48.1875 47.75 41.5 \r\nQ 54.890625 34.8125 54.890625 23.390625 \r\nQ 54.890625 11.625 47.5625 5.09375 \r\nQ 40.234375 -1.421875 26.90625 -1.421875 \r\nQ 22.3125 -1.421875 17.546875 -0.640625 \r\nQ 12.796875 0.140625 7.71875 1.703125 \r\nL 7.71875 11.625 \r\nQ 12.109375 9.234375 16.796875 8.0625 \r\nQ 21.484375 6.890625 26.703125 6.890625 \r\nQ 35.15625 6.890625 40.078125 11.328125 \r\nQ 45.015625 15.765625 45.015625 23.390625 \r\nQ 45.015625 31 40.078125 35.4375 \r\nQ 35.15625 39.890625 26.703125 39.890625 \r\nQ 22.75 39.890625 18.8125 39.015625 \r\nQ 14.890625 38.140625 10.796875 36.28125 \r\nz\r\n\" id=\"DejaVuSans-53\"/>\r\n     </defs>\r\n     <use xlink:href=\"#DejaVuSans-51\"/>\r\n     <use x=\"63.623047\" xlink:href=\"#DejaVuSans-57\"/>\r\n     <use x=\"127.246094\" xlink:href=\"#DejaVuSans-53\"/>\r\n    </g>\r\n   </g>\r\n   <g id=\"text_10\">\r\n    <!-- 0 -->\r\n    <g style=\"fill:#ffffff;\" transform=\"translate(137.876875 50.729375)scale(0.1 -0.1)\">\r\n     <use xlink:href=\"#DejaVuSans-48\"/>\r\n    </g>\r\n   </g>\r\n   <g id=\"text_11\">\r\n    <!-- 0 -->\r\n    <g style=\"fill:#ffffff;\" transform=\"translate(215.996875 50.729375)scale(0.1 -0.1)\">\r\n     <use xlink:href=\"#DejaVuSans-48\"/>\r\n    </g>\r\n   </g>\r\n   <g id=\"text_12\">\r\n    <!-- 0 -->\r\n    <g style=\"fill:#ffffff;\" transform=\"translate(294.116875 50.729375)scale(0.1 -0.1)\">\r\n     <use xlink:href=\"#DejaVuSans-48\"/>\r\n    </g>\r\n   </g>\r\n   <g id=\"text_13\">\r\n    <!-- 1 -->\r\n    <g style=\"fill:#ffffff;\" transform=\"translate(59.756875 132.269375)scale(0.1 -0.1)\">\r\n     <use xlink:href=\"#DejaVuSans-49\"/>\r\n    </g>\r\n   </g>\r\n   <g id=\"text_14\">\r\n    <!-- 291 -->\r\n    <g style=\"fill:#ffffff;\" transform=\"translate(131.514375 132.269375)scale(0.1 -0.1)\">\r\n     <use xlink:href=\"#DejaVuSans-50\"/>\r\n     <use x=\"63.623047\" xlink:href=\"#DejaVuSans-57\"/>\r\n     <use x=\"127.246094\" xlink:href=\"#DejaVuSans-49\"/>\r\n    </g>\r\n   </g>\r\n   <g id=\"text_15\">\r\n    <!-- 0 -->\r\n    <g style=\"fill:#ffffff;\" transform=\"translate(215.996875 132.269375)scale(0.1 -0.1)\">\r\n     <use xlink:href=\"#DejaVuSans-48\"/>\r\n    </g>\r\n   </g>\r\n   <g id=\"text_16\">\r\n    <!-- 3 -->\r\n    <g style=\"fill:#ffffff;\" transform=\"translate(294.116875 132.269375)scale(0.1 -0.1)\">\r\n     <use xlink:href=\"#DejaVuSans-51\"/>\r\n    </g>\r\n   </g>\r\n   <g id=\"text_17\">\r\n    <!-- 0 -->\r\n    <g style=\"fill:#ffffff;\" transform=\"translate(59.756875 213.809375)scale(0.1 -0.1)\">\r\n     <use xlink:href=\"#DejaVuSans-48\"/>\r\n    </g>\r\n   </g>\r\n   <g id=\"text_18\">\r\n    <!-- 0 -->\r\n    <g style=\"fill:#ffffff;\" transform=\"translate(137.876875 213.809375)scale(0.1 -0.1)\">\r\n     <use xlink:href=\"#DejaVuSans-48\"/>\r\n    </g>\r\n   </g>\r\n   <g id=\"text_19\">\r\n    <!-- 302 -->\r\n    <g style=\"fill:#ffffff;\" transform=\"translate(209.634375 213.809375)scale(0.1 -0.1)\">\r\n     <use xlink:href=\"#DejaVuSans-51\"/>\r\n     <use x=\"63.623047\" xlink:href=\"#DejaVuSans-48\"/>\r\n     <use x=\"127.246094\" xlink:href=\"#DejaVuSans-50\"/>\r\n    </g>\r\n   </g>\r\n   <g id=\"text_20\">\r\n    <!-- 5 -->\r\n    <g style=\"fill:#ffffff;\" transform=\"translate(294.116875 213.809375)scale(0.1 -0.1)\">\r\n     <use xlink:href=\"#DejaVuSans-53\"/>\r\n    </g>\r\n   </g>\r\n   <g id=\"text_21\">\r\n    <!-- 4 -->\r\n    <g style=\"fill:#ffffff;\" transform=\"translate(59.756875 295.349375)scale(0.1 -0.1)\">\r\n     <defs>\r\n      <path d=\"M 37.796875 64.3125 \r\nL 12.890625 25.390625 \r\nL 37.796875 25.390625 \r\nz\r\nM 35.203125 72.90625 \r\nL 47.609375 72.90625 \r\nL 47.609375 25.390625 \r\nL 58.015625 25.390625 \r\nL 58.015625 17.1875 \r\nL 47.609375 17.1875 \r\nL 47.609375 0 \r\nL 37.796875 0 \r\nL 37.796875 17.1875 \r\nL 4.890625 17.1875 \r\nL 4.890625 26.703125 \r\nz\r\n\" id=\"DejaVuSans-52\"/>\r\n     </defs>\r\n     <use xlink:href=\"#DejaVuSans-52\"/>\r\n    </g>\r\n   </g>\r\n   <g id=\"text_22\">\r\n    <!-- 12 -->\r\n    <g style=\"fill:#ffffff;\" transform=\"translate(134.695625 295.349375)scale(0.1 -0.1)\">\r\n     <use xlink:href=\"#DejaVuSans-49\"/>\r\n     <use x=\"63.623047\" xlink:href=\"#DejaVuSans-50\"/>\r\n    </g>\r\n   </g>\r\n   <g id=\"text_23\">\r\n    <!-- 29 -->\r\n    <g style=\"fill:#ffffff;\" transform=\"translate(212.815625 295.349375)scale(0.1 -0.1)\">\r\n     <use xlink:href=\"#DejaVuSans-50\"/>\r\n     <use x=\"63.623047\" xlink:href=\"#DejaVuSans-57\"/>\r\n    </g>\r\n   </g>\r\n   <g id=\"text_24\">\r\n    <!-- 282 -->\r\n    <g style=\"fill:#ffffff;\" transform=\"translate(287.754375 295.349375)scale(0.1 -0.1)\">\r\n     <defs>\r\n      <path d=\"M 31.78125 34.625 \r\nQ 24.75 34.625 20.71875 30.859375 \r\nQ 16.703125 27.09375 16.703125 20.515625 \r\nQ 16.703125 13.921875 20.71875 10.15625 \r\nQ 24.75 6.390625 31.78125 6.390625 \r\nQ 38.8125 6.390625 42.859375 10.171875 \r\nQ 46.921875 13.96875 46.921875 20.515625 \r\nQ 46.921875 27.09375 42.890625 30.859375 \r\nQ 38.875 34.625 31.78125 34.625 \r\nz\r\nM 21.921875 38.8125 \r\nQ 15.578125 40.375 12.03125 44.71875 \r\nQ 8.5 49.078125 8.5 55.328125 \r\nQ 8.5 64.0625 14.71875 69.140625 \r\nQ 20.953125 74.21875 31.78125 74.21875 \r\nQ 42.671875 74.21875 48.875 69.140625 \r\nQ 55.078125 64.0625 55.078125 55.328125 \r\nQ 55.078125 49.078125 51.53125 44.71875 \r\nQ 48 40.375 41.703125 38.8125 \r\nQ 48.828125 37.15625 52.796875 32.3125 \r\nQ 56.78125 27.484375 56.78125 20.515625 \r\nQ 56.78125 9.90625 50.3125 4.234375 \r\nQ 43.84375 -1.421875 31.78125 -1.421875 \r\nQ 19.734375 -1.421875 13.25 4.234375 \r\nQ 6.78125 9.90625 6.78125 20.515625 \r\nQ 6.78125 27.484375 10.78125 32.3125 \r\nQ 14.796875 37.15625 21.921875 38.8125 \r\nz\r\nM 18.3125 54.390625 \r\nQ 18.3125 48.734375 21.84375 45.5625 \r\nQ 25.390625 42.390625 31.78125 42.390625 \r\nQ 38.140625 42.390625 41.71875 45.5625 \r\nQ 45.3125 48.734375 45.3125 54.390625 \r\nQ 45.3125 60.0625 41.71875 63.234375 \r\nQ 38.140625 66.40625 31.78125 66.40625 \r\nQ 25.390625 66.40625 21.84375 63.234375 \r\nQ 18.3125 60.0625 18.3125 54.390625 \r\nz\r\n\" id=\"DejaVuSans-56\"/>\r\n     </defs>\r\n     <use xlink:href=\"#DejaVuSans-50\"/>\r\n     <use x=\"63.623047\" xlink:href=\"#DejaVuSans-56\"/>\r\n     <use x=\"127.246094\" xlink:href=\"#DejaVuSans-50\"/>\r\n    </g>\r\n   </g>\r\n  </g>\r\n  <g id=\"axes_2\">\r\n   <g id=\"patch_3\">\r\n    <path clip-path=\"url(#pae2c12ab29)\" d=\"M 355.888125 333.36 \r\nL 355.888125 332.085937 \r\nL 355.888125 8.474063 \r\nL 355.888125 7.2 \r\nL 372.196125 7.2 \r\nL 372.196125 8.474063 \r\nL 372.196125 332.085937 \r\nL 372.196125 333.36 \r\nz\r\n\" style=\"fill:#ffffff;stroke:#ffffff;stroke-linejoin:miter;stroke-width:0.01;\"/>\r\n   </g>\r\n   <image height=\"326\" id=\"image593c2b6131\" transform=\"scale(1 -1)translate(0 -326)\" width=\"16\" x=\"356\" xlink:href=\"data:image/png;base64,\r\niVBORw0KGgoAAAANSUhEUgAAABAAAAFGCAYAAABjUx8/AAABu0lEQVR4nO2a0Q3DQAhDobku0f33TId4luxD3H8s8zAkadPP9/cWOKfJ1VV1upmEQKCYwAddXYoSPvcz4CVgiJABdrAQIyDSWfB3QRAkdxsVDhiGEUEasNYXor8E/z6YsNICgmRngB1QAcVahwL3j3PCKw+Osp0BVViICogJO5GdhCdVLsDOBAb2G0vANAq6YHYQANGexIAnVXsOIlYaFEjoAjszkshOAgP0L9MUiFjA/oABBQQQaZAmMMACC1GwUNwrLYDBBimDAbOASwhIIof4MggjGNwfpMYlUAeCNg5IIu6CnQGcpoAkNnxEUUCEDAQ/iVIHAyDiKC8DzACXILg3wtuzACJ34IbIkwg9BDCYECQooPgCggpwBtRBQBKxgBkiZ1D+jeQWEEB0l4AdBAyTACL8hyMBormEU9QBLSFgGkcwwEFyf9hGHURAZCY2iVWn4J1lQpDaHiTahQCI/mkcANGeRMUrjz0HGKL9W13BMNm7EDCNkAF/X7ifgX2YsIOIlWYX2JU2Yhr9SRwA0c1gV9qMIHU/ZgcbpIwg0RwsxIRhcnchYhrNUY5Y6zuN9hz42xiQRPs4YwZ/ztQuS6ONcUwAAAAASUVORK5CYII=\" y=\"-7\"/>\r\n   <g id=\"matplotlib.axis_3\"/>\r\n   <g id=\"matplotlib.axis_4\">\r\n    <g id=\"ytick_5\">\r\n     <g id=\"line2d_9\">\r\n      <defs>\r\n       <path d=\"M 0 0 \r\nL 3.5 0 \r\n\" id=\"m15e217abab\" style=\"stroke:#000000;stroke-width:0.8;\"/>\r\n      </defs>\r\n      <g>\r\n       <use style=\"stroke:#000000;stroke-width:0.8;\" x=\"372.196125\" xlink:href=\"#m15e217abab\" y=\"333.36\"/>\r\n      </g>\r\n     </g>\r\n     <g id=\"text_25\">\r\n      <!-- 0 -->\r\n      <g transform=\"translate(379.196125 337.159219)scale(0.1 -0.1)\">\r\n       <use xlink:href=\"#DejaVuSans-48\"/>\r\n      </g>\r\n     </g>\r\n    </g>\r\n    <g id=\"ytick_6\">\r\n     <g id=\"line2d_10\">\r\n      <g>\r\n       <use style=\"stroke:#000000;stroke-width:0.8;\" x=\"372.196125\" xlink:href=\"#m15e217abab\" y=\"292.073924\"/>\r\n      </g>\r\n     </g>\r\n     <g id=\"text_26\">\r\n      <!-- 50 -->\r\n      <g transform=\"translate(379.196125 295.873143)scale(0.1 -0.1)\">\r\n       <use xlink:href=\"#DejaVuSans-53\"/>\r\n       <use x=\"63.623047\" xlink:href=\"#DejaVuSans-48\"/>\r\n      </g>\r\n     </g>\r\n    </g>\r\n    <g id=\"ytick_7\">\r\n     <g id=\"line2d_11\">\r\n      <g>\r\n       <use style=\"stroke:#000000;stroke-width:0.8;\" x=\"372.196125\" xlink:href=\"#m15e217abab\" y=\"250.787848\"/>\r\n      </g>\r\n     </g>\r\n     <g id=\"text_27\">\r\n      <!-- 100 -->\r\n      <g transform=\"translate(379.196125 254.587067)scale(0.1 -0.1)\">\r\n       <use xlink:href=\"#DejaVuSans-49\"/>\r\n       <use x=\"63.623047\" xlink:href=\"#DejaVuSans-48\"/>\r\n       <use x=\"127.246094\" xlink:href=\"#DejaVuSans-48\"/>\r\n      </g>\r\n     </g>\r\n    </g>\r\n    <g id=\"ytick_8\">\r\n     <g id=\"line2d_12\">\r\n      <g>\r\n       <use style=\"stroke:#000000;stroke-width:0.8;\" x=\"372.196125\" xlink:href=\"#m15e217abab\" y=\"209.501772\"/>\r\n      </g>\r\n     </g>\r\n     <g id=\"text_28\">\r\n      <!-- 150 -->\r\n      <g transform=\"translate(379.196125 213.300991)scale(0.1 -0.1)\">\r\n       <use xlink:href=\"#DejaVuSans-49\"/>\r\n       <use x=\"63.623047\" xlink:href=\"#DejaVuSans-53\"/>\r\n       <use x=\"127.246094\" xlink:href=\"#DejaVuSans-48\"/>\r\n      </g>\r\n     </g>\r\n    </g>\r\n    <g id=\"ytick_9\">\r\n     <g id=\"line2d_13\">\r\n      <g>\r\n       <use style=\"stroke:#000000;stroke-width:0.8;\" x=\"372.196125\" xlink:href=\"#m15e217abab\" y=\"168.215696\"/>\r\n      </g>\r\n     </g>\r\n     <g id=\"text_29\">\r\n      <!-- 200 -->\r\n      <g transform=\"translate(379.196125 172.014915)scale(0.1 -0.1)\">\r\n       <use xlink:href=\"#DejaVuSans-50\"/>\r\n       <use x=\"63.623047\" xlink:href=\"#DejaVuSans-48\"/>\r\n       <use x=\"127.246094\" xlink:href=\"#DejaVuSans-48\"/>\r\n      </g>\r\n     </g>\r\n    </g>\r\n    <g id=\"ytick_10\">\r\n     <g id=\"line2d_14\">\r\n      <g>\r\n       <use style=\"stroke:#000000;stroke-width:0.8;\" x=\"372.196125\" xlink:href=\"#m15e217abab\" y=\"126.92962\"/>\r\n      </g>\r\n     </g>\r\n     <g id=\"text_30\">\r\n      <!-- 250 -->\r\n      <g transform=\"translate(379.196125 130.728839)scale(0.1 -0.1)\">\r\n       <use xlink:href=\"#DejaVuSans-50\"/>\r\n       <use x=\"63.623047\" xlink:href=\"#DejaVuSans-53\"/>\r\n       <use x=\"127.246094\" xlink:href=\"#DejaVuSans-48\"/>\r\n      </g>\r\n     </g>\r\n    </g>\r\n    <g id=\"ytick_11\">\r\n     <g id=\"line2d_15\">\r\n      <g>\r\n       <use style=\"stroke:#000000;stroke-width:0.8;\" x=\"372.196125\" xlink:href=\"#m15e217abab\" y=\"85.643544\"/>\r\n      </g>\r\n     </g>\r\n     <g id=\"text_31\">\r\n      <!-- 300 -->\r\n      <g transform=\"translate(379.196125 89.442763)scale(0.1 -0.1)\">\r\n       <use xlink:href=\"#DejaVuSans-51\"/>\r\n       <use x=\"63.623047\" xlink:href=\"#DejaVuSans-48\"/>\r\n       <use x=\"127.246094\" xlink:href=\"#DejaVuSans-48\"/>\r\n      </g>\r\n     </g>\r\n    </g>\r\n    <g id=\"ytick_12\">\r\n     <g id=\"line2d_16\">\r\n      <g>\r\n       <use style=\"stroke:#000000;stroke-width:0.8;\" x=\"372.196125\" xlink:href=\"#m15e217abab\" y=\"44.357468\"/>\r\n      </g>\r\n     </g>\r\n     <g id=\"text_32\">\r\n      <!-- 350 -->\r\n      <g transform=\"translate(379.196125 48.156687)scale(0.1 -0.1)\">\r\n       <use xlink:href=\"#DejaVuSans-51\"/>\r\n       <use x=\"63.623047\" xlink:href=\"#DejaVuSans-53\"/>\r\n       <use x=\"127.246094\" xlink:href=\"#DejaVuSans-48\"/>\r\n      </g>\r\n     </g>\r\n    </g>\r\n   </g>\r\n   <g id=\"patch_4\">\r\n    <path d=\"M 355.888125 333.36 \r\nL 355.888125 332.085937 \r\nL 355.888125 8.474063 \r\nL 355.888125 7.2 \r\nL 372.196125 7.2 \r\nL 372.196125 8.474063 \r\nL 372.196125 332.085937 \r\nL 372.196125 333.36 \r\nz\r\n\" style=\"fill:none;\"/>\r\n   </g>\r\n  </g>\r\n </g>\r\n <defs>\r\n  <clipPath id=\"p3a9ee9811b\">\r\n   <rect height=\"326.16\" width=\"312.48\" x=\"23.878125\" y=\"7.2\"/>\r\n  </clipPath>\r\n  <clipPath id=\"pae2c12ab29\">\r\n   <rect height=\"326.16\" width=\"16.308\" x=\"355.888125\" y=\"7.2\"/>\r\n  </clipPath>\r\n </defs>\r\n</svg>\r\n",
      "image/png": "[encoded data removed]"
     },
     "metadata": {
      "needs_background": "light"
     }
    },
    {
     "output_type": "stream",
     "name": "stdout",
     "text": [
      "Classification Report\n              precision    recall  f1-score   support\n\n           0       0.99      1.00      0.99       395\n           1       0.96      0.99      0.97       295\n           2       0.91      0.98      0.95       307\n           3       0.97      0.86      0.91       327\n\n    accuracy                           0.96      1324\n   macro avg       0.96      0.96      0.96      1324\nweighted avg       0.96      0.96      0.96      1324\n\n"
     ]
    }
   ],
   "source": [
    "import pandas as pd\n",
    "import seaborn as sns\n",
    "import matplotlib.pyplot as plt\n",
    "from sklearn.metrics import confusion_matrix, classification_report\n",
    "\n",
    "def print_confusion_matrix(y_true, y_pred, report=True):\n",
    "    labels = sorted(list(set(y_true)))\n",
    "    cmx_data = confusion_matrix(y_true, y_pred, labels=labels)\n",
    "    \n",
    "    df_cmx = pd.DataFrame(cmx_data, index=labels, columns=labels)\n",
    " \n",
    "    fig, ax = plt.subplots(figsize=(7, 6))\n",
    "    sns.heatmap(df_cmx, annot=True, fmt='g' ,square=False)\n",
    "    ax.set_ylim(len(set(y_true)), 0)\n",
    "    plt.show()\n",
    "    \n",
    "    if report:\n",
    "        print('Classification Report')\n",
    "        print(classification_report(y_test, y_pred))\n",
    "\n",
    "Y_pred = model.predict(X_test)\n",
    "y_pred = np.argmax(Y_pred, axis=1)\n",
    "\n",
    "print_confusion_matrix(y_test, y_pred)"
   ]
  },
  {
   "cell_type": "markdown",
   "metadata": {},
   "source": [
    "# 转换为Tensorflow-Lite模型"
   ]
  },
  {
   "cell_type": "code",
   "execution_count": 160,
   "metadata": {},
   "outputs": [
    {
     "output_type": "stream",
     "name": "stdout",
     "text": [
      "WARNING:tensorflow:No training configuration found in the save file, so the model was *not* compiled. Compile it manually.\n",
      "WARNING:tensorflow:No training configuration found in the save file, so the model was *not* compiled. Compile it manually.\n"
     ]
    }
   ],
   "source": [
    "# 保存为仅用于推理的模型\n",
    "model.save(model_save_path, include_optimizer=False)\n",
    "model = tf.keras.models.load_model(model_save_path)"
   ]
  },
  {
   "cell_type": "code",
   "execution_count": 161,
   "metadata": {},
   "outputs": [],
   "source": [
    "tflite_save_path = 'model/point_history_classifier/point_history_classifier.tflite'"
   ]
  },
  {
   "cell_type": "code",
   "execution_count": 162,
   "metadata": {},
   "outputs": [
    {
     "output_type": "stream",
     "name": "stdout",
     "text": [
      "INFO:tensorflow:Assets written to: C:\\Users\\Van5SE\\AppData\\Local\\Temp\\tmpejtqtzbi\\assets\n",
      "INFO:tensorflow:Assets written to: C:\\Users\\Van5SE\\AppData\\Local\\Temp\\tmpejtqtzbi\\assets\n"
     ]
    },
    {
     "output_type": "execute_result",
     "data": {
      "text/plain": [
       "6304"
      ]
     },
     "metadata": {},
     "execution_count": 162
    }
   ],
   "source": [
    "# 转换模型（量化）\n",
    "converter = tf.lite.TFLiteConverter.from_keras_model(model)  # converter = tf.lite.TFLiteConverter.from_saved_model(saved_model_path)\n",
    "converter.optimizations = [tf.lite.Optimize.DEFAULT]\n",
    "tflite_quantized_model = converter.convert()\n",
    "\n",
    "open(tflite_save_path, 'wb').write(tflite_quantized_model)"
   ]
  },
  {
   "cell_type": "markdown",
   "metadata": {},
   "source": [
    "# 推理测试"
   ]
  },
  {
   "cell_type": "code",
   "execution_count": 163,
   "metadata": {},
   "outputs": [],
   "source": [
    "interpreter = tf.lite.Interpreter(model_path=tflite_save_path)\n",
    "interpreter.allocate_tensors()"
   ]
  },
  {
   "cell_type": "code",
   "execution_count": 164,
   "metadata": {},
   "outputs": [
    {
     "output_type": "stream",
     "name": "stdout",
     "text": [
      "[{'name': 'input_8', 'index': 0, 'shape': array([ 1, 32]), 'shape_signature': array([-1, 32]), 'dtype': <class 'numpy.float32'>, 'quantization': (0.0, 0), 'quantization_parameters': {'scales': array([], dtype=float32), 'zero_points': array([], dtype=int32), 'quantized_dimension': 0}, 'sparsity_parameters': {}}]\n"
     ]
    }
   ],
   "source": [
    "# 获取 输入输出 张量\n",
    "input_details = interpreter.get_input_details()\n",
    "output_details = interpreter.get_output_details()\n",
    "print(input_details)"
   ]
  },
  {
   "cell_type": "code",
   "execution_count": 165,
   "metadata": {},
   "outputs": [],
   "source": [
    "interpreter.set_tensor(input_details[0]['index'], np.array([X_test[0]]))"
   ]
  },
  {
   "cell_type": "code",
   "execution_count": 166,
   "metadata": {},
   "outputs": [
    {
     "output_type": "stream",
     "name": "stdout",
     "text": [
      "Wall time: 997 µs\n"
     ]
    }
   ],
   "source": [
    "%%time\n",
    "# 推理执行\n",
    "interpreter.invoke()\n",
    "tflite_results = interpreter.get_tensor(output_details[0]['index'])"
   ]
  },
  {
   "cell_type": "code",
   "execution_count": 167,
   "metadata": {},
   "outputs": [
    {
     "output_type": "stream",
     "name": "stdout",
     "text": [
      "[0.9403664  0.01620508 0.01478212 0.02864632]\n0\n"
     ]
    }
   ],
   "source": [
    "print(np.squeeze(tflite_results))\n",
    "print(np.argmax(np.squeeze(tflite_results)))"
   ]
  }
 ],
 "metadata": {
  "kernelspec": {
   "name": "python3",
   "display_name": "Python 3",
   "language": "python"
  },
  "language_info": {
   "codemirror_mode": {
    "name": "ipython",
    "version": 3
   },
   "file_extension": ".py",
   "mimetype": "text/x-python",
   "name": "python",
   "nbconvert_exporter": "python",
   "pygments_lexer": "ipython3",
   "version": "3.8.5-final"
  }
 },
 "nbformat": 4,
 "nbformat_minor": 4
}